{
  "cells": [
    {
      "cell_type": "markdown",
      "source": [
        "tips : pilih toolbar > edit > notebook setting > GPU"
      ],
      "metadata": {
        "id": "pt23wXrE9Cll"
      }
    },
    {
      "cell_type": "code",
      "execution_count": null,
      "metadata": {
        "id": "lIYdn1woOS1n"
      },
      "outputs": [],
      "source": [
        "import tensorflow as tf\n",
        "import pandas as pd\n",
        "from sklearn.preprocessing import StandardScaler\n",
        "from sklearn.model_selection import train_test_split\n",
        "import matplotlib.pyplot as plt"
      ]
    },
    {
      "cell_type": "code",
      "source": [
        "data = pd.read_csv('https://raw.githubusercontent.com/fahmimnalfrzki/Dataset/main/kc_house_data.csv').dropna()\n",
        "data"
      ],
      "metadata": {
        "id": "EVwoS0WY5Esj",
        "outputId": "5ecb30c1-7409-4c47-8077-1365dd3538cd",
        "colab": {
          "base_uri": "https://localhost:8080/",
          "height": 488
        }
      },
      "execution_count": null,
      "outputs": [
        {
          "output_type": "execute_result",
          "data": {
            "text/plain": [
              "               id             date     price  bedrooms  bathrooms  \\\n",
              "0      7129300520  20141013T000000  221900.0         3       1.00   \n",
              "1      6414100192  20141209T000000  538000.0         3       2.25   \n",
              "2      5631500400  20150225T000000  180000.0         2       1.00   \n",
              "3      2487200875  20141209T000000  604000.0         4       3.00   \n",
              "4      1954400510  20150218T000000  510000.0         3       2.00   \n",
              "...           ...              ...       ...       ...        ...   \n",
              "21608   263000018  20140521T000000  360000.0         3       2.50   \n",
              "21609  6600060120  20150223T000000  400000.0         4       2.50   \n",
              "21610  1523300141  20140623T000000  402101.0         2       0.75   \n",
              "21611   291310100  20150116T000000  400000.0         3       2.50   \n",
              "21612  1523300157  20141015T000000  325000.0         2       0.75   \n",
              "\n",
              "       sqft_living  sqft_lot  floors  waterfront  view  ...  grade  \\\n",
              "0             1180      5650     1.0           0     0  ...      7   \n",
              "1             2570      7242     2.0           0     0  ...      7   \n",
              "2              770     10000     1.0           0     0  ...      6   \n",
              "3             1960      5000     1.0           0     0  ...      7   \n",
              "4             1680      8080     1.0           0     0  ...      8   \n",
              "...            ...       ...     ...         ...   ...  ...    ...   \n",
              "21608         1530      1131     3.0           0     0  ...      8   \n",
              "21609         2310      5813     2.0           0     0  ...      8   \n",
              "21610         1020      1350     2.0           0     0  ...      7   \n",
              "21611         1600      2388     2.0           0     0  ...      8   \n",
              "21612         1020      1076     2.0           0     0  ...      7   \n",
              "\n",
              "       sqft_above  sqft_basement  yr_built  yr_renovated  zipcode      lat  \\\n",
              "0            1180              0      1955             0    98178  47.5112   \n",
              "1            2170            400      1951          1991    98125  47.7210   \n",
              "2             770              0      1933             0    98028  47.7379   \n",
              "3            1050            910      1965             0    98136  47.5208   \n",
              "4            1680              0      1987             0    98074  47.6168   \n",
              "...           ...            ...       ...           ...      ...      ...   \n",
              "21608        1530              0      2009             0    98103  47.6993   \n",
              "21609        2310              0      2014             0    98146  47.5107   \n",
              "21610        1020              0      2009             0    98144  47.5944   \n",
              "21611        1600              0      2004             0    98027  47.5345   \n",
              "21612        1020              0      2008             0    98144  47.5941   \n",
              "\n",
              "          long  sqft_living15  sqft_lot15  \n",
              "0     -122.257           1340        5650  \n",
              "1     -122.319           1690        7639  \n",
              "2     -122.233           2720        8062  \n",
              "3     -122.393           1360        5000  \n",
              "4     -122.045           1800        7503  \n",
              "...        ...            ...         ...  \n",
              "21608 -122.346           1530        1509  \n",
              "21609 -122.362           1830        7200  \n",
              "21610 -122.299           1020        2007  \n",
              "21611 -122.069           1410        1287  \n",
              "21612 -122.299           1020        1357  \n",
              "\n",
              "[21613 rows x 21 columns]"
            ],
            "text/html": [
              "\n",
              "  <div id=\"df-26177ade-c9e5-4a61-b246-4d2a78880e30\">\n",
              "    <div class=\"colab-df-container\">\n",
              "      <div>\n",
              "<style scoped>\n",
              "    .dataframe tbody tr th:only-of-type {\n",
              "        vertical-align: middle;\n",
              "    }\n",
              "\n",
              "    .dataframe tbody tr th {\n",
              "        vertical-align: top;\n",
              "    }\n",
              "\n",
              "    .dataframe thead th {\n",
              "        text-align: right;\n",
              "    }\n",
              "</style>\n",
              "<table border=\"1\" class=\"dataframe\">\n",
              "  <thead>\n",
              "    <tr style=\"text-align: right;\">\n",
              "      <th></th>\n",
              "      <th>id</th>\n",
              "      <th>date</th>\n",
              "      <th>price</th>\n",
              "      <th>bedrooms</th>\n",
              "      <th>bathrooms</th>\n",
              "      <th>sqft_living</th>\n",
              "      <th>sqft_lot</th>\n",
              "      <th>floors</th>\n",
              "      <th>waterfront</th>\n",
              "      <th>view</th>\n",
              "      <th>...</th>\n",
              "      <th>grade</th>\n",
              "      <th>sqft_above</th>\n",
              "      <th>sqft_basement</th>\n",
              "      <th>yr_built</th>\n",
              "      <th>yr_renovated</th>\n",
              "      <th>zipcode</th>\n",
              "      <th>lat</th>\n",
              "      <th>long</th>\n",
              "      <th>sqft_living15</th>\n",
              "      <th>sqft_lot15</th>\n",
              "    </tr>\n",
              "  </thead>\n",
              "  <tbody>\n",
              "    <tr>\n",
              "      <th>0</th>\n",
              "      <td>7129300520</td>\n",
              "      <td>20141013T000000</td>\n",
              "      <td>221900.0</td>\n",
              "      <td>3</td>\n",
              "      <td>1.00</td>\n",
              "      <td>1180</td>\n",
              "      <td>5650</td>\n",
              "      <td>1.0</td>\n",
              "      <td>0</td>\n",
              "      <td>0</td>\n",
              "      <td>...</td>\n",
              "      <td>7</td>\n",
              "      <td>1180</td>\n",
              "      <td>0</td>\n",
              "      <td>1955</td>\n",
              "      <td>0</td>\n",
              "      <td>98178</td>\n",
              "      <td>47.5112</td>\n",
              "      <td>-122.257</td>\n",
              "      <td>1340</td>\n",
              "      <td>5650</td>\n",
              "    </tr>\n",
              "    <tr>\n",
              "      <th>1</th>\n",
              "      <td>6414100192</td>\n",
              "      <td>20141209T000000</td>\n",
              "      <td>538000.0</td>\n",
              "      <td>3</td>\n",
              "      <td>2.25</td>\n",
              "      <td>2570</td>\n",
              "      <td>7242</td>\n",
              "      <td>2.0</td>\n",
              "      <td>0</td>\n",
              "      <td>0</td>\n",
              "      <td>...</td>\n",
              "      <td>7</td>\n",
              "      <td>2170</td>\n",
              "      <td>400</td>\n",
              "      <td>1951</td>\n",
              "      <td>1991</td>\n",
              "      <td>98125</td>\n",
              "      <td>47.7210</td>\n",
              "      <td>-122.319</td>\n",
              "      <td>1690</td>\n",
              "      <td>7639</td>\n",
              "    </tr>\n",
              "    <tr>\n",
              "      <th>2</th>\n",
              "      <td>5631500400</td>\n",
              "      <td>20150225T000000</td>\n",
              "      <td>180000.0</td>\n",
              "      <td>2</td>\n",
              "      <td>1.00</td>\n",
              "      <td>770</td>\n",
              "      <td>10000</td>\n",
              "      <td>1.0</td>\n",
              "      <td>0</td>\n",
              "      <td>0</td>\n",
              "      <td>...</td>\n",
              "      <td>6</td>\n",
              "      <td>770</td>\n",
              "      <td>0</td>\n",
              "      <td>1933</td>\n",
              "      <td>0</td>\n",
              "      <td>98028</td>\n",
              "      <td>47.7379</td>\n",
              "      <td>-122.233</td>\n",
              "      <td>2720</td>\n",
              "      <td>8062</td>\n",
              "    </tr>\n",
              "    <tr>\n",
              "      <th>3</th>\n",
              "      <td>2487200875</td>\n",
              "      <td>20141209T000000</td>\n",
              "      <td>604000.0</td>\n",
              "      <td>4</td>\n",
              "      <td>3.00</td>\n",
              "      <td>1960</td>\n",
              "      <td>5000</td>\n",
              "      <td>1.0</td>\n",
              "      <td>0</td>\n",
              "      <td>0</td>\n",
              "      <td>...</td>\n",
              "      <td>7</td>\n",
              "      <td>1050</td>\n",
              "      <td>910</td>\n",
              "      <td>1965</td>\n",
              "      <td>0</td>\n",
              "      <td>98136</td>\n",
              "      <td>47.5208</td>\n",
              "      <td>-122.393</td>\n",
              "      <td>1360</td>\n",
              "      <td>5000</td>\n",
              "    </tr>\n",
              "    <tr>\n",
              "      <th>4</th>\n",
              "      <td>1954400510</td>\n",
              "      <td>20150218T000000</td>\n",
              "      <td>510000.0</td>\n",
              "      <td>3</td>\n",
              "      <td>2.00</td>\n",
              "      <td>1680</td>\n",
              "      <td>8080</td>\n",
              "      <td>1.0</td>\n",
              "      <td>0</td>\n",
              "      <td>0</td>\n",
              "      <td>...</td>\n",
              "      <td>8</td>\n",
              "      <td>1680</td>\n",
              "      <td>0</td>\n",
              "      <td>1987</td>\n",
              "      <td>0</td>\n",
              "      <td>98074</td>\n",
              "      <td>47.6168</td>\n",
              "      <td>-122.045</td>\n",
              "      <td>1800</td>\n",
              "      <td>7503</td>\n",
              "    </tr>\n",
              "    <tr>\n",
              "      <th>...</th>\n",
              "      <td>...</td>\n",
              "      <td>...</td>\n",
              "      <td>...</td>\n",
              "      <td>...</td>\n",
              "      <td>...</td>\n",
              "      <td>...</td>\n",
              "      <td>...</td>\n",
              "      <td>...</td>\n",
              "      <td>...</td>\n",
              "      <td>...</td>\n",
              "      <td>...</td>\n",
              "      <td>...</td>\n",
              "      <td>...</td>\n",
              "      <td>...</td>\n",
              "      <td>...</td>\n",
              "      <td>...</td>\n",
              "      <td>...</td>\n",
              "      <td>...</td>\n",
              "      <td>...</td>\n",
              "      <td>...</td>\n",
              "      <td>...</td>\n",
              "    </tr>\n",
              "    <tr>\n",
              "      <th>21608</th>\n",
              "      <td>263000018</td>\n",
              "      <td>20140521T000000</td>\n",
              "      <td>360000.0</td>\n",
              "      <td>3</td>\n",
              "      <td>2.50</td>\n",
              "      <td>1530</td>\n",
              "      <td>1131</td>\n",
              "      <td>3.0</td>\n",
              "      <td>0</td>\n",
              "      <td>0</td>\n",
              "      <td>...</td>\n",
              "      <td>8</td>\n",
              "      <td>1530</td>\n",
              "      <td>0</td>\n",
              "      <td>2009</td>\n",
              "      <td>0</td>\n",
              "      <td>98103</td>\n",
              "      <td>47.6993</td>\n",
              "      <td>-122.346</td>\n",
              "      <td>1530</td>\n",
              "      <td>1509</td>\n",
              "    </tr>\n",
              "    <tr>\n",
              "      <th>21609</th>\n",
              "      <td>6600060120</td>\n",
              "      <td>20150223T000000</td>\n",
              "      <td>400000.0</td>\n",
              "      <td>4</td>\n",
              "      <td>2.50</td>\n",
              "      <td>2310</td>\n",
              "      <td>5813</td>\n",
              "      <td>2.0</td>\n",
              "      <td>0</td>\n",
              "      <td>0</td>\n",
              "      <td>...</td>\n",
              "      <td>8</td>\n",
              "      <td>2310</td>\n",
              "      <td>0</td>\n",
              "      <td>2014</td>\n",
              "      <td>0</td>\n",
              "      <td>98146</td>\n",
              "      <td>47.5107</td>\n",
              "      <td>-122.362</td>\n",
              "      <td>1830</td>\n",
              "      <td>7200</td>\n",
              "    </tr>\n",
              "    <tr>\n",
              "      <th>21610</th>\n",
              "      <td>1523300141</td>\n",
              "      <td>20140623T000000</td>\n",
              "      <td>402101.0</td>\n",
              "      <td>2</td>\n",
              "      <td>0.75</td>\n",
              "      <td>1020</td>\n",
              "      <td>1350</td>\n",
              "      <td>2.0</td>\n",
              "      <td>0</td>\n",
              "      <td>0</td>\n",
              "      <td>...</td>\n",
              "      <td>7</td>\n",
              "      <td>1020</td>\n",
              "      <td>0</td>\n",
              "      <td>2009</td>\n",
              "      <td>0</td>\n",
              "      <td>98144</td>\n",
              "      <td>47.5944</td>\n",
              "      <td>-122.299</td>\n",
              "      <td>1020</td>\n",
              "      <td>2007</td>\n",
              "    </tr>\n",
              "    <tr>\n",
              "      <th>21611</th>\n",
              "      <td>291310100</td>\n",
              "      <td>20150116T000000</td>\n",
              "      <td>400000.0</td>\n",
              "      <td>3</td>\n",
              "      <td>2.50</td>\n",
              "      <td>1600</td>\n",
              "      <td>2388</td>\n",
              "      <td>2.0</td>\n",
              "      <td>0</td>\n",
              "      <td>0</td>\n",
              "      <td>...</td>\n",
              "      <td>8</td>\n",
              "      <td>1600</td>\n",
              "      <td>0</td>\n",
              "      <td>2004</td>\n",
              "      <td>0</td>\n",
              "      <td>98027</td>\n",
              "      <td>47.5345</td>\n",
              "      <td>-122.069</td>\n",
              "      <td>1410</td>\n",
              "      <td>1287</td>\n",
              "    </tr>\n",
              "    <tr>\n",
              "      <th>21612</th>\n",
              "      <td>1523300157</td>\n",
              "      <td>20141015T000000</td>\n",
              "      <td>325000.0</td>\n",
              "      <td>2</td>\n",
              "      <td>0.75</td>\n",
              "      <td>1020</td>\n",
              "      <td>1076</td>\n",
              "      <td>2.0</td>\n",
              "      <td>0</td>\n",
              "      <td>0</td>\n",
              "      <td>...</td>\n",
              "      <td>7</td>\n",
              "      <td>1020</td>\n",
              "      <td>0</td>\n",
              "      <td>2008</td>\n",
              "      <td>0</td>\n",
              "      <td>98144</td>\n",
              "      <td>47.5941</td>\n",
              "      <td>-122.299</td>\n",
              "      <td>1020</td>\n",
              "      <td>1357</td>\n",
              "    </tr>\n",
              "  </tbody>\n",
              "</table>\n",
              "<p>21613 rows × 21 columns</p>\n",
              "</div>\n",
              "      <button class=\"colab-df-convert\" onclick=\"convertToInteractive('df-26177ade-c9e5-4a61-b246-4d2a78880e30')\"\n",
              "              title=\"Convert this dataframe to an interactive table.\"\n",
              "              style=\"display:none;\">\n",
              "        \n",
              "  <svg xmlns=\"http://www.w3.org/2000/svg\" height=\"24px\"viewBox=\"0 0 24 24\"\n",
              "       width=\"24px\">\n",
              "    <path d=\"M0 0h24v24H0V0z\" fill=\"none\"/>\n",
              "    <path d=\"M18.56 5.44l.94 2.06.94-2.06 2.06-.94-2.06-.94-.94-2.06-.94 2.06-2.06.94zm-11 1L8.5 8.5l.94-2.06 2.06-.94-2.06-.94L8.5 2.5l-.94 2.06-2.06.94zm10 10l.94 2.06.94-2.06 2.06-.94-2.06-.94-.94-2.06-.94 2.06-2.06.94z\"/><path d=\"M17.41 7.96l-1.37-1.37c-.4-.4-.92-.59-1.43-.59-.52 0-1.04.2-1.43.59L10.3 9.45l-7.72 7.72c-.78.78-.78 2.05 0 2.83L4 21.41c.39.39.9.59 1.41.59.51 0 1.02-.2 1.41-.59l7.78-7.78 2.81-2.81c.8-.78.8-2.07 0-2.86zM5.41 20L4 18.59l7.72-7.72 1.47 1.35L5.41 20z\"/>\n",
              "  </svg>\n",
              "      </button>\n",
              "      \n",
              "  <style>\n",
              "    .colab-df-container {\n",
              "      display:flex;\n",
              "      flex-wrap:wrap;\n",
              "      gap: 12px;\n",
              "    }\n",
              "\n",
              "    .colab-df-convert {\n",
              "      background-color: #E8F0FE;\n",
              "      border: none;\n",
              "      border-radius: 50%;\n",
              "      cursor: pointer;\n",
              "      display: none;\n",
              "      fill: #1967D2;\n",
              "      height: 32px;\n",
              "      padding: 0 0 0 0;\n",
              "      width: 32px;\n",
              "    }\n",
              "\n",
              "    .colab-df-convert:hover {\n",
              "      background-color: #E2EBFA;\n",
              "      box-shadow: 0px 1px 2px rgba(60, 64, 67, 0.3), 0px 1px 3px 1px rgba(60, 64, 67, 0.15);\n",
              "      fill: #174EA6;\n",
              "    }\n",
              "\n",
              "    [theme=dark] .colab-df-convert {\n",
              "      background-color: #3B4455;\n",
              "      fill: #D2E3FC;\n",
              "    }\n",
              "\n",
              "    [theme=dark] .colab-df-convert:hover {\n",
              "      background-color: #434B5C;\n",
              "      box-shadow: 0px 1px 3px 1px rgba(0, 0, 0, 0.15);\n",
              "      filter: drop-shadow(0px 1px 2px rgba(0, 0, 0, 0.3));\n",
              "      fill: #FFFFFF;\n",
              "    }\n",
              "  </style>\n",
              "\n",
              "      <script>\n",
              "        const buttonEl =\n",
              "          document.querySelector('#df-26177ade-c9e5-4a61-b246-4d2a78880e30 button.colab-df-convert');\n",
              "        buttonEl.style.display =\n",
              "          google.colab.kernel.accessAllowed ? 'block' : 'none';\n",
              "\n",
              "        async function convertToInteractive(key) {\n",
              "          const element = document.querySelector('#df-26177ade-c9e5-4a61-b246-4d2a78880e30');\n",
              "          const dataTable =\n",
              "            await google.colab.kernel.invokeFunction('convertToInteractive',\n",
              "                                                     [key], {});\n",
              "          if (!dataTable) return;\n",
              "\n",
              "          const docLinkHtml = 'Like what you see? Visit the ' +\n",
              "            '<a target=\"_blank\" href=https://colab.research.google.com/notebooks/data_table.ipynb>data table notebook</a>'\n",
              "            + ' to learn more about interactive tables.';\n",
              "          element.innerHTML = '';\n",
              "          dataTable['output_type'] = 'display_data';\n",
              "          await google.colab.output.renderOutput(dataTable, element);\n",
              "          const docLink = document.createElement('div');\n",
              "          docLink.innerHTML = docLinkHtml;\n",
              "          element.appendChild(docLink);\n",
              "        }\n",
              "      </script>\n",
              "    </div>\n",
              "  </div>\n",
              "  "
            ]
          },
          "metadata": {},
          "execution_count": 2
        }
      ]
    },
    {
      "cell_type": "code",
      "source": [
        "X = data.drop(columns=['id','date','zipcode'])\n",
        "y = data['price']"
      ],
      "metadata": {
        "id": "mRuqT3lm5YED"
      },
      "execution_count": null,
      "outputs": []
    },
    {
      "cell_type": "code",
      "source": [
        "y.mean()"
      ],
      "metadata": {
        "id": "jOtdK3rdKFiP",
        "outputId": "f464142b-b42a-44bd-cc18-1bfd46fd588f",
        "colab": {
          "base_uri": "https://localhost:8080/"
        }
      },
      "execution_count": null,
      "outputs": [
        {
          "output_type": "execute_result",
          "data": {
            "text/plain": [
              "540088.1417665294"
            ]
          },
          "metadata": {},
          "execution_count": 4
        }
      ]
    },
    {
      "cell_type": "code",
      "source": [
        "#Memisahkan data menjadi train, val, test\n",
        "\n",
        "X_train, X_test, y_train, y_test = train_test_split(X, y, train_size=0.9)\n",
        "\n",
        "X_train, X_val, y_train, y_val = train_test_split(X_train, y_train, train_size=0.8)"
      ],
      "metadata": {
        "id": "_Nt1ZKzJ5cWD"
      },
      "execution_count": null,
      "outputs": []
    },
    {
      "cell_type": "code",
      "source": [
        "len(X.columns)"
      ],
      "metadata": {
        "id": "eo-j8ilX8Ycn",
        "outputId": "22d63540-c977-4e7c-e53a-29bf6fb9b02c",
        "colab": {
          "base_uri": "https://localhost:8080/"
        }
      },
      "execution_count": null,
      "outputs": [
        {
          "output_type": "execute_result",
          "data": {
            "text/plain": [
              "18"
            ]
          },
          "metadata": {},
          "execution_count": 6
        }
      ]
    },
    {
      "cell_type": "code",
      "source": [
        "std = StandardScaler()\n",
        "X_train_std = std.fit_transform(X_train)\n",
        "X_val_std = std.transform(X_val)\n",
        "X_test_std = std.transform(X_test)"
      ],
      "metadata": {
        "id": "Uo7ruhhd5mCr"
      },
      "execution_count": null,
      "outputs": []
    },
    {
      "cell_type": "code",
      "source": [
        "model = tf.keras.models.Sequential()\n",
        "model.add(tf.keras.layers.Dense(64,input_shape=[len(X.columns)]))\n",
        "model.add(tf.keras.layers.Dense(32))\n",
        "model.add(tf.keras.layers.Dense(16))\n",
        "model.add(tf.keras.layers.Dense(8))\n",
        "model.add(tf.keras.layers.Dense(1, activation='relu'))"
      ],
      "metadata": {
        "id": "PVg-3eUs5ymL"
      },
      "execution_count": null,
      "outputs": []
    },
    {
      "cell_type": "code",
      "source": [
        "model.compile(loss='mae',\n",
        "              optimizer=tf.keras.optimizers.SGD(),\n",
        "              metrics='mae')"
      ],
      "metadata": {
        "id": "E2pd7LYs6Wwh"
      },
      "execution_count": null,
      "outputs": []
    },
    {
      "cell_type": "code",
      "source": [
        "model.summary()"
      ],
      "metadata": {
        "id": "2s5cd0_-6059",
        "outputId": "fff42185-ac0a-45dd-ed76-a5b411a983db",
        "colab": {
          "base_uri": "https://localhost:8080/"
        }
      },
      "execution_count": null,
      "outputs": [
        {
          "output_type": "stream",
          "name": "stdout",
          "text": [
            "Model: \"sequential\"\n",
            "_________________________________________________________________\n",
            " Layer (type)                Output Shape              Param #   \n",
            "=================================================================\n",
            " dense (Dense)               (None, 64)                1216      \n",
            "                                                                 \n",
            " dense_1 (Dense)             (None, 32)                2080      \n",
            "                                                                 \n",
            " dense_2 (Dense)             (None, 16)                528       \n",
            "                                                                 \n",
            " dense_3 (Dense)             (None, 8)                 136       \n",
            "                                                                 \n",
            " dense_4 (Dense)             (None, 1)                 9         \n",
            "                                                                 \n",
            "=================================================================\n",
            "Total params: 3,969\n",
            "Trainable params: 3,969\n",
            "Non-trainable params: 0\n",
            "_________________________________________________________________\n"
          ]
        }
      ]
    },
    {
      "cell_type": "code",
      "source": [
        "history = model.fit(X_train_std, y_train, epochs=40, batch_size=32,\n",
        "                    validation_data=(X_val_std, y_val),verbose=1)"
      ],
      "metadata": {
        "id": "Laly8Ce764KP",
        "outputId": "a3ea274d-3d9c-439e-e598-e695945fc0f8",
        "colab": {
          "base_uri": "https://localhost:8080/"
        }
      },
      "execution_count": null,
      "outputs": [
        {
          "output_type": "stream",
          "name": "stdout",
          "text": [
            "Epoch 1/40\n",
            "487/487 [==============================] - 5s 3ms/step - loss: nan - mae: nan - val_loss: nan - val_mae: nan\n",
            "Epoch 2/40\n",
            "487/487 [==============================] - 1s 3ms/step - loss: nan - mae: nan - val_loss: nan - val_mae: nan\n",
            "Epoch 3/40\n",
            "487/487 [==============================] - 1s 3ms/step - loss: nan - mae: nan - val_loss: nan - val_mae: nan\n",
            "Epoch 4/40\n",
            "487/487 [==============================] - 1s 3ms/step - loss: nan - mae: nan - val_loss: nan - val_mae: nan\n",
            "Epoch 5/40\n",
            "487/487 [==============================] - 1s 3ms/step - loss: nan - mae: nan - val_loss: nan - val_mae: nan\n",
            "Epoch 6/40\n",
            "487/487 [==============================] - 1s 3ms/step - loss: nan - mae: nan - val_loss: nan - val_mae: nan\n",
            "Epoch 7/40\n",
            "487/487 [==============================] - 1s 3ms/step - loss: nan - mae: nan - val_loss: nan - val_mae: nan\n",
            "Epoch 8/40\n",
            "487/487 [==============================] - 1s 3ms/step - loss: nan - mae: nan - val_loss: nan - val_mae: nan\n",
            "Epoch 9/40\n",
            "487/487 [==============================] - 1s 3ms/step - loss: nan - mae: nan - val_loss: nan - val_mae: nan\n",
            "Epoch 10/40\n",
            "487/487 [==============================] - 1s 3ms/step - loss: nan - mae: nan - val_loss: nan - val_mae: nan\n",
            "Epoch 11/40\n",
            "487/487 [==============================] - 1s 3ms/step - loss: nan - mae: nan - val_loss: nan - val_mae: nan\n",
            "Epoch 12/40\n",
            "487/487 [==============================] - 1s 3ms/step - loss: nan - mae: nan - val_loss: nan - val_mae: nan\n",
            "Epoch 13/40\n",
            "487/487 [==============================] - 1s 3ms/step - loss: nan - mae: nan - val_loss: nan - val_mae: nan\n",
            "Epoch 14/40\n",
            "487/487 [==============================] - 1s 3ms/step - loss: nan - mae: nan - val_loss: nan - val_mae: nan\n",
            "Epoch 15/40\n",
            "487/487 [==============================] - 1s 3ms/step - loss: nan - mae: nan - val_loss: nan - val_mae: nan\n",
            "Epoch 16/40\n",
            "487/487 [==============================] - 1s 3ms/step - loss: nan - mae: nan - val_loss: nan - val_mae: nan\n",
            "Epoch 17/40\n",
            "487/487 [==============================] - 1s 3ms/step - loss: nan - mae: nan - val_loss: nan - val_mae: nan\n",
            "Epoch 18/40\n",
            "487/487 [==============================] - 1s 3ms/step - loss: nan - mae: nan - val_loss: nan - val_mae: nan\n",
            "Epoch 19/40\n",
            "487/487 [==============================] - 1s 3ms/step - loss: nan - mae: nan - val_loss: nan - val_mae: nan\n",
            "Epoch 20/40\n",
            "487/487 [==============================] - 1s 3ms/step - loss: nan - mae: nan - val_loss: nan - val_mae: nan\n",
            "Epoch 21/40\n",
            "487/487 [==============================] - 1s 3ms/step - loss: nan - mae: nan - val_loss: nan - val_mae: nan\n",
            "Epoch 22/40\n",
            "487/487 [==============================] - 1s 3ms/step - loss: nan - mae: nan - val_loss: nan - val_mae: nan\n",
            "Epoch 23/40\n",
            "487/487 [==============================] - 2s 3ms/step - loss: nan - mae: nan - val_loss: nan - val_mae: nan\n",
            "Epoch 24/40\n",
            "487/487 [==============================] - 2s 4ms/step - loss: nan - mae: nan - val_loss: nan - val_mae: nan\n",
            "Epoch 25/40\n",
            "487/487 [==============================] - 2s 4ms/step - loss: nan - mae: nan - val_loss: nan - val_mae: nan\n",
            "Epoch 26/40\n",
            "487/487 [==============================] - 1s 3ms/step - loss: nan - mae: nan - val_loss: nan - val_mae: nan\n",
            "Epoch 27/40\n",
            "487/487 [==============================] - 1s 3ms/step - loss: nan - mae: nan - val_loss: nan - val_mae: nan\n",
            "Epoch 28/40\n",
            "487/487 [==============================] - 1s 3ms/step - loss: nan - mae: nan - val_loss: nan - val_mae: nan\n",
            "Epoch 29/40\n",
            "487/487 [==============================] - 1s 3ms/step - loss: nan - mae: nan - val_loss: nan - val_mae: nan\n",
            "Epoch 30/40\n",
            "487/487 [==============================] - 1s 3ms/step - loss: nan - mae: nan - val_loss: nan - val_mae: nan\n",
            "Epoch 31/40\n",
            "487/487 [==============================] - 2s 4ms/step - loss: nan - mae: nan - val_loss: nan - val_mae: nan\n",
            "Epoch 32/40\n",
            "487/487 [==============================] - 2s 4ms/step - loss: nan - mae: nan - val_loss: nan - val_mae: nan\n",
            "Epoch 33/40\n",
            "487/487 [==============================] - 1s 3ms/step - loss: nan - mae: nan - val_loss: nan - val_mae: nan\n",
            "Epoch 34/40\n",
            "487/487 [==============================] - 1s 3ms/step - loss: nan - mae: nan - val_loss: nan - val_mae: nan\n",
            "Epoch 35/40\n",
            "487/487 [==============================] - 1s 3ms/step - loss: nan - mae: nan - val_loss: nan - val_mae: nan\n",
            "Epoch 36/40\n",
            "487/487 [==============================] - 2s 3ms/step - loss: nan - mae: nan - val_loss: nan - val_mae: nan\n",
            "Epoch 37/40\n",
            "487/487 [==============================] - 2s 3ms/step - loss: nan - mae: nan - val_loss: nan - val_mae: nan\n",
            "Epoch 38/40\n",
            "487/487 [==============================] - 1s 3ms/step - loss: nan - mae: nan - val_loss: nan - val_mae: nan\n",
            "Epoch 39/40\n",
            "487/487 [==============================] - 1s 3ms/step - loss: nan - mae: nan - val_loss: nan - val_mae: nan\n",
            "Epoch 40/40\n",
            "487/487 [==============================] - 1s 3ms/step - loss: nan - mae: nan - val_loss: nan - val_mae: nan\n"
          ]
        }
      ]
    },
    {
      "cell_type": "markdown",
      "source": [
        "##Kernel Initializers"
      ],
      "metadata": {
        "id": "3MPWg-y8GDPd"
      }
    },
    {
      "cell_type": "code",
      "source": [
        "model = tf.keras.models.Sequential()\n",
        "model.add(tf.keras.layers.Dense(64,input_shape=[len(X.columns)],kernel_initializer=tf.keras.initializers.RandomNormal(seed=40)))\n",
        "model.add(tf.keras.layers.Dense(32))\n",
        "model.add(tf.keras.layers.Dense(16))\n",
        "model.add(tf.keras.layers.Dense(8))\n",
        "model.add(tf.keras.layers.Dense(1, activation='linear'))"
      ],
      "metadata": {
        "id": "hmucLqJF81HG"
      },
      "execution_count": null,
      "outputs": []
    },
    {
      "cell_type": "code",
      "source": [
        "model.compile(loss='mae',\n",
        "              optimizer=tf.keras.optimizers.SGD(),\n",
        "              metrics='mae')"
      ],
      "metadata": {
        "id": "zWfDBX0p9AsN"
      },
      "execution_count": null,
      "outputs": []
    },
    {
      "cell_type": "code",
      "source": [
        "history = model.fit(X_train_std, y_train, epochs=40, batch_size=32,\n",
        "                    validation_data=(X_val_std, y_val),verbose=1)"
      ],
      "metadata": {
        "id": "q3dwPLZ3-KvH",
        "outputId": "4533dfa8-85a0-47af-91b0-52b7eb7614d6",
        "colab": {
          "base_uri": "https://localhost:8080/"
        }
      },
      "execution_count": null,
      "outputs": [
        {
          "output_type": "stream",
          "name": "stdout",
          "text": [
            "Epoch 1/40\n",
            "487/487 [==============================] - 3s 4ms/step - loss: nan - mae: nan - val_loss: nan - val_mae: nan\n",
            "Epoch 2/40\n",
            "487/487 [==============================] - 2s 4ms/step - loss: nan - mae: nan - val_loss: nan - val_mae: nan\n",
            "Epoch 3/40\n",
            "487/487 [==============================] - 1s 3ms/step - loss: nan - mae: nan - val_loss: nan - val_mae: nan\n",
            "Epoch 4/40\n",
            "487/487 [==============================] - 1s 3ms/step - loss: nan - mae: nan - val_loss: nan - val_mae: nan\n",
            "Epoch 5/40\n",
            "487/487 [==============================] - 1s 3ms/step - loss: nan - mae: nan - val_loss: nan - val_mae: nan\n",
            "Epoch 6/40\n",
            "487/487 [==============================] - 1s 3ms/step - loss: nan - mae: nan - val_loss: nan - val_mae: nan\n",
            "Epoch 7/40\n",
            "487/487 [==============================] - 1s 3ms/step - loss: nan - mae: nan - val_loss: nan - val_mae: nan\n",
            "Epoch 8/40\n",
            "487/487 [==============================] - 1s 3ms/step - loss: nan - mae: nan - val_loss: nan - val_mae: nan\n",
            "Epoch 9/40\n",
            "487/487 [==============================] - 1s 3ms/step - loss: nan - mae: nan - val_loss: nan - val_mae: nan\n",
            "Epoch 10/40\n",
            "487/487 [==============================] - 1s 3ms/step - loss: nan - mae: nan - val_loss: nan - val_mae: nan\n",
            "Epoch 11/40\n",
            "487/487 [==============================] - 3s 6ms/step - loss: nan - mae: nan - val_loss: nan - val_mae: nan\n",
            "Epoch 12/40\n",
            "487/487 [==============================] - 2s 4ms/step - loss: nan - mae: nan - val_loss: nan - val_mae: nan\n",
            "Epoch 13/40\n",
            "487/487 [==============================] - 2s 4ms/step - loss: nan - mae: nan - val_loss: nan - val_mae: nan\n",
            "Epoch 14/40\n",
            "487/487 [==============================] - 1s 3ms/step - loss: nan - mae: nan - val_loss: nan - val_mae: nan\n",
            "Epoch 15/40\n",
            "487/487 [==============================] - 1s 3ms/step - loss: nan - mae: nan - val_loss: nan - val_mae: nan\n",
            "Epoch 16/40\n",
            "487/487 [==============================] - 1s 3ms/step - loss: nan - mae: nan - val_loss: nan - val_mae: nan\n",
            "Epoch 17/40\n",
            "487/487 [==============================] - 1s 3ms/step - loss: nan - mae: nan - val_loss: nan - val_mae: nan\n",
            "Epoch 18/40\n",
            "487/487 [==============================] - 1s 3ms/step - loss: nan - mae: nan - val_loss: nan - val_mae: nan\n",
            "Epoch 19/40\n",
            "487/487 [==============================] - 1s 3ms/step - loss: nan - mae: nan - val_loss: nan - val_mae: nan\n",
            "Epoch 20/40\n",
            "487/487 [==============================] - 2s 4ms/step - loss: nan - mae: nan - val_loss: nan - val_mae: nan\n",
            "Epoch 21/40\n",
            "487/487 [==============================] - 2s 3ms/step - loss: nan - mae: nan - val_loss: nan - val_mae: nan\n",
            "Epoch 22/40\n",
            "487/487 [==============================] - 1s 3ms/step - loss: nan - mae: nan - val_loss: nan - val_mae: nan\n",
            "Epoch 23/40\n",
            "487/487 [==============================] - 2s 5ms/step - loss: nan - mae: nan - val_loss: nan - val_mae: nan\n",
            "Epoch 24/40\n",
            "487/487 [==============================] - 2s 4ms/step - loss: nan - mae: nan - val_loss: nan - val_mae: nan\n",
            "Epoch 25/40\n",
            "487/487 [==============================] - 1s 3ms/step - loss: nan - mae: nan - val_loss: nan - val_mae: nan\n",
            "Epoch 26/40\n",
            "487/487 [==============================] - 1s 3ms/step - loss: nan - mae: nan - val_loss: nan - val_mae: nan\n",
            "Epoch 27/40\n",
            "487/487 [==============================] - 1s 3ms/step - loss: nan - mae: nan - val_loss: nan - val_mae: nan\n",
            "Epoch 28/40\n",
            "487/487 [==============================] - 1s 3ms/step - loss: nan - mae: nan - val_loss: nan - val_mae: nan\n",
            "Epoch 29/40\n",
            "487/487 [==============================] - 2s 3ms/step - loss: nan - mae: nan - val_loss: nan - val_mae: nan\n",
            "Epoch 30/40\n",
            "487/487 [==============================] - 2s 4ms/step - loss: nan - mae: nan - val_loss: nan - val_mae: nan\n",
            "Epoch 31/40\n",
            "487/487 [==============================] - 2s 4ms/step - loss: nan - mae: nan - val_loss: nan - val_mae: nan\n",
            "Epoch 32/40\n",
            "487/487 [==============================] - 1s 3ms/step - loss: nan - mae: nan - val_loss: nan - val_mae: nan\n",
            "Epoch 33/40\n",
            "487/487 [==============================] - 1s 3ms/step - loss: nan - mae: nan - val_loss: nan - val_mae: nan\n",
            "Epoch 34/40\n",
            "487/487 [==============================] - 1s 3ms/step - loss: nan - mae: nan - val_loss: nan - val_mae: nan\n",
            "Epoch 35/40\n",
            "487/487 [==============================] - 1s 3ms/step - loss: nan - mae: nan - val_loss: nan - val_mae: nan\n",
            "Epoch 36/40\n",
            "487/487 [==============================] - 1s 3ms/step - loss: nan - mae: nan - val_loss: nan - val_mae: nan\n",
            "Epoch 37/40\n",
            "487/487 [==============================] - 1s 3ms/step - loss: nan - mae: nan - val_loss: nan - val_mae: nan\n",
            "Epoch 38/40\n",
            "487/487 [==============================] - 1s 3ms/step - loss: nan - mae: nan - val_loss: nan - val_mae: nan\n",
            "Epoch 39/40\n",
            "487/487 [==============================] - 1s 3ms/step - loss: nan - mae: nan - val_loss: nan - val_mae: nan\n",
            "Epoch 40/40\n",
            "487/487 [==============================] - 1s 3ms/step - loss: nan - mae: nan - val_loss: nan - val_mae: nan\n"
          ]
        }
      ]
    },
    {
      "cell_type": "markdown",
      "source": [
        "## Batch Size"
      ],
      "metadata": {
        "id": "WUiTDUp9GkDg"
      }
    },
    {
      "cell_type": "code",
      "source": [
        "model = tf.keras.models.Sequential()\n",
        "model.add(tf.keras.layers.Dense(64,input_shape=[len(X.columns)],kernel_initializer=tf.keras.initializers.GlorotNormal(seed=40)))\n",
        "model.add(tf.keras.layers.Dense(32))\n",
        "model.add(tf.keras.layers.Dense(16))\n",
        "model.add(tf.keras.layers.Dense(8))\n",
        "model.add(tf.keras.layers.Dense(1, activation='linear'))\n",
        "\n",
        "model.compile(loss='mae',\n",
        "              optimizer=tf.keras.optimizers.SGD(),\n",
        "              metrics='mae')\n",
        "\n",
        "history = model.fit(X_train_std, y_train, epochs=40, batch_size=70,\n",
        "                    validation_data=(X_val_std, y_val),verbose=1)"
      ],
      "metadata": {
        "id": "fE1dErV--NCi",
        "outputId": "ada2bb0a-7b2c-478b-c37e-237cae28ea4e",
        "colab": {
          "base_uri": "https://localhost:8080/"
        }
      },
      "execution_count": null,
      "outputs": [
        {
          "output_type": "stream",
          "name": "stdout",
          "text": [
            "Epoch 1/40\n",
            "223/223 [==============================] - 1s 4ms/step - loss: nan - mae: nan - val_loss: nan - val_mae: nan\n",
            "Epoch 2/40\n",
            "223/223 [==============================] - 1s 3ms/step - loss: nan - mae: nan - val_loss: nan - val_mae: nan\n",
            "Epoch 3/40\n",
            "223/223 [==============================] - 1s 3ms/step - loss: nan - mae: nan - val_loss: nan - val_mae: nan\n",
            "Epoch 4/40\n",
            "223/223 [==============================] - 1s 3ms/step - loss: nan - mae: nan - val_loss: nan - val_mae: nan\n",
            "Epoch 5/40\n",
            "223/223 [==============================] - 1s 3ms/step - loss: nan - mae: nan - val_loss: nan - val_mae: nan\n",
            "Epoch 6/40\n",
            "223/223 [==============================] - 1s 3ms/step - loss: nan - mae: nan - val_loss: nan - val_mae: nan\n",
            "Epoch 7/40\n",
            "223/223 [==============================] - 1s 3ms/step - loss: nan - mae: nan - val_loss: nan - val_mae: nan\n",
            "Epoch 8/40\n",
            "223/223 [==============================] - 1s 3ms/step - loss: nan - mae: nan - val_loss: nan - val_mae: nan\n",
            "Epoch 9/40\n",
            "223/223 [==============================] - 1s 3ms/step - loss: nan - mae: nan - val_loss: nan - val_mae: nan\n",
            "Epoch 10/40\n",
            "223/223 [==============================] - 1s 3ms/step - loss: nan - mae: nan - val_loss: nan - val_mae: nan\n",
            "Epoch 11/40\n",
            "223/223 [==============================] - 1s 3ms/step - loss: nan - mae: nan - val_loss: nan - val_mae: nan\n",
            "Epoch 12/40\n",
            "223/223 [==============================] - 1s 3ms/step - loss: nan - mae: nan - val_loss: nan - val_mae: nan\n",
            "Epoch 13/40\n",
            "223/223 [==============================] - 1s 3ms/step - loss: nan - mae: nan - val_loss: nan - val_mae: nan\n",
            "Epoch 14/40\n",
            "223/223 [==============================] - 1s 4ms/step - loss: nan - mae: nan - val_loss: nan - val_mae: nan\n",
            "Epoch 15/40\n",
            "223/223 [==============================] - 1s 4ms/step - loss: nan - mae: nan - val_loss: nan - val_mae: nan\n",
            "Epoch 16/40\n",
            "223/223 [==============================] - 1s 4ms/step - loss: nan - mae: nan - val_loss: nan - val_mae: nan\n",
            "Epoch 17/40\n",
            "223/223 [==============================] - 1s 3ms/step - loss: nan - mae: nan - val_loss: nan - val_mae: nan\n",
            "Epoch 18/40\n",
            "223/223 [==============================] - 1s 3ms/step - loss: nan - mae: nan - val_loss: nan - val_mae: nan\n",
            "Epoch 19/40\n",
            "223/223 [==============================] - 1s 3ms/step - loss: nan - mae: nan - val_loss: nan - val_mae: nan\n",
            "Epoch 20/40\n",
            "223/223 [==============================] - 1s 3ms/step - loss: nan - mae: nan - val_loss: nan - val_mae: nan\n",
            "Epoch 21/40\n",
            "223/223 [==============================] - 1s 3ms/step - loss: nan - mae: nan - val_loss: nan - val_mae: nan\n",
            "Epoch 22/40\n",
            "223/223 [==============================] - 1s 3ms/step - loss: nan - mae: nan - val_loss: nan - val_mae: nan\n",
            "Epoch 23/40\n",
            "223/223 [==============================] - 1s 3ms/step - loss: nan - mae: nan - val_loss: nan - val_mae: nan\n",
            "Epoch 24/40\n",
            "223/223 [==============================] - 1s 3ms/step - loss: nan - mae: nan - val_loss: nan - val_mae: nan\n",
            "Epoch 25/40\n",
            "223/223 [==============================] - 1s 3ms/step - loss: nan - mae: nan - val_loss: nan - val_mae: nan\n",
            "Epoch 26/40\n",
            "223/223 [==============================] - 1s 3ms/step - loss: nan - mae: nan - val_loss: nan - val_mae: nan\n",
            "Epoch 27/40\n",
            "223/223 [==============================] - 1s 3ms/step - loss: nan - mae: nan - val_loss: nan - val_mae: nan\n",
            "Epoch 28/40\n",
            "223/223 [==============================] - 1s 3ms/step - loss: nan - mae: nan - val_loss: nan - val_mae: nan\n",
            "Epoch 29/40\n",
            "223/223 [==============================] - 1s 3ms/step - loss: nan - mae: nan - val_loss: nan - val_mae: nan\n",
            "Epoch 30/40\n",
            "223/223 [==============================] - 1s 3ms/step - loss: nan - mae: nan - val_loss: nan - val_mae: nan\n",
            "Epoch 31/40\n",
            "223/223 [==============================] - 1s 3ms/step - loss: nan - mae: nan - val_loss: nan - val_mae: nan\n",
            "Epoch 32/40\n",
            "223/223 [==============================] - 1s 3ms/step - loss: nan - mae: nan - val_loss: nan - val_mae: nan\n",
            "Epoch 33/40\n",
            "223/223 [==============================] - 1s 3ms/step - loss: nan - mae: nan - val_loss: nan - val_mae: nan\n",
            "Epoch 34/40\n",
            "223/223 [==============================] - 1s 3ms/step - loss: nan - mae: nan - val_loss: nan - val_mae: nan\n",
            "Epoch 35/40\n",
            "223/223 [==============================] - 1s 3ms/step - loss: nan - mae: nan - val_loss: nan - val_mae: nan\n",
            "Epoch 36/40\n",
            "223/223 [==============================] - 1s 3ms/step - loss: nan - mae: nan - val_loss: nan - val_mae: nan\n",
            "Epoch 37/40\n",
            "223/223 [==============================] - 1s 3ms/step - loss: nan - mae: nan - val_loss: nan - val_mae: nan\n",
            "Epoch 38/40\n",
            "223/223 [==============================] - 1s 3ms/step - loss: nan - mae: nan - val_loss: nan - val_mae: nan\n",
            "Epoch 39/40\n",
            "223/223 [==============================] - 1s 3ms/step - loss: nan - mae: nan - val_loss: nan - val_mae: nan\n",
            "Epoch 40/40\n",
            "223/223 [==============================] - 1s 3ms/step - loss: nan - mae: nan - val_loss: nan - val_mae: nan\n"
          ]
        }
      ]
    },
    {
      "cell_type": "markdown",
      "source": [
        "## Activation Function"
      ],
      "metadata": {
        "id": "riG3_-hVGyea"
      }
    },
    {
      "cell_type": "code",
      "source": [
        "model = tf.keras.models.Sequential()\n",
        "model.add(tf.keras.layers.Dense(64,input_shape=[len(X.columns)],kernel_initializer=tf.keras.initializers.GlorotNormal(seed=40)))\n",
        "\n",
        "model.add(tf.keras.layers.Dense(32,activation='relu'))\n",
        "model.add(tf.keras.layers.Dense(16,activation='relu'))\n",
        "model.add(tf.keras.layers.Dense(8,activation='relu'))\n",
        "model.add(tf.keras.layers.Dense(1, activation='linear'))\n",
        "\n",
        "model.compile(loss='mae',\n",
        "              optimizer=tf.keras.optimizers.SGD(),\n",
        "              metrics='mae')\n",
        "\n",
        "history = model.fit(X_train_std, y_train, epochs=40, batch_size=70,\n",
        "                    validation_data=(X_val_std, y_val),verbose=1)"
      ],
      "metadata": {
        "id": "UPSeWFbJ-yok",
        "outputId": "2b8e09bf-96d8-44b7-9d6b-e91a7e3aa3b7",
        "colab": {
          "base_uri": "https://localhost:8080/"
        }
      },
      "execution_count": null,
      "outputs": [
        {
          "output_type": "stream",
          "name": "stdout",
          "text": [
            "Epoch 1/40\n",
            "223/223 [==============================] - 2s 5ms/step - loss: 849604.9375 - mae: 849604.9375 - val_loss: 540082.5625 - val_mae: 540082.5625\n",
            "Epoch 2/40\n",
            "223/223 [==============================] - 1s 3ms/step - loss: 539598.4375 - mae: 539598.4375 - val_loss: 540047.5000 - val_mae: 540047.4375\n",
            "Epoch 3/40\n",
            "223/223 [==============================] - 1s 3ms/step - loss: 538988.1250 - mae: 538988.1250 - val_loss: 537255.9375 - val_mae: 537255.9375\n",
            "Epoch 4/40\n",
            "223/223 [==============================] - 1s 3ms/step - loss: 488022.3438 - mae: 488022.3438 - val_loss: 314907.9062 - val_mae: 314907.9062\n",
            "Epoch 5/40\n",
            "223/223 [==============================] - 1s 3ms/step - loss: 231480.7344 - mae: 231480.7344 - val_loss: 220407.8750 - val_mae: 220407.8750\n",
            "Epoch 6/40\n",
            "223/223 [==============================] - 1s 3ms/step - loss: 222295.9062 - mae: 222295.9062 - val_loss: 220455.0781 - val_mae: 220455.0781\n",
            "Epoch 7/40\n",
            "223/223 [==============================] - 1s 3ms/step - loss: 222281.1875 - mae: 222281.1875 - val_loss: 220306.7969 - val_mae: 220306.7969\n",
            "Epoch 8/40\n",
            "223/223 [==============================] - 1s 3ms/step - loss: 222290.0469 - mae: 222290.0469 - val_loss: 220340.7812 - val_mae: 220340.7812\n",
            "Epoch 9/40\n",
            "223/223 [==============================] - 1s 3ms/step - loss: 222299.4062 - mae: 222299.4062 - val_loss: 220401.8281 - val_mae: 220401.8281\n",
            "Epoch 10/40\n",
            "223/223 [==============================] - 1s 4ms/step - loss: 222300.3750 - mae: 222300.3750 - val_loss: 220307.1562 - val_mae: 220307.1562\n",
            "Epoch 11/40\n",
            "223/223 [==============================] - 1s 6ms/step - loss: 222293.2500 - mae: 222293.2500 - val_loss: 220309.9531 - val_mae: 220309.9531\n",
            "Epoch 12/40\n",
            "223/223 [==============================] - 1s 6ms/step - loss: 222285.9375 - mae: 222285.9375 - val_loss: 220308.3438 - val_mae: 220308.3438\n",
            "Epoch 13/40\n",
            "223/223 [==============================] - 1s 5ms/step - loss: 222292.7812 - mae: 222292.7656 - val_loss: 220308.3906 - val_mae: 220308.3906\n",
            "Epoch 14/40\n",
            "223/223 [==============================] - 1s 5ms/step - loss: 222305.8125 - mae: 222305.8125 - val_loss: 220355.4062 - val_mae: 220355.4062\n",
            "Epoch 15/40\n",
            "223/223 [==============================] - 1s 5ms/step - loss: 222280.0312 - mae: 222280.0312 - val_loss: 220413.7500 - val_mae: 220413.7500\n",
            "Epoch 16/40\n",
            "223/223 [==============================] - 1s 4ms/step - loss: 222286.0625 - mae: 222286.0625 - val_loss: 220315.7031 - val_mae: 220315.7031\n",
            "Epoch 17/40\n",
            "223/223 [==============================] - 1s 3ms/step - loss: 222302.8906 - mae: 222302.8906 - val_loss: 220312.3438 - val_mae: 220312.3438\n",
            "Epoch 18/40\n",
            "223/223 [==============================] - 1s 3ms/step - loss: 222294.3906 - mae: 222294.3906 - val_loss: 220317.5469 - val_mae: 220317.5469\n",
            "Epoch 19/40\n",
            "223/223 [==============================] - 1s 3ms/step - loss: 222308.0938 - mae: 222308.0938 - val_loss: 220388.3281 - val_mae: 220388.3281\n",
            "Epoch 20/40\n",
            "223/223 [==============================] - 1s 3ms/step - loss: 222290.6719 - mae: 222290.6719 - val_loss: 220460.7031 - val_mae: 220460.7031\n",
            "Epoch 21/40\n",
            "223/223 [==============================] - 1s 3ms/step - loss: 222293.7188 - mae: 222293.7188 - val_loss: 220310.6562 - val_mae: 220310.6562\n",
            "Epoch 22/40\n",
            "223/223 [==============================] - 1s 3ms/step - loss: 222280.5781 - mae: 222280.5781 - val_loss: 220587.1250 - val_mae: 220587.1250\n",
            "Epoch 23/40\n",
            "223/223 [==============================] - 1s 3ms/step - loss: 222293.2344 - mae: 222293.2500 - val_loss: 220306.8281 - val_mae: 220306.8281\n",
            "Epoch 24/40\n",
            "223/223 [==============================] - 1s 3ms/step - loss: 222305.5781 - mae: 222305.5938 - val_loss: 220348.1250 - val_mae: 220348.1250\n",
            "Epoch 25/40\n",
            "223/223 [==============================] - 1s 3ms/step - loss: 222299.0000 - mae: 222299.0000 - val_loss: 220311.7656 - val_mae: 220311.7656\n",
            "Epoch 26/40\n",
            "223/223 [==============================] - 1s 3ms/step - loss: 222289.4531 - mae: 222289.4688 - val_loss: 220521.0938 - val_mae: 220521.0938\n",
            "Epoch 27/40\n",
            "223/223 [==============================] - 1s 3ms/step - loss: 222281.7031 - mae: 222281.7031 - val_loss: 220336.8125 - val_mae: 220336.8125\n",
            "Epoch 28/40\n",
            "223/223 [==============================] - 1s 3ms/step - loss: 222275.2500 - mae: 222275.2500 - val_loss: 220322.9844 - val_mae: 220322.9844\n",
            "Epoch 29/40\n",
            "223/223 [==============================] - 1s 3ms/step - loss: 222265.5469 - mae: 222265.5469 - val_loss: 220761.8750 - val_mae: 220761.8750\n",
            "Epoch 30/40\n",
            "223/223 [==============================] - 1s 3ms/step - loss: 222305.3750 - mae: 222305.3750 - val_loss: 220405.4219 - val_mae: 220405.4219\n",
            "Epoch 31/40\n",
            "223/223 [==============================] - 1s 3ms/step - loss: 222301.6562 - mae: 222301.6562 - val_loss: 220409.9844 - val_mae: 220409.9844\n",
            "Epoch 32/40\n",
            "223/223 [==============================] - 1s 3ms/step - loss: 222266.3750 - mae: 222266.3750 - val_loss: 220392.5000 - val_mae: 220392.5000\n",
            "Epoch 33/40\n",
            "223/223 [==============================] - 1s 3ms/step - loss: 222290.2656 - mae: 222290.2656 - val_loss: 220316.7031 - val_mae: 220316.7031\n",
            "Epoch 34/40\n",
            "223/223 [==============================] - 1s 4ms/step - loss: 222300.4688 - mae: 222300.4844 - val_loss: 220320.1250 - val_mae: 220320.1250\n",
            "Epoch 35/40\n",
            "223/223 [==============================] - 1s 5ms/step - loss: 222293.5000 - mae: 222293.5000 - val_loss: 220313.4062 - val_mae: 220313.4062\n",
            "Epoch 36/40\n",
            "223/223 [==============================] - 1s 4ms/step - loss: 222297.7031 - mae: 222297.7031 - val_loss: 220309.7344 - val_mae: 220309.7344\n",
            "Epoch 37/40\n",
            "223/223 [==============================] - 1s 5ms/step - loss: 222287.4219 - mae: 222287.4219 - val_loss: 220335.9062 - val_mae: 220335.9062\n",
            "Epoch 38/40\n",
            "223/223 [==============================] - 1s 6ms/step - loss: 222289.7656 - mae: 222289.7656 - val_loss: 220306.7656 - val_mae: 220306.7656\n",
            "Epoch 39/40\n",
            "223/223 [==============================] - 1s 5ms/step - loss: 222286.7344 - mae: 222286.7344 - val_loss: 220352.7500 - val_mae: 220352.7500\n",
            "Epoch 40/40\n",
            "223/223 [==============================] - 1s 6ms/step - loss: 222302.5625 - mae: 222302.5781 - val_loss: 220307.2344 - val_mae: 220307.2500\n"
          ]
        }
      ]
    },
    {
      "cell_type": "code",
      "source": [
        "fig, ax = plt.subplots()\n",
        "ax.plot(range(40),history.history['loss'],label='train loss')\n",
        "ax.plot(range(40),history.history['val_loss'],label='val loss')\n",
        "\n",
        "ax.set_xlabel('Epoch')\n",
        "ax.set_ylabel('Loss')\n",
        "plt.legend()"
      ],
      "metadata": {
        "id": "BUYQxG2d_jTC",
        "outputId": "be553bf3-6668-44ce-a9fd-2c6d2a211092",
        "colab": {
          "base_uri": "https://localhost:8080/",
          "height": 296
        }
      },
      "execution_count": null,
      "outputs": [
        {
          "output_type": "execute_result",
          "data": {
            "text/plain": [
              "<matplotlib.legend.Legend at 0x7fb4f7875fd0>"
            ]
          },
          "metadata": {},
          "execution_count": 28
        },
        {
          "output_type": "display_data",
          "data": {
            "text/plain": [
              "<Figure size 432x288 with 1 Axes>"
            ],
            "image/png": "[encoded data removed]"
          },
          "metadata": {
            "needs_background": "light"
          }
        }
      ]
    },
    {
      "cell_type": "markdown",
      "source": [
        "##Batch normalization"
      ],
      "metadata": {
        "id": "aeaY2av6F9XF"
      }
    },
    {
      "cell_type": "markdown",
      "source": [
        "struktur batch normalization yang sesuai adalah dilakukan sebelum activation function"
      ],
      "metadata": {
        "id": "Z3DKHLokF7kL"
      }
    },
    {
      "cell_type": "code",
      "source": [
        "tf.random.set_seed(42) # gunakan set_seed untuk menghasilkan model yang mempunyai performa yang sama\n",
        "\n",
        "model = tf.keras.models.Sequential()\n",
        "model.add(tf.keras.layers.Dense(15,input_shape=[len(X.columns)],kernel_initializer=tf.keras.initializers.GlorotNormal(seed=40)))\n",
        "model.add(tf.keras.layers.Dense(14))\n",
        "model.add(tf.keras.layers.BatchNormalization())\n",
        "model.add(tf.keras.layers.Activation('relu'))\n",
        "\n",
        "model.add(tf.keras.layers.Dense(10))\n",
        "model.add(tf.keras.layers.BatchNormalization())\n",
        "model.add(tf.keras.layers.Activation('relu'))\n",
        "\n",
        "model.add(tf.keras.layers.Dense(8))\n",
        "model.add(tf.keras.layers.BatchNormalization())\n",
        "model.add(tf.keras.layers.Activation('relu'))\n",
        "\n",
        "model.add(tf.keras.layers.Dense(1, activation='linear'))\n",
        "\n",
        "model.compile(loss='mae',\n",
        "              optimizer=tf.keras.optimizers.SGD(),\n",
        "              metrics='mae')\n",
        "\n",
        "history = model.fit(X_train_std, y_train, epochs=40, batch_size=70,\n",
        "                    validation_data=(X_val_std, y_val),verbose=1)"
      ],
      "metadata": {
        "id": "QbOHJzhCBsxq",
        "outputId": "618733e7-d954-4c99-cb5d-f68edc2a56f3",
        "colab": {
          "base_uri": "https://localhost:8080/"
        }
      },
      "execution_count": null,
      "outputs": [
        {
          "output_type": "stream",
          "name": "stdout",
          "text": [
            "Epoch 1/40\n",
            "223/223 [==============================] - 2s 5ms/step - loss: 540461.2500 - mae: 540461.2500 - val_loss: 542827.3750 - val_mae: 542827.3750\n",
            "Epoch 2/40\n",
            "223/223 [==============================] - 1s 5ms/step - loss: 540138.1875 - mae: 540138.1875 - val_loss: 541427.2500 - val_mae: 541427.2500\n",
            "Epoch 3/40\n",
            "223/223 [==============================] - 1s 4ms/step - loss: 513987.5000 - mae: 513987.5000 - val_loss: 394790.2812 - val_mae: 394790.3125\n",
            "Epoch 4/40\n",
            "223/223 [==============================] - 1s 5ms/step - loss: 176657.6875 - mae: 176657.6875 - val_loss: 484618.0625 - val_mae: 484618.0625\n",
            "Epoch 5/40\n",
            "223/223 [==============================] - 1s 5ms/step - loss: 59551.3516 - mae: 59551.3516 - val_loss: 139533.9688 - val_mae: 139533.9688\n",
            "Epoch 6/40\n",
            "223/223 [==============================] - 1s 5ms/step - loss: 52955.5547 - mae: 52955.5547 - val_loss: 78566.8047 - val_mae: 78566.8047\n",
            "Epoch 7/40\n",
            "223/223 [==============================] - 1s 5ms/step - loss: 55120.3555 - mae: 55120.3555 - val_loss: 40778.3359 - val_mae: 40778.3359\n",
            "Epoch 8/40\n",
            "223/223 [==============================] - 1s 5ms/step - loss: 52216.9492 - mae: 52216.9492 - val_loss: 57790.6133 - val_mae: 57790.6133\n",
            "Epoch 9/40\n",
            "223/223 [==============================] - 1s 5ms/step - loss: 54207.7773 - mae: 54207.7773 - val_loss: 156734.9219 - val_mae: 156734.9219\n",
            "Epoch 10/40\n",
            "223/223 [==============================] - 1s 5ms/step - loss: 52933.6406 - mae: 52933.6406 - val_loss: 90037.2656 - val_mae: 90037.2656\n",
            "Epoch 11/40\n",
            "223/223 [==============================] - 1s 5ms/step - loss: 53229.6367 - mae: 53229.6367 - val_loss: 15652.6602 - val_mae: 15652.6602\n",
            "Epoch 12/40\n",
            "223/223 [==============================] - 1s 5ms/step - loss: 53750.7031 - mae: 53750.7031 - val_loss: 104924.0391 - val_mae: 104924.0312\n",
            "Epoch 13/40\n",
            "223/223 [==============================] - 1s 5ms/step - loss: 50459.5781 - mae: 50459.5781 - val_loss: 64613.5547 - val_mae: 64613.5547\n",
            "Epoch 14/40\n",
            "223/223 [==============================] - 1s 5ms/step - loss: 49745.2773 - mae: 49745.2773 - val_loss: 52406.3047 - val_mae: 52406.3047\n",
            "Epoch 15/40\n",
            "223/223 [==============================] - 1s 5ms/step - loss: 48949.2383 - mae: 48949.2383 - val_loss: 62383.9922 - val_mae: 62383.9922\n",
            "Epoch 16/40\n",
            "223/223 [==============================] - 1s 5ms/step - loss: 50448.6758 - mae: 50448.6758 - val_loss: 120121.4766 - val_mae: 120121.4766\n",
            "Epoch 17/40\n",
            "223/223 [==============================] - 1s 5ms/step - loss: 49063.3984 - mae: 49063.3984 - val_loss: 75019.7344 - val_mae: 75019.7266\n",
            "Epoch 18/40\n",
            "223/223 [==============================] - 1s 4ms/step - loss: 47792.6836 - mae: 47792.6836 - val_loss: 59825.6484 - val_mae: 59825.6484\n",
            "Epoch 19/40\n",
            "223/223 [==============================] - 1s 5ms/step - loss: 49282.8711 - mae: 49282.8672 - val_loss: 127941.1719 - val_mae: 127941.1719\n",
            "Epoch 20/40\n",
            "223/223 [==============================] - 1s 5ms/step - loss: 48195.4922 - mae: 48195.4922 - val_loss: 135843.1875 - val_mae: 135843.1875\n",
            "Epoch 21/40\n",
            "223/223 [==============================] - 1s 5ms/step - loss: 51910.5859 - mae: 51910.5859 - val_loss: 102184.1797 - val_mae: 102184.1797\n",
            "Epoch 22/40\n",
            "223/223 [==============================] - 1s 5ms/step - loss: 50867.9023 - mae: 50867.9023 - val_loss: 102259.8359 - val_mae: 102259.8359\n",
            "Epoch 23/40\n",
            "223/223 [==============================] - 1s 5ms/step - loss: 50316.7617 - mae: 50316.7617 - val_loss: 65317.0469 - val_mae: 65317.0469\n",
            "Epoch 24/40\n",
            "223/223 [==============================] - 1s 5ms/step - loss: 50323.4258 - mae: 50323.4258 - val_loss: 26495.3281 - val_mae: 26495.3281\n",
            "Epoch 25/40\n",
            "223/223 [==============================] - 1s 5ms/step - loss: 50522.9258 - mae: 50522.9258 - val_loss: 41635.6016 - val_mae: 41635.6055\n",
            "Epoch 26/40\n",
            "223/223 [==============================] - 1s 5ms/step - loss: 50832.7070 - mae: 50832.7070 - val_loss: 66110.5938 - val_mae: 66110.6016\n",
            "Epoch 27/40\n",
            "223/223 [==============================] - 1s 5ms/step - loss: 49599.7852 - mae: 49599.7852 - val_loss: 58683.6602 - val_mae: 58683.6602\n",
            "Epoch 28/40\n",
            "223/223 [==============================] - 1s 4ms/step - loss: 46433.6992 - mae: 46433.6992 - val_loss: 24180.9434 - val_mae: 24180.9434\n",
            "Epoch 29/40\n",
            "223/223 [==============================] - 1s 5ms/step - loss: 49301.6914 - mae: 49301.6914 - val_loss: 60100.8945 - val_mae: 60100.8945\n",
            "Epoch 30/40\n",
            "223/223 [==============================] - 1s 4ms/step - loss: 44904.1367 - mae: 44904.1367 - val_loss: 75403.4844 - val_mae: 75403.4922\n",
            "Epoch 31/40\n",
            "223/223 [==============================] - 1s 5ms/step - loss: 49135.5273 - mae: 49135.5273 - val_loss: 16097.6445 - val_mae: 16097.6445\n",
            "Epoch 32/40\n",
            "223/223 [==============================] - 1s 5ms/step - loss: 49111.8711 - mae: 49111.8711 - val_loss: 44052.7109 - val_mae: 44052.7109\n",
            "Epoch 33/40\n",
            "223/223 [==============================] - 1s 5ms/step - loss: 50995.9688 - mae: 50995.9688 - val_loss: 61121.3711 - val_mae: 61121.3711\n",
            "Epoch 34/40\n",
            "223/223 [==============================] - 1s 5ms/step - loss: 47833.3633 - mae: 47833.3633 - val_loss: 30139.1367 - val_mae: 30139.1367\n",
            "Epoch 35/40\n",
            "223/223 [==============================] - 1s 5ms/step - loss: 45432.9766 - mae: 45432.9766 - val_loss: 17288.9609 - val_mae: 17288.9609\n",
            "Epoch 36/40\n",
            "223/223 [==============================] - 1s 5ms/step - loss: 47996.5391 - mae: 47996.5391 - val_loss: 20117.8809 - val_mae: 20117.8809\n",
            "Epoch 37/40\n",
            "223/223 [==============================] - 1s 5ms/step - loss: 49262.7070 - mae: 49262.7070 - val_loss: 42605.9727 - val_mae: 42605.9727\n",
            "Epoch 38/40\n",
            "223/223 [==============================] - 1s 5ms/step - loss: 51958.7656 - mae: 51958.7656 - val_loss: 62548.2188 - val_mae: 62548.2188\n",
            "Epoch 39/40\n",
            "223/223 [==============================] - 1s 5ms/step - loss: 49475.5781 - mae: 49475.5781 - val_loss: 41386.1953 - val_mae: 41386.1953\n",
            "Epoch 40/40\n",
            "223/223 [==============================] - 1s 5ms/step - loss: 48756.1172 - mae: 48756.1211 - val_loss: 41920.4102 - val_mae: 41920.4102\n"
          ]
        }
      ]
    },
    {
      "cell_type": "code",
      "source": [
        "fig, ax = plt.subplots()\n",
        "ax.plot(range(40),history.history['loss'],label='train loss')\n",
        "ax.plot(range(40),history.history['val_loss'],label='val loss')\n",
        "#plt.gca().set_ylim(220000, 223000)\n",
        "ax.set_xlabel('Epoch')\n",
        "ax.set_ylabel('Loss')\n",
        "plt.legend()"
      ],
      "metadata": {
        "colab": {
          "base_uri": "https://localhost:8080/",
          "height": 296
        },
        "id": "6gjsQy6P7WMy",
        "outputId": "92d94ffc-1f36-488c-963d-e838eba12347"
      },
      "execution_count": null,
      "outputs": [
        {
          "output_type": "execute_result",
          "data": {
            "text/plain": [
              "<matplotlib.legend.Legend at 0x7f0ae4a8ae50>"
            ]
          },
          "metadata": {},
          "execution_count": 63
        },
        {
          "output_type": "display_data",
          "data": {
            "text/plain": [
              "<Figure size 432x288 with 1 Axes>"
            ],
            "image/png": "[encoded data removed]"
          },
          "metadata": {
            "needs_background": "light"
          }
        }
      ]
    },
    {
      "cell_type": "markdown",
      "source": [
        "## Dropout"
      ],
      "metadata": {
        "id": "ug9s_5cPJLaH"
      }
    },
    {
      "cell_type": "code",
      "source": [
        "tf.random.set_seed(42) # gunakan set_seed untuk menghasilkan model yang mempunyai performa yang sama\n",
        "\n",
        "model = tf.keras.models.Sequential()\n",
        "model.add(tf.keras.layers.Dense(15,input_shape=[len(X.columns)],kernel_initializer=tf.keras.initializers.GlorotNormal(seed=40)))\n",
        "model.add(tf.keras.layers.Dense(14))\n",
        "model.add(tf.keras.layers.Activation('relu'))\n",
        "model.add(tf.keras.layers.BatchNormalization())\n",
        "model.add(tf.keras.layers.Dropout(rate=0.2))\n",
        "model.add(tf.keras.layers.Dense(10))\n",
        "model.add(tf.keras.layers.Activation('relu'))\n",
        "model.add(tf.keras.layers.BatchNormalization())\n",
        "model.add(tf.keras.layers.Dropout(rate=0.2))\n",
        "model.add(tf.keras.layers.Dense(8))\n",
        "model.add(tf.keras.layers.Activation('relu'))\n",
        "model.add(tf.keras.layers.BatchNormalization())\n",
        "model.add(tf.keras.layers.Dropout(rate=0.2))\n",
        "model.add(tf.keras.layers.Dense(1, activation='linear'))\n",
        "\n",
        "model.compile(loss='mae',\n",
        "              optimizer=tf.keras.optimizers.SGD(),\n",
        "              metrics='mae')\n",
        "\n",
        "history = model.fit(X_train_std, y_train, epochs=40, batch_size=70,\n",
        "                    validation_data=(X_val_std, y_val),verbose=1)"
      ],
      "metadata": {
        "id": "zamttmjRECw6",
        "outputId": "7e22ba54-98b5-4148-be28-f96444b72f56",
        "colab": {
          "base_uri": "https://localhost:8080/"
        }
      },
      "execution_count": null,
      "outputs": [
        {
          "output_type": "stream",
          "name": "stdout",
          "text": [
            "Epoch 1/40\n",
            "223/223 [==============================] - 3s 7ms/step - loss: 539594.3750 - mae: 539594.3750 - val_loss: 540021.2500 - val_mae: 540021.2500\n",
            "Epoch 2/40\n",
            "223/223 [==============================] - 1s 5ms/step - loss: 538445.5000 - mae: 538445.5000 - val_loss: 534719.9375 - val_mae: 534719.9375\n",
            "Epoch 3/40\n",
            "223/223 [==============================] - 1s 4ms/step - loss: 451036.7500 - mae: 451036.7500 - val_loss: 603378.8125 - val_mae: 603378.9375\n",
            "Epoch 4/40\n",
            "223/223 [==============================] - 1s 4ms/step - loss: 144091.6719 - mae: 144091.6719 - val_loss: 215432.5000 - val_mae: 215432.5000\n",
            "Epoch 5/40\n",
            "223/223 [==============================] - 1s 4ms/step - loss: 113740.2188 - mae: 113740.2188 - val_loss: 45701.2266 - val_mae: 45701.2266\n",
            "Epoch 6/40\n",
            "223/223 [==============================] - 1s 4ms/step - loss: 108855.7422 - mae: 108855.7422 - val_loss: 53268.1328 - val_mae: 53268.1328\n",
            "Epoch 7/40\n",
            "223/223 [==============================] - 1s 4ms/step - loss: 109589.8594 - mae: 109589.8438 - val_loss: 28513.2168 - val_mae: 28513.2168\n",
            "Epoch 8/40\n",
            "223/223 [==============================] - 1s 5ms/step - loss: 109012.1875 - mae: 109012.1797 - val_loss: 43194.6562 - val_mae: 43194.6562\n",
            "Epoch 9/40\n",
            "223/223 [==============================] - 1s 4ms/step - loss: 107374.0391 - mae: 107374.0391 - val_loss: 23557.3125 - val_mae: 23557.3125\n",
            "Epoch 10/40\n",
            "223/223 [==============================] - 1s 4ms/step - loss: 106500.7969 - mae: 106500.7969 - val_loss: 30086.7559 - val_mae: 30086.7559\n",
            "Epoch 11/40\n",
            "223/223 [==============================] - 1s 5ms/step - loss: 107380.8047 - mae: 107380.8047 - val_loss: 24634.4277 - val_mae: 24634.4277\n",
            "Epoch 12/40\n",
            "223/223 [==============================] - 1s 4ms/step - loss: 107362.0078 - mae: 107362.0078 - val_loss: 33617.0430 - val_mae: 33617.0430\n",
            "Epoch 13/40\n",
            "223/223 [==============================] - 1s 4ms/step - loss: 106090.1094 - mae: 106090.1094 - val_loss: 42795.7852 - val_mae: 42795.7852\n",
            "Epoch 14/40\n",
            "223/223 [==============================] - 1s 5ms/step - loss: 104963.4531 - mae: 104963.4531 - val_loss: 43601.1289 - val_mae: 43601.1289\n",
            "Epoch 15/40\n",
            "223/223 [==============================] - 1s 5ms/step - loss: 105315.6562 - mae: 105315.6562 - val_loss: 40862.0938 - val_mae: 40862.0938\n",
            "Epoch 16/40\n",
            "223/223 [==============================] - 1s 6ms/step - loss: 106029.3516 - mae: 106029.3516 - val_loss: 49788.8320 - val_mae: 49788.8320\n",
            "Epoch 17/40\n",
            "223/223 [==============================] - 1s 6ms/step - loss: 102785.0312 - mae: 102785.0312 - val_loss: 25486.1602 - val_mae: 25486.1602\n",
            "Epoch 18/40\n",
            "223/223 [==============================] - 1s 5ms/step - loss: 105981.0625 - mae: 105981.0625 - val_loss: 43053.5820 - val_mae: 43053.5820\n",
            "Epoch 19/40\n",
            "223/223 [==============================] - 1s 5ms/step - loss: 106441.3906 - mae: 106441.3906 - val_loss: 38589.1172 - val_mae: 38589.1172\n",
            "Epoch 20/40\n",
            "223/223 [==============================] - 1s 4ms/step - loss: 104618.9688 - mae: 104618.9688 - val_loss: 55866.1758 - val_mae: 55866.1758\n",
            "Epoch 21/40\n",
            "223/223 [==============================] - 1s 4ms/step - loss: 103823.0312 - mae: 103823.0312 - val_loss: 45870.3555 - val_mae: 45870.3555\n",
            "Epoch 22/40\n",
            "223/223 [==============================] - 1s 5ms/step - loss: 105971.6953 - mae: 105971.6953 - val_loss: 49097.4961 - val_mae: 49097.4961\n",
            "Epoch 23/40\n",
            "223/223 [==============================] - 1s 5ms/step - loss: 105265.1172 - mae: 105265.1172 - val_loss: 38682.4219 - val_mae: 38682.4219\n",
            "Epoch 24/40\n",
            "223/223 [==============================] - 1s 5ms/step - loss: 106003.2500 - mae: 106003.2500 - val_loss: 52553.1797 - val_mae: 52553.1797\n",
            "Epoch 25/40\n",
            "223/223 [==============================] - 1s 5ms/step - loss: 103647.9688 - mae: 103647.9688 - val_loss: 62743.5625 - val_mae: 62743.5625\n",
            "Epoch 26/40\n",
            "223/223 [==============================] - 1s 4ms/step - loss: 103164.0078 - mae: 103164.0078 - val_loss: 35009.5820 - val_mae: 35009.5820\n",
            "Epoch 27/40\n",
            "223/223 [==============================] - 1s 4ms/step - loss: 104226.1328 - mae: 104226.1328 - val_loss: 61941.8398 - val_mae: 61941.8398\n",
            "Epoch 28/40\n",
            "223/223 [==============================] - 1s 5ms/step - loss: 103319.2656 - mae: 103319.2656 - val_loss: 35845.0938 - val_mae: 35845.0938\n",
            "Epoch 29/40\n",
            "223/223 [==============================] - 1s 5ms/step - loss: 105129.8281 - mae: 105129.8281 - val_loss: 39270.9609 - val_mae: 39270.9609\n",
            "Epoch 30/40\n",
            "223/223 [==============================] - 1s 5ms/step - loss: 104727.9922 - mae: 104727.9922 - val_loss: 48295.8359 - val_mae: 48295.8359\n",
            "Epoch 31/40\n",
            "223/223 [==============================] - 1s 4ms/step - loss: 105622.7188 - mae: 105622.7188 - val_loss: 37430.5703 - val_mae: 37430.5703\n",
            "Epoch 32/40\n",
            "223/223 [==============================] - 1s 5ms/step - loss: 103181.0391 - mae: 103181.0391 - val_loss: 35252.8477 - val_mae: 35252.8477\n",
            "Epoch 33/40\n",
            "223/223 [==============================] - 1s 5ms/step - loss: 103355.3984 - mae: 103355.3984 - val_loss: 39324.1250 - val_mae: 39324.1250\n",
            "Epoch 34/40\n",
            "223/223 [==============================] - 1s 4ms/step - loss: 103389.7109 - mae: 103389.7109 - val_loss: 31633.3379 - val_mae: 31633.3379\n",
            "Epoch 35/40\n",
            "223/223 [==============================] - 1s 4ms/step - loss: 103849.4922 - mae: 103849.4922 - val_loss: 46079.9531 - val_mae: 46079.9531\n",
            "Epoch 36/40\n",
            "223/223 [==============================] - 1s 4ms/step - loss: 103389.3828 - mae: 103389.3828 - val_loss: 39612.5078 - val_mae: 39612.5117\n",
            "Epoch 37/40\n",
            "223/223 [==============================] - 1s 4ms/step - loss: 105752.3984 - mae: 105752.3984 - val_loss: 35725.8750 - val_mae: 35725.8750\n",
            "Epoch 38/40\n",
            "223/223 [==============================] - 1s 5ms/step - loss: 105351.3438 - mae: 105351.3438 - val_loss: 51815.0859 - val_mae: 51815.0859\n",
            "Epoch 39/40\n",
            "223/223 [==============================] - 1s 4ms/step - loss: 104097.8750 - mae: 104097.8750 - val_loss: 52100.9258 - val_mae: 52100.9258\n",
            "Epoch 40/40\n",
            "223/223 [==============================] - 1s 4ms/step - loss: 105040.9922 - mae: 105040.9922 - val_loss: 38691.6367 - val_mae: 38691.6367\n"
          ]
        }
      ]
    },
    {
      "cell_type": "code",
      "source": [
        "fig, ax = plt.subplots()\n",
        "ax.plot(range(40),history.history['loss'],label='train loss')\n",
        "ax.plot(range(40),history.history['val_loss'],label='val loss')\n",
        "#plt.gca().set_ylim(220000, 223000)\n",
        "ax.set_xlabel('Epoch')\n",
        "ax.set_ylabel('Loss')\n",
        "plt.legend()"
      ],
      "metadata": {
        "id": "hhd8VaGMJOZU",
        "outputId": "ccaa6b64-814a-4a0f-a01d-55beb15f44b1",
        "colab": {
          "base_uri": "https://localhost:8080/",
          "height": 296
        }
      },
      "execution_count": null,
      "outputs": [
        {
          "output_type": "execute_result",
          "data": {
            "text/plain": [
              "<matplotlib.legend.Legend at 0x7fb504797a90>"
            ]
          },
          "metadata": {},
          "execution_count": 40
        },
        {
          "output_type": "display_data",
          "data": {
            "text/plain": [
              "<Figure size 432x288 with 1 Axes>"
            ],
            "image/png": "[encoded data removed]"
          },
          "metadata": {
            "needs_background": "light"
          }
        }
      ]
    },
    {
      "cell_type": "markdown",
      "source": [
        "## Lerning Rate"
      ],
      "metadata": {
        "id": "VAXQmfZ1KXoc"
      }
    },
    {
      "cell_type": "code",
      "source": [
        "tf.random.set_seed(42) # gunakan set_seed untuk menghasilkan model yang mempunyai performa yang sama\n",
        "\n",
        "model = tf.keras.models.Sequential()\n",
        "model.add(tf.keras.layers.Dense(15,input_shape=[len(X.columns)],kernel_initializer=tf.keras.initializers.GlorotNormal(seed=40)))\n",
        "model.add(tf.keras.layers.Dense(14))\n",
        "model.add(tf.keras.layers.Activation('relu'))\n",
        "model.add(tf.keras.layers.BatchNormalization())\n",
        "model.add(tf.keras.layers.Dropout(rate=0.2))\n",
        "model.add(tf.keras.layers.Dense(10))\n",
        "model.add(tf.keras.layers.Activation('relu'))\n",
        "model.add(tf.keras.layers.BatchNormalization())\n",
        "model.add(tf.keras.layers.Dropout(rate=0.2))\n",
        "model.add(tf.keras.layers.Dense(8))\n",
        "model.add(tf.keras.layers.Activation('relu'))\n",
        "model.add(tf.keras.layers.BatchNormalization())\n",
        "model.add(tf.keras.layers.Dropout(rate=0.2))\n",
        "model.add(tf.keras.layers.Dense(1, activation='linear'))\n",
        "\n",
        "model.compile(loss='mae',\n",
        "              optimizer=tf.keras.optimizers.SGD(learning_rate=0.0001),\n",
        "              metrics='mae')\n",
        "\n",
        "history = model.fit(X_train_std, y_train, epochs=40, batch_size=70,\n",
        "                    validation_data=(X_val_std, y_val),verbose=1)"
      ],
      "metadata": {
        "id": "WJ5ffV6VJrUY",
        "outputId": "fb834827-b0aa-42e8-9317-129d3fcc0428",
        "colab": {
          "base_uri": "https://localhost:8080/"
        }
      },
      "execution_count": null,
      "outputs": [
        {
          "output_type": "stream",
          "name": "stdout",
          "text": [
            "Epoch 1/40\n",
            "223/223 [==============================] - 3s 7ms/step - loss: 539608.8750 - mae: 539608.8750 - val_loss: 540084.6875 - val_mae: 540084.6875\n",
            "Epoch 2/40\n",
            "223/223 [==============================] - 1s 4ms/step - loss: 539608.9375 - mae: 539608.9375 - val_loss: 540084.6875 - val_mae: 540084.6875\n",
            "Epoch 3/40\n",
            "223/223 [==============================] - 1s 4ms/step - loss: 539608.8125 - mae: 539608.8125 - val_loss: 540084.6875 - val_mae: 540084.6875\n",
            "Epoch 4/40\n",
            "223/223 [==============================] - 1s 5ms/step - loss: 539608.7500 - mae: 539608.7500 - val_loss: 540084.6875 - val_mae: 540084.6875\n",
            "Epoch 5/40\n",
            "223/223 [==============================] - 1s 5ms/step - loss: 539608.6875 - mae: 539608.6875 - val_loss: 540084.6250 - val_mae: 540084.6250\n",
            "Epoch 6/40\n",
            "223/223 [==============================] - 1s 5ms/step - loss: 539608.6875 - mae: 539608.6875 - val_loss: 540084.6250 - val_mae: 540084.6250\n",
            "Epoch 7/40\n",
            "223/223 [==============================] - 1s 5ms/step - loss: 539608.6875 - mae: 539608.6875 - val_loss: 540084.6250 - val_mae: 540084.6250\n",
            "Epoch 8/40\n",
            "223/223 [==============================] - 1s 5ms/step - loss: 539608.6875 - mae: 539608.6875 - val_loss: 540084.5625 - val_mae: 540084.5625\n",
            "Epoch 9/40\n",
            "223/223 [==============================] - 1s 4ms/step - loss: 539608.5000 - mae: 539608.5000 - val_loss: 540084.5625 - val_mae: 540084.5625\n",
            "Epoch 10/40\n",
            "223/223 [==============================] - 1s 4ms/step - loss: 539608.5625 - mae: 539608.5625 - val_loss: 540084.3750 - val_mae: 540084.3750\n",
            "Epoch 11/40\n",
            "223/223 [==============================] - 1s 5ms/step - loss: 539608.4375 - mae: 539608.4375 - val_loss: 540084.3125 - val_mae: 540084.3125\n",
            "Epoch 12/40\n",
            "223/223 [==============================] - 1s 5ms/step - loss: 539608.3125 - mae: 539608.3125 - val_loss: 540084.2500 - val_mae: 540084.1875\n",
            "Epoch 13/40\n",
            "223/223 [==============================] - 1s 5ms/step - loss: 539608.2500 - mae: 539608.2500 - val_loss: 540084.1875 - val_mae: 540084.1875\n",
            "Epoch 14/40\n",
            "223/223 [==============================] - 1s 4ms/step - loss: 539608.3125 - mae: 539608.3125 - val_loss: 540084.1875 - val_mae: 540084.1875\n",
            "Epoch 15/40\n",
            "223/223 [==============================] - 1s 5ms/step - loss: 539608.3750 - mae: 539608.3750 - val_loss: 540084.1875 - val_mae: 540084.1875\n",
            "Epoch 16/40\n",
            "223/223 [==============================] - 1s 4ms/step - loss: 539608.0000 - mae: 539608.0000 - val_loss: 540084.1250 - val_mae: 540084.1250\n",
            "Epoch 17/40\n",
            "223/223 [==============================] - 1s 4ms/step - loss: 539608.3125 - mae: 539608.3125 - val_loss: 540084.0625 - val_mae: 540084.0625\n",
            "Epoch 18/40\n",
            "223/223 [==============================] - 1s 5ms/step - loss: 539608.0000 - mae: 539608.0625 - val_loss: 540084.0000 - val_mae: 540084.0000\n",
            "Epoch 19/40\n",
            "223/223 [==============================] - 1s 4ms/step - loss: 539608.0625 - mae: 539608.0625 - val_loss: 540084.0000 - val_mae: 540083.9375\n",
            "Epoch 20/40\n",
            "223/223 [==============================] - 1s 5ms/step - loss: 539608.0000 - mae: 539608.0000 - val_loss: 540083.9375 - val_mae: 540083.9375\n",
            "Epoch 21/40\n",
            "223/223 [==============================] - 1s 5ms/step - loss: 539607.9375 - mae: 539607.9375 - val_loss: 540083.8750 - val_mae: 540083.8750\n",
            "Epoch 22/40\n",
            "223/223 [==============================] - 1s 4ms/step - loss: 539607.8125 - mae: 539607.8125 - val_loss: 540083.8750 - val_mae: 540083.8750\n",
            "Epoch 23/40\n",
            "223/223 [==============================] - 1s 4ms/step - loss: 539607.8750 - mae: 539607.8750 - val_loss: 540083.7500 - val_mae: 540083.7500\n",
            "Epoch 24/40\n",
            "223/223 [==============================] - 1s 4ms/step - loss: 539607.8125 - mae: 539607.8125 - val_loss: 540083.7500 - val_mae: 540083.7500\n",
            "Epoch 25/40\n",
            "223/223 [==============================] - 1s 4ms/step - loss: 539607.6875 - mae: 539607.6875 - val_loss: 540083.6875 - val_mae: 540083.6875\n",
            "Epoch 26/40\n",
            "223/223 [==============================] - 1s 4ms/step - loss: 539607.6250 - mae: 539607.6250 - val_loss: 540083.6250 - val_mae: 540083.6250\n",
            "Epoch 27/40\n",
            "223/223 [==============================] - 1s 4ms/step - loss: 539607.5000 - mae: 539607.5000 - val_loss: 540083.5000 - val_mae: 540083.5000\n",
            "Epoch 28/40\n",
            "223/223 [==============================] - 1s 4ms/step - loss: 539607.6875 - mae: 539607.6250 - val_loss: 540083.3750 - val_mae: 540083.3750\n",
            "Epoch 29/40\n",
            "223/223 [==============================] - 1s 5ms/step - loss: 539607.3125 - mae: 539607.3125 - val_loss: 540083.2500 - val_mae: 540083.2500\n",
            "Epoch 30/40\n",
            "223/223 [==============================] - 1s 5ms/step - loss: 539607.6250 - mae: 539607.6250 - val_loss: 540083.1875 - val_mae: 540083.2500\n",
            "Epoch 31/40\n",
            "223/223 [==============================] - 1s 5ms/step - loss: 539607.2500 - mae: 539607.2500 - val_loss: 540083.0625 - val_mae: 540083.0625\n",
            "Epoch 32/40\n",
            "223/223 [==============================] - 1s 5ms/step - loss: 539607.1875 - mae: 539607.1875 - val_loss: 540082.9375 - val_mae: 540082.9375\n",
            "Epoch 33/40\n",
            "223/223 [==============================] - 1s 5ms/step - loss: 539607.1250 - mae: 539607.1250 - val_loss: 540082.9375 - val_mae: 540082.9375\n",
            "Epoch 34/40\n",
            "223/223 [==============================] - 1s 5ms/step - loss: 539606.8750 - mae: 539606.8750 - val_loss: 540082.8125 - val_mae: 540082.8125\n",
            "Epoch 35/40\n",
            "223/223 [==============================] - 1s 5ms/step - loss: 539606.9375 - mae: 539606.9375 - val_loss: 540082.8125 - val_mae: 540082.8125\n",
            "Epoch 36/40\n",
            "223/223 [==============================] - 1s 5ms/step - loss: 539606.7500 - mae: 539606.7500 - val_loss: 540082.7500 - val_mae: 540082.7500\n",
            "Epoch 37/40\n",
            "223/223 [==============================] - 1s 5ms/step - loss: 539606.8125 - mae: 539606.8125 - val_loss: 540082.6250 - val_mae: 540082.6250\n",
            "Epoch 38/40\n",
            "223/223 [==============================] - 1s 5ms/step - loss: 539606.6250 - mae: 539606.6250 - val_loss: 540082.5000 - val_mae: 540082.5000\n",
            "Epoch 39/40\n",
            "223/223 [==============================] - 1s 5ms/step - loss: 539606.5625 - mae: 539606.5625 - val_loss: 540082.3750 - val_mae: 540082.3750\n",
            "Epoch 40/40\n",
            "223/223 [==============================] - 1s 4ms/step - loss: 539606.4375 - mae: 539606.4375 - val_loss: 540082.3125 - val_mae: 540082.3125\n"
          ]
        }
      ]
    },
    {
      "cell_type": "code",
      "source": [
        "model = tf.keras.models.Sequential()\n",
        "model.add(tf.keras.layers.Dense(15,input_shape=[len(X.columns)],kernel_initializer=tf.keras.initializers.LecunNormal(seed=40)))\n",
        "model.add(tf.keras.layers.Dense(14))\n",
        "model.add(tf.keras.layers.Activation('relu'))\n",
        "model.add(tf.keras.layers.BatchNormalization())\n",
        "model.add(tf.keras.layers.Dropout(rate=0.2))\n",
        "model.add(tf.keras.layers.Dense(10))\n",
        "model.add(tf.keras.layers.Activation('relu'))\n",
        "model.add(tf.keras.layers.BatchNormalization())\n",
        "model.add(tf.keras.layers.Dropout(rate=0.2))\n",
        "model.add(tf.keras.layers.Dense(8))\n",
        "model.add(tf.keras.layers.Activation('relu'))\n",
        "model.add(tf.keras.layers.BatchNormalization())\n",
        "model.add(tf.keras.layers.Dropout(rate=0.2))\n",
        "model.add(tf.keras.layers.Dense(1, activation='linear'))\n",
        "\n",
        "model.compile(loss='mae',\n",
        "              optimizer=tf.keras.optimizers.SGD(learning_rate=0.08),\n",
        "              metrics='mae')\n",
        "\n",
        "history = model.fit(X_train_std, y_train, epochs=40, batch_size=70,\n",
        "                    validation_data=(X_val_std, y_val),verbose=1)"
      ],
      "metadata": {
        "id": "AfuzxZKVJ2q7",
        "outputId": "86aeb932-3aa1-4819-96d0-d6d928fe2434",
        "colab": {
          "base_uri": "https://localhost:8080/"
        }
      },
      "execution_count": null,
      "outputs": [
        {
          "output_type": "stream",
          "name": "stdout",
          "text": [
            "Epoch 1/40\n",
            "223/223 [==============================] - 2s 5ms/step - loss: 284160.6875 - mae: 284160.6875 - val_loss: 334180.5312 - val_mae: 334180.5312\n",
            "Epoch 2/40\n",
            "223/223 [==============================] - 1s 5ms/step - loss: 115010.1172 - mae: 115010.1172 - val_loss: 79669.4531 - val_mae: 79669.4531\n",
            "Epoch 3/40\n",
            "223/223 [==============================] - 1s 4ms/step - loss: 113480.5234 - mae: 113480.5234 - val_loss: 153626.9688 - val_mae: 153626.9688\n",
            "Epoch 4/40\n",
            "223/223 [==============================] - 1s 4ms/step - loss: 110886.6406 - mae: 110886.6406 - val_loss: 67921.2734 - val_mae: 67921.2734\n",
            "Epoch 5/40\n",
            "223/223 [==============================] - 1s 5ms/step - loss: 111282.6094 - mae: 111282.6094 - val_loss: 84207.2500 - val_mae: 84207.2500\n",
            "Epoch 6/40\n",
            "223/223 [==============================] - 1s 5ms/step - loss: 112277.1641 - mae: 112277.1641 - val_loss: 51731.5586 - val_mae: 51731.5586\n",
            "Epoch 7/40\n",
            "223/223 [==============================] - 1s 5ms/step - loss: 112984.3359 - mae: 112984.3359 - val_loss: 52804.9492 - val_mae: 52804.9492\n",
            "Epoch 8/40\n",
            "223/223 [==============================] - 1s 4ms/step - loss: 112097.2656 - mae: 112097.2656 - val_loss: 53681.1406 - val_mae: 53681.1406\n",
            "Epoch 9/40\n",
            "223/223 [==============================] - 1s 5ms/step - loss: 112305.9141 - mae: 112305.9141 - val_loss: 55327.0547 - val_mae: 55327.0547\n",
            "Epoch 10/40\n",
            "223/223 [==============================] - 1s 5ms/step - loss: 110734.4922 - mae: 110734.4922 - val_loss: 33183.6719 - val_mae: 33183.6719\n",
            "Epoch 11/40\n",
            "223/223 [==============================] - 1s 5ms/step - loss: 110848.7344 - mae: 110848.7344 - val_loss: 60195.8906 - val_mae: 60195.8906\n",
            "Epoch 12/40\n",
            "223/223 [==============================] - 1s 5ms/step - loss: 108479.7500 - mae: 108479.7500 - val_loss: 26502.6621 - val_mae: 26502.6621\n",
            "Epoch 13/40\n",
            "223/223 [==============================] - 1s 5ms/step - loss: 109993.6875 - mae: 109993.6875 - val_loss: 40266.5469 - val_mae: 40266.5469\n",
            "Epoch 14/40\n",
            "223/223 [==============================] - 1s 5ms/step - loss: 110080.6172 - mae: 110080.6172 - val_loss: 92874.1172 - val_mae: 92874.1172\n",
            "Epoch 15/40\n",
            "223/223 [==============================] - 1s 5ms/step - loss: 111735.4844 - mae: 111735.4844 - val_loss: 69262.5859 - val_mae: 69262.5859\n",
            "Epoch 16/40\n",
            "223/223 [==============================] - 1s 5ms/step - loss: 109781.5469 - mae: 109781.5391 - val_loss: 40016.5742 - val_mae: 40016.5742\n",
            "Epoch 17/40\n",
            "223/223 [==============================] - 1s 5ms/step - loss: 109477.8359 - mae: 109477.8359 - val_loss: 78796.1875 - val_mae: 78796.1875\n",
            "Epoch 18/40\n",
            "223/223 [==============================] - 1s 5ms/step - loss: 112184.0859 - mae: 112184.0859 - val_loss: 35683.1328 - val_mae: 35683.1328\n",
            "Epoch 19/40\n",
            "223/223 [==============================] - 1s 4ms/step - loss: 110802.5000 - mae: 110802.5000 - val_loss: 70291.5234 - val_mae: 70291.5234\n",
            "Epoch 20/40\n",
            "223/223 [==============================] - 1s 4ms/step - loss: 110246.1875 - mae: 110246.1875 - val_loss: 79008.7266 - val_mae: 79008.7266\n",
            "Epoch 21/40\n",
            "223/223 [==============================] - 1s 4ms/step - loss: 111469.0391 - mae: 111469.0391 - val_loss: 44978.5508 - val_mae: 44978.5508\n",
            "Epoch 22/40\n",
            "223/223 [==============================] - 1s 5ms/step - loss: 111189.4219 - mae: 111189.4219 - val_loss: 112381.8750 - val_mae: 112381.8750\n",
            "Epoch 23/40\n",
            "223/223 [==============================] - 1s 4ms/step - loss: 111118.1953 - mae: 111118.1953 - val_loss: 73993.7266 - val_mae: 73993.7266\n",
            "Epoch 24/40\n",
            "223/223 [==============================] - 1s 5ms/step - loss: 108832.5625 - mae: 108832.5625 - val_loss: 66584.6328 - val_mae: 66584.6328\n",
            "Epoch 25/40\n",
            "223/223 [==============================] - 1s 5ms/step - loss: 111112.4375 - mae: 111112.4375 - val_loss: 45344.2422 - val_mae: 45344.2422\n",
            "Epoch 26/40\n",
            "223/223 [==============================] - 1s 5ms/step - loss: 110074.2344 - mae: 110074.2344 - val_loss: 60190.7656 - val_mae: 60190.7656\n",
            "Epoch 27/40\n",
            "223/223 [==============================] - 1s 5ms/step - loss: 109394.0078 - mae: 109394.0078 - val_loss: 49476.1836 - val_mae: 49476.1836\n",
            "Epoch 28/40\n",
            "223/223 [==============================] - 1s 5ms/step - loss: 110464.6641 - mae: 110464.6641 - val_loss: 22389.0195 - val_mae: 22389.0195\n",
            "Epoch 29/40\n",
            "223/223 [==============================] - 1s 5ms/step - loss: 109626.9609 - mae: 109626.9609 - val_loss: 49732.1016 - val_mae: 49732.1016\n",
            "Epoch 30/40\n",
            "223/223 [==============================] - 1s 4ms/step - loss: 110595.9375 - mae: 110595.9375 - val_loss: 43191.5195 - val_mae: 43191.5195\n",
            "Epoch 31/40\n",
            "223/223 [==============================] - 1s 5ms/step - loss: 107525.2578 - mae: 107525.2578 - val_loss: 42698.8203 - val_mae: 42698.8164\n",
            "Epoch 32/40\n",
            "223/223 [==============================] - 1s 4ms/step - loss: 109183.0156 - mae: 109183.0156 - val_loss: 56429.9609 - val_mae: 56429.9609\n",
            "Epoch 33/40\n",
            "223/223 [==============================] - 1s 4ms/step - loss: 109431.7188 - mae: 109431.7188 - val_loss: 78821.2891 - val_mae: 78821.2891\n",
            "Epoch 34/40\n",
            "223/223 [==============================] - 1s 5ms/step - loss: 109069.3359 - mae: 109069.3359 - val_loss: 62773.4141 - val_mae: 62773.4141\n",
            "Epoch 35/40\n",
            "223/223 [==============================] - 1s 5ms/step - loss: 108317.9375 - mae: 108317.9375 - val_loss: 89993.9453 - val_mae: 89993.9453\n",
            "Epoch 36/40\n",
            "223/223 [==============================] - 1s 5ms/step - loss: 110770.2344 - mae: 110770.2344 - val_loss: 64776.8867 - val_mae: 64776.8867\n",
            "Epoch 37/40\n",
            "223/223 [==============================] - 1s 4ms/step - loss: 109169.9375 - mae: 109169.9375 - val_loss: 39238.6094 - val_mae: 39238.6094\n",
            "Epoch 38/40\n",
            "223/223 [==============================] - 1s 5ms/step - loss: 110201.6406 - mae: 110201.6406 - val_loss: 70639.3281 - val_mae: 70639.3281\n",
            "Epoch 39/40\n",
            "223/223 [==============================] - 1s 4ms/step - loss: 110819.7891 - mae: 110819.7891 - val_loss: 56319.5820 - val_mae: 56319.5820\n",
            "Epoch 40/40\n",
            "223/223 [==============================] - 1s 5ms/step - loss: 109498.7656 - mae: 109498.7656 - val_loss: 61884.0742 - val_mae: 61884.0742\n"
          ]
        }
      ]
    },
    {
      "cell_type": "code",
      "source": [
        "fig, ax = plt.subplots()\n",
        "ax.plot(range(40),history.history['loss'],label='train loss')\n",
        "ax.plot(range(40),history.history['val_loss'],label='val loss')\n",
        "#plt.gca().set_ylim(220000, 223000)\n",
        "ax.set_xlabel('Epoch')\n",
        "ax.set_ylabel('Loss')\n",
        "plt.legend()"
      ],
      "metadata": {
        "id": "PM8PuNxxKjZ6",
        "outputId": "ad2c52cb-c168-49df-ee9a-4435e5687944",
        "colab": {
          "base_uri": "https://localhost:8080/",
          "height": 296
        }
      },
      "execution_count": null,
      "outputs": [
        {
          "output_type": "execute_result",
          "data": {
            "text/plain": [
              "<matplotlib.legend.Legend at 0x7fb51a0c43d0>"
            ]
          },
          "metadata": {},
          "execution_count": 48
        },
        {
          "output_type": "display_data",
          "data": {
            "text/plain": [
              "<Figure size 432x288 with 1 Axes>"
            ],
            "image/png": "[encoded data removed]"
          },
          "metadata": {
            "needs_background": "light"
          }
        }
      ]
    },
    {
      "cell_type": "markdown",
      "source": [
        "## Gradient Cliping"
      ],
      "metadata": {
        "id": "jtPRxa-bMd3f"
      }
    },
    {
      "cell_type": "code",
      "source": [
        "tf.random.set_seed(42) # gunakan set_seed untuk menghasilkan model yang mempunyai performa yang sama\n",
        "\n",
        "model = tf.keras.models.Sequential()\n",
        "model.add(tf.keras.layers.Dense(15,input_shape=[len(X.columns)],kernel_initializer=tf.keras.initializers.LecunNormal(seed=40)))\n",
        "model.add(tf.keras.layers.Dense(14))\n",
        "model.add(tf.keras.layers.Activation('relu'))\n",
        "model.add(tf.keras.layers.BatchNormalization())\n",
        "model.add(tf.keras.layers.Dropout(rate=0.2))\n",
        "model.add(tf.keras.layers.Dense(10))\n",
        "model.add(tf.keras.layers.Activation('relu'))\n",
        "model.add(tf.keras.layers.BatchNormalization())\n",
        "model.add(tf.keras.layers.Dropout(rate=0.2))\n",
        "model.add(tf.keras.layers.Dense(8))\n",
        "model.add(tf.keras.layers.Activation('relu'))\n",
        "model.add(tf.keras.layers.BatchNormalization())\n",
        "model.add(tf.keras.layers.Dropout(rate=0.2))\n",
        "model.add(tf.keras.layers.Dense(1, activation='linear'))\n",
        "\n",
        "model.compile(loss='mae',\n",
        "              optimizer=tf.keras.optimizers.SGD(clipvalue=1.0),\n",
        "              metrics='mae')\n",
        "\n",
        "history = model.fit(X_train_std, y_train, epochs=40, batch_size=70,\n",
        "                    validation_data=(X_val_std, y_val),verbose=1)"
      ],
      "metadata": {
        "id": "d2cmB6WaKybl",
        "outputId": "d606b5f4-9b5c-418e-89d9-6b377afee813",
        "colab": {
          "base_uri": "https://localhost:8080/"
        }
      },
      "execution_count": null,
      "outputs": [
        {
          "output_type": "stream",
          "name": "stdout",
          "text": [
            "Epoch 1/40\n",
            "223/223 [==============================] - 3s 7ms/step - loss: 539602.6875 - mae: 539602.6875 - val_loss: 540065.3750 - val_mae: 540065.3750\n",
            "Epoch 2/40\n",
            "223/223 [==============================] - 1s 5ms/step - loss: 539551.9375 - mae: 539551.9375 - val_loss: 539981.1250 - val_mae: 539981.1250\n",
            "Epoch 3/40\n",
            "223/223 [==============================] - 1s 5ms/step - loss: 539431.5000 - mae: 539431.5000 - val_loss: 539825.4375 - val_mae: 539825.4375\n",
            "Epoch 4/40\n",
            "223/223 [==============================] - 1s 5ms/step - loss: 539234.8750 - mae: 539234.8750 - val_loss: 539581.5000 - val_mae: 539581.5000\n",
            "Epoch 5/40\n",
            "223/223 [==============================] - 1s 5ms/step - loss: 538956.3125 - mae: 538956.3125 - val_loss: 539268.2500 - val_mae: 539268.2500\n",
            "Epoch 6/40\n",
            "223/223 [==============================] - 1s 6ms/step - loss: 538604.6875 - mae: 538604.6875 - val_loss: 538861.3750 - val_mae: 538861.3750\n",
            "Epoch 7/40\n",
            "223/223 [==============================] - 1s 5ms/step - loss: 538163.5625 - mae: 538163.5625 - val_loss: 538395.5625 - val_mae: 538395.5625\n",
            "Epoch 8/40\n",
            "223/223 [==============================] - 1s 5ms/step - loss: 537652.1250 - mae: 537652.1250 - val_loss: 537852.3750 - val_mae: 537852.3750\n",
            "Epoch 9/40\n",
            "223/223 [==============================] - 1s 5ms/step - loss: 537053.9375 - mae: 537053.9375 - val_loss: 537198.3750 - val_mae: 537198.3750\n",
            "Epoch 10/40\n",
            "223/223 [==============================] - 1s 5ms/step - loss: 536378.6250 - mae: 536378.6250 - val_loss: 536519.8750 - val_mae: 536519.8750\n",
            "Epoch 11/40\n",
            "223/223 [==============================] - 1s 5ms/step - loss: 535632.3750 - mae: 535632.3750 - val_loss: 535655.3125 - val_mae: 535655.3125\n",
            "Epoch 12/40\n",
            "223/223 [==============================] - 1s 5ms/step - loss: 534799.1250 - mae: 534799.1250 - val_loss: 534730.5000 - val_mae: 534730.5000\n",
            "Epoch 13/40\n",
            "223/223 [==============================] - 1s 5ms/step - loss: 533886.3750 - mae: 533886.3750 - val_loss: 533863.4375 - val_mae: 533863.4375\n",
            "Epoch 14/40\n",
            "223/223 [==============================] - 1s 5ms/step - loss: 532885.8125 - mae: 532885.8125 - val_loss: 532815.7500 - val_mae: 532815.7500\n",
            "Epoch 15/40\n",
            "223/223 [==============================] - 1s 5ms/step - loss: 531814.0625 - mae: 531814.0625 - val_loss: 531650.0625 - val_mae: 531650.1250\n",
            "Epoch 16/40\n",
            "223/223 [==============================] - 1s 5ms/step - loss: 530624.1250 - mae: 530624.1250 - val_loss: 530541.6875 - val_mae: 530541.6875\n",
            "Epoch 17/40\n",
            "223/223 [==============================] - 1s 5ms/step - loss: 529448.1250 - mae: 529448.1250 - val_loss: 529149.6250 - val_mae: 529149.6250\n",
            "Epoch 18/40\n",
            "223/223 [==============================] - 1s 5ms/step - loss: 528119.6875 - mae: 528119.6875 - val_loss: 527844.0000 - val_mae: 527844.0000\n",
            "Epoch 19/40\n",
            "223/223 [==============================] - 1s 5ms/step - loss: 526754.8750 - mae: 526754.8750 - val_loss: 526395.1875 - val_mae: 526395.1875\n",
            "Epoch 20/40\n",
            "223/223 [==============================] - 1s 5ms/step - loss: 525256.2500 - mae: 525256.2500 - val_loss: 524934.5000 - val_mae: 524934.5000\n",
            "Epoch 21/40\n",
            "223/223 [==============================] - 1s 5ms/step - loss: 523734.5312 - mae: 523734.5625 - val_loss: 523345.5312 - val_mae: 523345.5312\n",
            "Epoch 22/40\n",
            "223/223 [==============================] - 1s 5ms/step - loss: 522105.0938 - mae: 522105.0938 - val_loss: 521676.0312 - val_mae: 521676.0312\n",
            "Epoch 23/40\n",
            "223/223 [==============================] - 1s 5ms/step - loss: 520411.7812 - mae: 520411.7812 - val_loss: 519934.4688 - val_mae: 519934.4688\n",
            "Epoch 24/40\n",
            "223/223 [==============================] - 1s 5ms/step - loss: 518557.4375 - mae: 518557.4375 - val_loss: 518186.9062 - val_mae: 518186.9062\n",
            "Epoch 25/40\n",
            "223/223 [==============================] - 1s 5ms/step - loss: 516716.4062 - mae: 516716.4062 - val_loss: 516300.4062 - val_mae: 516300.4062\n",
            "Epoch 26/40\n",
            "223/223 [==============================] - 1s 5ms/step - loss: 514811.8438 - mae: 514811.8438 - val_loss: 514276.0625 - val_mae: 514276.0625\n",
            "Epoch 27/40\n",
            "223/223 [==============================] - 1s 5ms/step - loss: 512781.8750 - mae: 512781.8438 - val_loss: 512269.9062 - val_mae: 512269.9062\n",
            "Epoch 28/40\n",
            "223/223 [==============================] - 1s 5ms/step - loss: 510704.2188 - mae: 510704.2188 - val_loss: 510115.5312 - val_mae: 510115.5312\n",
            "Epoch 29/40\n",
            "223/223 [==============================] - 1s 5ms/step - loss: 508517.7500 - mae: 508517.7188 - val_loss: 507957.2500 - val_mae: 507957.2500\n",
            "Epoch 30/40\n",
            "223/223 [==============================] - 1s 5ms/step - loss: 506216.8750 - mae: 506216.8750 - val_loss: 505737.7188 - val_mae: 505737.7500\n",
            "Epoch 31/40\n",
            "223/223 [==============================] - 1s 5ms/step - loss: 503841.1562 - mae: 503841.1562 - val_loss: 503118.2812 - val_mae: 503118.2812\n",
            "Epoch 32/40\n",
            "223/223 [==============================] - 1s 5ms/step - loss: 501429.8750 - mae: 501429.8750 - val_loss: 500782.8125 - val_mae: 500782.8125\n",
            "Epoch 33/40\n",
            "223/223 [==============================] - 1s 5ms/step - loss: 498993.9688 - mae: 498993.9688 - val_loss: 498173.9688 - val_mae: 498173.9688\n",
            "Epoch 34/40\n",
            "223/223 [==============================] - 1s 5ms/step - loss: 496311.2812 - mae: 496311.2812 - val_loss: 495278.4375 - val_mae: 495278.4375\n",
            "Epoch 35/40\n",
            "223/223 [==============================] - 1s 5ms/step - loss: 493759.3125 - mae: 493759.3125 - val_loss: 492853.2812 - val_mae: 492853.2812\n",
            "Epoch 36/40\n",
            "223/223 [==============================] - 1s 5ms/step - loss: 490943.5625 - mae: 490943.5625 - val_loss: 490174.5625 - val_mae: 490174.5625\n",
            "Epoch 37/40\n",
            "223/223 [==============================] - 1s 5ms/step - loss: 488095.2188 - mae: 488095.2188 - val_loss: 486695.4062 - val_mae: 486695.4062\n",
            "Epoch 38/40\n",
            "223/223 [==============================] - 1s 5ms/step - loss: 485306.3438 - mae: 485306.3438 - val_loss: 484592.8438 - val_mae: 484592.8438\n",
            "Epoch 39/40\n",
            "223/223 [==============================] - 1s 5ms/step - loss: 482301.6562 - mae: 482301.6562 - val_loss: 481130.8125 - val_mae: 481130.8125\n",
            "Epoch 40/40\n",
            "223/223 [==============================] - 1s 5ms/step - loss: 479241.6875 - mae: 479241.6875 - val_loss: 478160.9375 - val_mae: 478160.9375\n"
          ]
        }
      ]
    },
    {
      "cell_type": "code",
      "source": [
        "fig, ax = plt.subplots()\n",
        "ax.plot(range(40),history.history['loss'],label='train loss')\n",
        "ax.plot(range(40),history.history['val_loss'],label='val loss')\n",
        "#plt.gca().set_ylim(220000, 223000)\n",
        "ax.set_xlabel('Epoch')\n",
        "ax.set_ylabel('Loss')\n",
        "plt.legend()"
      ],
      "metadata": {
        "id": "N3u0Q99LLy8e",
        "outputId": "cd03ff76-caf4-43fc-b32f-d3ba05c59e78",
        "colab": {
          "base_uri": "https://localhost:8080/",
          "height": 296
        }
      },
      "execution_count": null,
      "outputs": [
        {
          "output_type": "execute_result",
          "data": {
            "text/plain": [
              "<matplotlib.legend.Legend at 0x7fb504a56b50>"
            ]
          },
          "metadata": {},
          "execution_count": 50
        },
        {
          "output_type": "display_data",
          "data": {
            "text/plain": [
              "<Figure size 432x288 with 1 Axes>"
            ],
            "image/png": "[encoded data removed]"
          },
          "metadata": {
            "needs_background": "light"
          }
        }
      ]
    },
    {
      "cell_type": "markdown",
      "source": [
        "## Regularisasi"
      ],
      "metadata": {
        "id": "ZfWa-AQPNWje"
      }
    },
    {
      "cell_type": "code",
      "source": [
        "tf.random.set_seed(42) # gunakan set_seed untuk menghasilkan model yang mempunyai performa yang sama\n",
        "\n",
        "model = tf.keras.models.Sequential()\n",
        "model.add(tf.keras.layers.Dense(15,input_shape=[len(X.columns)],kernel_initializer=tf.keras.initializers.LecunNormal(seed=40)))\n",
        "\n",
        "model.add(tf.keras.layers.Dense(14,kernel_regularizer=tf.keras.regularizers.l2()))\n",
        "model.add(tf.keras.layers.Activation('relu'))\n",
        "model.add(tf.keras.layers.BatchNormalization())\n",
        "model.add(tf.keras.layers.Dropout(rate=0.2))\n",
        "\n",
        "model.add(tf.keras.layers.Dense(10,kernel_regularizer=tf.keras.regularizers.l2()))\n",
        "model.add(tf.keras.layers.Activation('relu'))\n",
        "model.add(tf.keras.layers.BatchNormalization())\n",
        "model.add(tf.keras.layers.Dropout(rate=0.2))\n",
        "\n",
        "model.add(tf.keras.layers.Dense(8,kernel_regularizer=tf.keras.regularizers.l2()))\n",
        "model.add(tf.keras.layers.Activation('relu'))\n",
        "model.add(tf.keras.layers.BatchNormalization())\n",
        "model.add(tf.keras.layers.Dropout(rate=0.2))\n",
        "model.add(tf.keras.layers.Dense(1, activation='linear'))\n",
        "\n",
        "model.compile(loss='mae',\n",
        "              optimizer=tf.keras.optimizers.SGD(learning_rate=0.1),\n",
        "              metrics='mae')\n",
        "\n",
        "history = model.fit(X_train_std, y_train, epochs=40, batch_size=70,\n",
        "                    validation_data=(X_val_std, y_val),verbose=1)"
      ],
      "metadata": {
        "id": "nSuFOCGjMJeF",
        "outputId": "100e1ca1-da86-4836-f789-bfe4373f9e30",
        "colab": {
          "base_uri": "https://localhost:8080/"
        }
      },
      "execution_count": null,
      "outputs": [
        {
          "output_type": "stream",
          "name": "stdout",
          "text": [
            "Epoch 1/40\n",
            "223/223 [==============================] - 2s 6ms/step - loss: 255105.0000 - mae: 254334.5781 - val_loss: 329022.8125 - val_mae: 327619.1562\n",
            "Epoch 2/40\n",
            "223/223 [==============================] - 1s 5ms/step - loss: 114919.7812 - mae: 113557.4375 - val_loss: 43140.5078 - val_mae: 41727.8320\n",
            "Epoch 3/40\n",
            "223/223 [==============================] - 1s 5ms/step - loss: 114920.3672 - mae: 113548.1094 - val_loss: 56184.6328 - val_mae: 54842.4414\n",
            "Epoch 4/40\n",
            "223/223 [==============================] - 1s 5ms/step - loss: 116114.1562 - mae: 112412.2266 - val_loss: 85262.8359 - val_mae: 82476.0000\n",
            "Epoch 5/40\n",
            "223/223 [==============================] - 1s 5ms/step - loss: 116865.4922 - mae: 114560.6562 - val_loss: 78640.6328 - val_mae: 76597.0000\n",
            "Epoch 6/40\n",
            "223/223 [==============================] - 1s 5ms/step - loss: 113201.1406 - mae: 111380.1328 - val_loss: 37522.2617 - val_mae: 35833.9766\n",
            "Epoch 7/40\n",
            "223/223 [==============================] - 1s 5ms/step - loss: 112864.6406 - mae: 111282.4609 - val_loss: 89721.8594 - val_mae: 88192.7188\n",
            "Epoch 8/40\n",
            "223/223 [==============================] - 1s 5ms/step - loss: 111654.5156 - mae: 110156.8906 - val_loss: 62782.0273 - val_mae: 61306.7539\n",
            "Epoch 9/40\n",
            "223/223 [==============================] - 1s 5ms/step - loss: 112324.3203 - mae: 110802.8594 - val_loss: 30149.4180 - val_mae: 28605.7598\n",
            "Epoch 10/40\n",
            "223/223 [==============================] - 1s 5ms/step - loss: 112891.1562 - mae: 111327.2969 - val_loss: 44576.3672 - val_mae: 43031.8828\n",
            "Epoch 11/40\n",
            "223/223 [==============================] - 1s 5ms/step - loss: 111462.7031 - mae: 109898.2969 - val_loss: 54351.1250 - val_mae: 52792.8945\n",
            "Epoch 12/40\n",
            "223/223 [==============================] - 1s 5ms/step - loss: 111540.9766 - mae: 110007.4766 - val_loss: 62338.4922 - val_mae: 60697.4297\n",
            "Epoch 13/40\n",
            "223/223 [==============================] - 1s 5ms/step - loss: 111659.6094 - mae: 110096.4922 - val_loss: 159132.9531 - val_mae: 157621.9688\n",
            "Epoch 14/40\n",
            "223/223 [==============================] - 1s 5ms/step - loss: 109979.1250 - mae: 108517.9688 - val_loss: 59816.4336 - val_mae: 58366.3633\n",
            "Epoch 15/40\n",
            "223/223 [==============================] - 1s 5ms/step - loss: 110863.8984 - mae: 109353.4766 - val_loss: 108651.7109 - val_mae: 107125.6875\n",
            "Epoch 16/40\n",
            "223/223 [==============================] - 1s 5ms/step - loss: 112253.0234 - mae: 110620.7891 - val_loss: 37913.6484 - val_mae: 36281.9336\n",
            "Epoch 17/40\n",
            "223/223 [==============================] - 1s 5ms/step - loss: 111984.8203 - mae: 110411.8125 - val_loss: 77047.1953 - val_mae: 75556.8828\n",
            "Epoch 18/40\n",
            "223/223 [==============================] - 1s 5ms/step - loss: 111465.0156 - mae: 109749.2656 - val_loss: 38713.8711 - val_mae: 37080.7383\n",
            "Epoch 19/40\n",
            "223/223 [==============================] - 1s 5ms/step - loss: 108835.1328 - mae: 107278.3984 - val_loss: 73099.8438 - val_mae: 71572.6172\n",
            "Epoch 20/40\n",
            "223/223 [==============================] - 1s 5ms/step - loss: 111483.2422 - mae: 109207.7734 - val_loss: 31519.5625 - val_mae: 29480.1855\n",
            "Epoch 21/40\n",
            "223/223 [==============================] - 1s 5ms/step - loss: 111807.0469 - mae: 109933.1641 - val_loss: 103491.6875 - val_mae: 101761.0312\n",
            "Epoch 22/40\n",
            "223/223 [==============================] - 1s 5ms/step - loss: 109538.0000 - mae: 107921.0703 - val_loss: 76026.9219 - val_mae: 74386.5938\n",
            "Epoch 23/40\n",
            "223/223 [==============================] - 1s 5ms/step - loss: 109514.2812 - mae: 107932.7188 - val_loss: 71579.5078 - val_mae: 70015.1875\n",
            "Epoch 24/40\n",
            "223/223 [==============================] - 1s 5ms/step - loss: 110948.9375 - mae: 109413.5547 - val_loss: 72251.3516 - val_mae: 70748.4531\n",
            "Epoch 25/40\n",
            "223/223 [==============================] - 1s 5ms/step - loss: 110665.4297 - mae: 109194.7891 - val_loss: 73187.9609 - val_mae: 71744.5625\n",
            "Epoch 26/40\n",
            "223/223 [==============================] - 2s 9ms/step - loss: 112904.5938 - mae: 111178.6484 - val_loss: 68790.8203 - val_mae: 66441.4531\n",
            "Epoch 27/40\n",
            "223/223 [==============================] - 1s 5ms/step - loss: 113558.9609 - mae: 111459.7891 - val_loss: 95527.5938 - val_mae: 93675.8281\n",
            "Epoch 28/40\n",
            "223/223 [==============================] - 1s 5ms/step - loss: 111353.6328 - mae: 109614.3516 - val_loss: 105466.9453 - val_mae: 103795.5547\n",
            "Epoch 29/40\n",
            "223/223 [==============================] - 1s 5ms/step - loss: 112180.3984 - mae: 110580.5078 - val_loss: 61287.1523 - val_mae: 59782.5000\n",
            "Epoch 30/40\n",
            "223/223 [==============================] - 1s 5ms/step - loss: 110433.6719 - mae: 108947.7031 - val_loss: 66242.7578 - val_mae: 64796.8164\n",
            "Epoch 31/40\n",
            "223/223 [==============================] - 1s 5ms/step - loss: 109449.5625 - mae: 108008.9062 - val_loss: 79771.4219 - val_mae: 78310.3594\n",
            "Epoch 32/40\n",
            "223/223 [==============================] - 1s 5ms/step - loss: 108646.5625 - mae: 107196.7344 - val_loss: 60351.2227 - val_mae: 58915.4531\n",
            "Epoch 33/40\n",
            "223/223 [==============================] - 1s 5ms/step - loss: 109780.2266 - mae: 108318.6250 - val_loss: 78764.6484 - val_mae: 77274.5547\n",
            "Epoch 34/40\n",
            "223/223 [==============================] - 1s 5ms/step - loss: 111647.9922 - mae: 110179.8438 - val_loss: 67705.4062 - val_mae: 66267.5312\n",
            "Epoch 35/40\n",
            "223/223 [==============================] - 1s 5ms/step - loss: 110936.2656 - mae: 109153.6016 - val_loss: 93951.7266 - val_mae: 92185.9453\n",
            "Epoch 36/40\n",
            "223/223 [==============================] - 1s 5ms/step - loss: 112320.7422 - mae: 110620.8906 - val_loss: 79123.2188 - val_mae: 77506.7734\n",
            "Epoch 37/40\n",
            "223/223 [==============================] - 1s 5ms/step - loss: 110028.1719 - mae: 108406.1953 - val_loss: 116546.4453 - val_mae: 114894.3281\n",
            "Epoch 38/40\n",
            "223/223 [==============================] - 1s 5ms/step - loss: 112859.6250 - mae: 111226.5000 - val_loss: 84234.8281 - val_mae: 82702.3359\n",
            "Epoch 39/40\n",
            "223/223 [==============================] - 1s 5ms/step - loss: 113289.5234 - mae: 111775.2344 - val_loss: 74725.4375 - val_mae: 73126.7578\n",
            "Epoch 40/40\n",
            "223/223 [==============================] - 1s 5ms/step - loss: 116196.6328 - mae: 111697.6719 - val_loss: 65526.0742 - val_mae: 59264.1562\n"
          ]
        }
      ]
    },
    {
      "cell_type": "code",
      "source": [
        "fig, ax = plt.subplots()\n",
        "ax.plot(range(40),history.history['loss'],label='train loss')\n",
        "ax.plot(range(40),history.history['val_loss'],label='val loss')\n",
        "#plt.gca().set_ylim(220000, 223000)\n",
        "ax.set_xlabel('Epoch')\n",
        "ax.set_ylabel('Loss')\n",
        "plt.legend()"
      ],
      "metadata": {
        "id": "lYMDWGENMztO",
        "outputId": "4cb8de75-22ce-4466-b20d-88e381d1ade2",
        "colab": {
          "base_uri": "https://localhost:8080/",
          "height": 296
        }
      },
      "execution_count": null,
      "outputs": [
        {
          "output_type": "execute_result",
          "data": {
            "text/plain": [
              "<matplotlib.legend.Legend at 0x7fb4f7585450>"
            ]
          },
          "metadata": {},
          "execution_count": 53
        },
        {
          "output_type": "display_data",
          "data": {
            "text/plain": [
              "<Figure size 432x288 with 1 Axes>"
            ],
            "image/png": "[encoded data removed]"
          },
          "metadata": {
            "needs_background": "light"
          }
        }
      ]
    },
    {
      "cell_type": "markdown",
      "source": [
        "## Activation Function Elu"
      ],
      "metadata": {
        "id": "vYlFui8xNsP4"
      }
    },
    {
      "cell_type": "code",
      "source": [
        "tf.random.set_seed(42) # gunakan set_seed untuk menghasilkan model yang mempunyai performa yang sama\n",
        "\n",
        "model = tf.keras.models.Sequential()\n",
        "model.add(tf.keras.layers.Dense(15,input_shape=[len(X.columns)],kernel_initializer=tf.keras.initializers.LecunNormal(seed=40)))\n",
        "\n",
        "model.add(tf.keras.layers.Dense(14,kernel_regularizer=tf.keras.regularizers.l2()))\n",
        "model.add(tf.keras.layers.Activation('elu'))\n",
        "model.add(tf.keras.layers.BatchNormalization())\n",
        "model.add(tf.keras.layers.Dropout(rate=0.2))\n",
        "\n",
        "model.add(tf.keras.layers.Dense(10,kernel_regularizer=tf.keras.regularizers.l2()))\n",
        "model.add(tf.keras.layers.Activation('elu'))\n",
        "model.add(tf.keras.layers.BatchNormalization())\n",
        "model.add(tf.keras.layers.Dropout(rate=0.2))\n",
        "\n",
        "model.add(tf.keras.layers.Dense(8,kernel_regularizer=tf.keras.regularizers.l2()))\n",
        "model.add(tf.keras.layers.Activation('elu'))\n",
        "model.add(tf.keras.layers.BatchNormalization())\n",
        "model.add(tf.keras.layers.Dropout(rate=0.2))\n",
        "model.add(tf.keras.layers.Dense(1, activation='linear'))\n",
        "\n",
        "model.compile(loss='mae',\n",
        "              optimizer=tf.keras.optimizers.SGD(learning_rate=0.1),\n",
        "              metrics='mae')\n",
        "\n",
        "history = model.fit(X_train_std, y_train, epochs=40, batch_size=70,\n",
        "                    validation_data=(X_val_std, y_val),verbose=1)"
      ],
      "metadata": {
        "id": "BDNc7fjINO8a",
        "outputId": "fae59479-df5e-4561-a3be-86a03b885f21",
        "colab": {
          "base_uri": "https://localhost:8080/"
        }
      },
      "execution_count": null,
      "outputs": [
        {
          "output_type": "stream",
          "name": "stdout",
          "text": [
            "Epoch 1/40\n",
            "223/223 [==============================] - 3s 6ms/step - loss: 258942.8906 - mae: 257312.4219 - val_loss: 205075.3125 - val_mae: 202611.7500\n",
            "Epoch 2/40\n",
            "223/223 [==============================] - 1s 5ms/step - loss: 115655.7656 - mae: 113501.7344 - val_loss: 38820.0039 - val_mae: 36876.3203\n",
            "Epoch 3/40\n",
            "223/223 [==============================] - 1s 5ms/step - loss: 114213.5000 - mae: 112443.1406 - val_loss: 57026.8438 - val_mae: 55361.4688\n",
            "Epoch 4/40\n",
            "223/223 [==============================] - 1s 5ms/step - loss: 112826.4375 - mae: 111281.7188 - val_loss: 60854.6875 - val_mae: 59361.8477\n",
            "Epoch 5/40\n",
            "223/223 [==============================] - 1s 5ms/step - loss: 111484.2578 - mae: 109977.9531 - val_loss: 100502.3672 - val_mae: 98990.3828\n",
            "Epoch 6/40\n",
            "223/223 [==============================] - 1s 5ms/step - loss: 109587.7344 - mae: 108108.5859 - val_loss: 63380.0078 - val_mae: 61915.4297\n",
            "Epoch 7/40\n",
            "223/223 [==============================] - 1s 5ms/step - loss: 111373.1328 - mae: 109899.6641 - val_loss: 56734.4531 - val_mae: 55258.9922\n",
            "Epoch 8/40\n",
            "223/223 [==============================] - 1s 6ms/step - loss: 112046.4766 - mae: 110491.1953 - val_loss: 105325.6797 - val_mae: 103695.7500\n",
            "Epoch 9/40\n",
            "223/223 [==============================] - 2s 7ms/step - loss: 112341.7578 - mae: 110720.6562 - val_loss: 98309.7031 - val_mae: 96726.0391\n",
            "Epoch 10/40\n",
            "223/223 [==============================] - 2s 7ms/step - loss: 111746.7422 - mae: 110080.2969 - val_loss: 77112.7578 - val_mae: 75396.0312\n",
            "Epoch 11/40\n",
            "223/223 [==============================] - 1s 5ms/step - loss: 113412.3594 - mae: 111681.5234 - val_loss: 47243.8203 - val_mae: 45513.5703\n",
            "Epoch 12/40\n",
            "223/223 [==============================] - 1s 5ms/step - loss: 110473.0156 - mae: 108769.2422 - val_loss: 47098.5938 - val_mae: 45457.1055\n",
            "Epoch 13/40\n",
            "223/223 [==============================] - 1s 5ms/step - loss: 112764.3750 - mae: 111165.9375 - val_loss: 70176.2500 - val_mae: 68635.4844\n",
            "Epoch 14/40\n",
            "223/223 [==============================] - 1s 5ms/step - loss: 111381.1641 - mae: 109824.7500 - val_loss: 83308.7812 - val_mae: 81690.9609\n",
            "Epoch 15/40\n",
            "223/223 [==============================] - 1s 5ms/step - loss: 113514.8672 - mae: 111879.6094 - val_loss: 55218.9688 - val_mae: 53593.8711\n",
            "Epoch 16/40\n",
            "223/223 [==============================] - 1s 5ms/step - loss: 109088.6016 - mae: 107524.1797 - val_loss: 32869.5273 - val_mae: 31320.9082\n",
            "Epoch 17/40\n",
            "223/223 [==============================] - 1s 5ms/step - loss: 110279.9688 - mae: 108744.2109 - val_loss: 77752.5469 - val_mae: 76189.7031\n",
            "Epoch 18/40\n",
            "223/223 [==============================] - 1s 5ms/step - loss: 110123.2266 - mae: 108549.1406 - val_loss: 37798.6328 - val_mae: 36234.6328\n",
            "Epoch 19/40\n",
            "223/223 [==============================] - 1s 5ms/step - loss: 111894.7656 - mae: 110122.9453 - val_loss: 75375.5391 - val_mae: 73626.9922\n",
            "Epoch 20/40\n",
            "223/223 [==============================] - 1s 5ms/step - loss: 112503.0469 - mae: 110688.8047 - val_loss: 53538.9727 - val_mae: 51481.6016\n",
            "Epoch 21/40\n",
            "223/223 [==============================] - 1s 5ms/step - loss: 111411.3906 - mae: 109502.5938 - val_loss: 38574.0703 - val_mae: 36753.0938\n",
            "Epoch 22/40\n",
            "223/223 [==============================] - 1s 5ms/step - loss: 111991.5625 - mae: 110224.9297 - val_loss: 93764.0078 - val_mae: 92030.1484\n",
            "Epoch 23/40\n",
            "223/223 [==============================] - 1s 5ms/step - loss: 111826.0781 - mae: 109618.2109 - val_loss: 49594.4492 - val_mae: 47502.5938\n",
            "Epoch 24/40\n",
            "223/223 [==============================] - 1s 5ms/step - loss: 113051.7578 - mae: 111111.9453 - val_loss: 76940.6641 - val_mae: 75122.8359\n",
            "Epoch 25/40\n",
            "223/223 [==============================] - 1s 5ms/step - loss: 110664.2734 - mae: 108908.8750 - val_loss: 105039.1797 - val_mae: 103314.6953\n",
            "Epoch 26/40\n",
            "223/223 [==============================] - 1s 5ms/step - loss: 109856.9219 - mae: 108156.2500 - val_loss: 50732.7656 - val_mae: 48991.6133\n",
            "Epoch 27/40\n",
            "223/223 [==============================] - 1s 5ms/step - loss: 110858.6641 - mae: 109165.3281 - val_loss: 95479.7422 - val_mae: 93805.3281\n",
            "Epoch 28/40\n",
            "223/223 [==============================] - 1s 5ms/step - loss: 112093.4297 - mae: 110417.1172 - val_loss: 103132.7812 - val_mae: 101456.2109\n",
            "Epoch 29/40\n",
            "223/223 [==============================] - 1s 5ms/step - loss: 113175.2344 - mae: 111468.0156 - val_loss: 71081.3203 - val_mae: 69348.5625\n",
            "Epoch 30/40\n",
            "223/223 [==============================] - 1s 5ms/step - loss: 110312.6484 - mae: 108627.6641 - val_loss: 30755.7324 - val_mae: 28953.3301\n",
            "Epoch 31/40\n",
            "223/223 [==============================] - 1s 6ms/step - loss: 112615.6797 - mae: 110805.0625 - val_loss: 91326.2500 - val_mae: 89585.2578\n",
            "Epoch 32/40\n",
            "223/223 [==============================] - 2s 7ms/step - loss: 110576.6094 - mae: 108906.3594 - val_loss: 69504.9141 - val_mae: 67840.1172\n",
            "Epoch 33/40\n",
            "223/223 [==============================] - 2s 7ms/step - loss: 112152.9766 - mae: 110408.8906 - val_loss: 62204.5195 - val_mae: 60456.2578\n",
            "Epoch 34/40\n",
            "223/223 [==============================] - 1s 5ms/step - loss: 111286.1250 - mae: 109580.5625 - val_loss: 20041.0352 - val_mae: 18372.6953\n",
            "Epoch 35/40\n",
            "223/223 [==============================] - 1s 5ms/step - loss: 112042.6641 - mae: 110338.9688 - val_loss: 77782.5312 - val_mae: 75904.9609\n",
            "Epoch 36/40\n",
            "223/223 [==============================] - 1s 5ms/step - loss: 111205.8906 - mae: 109439.1797 - val_loss: 66009.9922 - val_mae: 64287.7969\n",
            "Epoch 37/40\n",
            "223/223 [==============================] - 1s 5ms/step - loss: 144317.4844 - mae: 112029.7109 - val_loss: 74235.5391 - val_mae: 41376.1836\n",
            "Epoch 38/40\n",
            "223/223 [==============================] - 1s 5ms/step - loss: 133872.9688 - mae: 111340.4766 - val_loss: 120093.9453 - val_mae: 105349.6562\n",
            "Epoch 39/40\n",
            "223/223 [==============================] - 1s 5ms/step - loss: 122821.8828 - mae: 112308.3047 - val_loss: 55440.5664 - val_mae: 48148.6406\n",
            "Epoch 40/40\n",
            "223/223 [==============================] - 1s 5ms/step - loss: 116322.0156 - mae: 110730.1797 - val_loss: 92188.2734 - val_mae: 87891.4766\n"
          ]
        }
      ]
    },
    {
      "cell_type": "code",
      "source": [
        "fig, ax = plt.subplots()\n",
        "ax.plot(range(40),history.history['loss'],label='train loss')\n",
        "ax.plot(range(40),history.history['val_loss'],label='val loss')\n",
        "#plt.gca().set_ylim(220000, 223000)\n",
        "ax.set_xlabel('Epoch')\n",
        "ax.set_ylabel('Loss')\n",
        "plt.legend()"
      ],
      "metadata": {
        "id": "hyxM-tJDNpl5",
        "outputId": "b5b9316d-c7cc-4a6c-a33f-8bec8cc59c6c",
        "colab": {
          "base_uri": "https://localhost:8080/",
          "height": 296
        }
      },
      "execution_count": null,
      "outputs": [
        {
          "output_type": "execute_result",
          "data": {
            "text/plain": [
              "<matplotlib.legend.Legend at 0x7fb4f75a6d50>"
            ]
          },
          "metadata": {},
          "execution_count": 55
        },
        {
          "output_type": "display_data",
          "data": {
            "text/plain": [
              "<Figure size 432x288 with 1 Axes>"
            ],
            "image/png": "[encoded data removed]"
          },
          "metadata": {
            "needs_background": "light"
          }
        }
      ]
    },
    {
      "cell_type": "markdown",
      "source": [
        "### Combination Activation Function"
      ],
      "metadata": {
        "id": "L97ZRpuVOaVA"
      }
    },
    {
      "cell_type": "code",
      "source": [
        "tf.random.set_seed(42) # gunakan set_seed untuk menghasilkan model yang mempunyai performa yang sama\n",
        "\n",
        "model = tf.keras.models.Sequential()\n",
        "model.add(tf.keras.layers.Dense(64,input_shape=[len(X.columns)],kernel_initializer=tf.keras.initializers.LecunNormal(seed=40)))\n",
        "\n",
        "model.add(tf.keras.layers.Dense(60,kernel_regularizer=tf.keras.regularizers.l2()))\n",
        "model.add(tf.keras.layers.Activation('elu'))\n",
        "model.add(tf.keras.layers.BatchNormalization())\n",
        "model.add(tf.keras.layers.Dropout(rate=0.2))\n",
        "\n",
        "model.add(tf.keras.layers.Dense(50,kernel_regularizer=tf.keras.regularizers.l2()))\n",
        "model.add(tf.keras.layers.Activation('selu'))\n",
        "model.add(tf.keras.layers.BatchNormalization())\n",
        "model.add(tf.keras.layers.Dropout(rate=0.2))\n",
        "\n",
        "model.add(tf.keras.layers.Dense(20,kernel_regularizer=tf.keras.regularizers.l2()))\n",
        "model.add(tf.keras.layers.Activation('relu'))\n",
        "model.add(tf.keras.layers.BatchNormalization())\n",
        "model.add(tf.keras.layers.Dropout(rate=0.2))\n",
        "model.add(tf.keras.layers.Dense(1, activation='linear'))\n",
        "\n",
        "\n",
        "model.add(tf.keras.layers.Dense(14,kernel_regularizer=tf.keras.regularizers.l2()))\n",
        "model.add(tf.keras.layers.Activation('elu'))\n",
        "model.add(tf.keras.layers.BatchNormalization())\n",
        "model.add(tf.keras.layers.Dropout(rate=0.2))\n",
        "\n",
        "model.add(tf.keras.layers.Dense(10,kernel_regularizer=tf.keras.regularizers.l2()))\n",
        "model.add(tf.keras.layers.Activation('selu'))\n",
        "model.add(tf.keras.layers.BatchNormalization())\n",
        "model.add(tf.keras.layers.Dropout(rate=0.2))\n",
        "\n",
        "model.add(tf.keras.layers.Dense(8,kernel_regularizer=tf.keras.regularizers.l2()))\n",
        "model.add(tf.keras.layers.Activation('tanh'))\n",
        "model.add(tf.keras.layers.BatchNormalization())\n",
        "model.add(tf.keras.layers.Dropout(rate=0.2))\n",
        "model.add(tf.keras.layers.Dense(1, activation='linear'))\n",
        "\n",
        "model.compile(loss='mae',\n",
        "              optimizer=tf.keras.optimizers.SGD(learning_rate=0.1),\n",
        "              metrics='mae')\n",
        "\n",
        "history = model.fit(X_train_std, y_train, epochs=40, batch_size=70,\n",
        "                    validation_data=(X_val_std, y_val),verbose=1)"
      ],
      "metadata": {
        "id": "cZgslHblN34H",
        "outputId": "fb5dec65-711c-47d2-e82c-e7c0cd450dc9",
        "colab": {
          "base_uri": "https://localhost:8080/"
        }
      },
      "execution_count": null,
      "outputs": [
        {
          "output_type": "stream",
          "name": "stdout",
          "text": [
            "Epoch 1/40\n",
            "223/223 [==============================] - 5s 8ms/step - loss: 340676.8438 - mae: 324371.6875 - val_loss: 274021.7500 - val_mae: 225943.7969\n",
            "Epoch 2/40\n",
            "223/223 [==============================] - 2s 7ms/step - loss: 2353882.5000 - mae: 232683.7188 - val_loss: 2986666.0000 - val_mae: 234676.6562\n",
            "Epoch 3/40\n",
            "223/223 [==============================] - 2s 7ms/step - loss: 2066562.8750 - mae: 232376.2031 - val_loss: 1367916.7500 - val_mae: 220633.2656\n",
            "Epoch 4/40\n",
            "223/223 [==============================] - 2s 7ms/step - loss: 996628.4375 - mae: 231360.0938 - val_loss: 1452508.2500 - val_mae: 377685.9375\n",
            "Epoch 5/40\n",
            "223/223 [==============================] - 2s 7ms/step - loss: 946199.5000 - mae: 232989.8906 - val_loss: 665203.9375 - val_mae: 225055.4844\n",
            "Epoch 6/40\n",
            "223/223 [==============================] - 2s 7ms/step - loss: 669291.5625 - mae: 234493.4688 - val_loss: 581785.8125 - val_mae: 220503.6875\n",
            "Epoch 7/40\n",
            "223/223 [==============================] - 2s 7ms/step - loss: 1138603.8750 - mae: 233819.7969 - val_loss: 6139977.5000 - val_mae: 223861.0625\n",
            "Epoch 8/40\n",
            "223/223 [==============================] - 2s 7ms/step - loss: 4170532.5000 - mae: 233945.9844 - val_loss: 2649087.0000 - val_mae: 217003.5312\n",
            "Epoch 9/40\n",
            "223/223 [==============================] - 2s 7ms/step - loss: 3112224.2500 - mae: 232641.1094 - val_loss: 2395273.7500 - val_mae: 227453.8750\n",
            "Epoch 10/40\n",
            "223/223 [==============================] - 2s 7ms/step - loss: 6070156.0000 - mae: 233770.2656 - val_loss: 24257258.0000 - val_mae: 220318.7344\n",
            "Epoch 11/40\n",
            "223/223 [==============================] - 2s 7ms/step - loss: 16181490.0000 - mae: 232960.7656 - val_loss: 10063033.0000 - val_mae: 220642.4531\n",
            "Epoch 12/40\n",
            "223/223 [==============================] - 2s 7ms/step - loss: 7329219.0000 - mae: 233422.7656 - val_loss: 6709505.0000 - val_mae: 219999.0781\n",
            "Epoch 13/40\n",
            "223/223 [==============================] - 2s 7ms/step - loss: 4541930.0000 - mae: 234043.4844 - val_loss: 2880808.7500 - val_mae: 220427.4219\n",
            "Epoch 14/40\n",
            "223/223 [==============================] - 2s 7ms/step - loss: 1999135.8750 - mae: 233971.2344 - val_loss: 1309697.3750 - val_mae: 220352.7500\n",
            "Epoch 15/40\n",
            "223/223 [==============================] - 2s 7ms/step - loss: 954709.5000 - mae: 231928.0625 - val_loss: 670185.1875 - val_mae: 224131.7188\n",
            "Epoch 16/40\n",
            "223/223 [==============================] - 2s 9ms/step - loss: 528554.7500 - mae: 232597.7812 - val_loss: 404465.9688 - val_mae: 221820.7656\n",
            "Epoch 17/40\n",
            "223/223 [==============================] - 2s 11ms/step - loss: 355260.4375 - mae: 234075.2031 - val_loss: 295411.4688 - val_mae: 220623.8594\n",
            "Epoch 18/40\n",
            "223/223 [==============================] - 2s 9ms/step - loss: 313696.8125 - mae: 232972.5000 - val_loss: 303488.0000 - val_mae: 221526.3906\n",
            "Epoch 19/40\n",
            "223/223 [==============================] - 2s 7ms/step - loss: 288197.7812 - mae: 233816.2812 - val_loss: 257213.7500 - val_mae: 223653.0156\n",
            "Epoch 20/40\n",
            "223/223 [==============================] - 2s 7ms/step - loss: 256670.8125 - mae: 234403.0938 - val_loss: 235118.3750 - val_mae: 221376.2344\n",
            "Epoch 21/40\n",
            "223/223 [==============================] - 2s 7ms/step - loss: 352546.8438 - mae: 232561.1719 - val_loss: 405138.7188 - val_mae: 228424.6250\n",
            "Epoch 22/40\n",
            "223/223 [==============================] - 2s 7ms/step - loss: 349872.9375 - mae: 232480.1250 - val_loss: 293928.5000 - val_mae: 221079.0312\n",
            "Epoch 23/40\n",
            "223/223 [==============================] - 2s 7ms/step - loss: 281569.3125 - mae: 233233.7188 - val_loss: 251896.5312 - val_mae: 222066.8906\n",
            "Epoch 24/40\n",
            "223/223 [==============================] - 2s 7ms/step - loss: 253390.4062 - mae: 233598.3906 - val_loss: 232533.3125 - val_mae: 220319.0156\n",
            "Epoch 25/40\n",
            "223/223 [==============================] - 2s 7ms/step - loss: 265134.0000 - mae: 233332.4375 - val_loss: 1049003.6250 - val_mae: 220452.5000\n",
            "Epoch 26/40\n",
            "223/223 [==============================] - 2s 9ms/step - loss: 48407120.0000 - mae: 234164.2969 - val_loss: 30393076.0000 - val_mae: 221596.0156\n",
            "Epoch 27/40\n",
            "223/223 [==============================] - 2s 7ms/step - loss: 63152044.0000 - mae: 232316.6875 - val_loss: 46652696.0000 - val_mae: 220428.6094\n",
            "Epoch 28/40\n",
            "223/223 [==============================] - 2s 7ms/step - loss: 31039890.0000 - mae: 232042.8281 - val_loss: 19235228.0000 - val_mae: 222639.1562\n",
            "Epoch 29/40\n",
            "223/223 [==============================] - 2s 7ms/step - loss: 13074962.0000 - mae: 233244.4688 - val_loss: 8247243.5000 - val_mae: 220854.5000\n",
            "Epoch 30/40\n",
            "223/223 [==============================] - 2s 7ms/step - loss: 5560002.0000 - mae: 234486.9375 - val_loss: 3510023.0000 - val_mae: 223462.2969\n",
            "Epoch 31/40\n",
            "223/223 [==============================] - 2s 7ms/step - loss: 2413259.7500 - mae: 232623.5469 - val_loss: 1566179.0000 - val_mae: 220433.6250\n",
            "Epoch 32/40\n",
            "223/223 [==============================] - 2s 7ms/step - loss: 1126592.2500 - mae: 233687.2812 - val_loss: 771552.2500 - val_mae: 220509.5625\n",
            "Epoch 33/40\n",
            "223/223 [==============================] - 2s 7ms/step - loss: 599984.0000 - mae: 234338.5156 - val_loss: 445999.1250 - val_mae: 220333.5312\n",
            "Epoch 34/40\n",
            "223/223 [==============================] - 2s 7ms/step - loss: 382268.0938 - mae: 232538.7656 - val_loss: 313092.1562 - val_mae: 220689.0781\n",
            "Epoch 35/40\n",
            "223/223 [==============================] - 2s 7ms/step - loss: 294140.5625 - mae: 232831.0625 - val_loss: 258222.2969 - val_mae: 220386.0625\n",
            "Epoch 36/40\n",
            "223/223 [==============================] - 2s 7ms/step - loss: 259982.6250 - mae: 233114.4062 - val_loss: 239424.0156 - val_mae: 220567.9844\n",
            "Epoch 37/40\n",
            "223/223 [==============================] - 2s 7ms/step - loss: 246350.1562 - mae: 233839.1250 - val_loss: 229386.7969 - val_mae: 221665.7969\n",
            "Epoch 38/40\n",
            "223/223 [==============================] - 2s 7ms/step - loss: 237934.9844 - mae: 232812.0000 - val_loss: 224818.2812 - val_mae: 221656.7812\n",
            "Epoch 39/40\n",
            "223/223 [==============================] - 2s 7ms/step - loss: 235630.5625 - mae: 233531.9219 - val_loss: 221617.1094 - val_mae: 220319.5625\n",
            "Epoch 40/40\n",
            "223/223 [==============================] - 2s 7ms/step - loss: 2033848.5000 - mae: 232681.9219 - val_loss: 9096633.0000 - val_mae: 220726.9375\n"
          ]
        }
      ]
    },
    {
      "cell_type": "code",
      "source": [
        "fig, ax = plt.subplots()\n",
        "ax.plot(range(40),history.history['loss'],label='train loss')\n",
        "ax.plot(range(40),history.history['val_loss'],label='val loss')\n",
        "#plt.gca().set_ylim(220000, 223000)\n",
        "ax.set_xlabel('Epoch')\n",
        "ax.set_ylabel('Loss')\n",
        "plt.legend()"
      ],
      "metadata": {
        "id": "8Zq7KzzCOTO4",
        "outputId": "60ef16ab-443d-4caf-fec0-b8c7e0f893ee",
        "colab": {
          "base_uri": "https://localhost:8080/",
          "height": 307
        }
      },
      "execution_count": null,
      "outputs": [
        {
          "output_type": "execute_result",
          "data": {
            "text/plain": [
              "<matplotlib.legend.Legend at 0x7fb4f7584d90>"
            ]
          },
          "metadata": {},
          "execution_count": 57
        },
        {
          "output_type": "display_data",
          "data": {
            "text/plain": [
              "<Figure size 432x288 with 1 Axes>"
            ],
            "image/png": "[encoded data removed]"
          },
          "metadata": {
            "needs_background": "light"
          }
        }
      ]
    },
    {
      "cell_type": "markdown",
      "source": [
        "### Optimaizer"
      ],
      "metadata": {
        "id": "URxgaSRNPdQZ"
      }
    },
    {
      "cell_type": "code",
      "source": [
        "tf.random.set_seed(42) # gunakan set_seed untuk menghasilkan model yang mempunyai performa yang sama\n",
        "model = tf.keras.models.Sequential()\n",
        "model.add(tf.keras.layers.Dense(15,input_shape=[len(X.columns)],kernel_initializer=tf.keras.initializers.LecunNormal(seed=40)))\n",
        "\n",
        "model.add(tf.keras.layers.Dense(14,kernel_regularizer=tf.keras.regularizers.l2()))\n",
        "model.add(tf.keras.layers.Activation('elu'))\n",
        "model.add(tf.keras.layers.BatchNormalization())\n",
        "model.add(tf.keras.layers.Dropout(rate=0.2))\n",
        "\n",
        "model.add(tf.keras.layers.Dense(10,kernel_regularizer=tf.keras.regularizers.l2()))\n",
        "model.add(tf.keras.layers.Activation('elu'))\n",
        "model.add(tf.keras.layers.BatchNormalization())\n",
        "model.add(tf.keras.layers.Dropout(rate=0.2))\n",
        "\n",
        "model.add(tf.keras.layers.Dense(8,kernel_regularizer=tf.keras.regularizers.l2()))\n",
        "model.add(tf.keras.layers.Activation('elu'))\n",
        "model.add(tf.keras.layers.BatchNormalization())\n",
        "model.add(tf.keras.layers.Dropout(rate=0.2))\n",
        "model.add(tf.keras.layers.Dense(1, activation='linear'))\n",
        "\n",
        "model.compile(loss='mae',\n",
        "              optimizer=tf.keras.optimizers.Adam(),\n",
        "              metrics='mae')\n",
        "\n",
        "history = model.fit(X_train_std, y_train, epochs=40, batch_size=70,\n",
        "                    validation_data=(X_val_std, y_val),verbose=1)"
      ],
      "metadata": {
        "id": "w1SXhwmXOmX3",
        "outputId": "10f3c6f7-30b3-459f-e6f5-48b01663c672",
        "colab": {
          "base_uri": "https://localhost:8080/"
        }
      },
      "execution_count": null,
      "outputs": [
        {
          "output_type": "stream",
          "name": "stdout",
          "text": [
            "Epoch 1/40\n",
            "223/223 [==============================] - 3s 6ms/step - loss: 539608.9375 - mae: 539608.6250 - val_loss: 540083.8750 - val_mae: 540083.6875\n",
            "Epoch 2/40\n",
            "223/223 [==============================] - 1s 5ms/step - loss: 539606.3750 - mae: 539606.1875 - val_loss: 540080.7500 - val_mae: 540080.5000\n",
            "Epoch 3/40\n",
            "223/223 [==============================] - 1s 5ms/step - loss: 539602.1250 - mae: 539602.0000 - val_loss: 540075.3125 - val_mae: 540075.2500\n",
            "Epoch 4/40\n",
            "223/223 [==============================] - 1s 5ms/step - loss: 539595.8750 - mae: 539595.6250 - val_loss: 540068.3125 - val_mae: 540068.0625\n",
            "Epoch 5/40\n",
            "223/223 [==============================] - 1s 5ms/step - loss: 539587.8750 - mae: 539587.6875 - val_loss: 540059.4375 - val_mae: 540059.3750\n",
            "Epoch 6/40\n",
            "223/223 [==============================] - 1s 5ms/step - loss: 539578.1250 - mae: 539578.0000 - val_loss: 540049.1250 - val_mae: 540049.0625\n",
            "Epoch 7/40\n",
            "223/223 [==============================] - 1s 5ms/step - loss: 539566.8750 - mae: 539566.7500 - val_loss: 540037.1250 - val_mae: 540037.0000\n",
            "Epoch 8/40\n",
            "223/223 [==============================] - 1s 5ms/step - loss: 539554.0625 - mae: 539553.9375 - val_loss: 540023.1875 - val_mae: 540023.0625\n",
            "Epoch 9/40\n",
            "223/223 [==============================] - 1s 5ms/step - loss: 539540.4375 - mae: 539540.3750 - val_loss: 540009.0000 - val_mae: 540008.8750\n",
            "Epoch 10/40\n",
            "223/223 [==============================] - 1s 5ms/step - loss: 539525.2500 - mae: 539525.1875 - val_loss: 539992.4375 - val_mae: 539992.3125\n",
            "Epoch 11/40\n",
            "223/223 [==============================] - 1s 5ms/step - loss: 539508.5000 - mae: 539508.4375 - val_loss: 539975.7500 - val_mae: 539975.6250\n",
            "Epoch 12/40\n",
            "223/223 [==============================] - 1s 5ms/step - loss: 539491.1250 - mae: 539491.0625 - val_loss: 539957.4375 - val_mae: 539957.3750\n",
            "Epoch 13/40\n",
            "223/223 [==============================] - 1s 5ms/step - loss: 539472.2500 - mae: 539472.1875 - val_loss: 539937.9375 - val_mae: 539937.8750\n",
            "Epoch 14/40\n",
            "223/223 [==============================] - 1s 5ms/step - loss: 539452.6250 - mae: 539452.5625 - val_loss: 539917.9375 - val_mae: 539917.8750\n",
            "Epoch 15/40\n",
            "223/223 [==============================] - 1s 5ms/step - loss: 539431.2500 - mae: 539431.2500 - val_loss: 539896.6875 - val_mae: 539896.6250\n",
            "Epoch 16/40\n",
            "223/223 [==============================] - 1s 5ms/step - loss: 539409.8750 - mae: 539409.8125 - val_loss: 539874.3750 - val_mae: 539874.2500\n",
            "Epoch 17/40\n",
            "223/223 [==============================] - 1s 5ms/step - loss: 539387.2500 - mae: 539387.1875 - val_loss: 539851.5625 - val_mae: 539851.4375\n",
            "Epoch 18/40\n",
            "223/223 [==============================] - 1s 5ms/step - loss: 539362.8750 - mae: 539362.7500 - val_loss: 539826.6875 - val_mae: 539826.6875\n",
            "Epoch 19/40\n",
            "223/223 [==============================] - 1s 5ms/step - loss: 539337.3750 - mae: 539337.3750 - val_loss: 539800.8750 - val_mae: 539800.7500\n",
            "Epoch 20/40\n",
            "223/223 [==============================] - 1s 5ms/step - loss: 539312.1250 - mae: 539312.0000 - val_loss: 539775.0000 - val_mae: 539774.8750\n",
            "Epoch 21/40\n",
            "223/223 [==============================] - 1s 5ms/step - loss: 539285.2500 - mae: 539285.2500 - val_loss: 539747.6875 - val_mae: 539747.6250\n",
            "Epoch 22/40\n",
            "223/223 [==============================] - 1s 6ms/step - loss: 539256.8750 - mae: 539256.8125 - val_loss: 539718.6250 - val_mae: 539718.6250\n",
            "Epoch 23/40\n",
            "223/223 [==============================] - 1s 5ms/step - loss: 539229.0625 - mae: 539229.0000 - val_loss: 539689.0625 - val_mae: 539689.0000\n",
            "Epoch 24/40\n",
            "223/223 [==============================] - 1s 5ms/step - loss: 539198.5625 - mae: 539198.5625 - val_loss: 539659.1875 - val_mae: 539659.1250\n",
            "Epoch 25/40\n",
            "223/223 [==============================] - 1s 5ms/step - loss: 539167.9375 - mae: 539167.9375 - val_loss: 539629.0625 - val_mae: 539629.0000\n",
            "Epoch 26/40\n",
            "223/223 [==============================] - 1s 5ms/step - loss: 539136.3750 - mae: 539136.3750 - val_loss: 539596.7500 - val_mae: 539596.6875\n",
            "Epoch 27/40\n",
            "223/223 [==============================] - 1s 5ms/step - loss: 539105.3125 - mae: 539105.2500 - val_loss: 539564.1250 - val_mae: 539564.0625\n",
            "Epoch 28/40\n",
            "223/223 [==============================] - 1s 5ms/step - loss: 539073.3125 - mae: 539073.3125 - val_loss: 539530.2500 - val_mae: 539530.1875\n",
            "Epoch 29/40\n",
            "223/223 [==============================] - 1s 7ms/step - loss: 539037.6250 - mae: 539037.4375 - val_loss: 539495.5625 - val_mae: 539495.5000\n",
            "Epoch 30/40\n",
            "223/223 [==============================] - 2s 8ms/step - loss: 539003.1250 - mae: 539003.1250 - val_loss: 539461.1250 - val_mae: 539461.0625\n",
            "Epoch 31/40\n",
            "223/223 [==============================] - 2s 8ms/step - loss: 538969.1875 - mae: 538969.1250 - val_loss: 539424.3750 - val_mae: 539424.3125\n",
            "Epoch 32/40\n",
            "223/223 [==============================] - 1s 5ms/step - loss: 538929.0625 - mae: 538929.0000 - val_loss: 539388.5625 - val_mae: 539388.5000\n",
            "Epoch 33/40\n",
            "223/223 [==============================] - 1s 5ms/step - loss: 538892.7500 - mae: 538892.6875 - val_loss: 539349.0000 - val_mae: 539348.8750\n",
            "Epoch 34/40\n",
            "223/223 [==============================] - 1s 5ms/step - loss: 538854.5625 - mae: 538854.5000 - val_loss: 539311.0000 - val_mae: 539310.9375\n",
            "Epoch 35/40\n",
            "223/223 [==============================] - 1s 5ms/step - loss: 538816.1875 - mae: 538816.1875 - val_loss: 539271.7500 - val_mae: 539271.6875\n",
            "Epoch 36/40\n",
            "223/223 [==============================] - 1s 5ms/step - loss: 538774.5000 - mae: 538774.4375 - val_loss: 539230.5625 - val_mae: 539230.5000\n",
            "Epoch 37/40\n",
            "223/223 [==============================] - 1s 5ms/step - loss: 538735.0625 - mae: 538735.0625 - val_loss: 539189.2500 - val_mae: 539189.2500\n",
            "Epoch 38/40\n",
            "223/223 [==============================] - 1s 5ms/step - loss: 538692.6875 - mae: 538692.6875 - val_loss: 539146.6250 - val_mae: 539146.5625\n",
            "Epoch 39/40\n",
            "223/223 [==============================] - 1s 5ms/step - loss: 538650.8125 - mae: 538650.8125 - val_loss: 539103.6875 - val_mae: 539103.5625\n",
            "Epoch 40/40\n",
            "223/223 [==============================] - 1s 5ms/step - loss: 538606.4375 - mae: 538606.4375 - val_loss: 539059.6875 - val_mae: 539059.6250\n"
          ]
        }
      ]
    },
    {
      "cell_type": "code",
      "source": [
        "fig, ax = plt.subplots()\n",
        "ax.plot(range(40),history.history['loss'],label='train loss')\n",
        "ax.plot(range(40),history.history['val_loss'],label='val loss')\n",
        "#plt.gca().set_ylim(220000, 223000)\n",
        "ax.set_xlabel('Epoch')\n",
        "ax.set_ylabel('Loss')\n",
        "plt.legend()"
      ],
      "metadata": {
        "id": "hBf7UfmGO1cJ",
        "outputId": "1c2c657c-9e75-42d7-cd71-583bdd680606",
        "colab": {
          "base_uri": "https://localhost:8080/",
          "height": 296
        }
      },
      "execution_count": null,
      "outputs": [
        {
          "output_type": "execute_result",
          "data": {
            "text/plain": [
              "<matplotlib.legend.Legend at 0x7fb4f5d83510>"
            ]
          },
          "metadata": {},
          "execution_count": 59
        },
        {
          "output_type": "display_data",
          "data": {
            "text/plain": [
              "<Figure size 432x288 with 1 Axes>"
            ],
            "image/png": "[encoded data removed]"
          },
          "metadata": {
            "needs_background": "light"
          }
        }
      ]
    },
    {
      "cell_type": "code",
      "source": [
        "model = tf.keras.models.Sequential()\n",
        "model.add(tf.keras.layers.Dense(15,input_shape=[len(X.columns)],kernel_initializer=tf.keras.initializers.LecunNormal(seed=40)))\n",
        "\n",
        "model.add(tf.keras.layers.Dense(14,kernel_regularizer=tf.keras.regularizers.l2()))\n",
        "model.add(tf.keras.layers.Activation('elu'))\n",
        "model.add(tf.keras.layers.BatchNormalization())\n",
        "model.add(tf.keras.layers.Dropout(rate=0.2))\n",
        "\n",
        "model.add(tf.keras.layers.Dense(10,kernel_regularizer=tf.keras.regularizers.l2()))\n",
        "model.add(tf.keras.layers.Activation('elu'))\n",
        "model.add(tf.keras.layers.BatchNormalization())\n",
        "model.add(tf.keras.layers.Dropout(rate=0.2))\n",
        "\n",
        "model.add(tf.keras.layers.Dense(8,kernel_regularizer=tf.keras.regularizers.l2()))\n",
        "model.add(tf.keras.layers.Activation('elu'))\n",
        "model.add(tf.keras.layers.BatchNormalization())\n",
        "model.add(tf.keras.layers.Dropout(rate=0.2))\n",
        "model.add(tf.keras.layers.Dense(1, activation='linear'))\n",
        "\n",
        "model.compile(loss='mae',\n",
        "              optimizer=tf.keras.optimizers.Nadam(),\n",
        "              metrics='mae')\n",
        "\n",
        "history = model.fit(X_train_std, y_train, epochs=40, batch_size=70,\n",
        "                    validation_data=(X_val_std, y_val),verbose=1)"
      ],
      "metadata": {
        "id": "fKUYSEjRPDit",
        "outputId": "b7e80a5d-bb83-416d-ece3-be5fb35d49be",
        "colab": {
          "base_uri": "https://localhost:8080/"
        }
      },
      "execution_count": null,
      "outputs": [
        {
          "output_type": "stream",
          "name": "stdout",
          "text": [
            "Epoch 1/40\n",
            "223/223 [==============================] - 5s 9ms/step - loss: 539608.8125 - mae: 539608.6250 - val_loss: 540084.5000 - val_mae: 540084.1875\n",
            "Epoch 2/40\n",
            "223/223 [==============================] - 2s 7ms/step - loss: 539606.2500 - mae: 539606.0000 - val_loss: 540081.0000 - val_mae: 540080.9375\n",
            "Epoch 3/40\n",
            "223/223 [==============================] - 2s 7ms/step - loss: 539601.8125 - mae: 539601.6250 - val_loss: 540075.5625 - val_mae: 540075.5000\n",
            "Epoch 4/40\n",
            "223/223 [==============================] - 2s 7ms/step - loss: 539595.2500 - mae: 539595.0625 - val_loss: 540068.2500 - val_mae: 540068.1250\n",
            "Epoch 5/40\n",
            "223/223 [==============================] - 1s 7ms/step - loss: 539587.3750 - mae: 539587.3125 - val_loss: 540059.8125 - val_mae: 540059.6875\n",
            "Epoch 6/40\n",
            "223/223 [==============================] - 2s 7ms/step - loss: 539577.4375 - mae: 539577.2500 - val_loss: 540049.1875 - val_mae: 540049.0625\n",
            "Epoch 7/40\n",
            "223/223 [==============================] - 2s 7ms/step - loss: 539566.3125 - mae: 539566.2500 - val_loss: 540036.6250 - val_mae: 540036.5000\n",
            "Epoch 8/40\n",
            "223/223 [==============================] - 1s 7ms/step - loss: 539553.5000 - mae: 539553.4375 - val_loss: 540023.1250 - val_mae: 540023.0625\n",
            "Epoch 9/40\n",
            "223/223 [==============================] - 1s 7ms/step - loss: 539539.5625 - mae: 539539.5000 - val_loss: 540009.1875 - val_mae: 540009.1250\n",
            "Epoch 10/40\n",
            "223/223 [==============================] - 1s 7ms/step - loss: 539523.6875 - mae: 539523.6875 - val_loss: 539993.1250 - val_mae: 539993.1250\n",
            "Epoch 11/40\n",
            "223/223 [==============================] - 2s 7ms/step - loss: 539507.8125 - mae: 539507.6875 - val_loss: 539975.5625 - val_mae: 539975.5000\n",
            "Epoch 12/40\n",
            "223/223 [==============================] - 2s 7ms/step - loss: 539489.9375 - mae: 539489.8750 - val_loss: 539957.4375 - val_mae: 539957.3125\n",
            "Epoch 13/40\n",
            "223/223 [==============================] - 2s 7ms/step - loss: 539471.0625 - mae: 539471.0000 - val_loss: 539938.6250 - val_mae: 539938.5625\n",
            "Epoch 14/40\n",
            "223/223 [==============================] - 2s 7ms/step - loss: 539451.2500 - mae: 539451.2500 - val_loss: 539918.5000 - val_mae: 539918.3750\n",
            "Epoch 15/40\n",
            "223/223 [==============================] - 2s 7ms/step - loss: 539429.5625 - mae: 539429.4375 - val_loss: 539896.3750 - val_mae: 539896.2500\n",
            "Epoch 16/40\n",
            "223/223 [==============================] - 2s 7ms/step - loss: 539408.0625 - mae: 539408.0000 - val_loss: 539873.6875 - val_mae: 539873.6875\n",
            "Epoch 17/40\n",
            "223/223 [==============================] - 2s 7ms/step - loss: 539384.8750 - mae: 539384.8750 - val_loss: 539851.2500 - val_mae: 539851.1875\n",
            "Epoch 18/40\n",
            "223/223 [==============================] - 2s 10ms/step - loss: 539360.9375 - mae: 539360.8750 - val_loss: 539826.5000 - val_mae: 539826.4375\n",
            "Epoch 19/40\n",
            "223/223 [==============================] - 2s 11ms/step - loss: 539336.5625 - mae: 539336.5000 - val_loss: 539800.6250 - val_mae: 539800.5625\n",
            "Epoch 20/40\n",
            "223/223 [==============================] - 2s 10ms/step - loss: 539309.6250 - mae: 539309.5625 - val_loss: 539774.0625 - val_mae: 539773.9375\n",
            "Epoch 21/40\n",
            "223/223 [==============================] - 2s 9ms/step - loss: 539281.4375 - mae: 539281.3750 - val_loss: 539748.0000 - val_mae: 539747.8750\n",
            "Epoch 22/40\n",
            "223/223 [==============================] - 2s 7ms/step - loss: 539254.9375 - mae: 539254.9375 - val_loss: 539717.9375 - val_mae: 539717.8750\n",
            "Epoch 23/40\n",
            "223/223 [==============================] - 2s 7ms/step - loss: 539226.1875 - mae: 539226.1875 - val_loss: 539688.0000 - val_mae: 539688.0000\n",
            "Epoch 24/40\n",
            "223/223 [==============================] - 2s 7ms/step - loss: 539196.2500 - mae: 539196.1250 - val_loss: 539659.3125 - val_mae: 539659.3125\n",
            "Epoch 25/40\n",
            "223/223 [==============================] - 2s 9ms/step - loss: 539166.0000 - mae: 539165.8750 - val_loss: 539628.1250 - val_mae: 539628.1250\n",
            "Epoch 26/40\n",
            "223/223 [==============================] - 2s 10ms/step - loss: 539135.4375 - mae: 539135.4375 - val_loss: 539595.3750 - val_mae: 539595.3125\n",
            "Epoch 27/40\n",
            "223/223 [==============================] - 2s 8ms/step - loss: 539101.9375 - mae: 539101.8750 - val_loss: 539564.4375 - val_mae: 539564.3125\n",
            "Epoch 28/40\n",
            "223/223 [==============================] - 2s 9ms/step - loss: 539068.7500 - mae: 539068.6250 - val_loss: 539529.8125 - val_mae: 539529.7500\n",
            "Epoch 29/40\n",
            "223/223 [==============================] - 2s 10ms/step - loss: 539034.8750 - mae: 539034.8125 - val_loss: 539496.0625 - val_mae: 539496.0625\n",
            "Epoch 30/40\n",
            "223/223 [==============================] - 2s 8ms/step - loss: 538999.0000 - mae: 538999.0000 - val_loss: 539460.5625 - val_mae: 539460.5625\n",
            "Epoch 31/40\n",
            "223/223 [==============================] - 2s 10ms/step - loss: 538965.0625 - mae: 538965.0625 - val_loss: 539425.1250 - val_mae: 539425.0000\n",
            "Epoch 32/40\n",
            "223/223 [==============================] - 2s 9ms/step - loss: 538928.7500 - mae: 538928.7500 - val_loss: 539388.7500 - val_mae: 539388.6875\n",
            "Epoch 33/40\n",
            "223/223 [==============================] - 2s 7ms/step - loss: 538890.7500 - mae: 538890.6250 - val_loss: 539348.7500 - val_mae: 539348.6250\n",
            "Epoch 34/40\n",
            "223/223 [==============================] - 1s 7ms/step - loss: 538851.1875 - mae: 538851.1250 - val_loss: 539310.6250 - val_mae: 539310.5625\n",
            "Epoch 35/40\n",
            "223/223 [==============================] - 1s 7ms/step - loss: 538811.5625 - mae: 538811.5625 - val_loss: 539270.3125 - val_mae: 539270.3125\n",
            "Epoch 36/40\n",
            "223/223 [==============================] - 2s 9ms/step - loss: 538771.1250 - mae: 538771.0625 - val_loss: 539229.9375 - val_mae: 539229.9375\n",
            "Epoch 37/40\n",
            "223/223 [==============================] - 2s 10ms/step - loss: 538729.8750 - mae: 538729.8750 - val_loss: 539188.0000 - val_mae: 539188.0000\n",
            "Epoch 38/40\n",
            "223/223 [==============================] - 2s 7ms/step - loss: 538688.1250 - mae: 538688.0625 - val_loss: 539143.2500 - val_mae: 539143.2500\n",
            "Epoch 39/40\n",
            "223/223 [==============================] - 1s 7ms/step - loss: 538644.8750 - mae: 538644.8750 - val_loss: 539102.8125 - val_mae: 539102.7500\n",
            "Epoch 40/40\n",
            "223/223 [==============================] - 1s 7ms/step - loss: 538601.2500 - mae: 538601.1875 - val_loss: 539059.8125 - val_mae: 539059.7500\n"
          ]
        }
      ]
    },
    {
      "cell_type": "code",
      "source": [
        "model = tf.keras.models.Sequential()\n",
        "model.add(tf.keras.layers.Dense(64,input_shape=[len(X.columns)],kernel_initializer=tf.keras.initializers.LecunNormal(seed=40)))\n",
        "\n",
        "model.add(tf.keras.layers.Dense(32))\n",
        "model.add(tf.keras.layers.Activation('selu'))\n",
        "model.add(tf.keras.layers.BatchNormalization())\n",
        "model.add(tf.keras.layers.Dropout(rate=0.1))\n",
        "\n",
        "model.add(tf.keras.layers.Dense(16))\n",
        "model.add(tf.keras.layers.Activation('relu'))\n",
        "model.add(tf.keras.layers.BatchNormalization())\n",
        "model.add(tf.keras.layers.Dropout(rate=0.1))\n",
        "\n",
        "model.add(tf.keras.layers.Dense(8))\n",
        "model.add(tf.keras.layers.Activation('elu'))\n",
        "model.add(tf.keras.layers.BatchNormalization())\n",
        "model.add(tf.keras.layers.Dropout(rate=0.2))\n",
        "model.add(tf.keras.layers.Dense(1, activation='linear'))\n",
        "\n",
        "model.compile(loss='mae',\n",
        "              optimizer=tf.keras.optimizers.RMSprop(),\n",
        "              metrics='mae')\n",
        "\n",
        "history = model.fit(X_train_std, y_train, epochs=40, batch_size=70,\n",
        "                    validation_data=(X_val_std, y_val),verbose=1)"
      ],
      "metadata": {
        "id": "3dWSa1mUPNan",
        "outputId": "cfde1241-d0d5-417a-962a-b7a21fd19f45",
        "colab": {
          "base_uri": "https://localhost:8080/"
        }
      },
      "execution_count": null,
      "outputs": [
        {
          "output_type": "stream",
          "name": "stdout",
          "text": [
            "Epoch 1/40\n",
            "223/223 [==============================] - 3s 6ms/step - loss: 539608.3750 - mae: 539608.3750 - val_loss: 540084.5000 - val_mae: 540084.5000\n",
            "Epoch 2/40\n",
            "223/223 [==============================] - 1s 6ms/step - loss: 539606.8125 - mae: 539606.8125 - val_loss: 540082.0000 - val_mae: 540082.0000\n",
            "Epoch 3/40\n",
            "223/223 [==============================] - 1s 6ms/step - loss: 539604.4375 - mae: 539604.4375 - val_loss: 540079.1250 - val_mae: 540079.1250\n",
            "Epoch 4/40\n",
            "223/223 [==============================] - 1s 6ms/step - loss: 539601.1250 - mae: 539601.1250 - val_loss: 540075.5625 - val_mae: 540075.5625\n",
            "Epoch 5/40\n",
            "223/223 [==============================] - 1s 5ms/step - loss: 539597.0000 - mae: 539597.0000 - val_loss: 540071.2500 - val_mae: 540071.2500\n",
            "Epoch 6/40\n",
            "223/223 [==============================] - 1s 6ms/step - loss: 539592.2500 - mae: 539592.2500 - val_loss: 540066.1250 - val_mae: 540066.1250\n",
            "Epoch 7/40\n",
            "223/223 [==============================] - 1s 6ms/step - loss: 539586.6250 - mae: 539586.6250 - val_loss: 540059.6250 - val_mae: 540059.6250\n",
            "Epoch 8/40\n",
            "223/223 [==============================] - 1s 5ms/step - loss: 539580.2500 - mae: 539580.3125 - val_loss: 540053.6250 - val_mae: 540053.6250\n",
            "Epoch 9/40\n",
            "223/223 [==============================] - 1s 6ms/step - loss: 539573.0625 - mae: 539573.0625 - val_loss: 540045.6250 - val_mae: 540045.6250\n",
            "Epoch 10/40\n",
            "223/223 [==============================] - 1s 6ms/step - loss: 539564.8750 - mae: 539564.8750 - val_loss: 540037.3125 - val_mae: 540037.3125\n",
            "Epoch 11/40\n",
            "223/223 [==============================] - 1s 5ms/step - loss: 539556.1875 - mae: 539556.1875 - val_loss: 540028.4375 - val_mae: 540028.4375\n",
            "Epoch 12/40\n",
            "223/223 [==============================] - 1s 6ms/step - loss: 539546.4375 - mae: 539546.4375 - val_loss: 540018.4375 - val_mae: 540018.4375\n",
            "Epoch 13/40\n",
            "223/223 [==============================] - 1s 6ms/step - loss: 539536.3125 - mae: 539536.3125 - val_loss: 540008.0625 - val_mae: 540008.0000\n",
            "Epoch 14/40\n",
            "223/223 [==============================] - 1s 6ms/step - loss: 539524.8125 - mae: 539524.8125 - val_loss: 539995.6875 - val_mae: 539995.6875\n",
            "Epoch 15/40\n",
            "223/223 [==============================] - 1s 6ms/step - loss: 539513.0625 - mae: 539513.0625 - val_loss: 539983.8125 - val_mae: 539983.8125\n",
            "Epoch 16/40\n",
            "223/223 [==============================] - 1s 6ms/step - loss: 539500.1875 - mae: 539500.1875 - val_loss: 539970.5625 - val_mae: 539970.5625\n",
            "Epoch 17/40\n",
            "223/223 [==============================] - 1s 6ms/step - loss: 539486.7500 - mae: 539486.7500 - val_loss: 539955.8750 - val_mae: 539955.8750\n",
            "Epoch 18/40\n",
            "223/223 [==============================] - 1s 6ms/step - loss: 539472.3125 - mae: 539472.3125 - val_loss: 539941.2500 - val_mae: 539941.1875\n",
            "Epoch 19/40\n",
            "223/223 [==============================] - 1s 5ms/step - loss: 539457.5000 - mae: 539457.5000 - val_loss: 539925.6875 - val_mae: 539925.6875\n",
            "Epoch 20/40\n",
            "223/223 [==============================] - 1s 5ms/step - loss: 539441.4375 - mae: 539441.4375 - val_loss: 539908.8750 - val_mae: 539908.8750\n",
            "Epoch 21/40\n",
            "223/223 [==============================] - 1s 6ms/step - loss: 539424.4375 - mae: 539424.4375 - val_loss: 539892.2500 - val_mae: 539892.2500\n",
            "Epoch 22/40\n",
            "223/223 [==============================] - 2s 7ms/step - loss: 539407.2500 - mae: 539407.2500 - val_loss: 539873.5625 - val_mae: 539873.5625\n",
            "Epoch 23/40\n",
            "223/223 [==============================] - 2s 8ms/step - loss: 539387.8750 - mae: 539387.8750 - val_loss: 539855.0000 - val_mae: 539855.0000\n",
            "Epoch 24/40\n",
            "223/223 [==============================] - 2s 8ms/step - loss: 539369.1875 - mae: 539369.1875 - val_loss: 539836.6875 - val_mae: 539836.6875\n",
            "Epoch 25/40\n",
            "223/223 [==============================] - 2s 7ms/step - loss: 539349.6250 - mae: 539349.6250 - val_loss: 539816.1250 - val_mae: 539816.1250\n",
            "Epoch 26/40\n",
            "223/223 [==============================] - 1s 6ms/step - loss: 539329.0625 - mae: 539329.0625 - val_loss: 539795.1875 - val_mae: 539795.1875\n",
            "Epoch 27/40\n",
            "223/223 [==============================] - 1s 6ms/step - loss: 539306.8125 - mae: 539306.8125 - val_loss: 539772.8125 - val_mae: 539772.8125\n",
            "Epoch 28/40\n",
            "223/223 [==============================] - 1s 6ms/step - loss: 539285.2500 - mae: 539285.2500 - val_loss: 539750.0000 - val_mae: 539750.0000\n",
            "Epoch 29/40\n",
            "223/223 [==============================] - 1s 6ms/step - loss: 539261.1250 - mae: 539261.1250 - val_loss: 539726.5000 - val_mae: 539726.5000\n",
            "Epoch 30/40\n",
            "223/223 [==============================] - 1s 6ms/step - loss: 539238.3750 - mae: 539238.3750 - val_loss: 539701.8750 - val_mae: 539701.8750\n",
            "Epoch 31/40\n",
            "223/223 [==============================] - 1s 5ms/step - loss: 539213.3125 - mae: 539213.3125 - val_loss: 539678.3750 - val_mae: 539678.3750\n",
            "Epoch 32/40\n",
            "223/223 [==============================] - 1s 6ms/step - loss: 539188.5625 - mae: 539188.5000 - val_loss: 539650.9375 - val_mae: 539650.9375\n",
            "Epoch 33/40\n",
            "223/223 [==============================] - 1s 6ms/step - loss: 539161.0000 - mae: 539161.0000 - val_loss: 539624.4375 - val_mae: 539624.4375\n",
            "Epoch 34/40\n",
            "223/223 [==============================] - 1s 6ms/step - loss: 539133.3750 - mae: 539133.3750 - val_loss: 539596.8125 - val_mae: 539596.8125\n",
            "Epoch 35/40\n",
            "223/223 [==============================] - 1s 6ms/step - loss: 539107.6250 - mae: 539107.6250 - val_loss: 539569.5625 - val_mae: 539569.5625\n",
            "Epoch 36/40\n",
            "223/223 [==============================] - 1s 6ms/step - loss: 539078.8125 - mae: 539078.8125 - val_loss: 539539.1250 - val_mae: 539539.1250\n",
            "Epoch 37/40\n",
            "223/223 [==============================] - 1s 6ms/step - loss: 539048.1875 - mae: 539048.1875 - val_loss: 539512.5000 - val_mae: 539512.5000\n",
            "Epoch 38/40\n",
            "223/223 [==============================] - 1s 6ms/step - loss: 539018.5625 - mae: 539018.5625 - val_loss: 539479.6875 - val_mae: 539479.6875\n",
            "Epoch 39/40\n",
            "223/223 [==============================] - 1s 6ms/step - loss: 538987.4375 - mae: 538987.4375 - val_loss: 539450.0000 - val_mae: 539450.0000\n",
            "Epoch 40/40\n",
            "223/223 [==============================] - 1s 6ms/step - loss: 538954.0625 - mae: 538954.1250 - val_loss: 539418.3750 - val_mae: 539418.3750\n"
          ]
        }
      ]
    },
    {
      "cell_type": "code",
      "source": [
        "fig, ax = plt.subplots()\n",
        "ax.plot(range(40),history.history['loss'],label='train loss')\n",
        "ax.plot(range(40),history.history['val_loss'],label='val loss')\n",
        "#plt.gca().set_ylim(220000, 223000)\n",
        "ax.set_xlabel('Epoch')\n",
        "ax.set_ylabel('Loss')\n",
        "plt.legend()"
      ],
      "metadata": {
        "id": "RP6nV5rCPoGc",
        "outputId": "f8f88df1-99d7-41a7-8e16-eb1edf43b29d",
        "colab": {
          "base_uri": "https://localhost:8080/",
          "height": 296
        }
      },
      "execution_count": null,
      "outputs": [
        {
          "output_type": "execute_result",
          "data": {
            "text/plain": [
              "<matplotlib.legend.Legend at 0x7fb504abbe90>"
            ]
          },
          "metadata": {},
          "execution_count": 63
        },
        {
          "output_type": "display_data",
          "data": {
            "text/plain": [
              "<Figure size 432x288 with 1 Axes>"
            ],
            "image/png": "[encoded data removed]"
          },
          "metadata": {
            "needs_background": "light"
          }
        }
      ]
    },
    {
      "cell_type": "markdown",
      "source": [
        "## Momentum & Nesterov"
      ],
      "metadata": {
        "id": "HdWETpE3DGD_"
      }
    },
    {
      "cell_type": "code",
      "source": [
        "tf.random.set_seed(42) # gunakan set_seed untuk menghasilkan model yang mempunyai performa yang sama\n",
        "\n",
        "model = tf.keras.models.Sequential()\n",
        "model.add(tf.keras.layers.Dense(15,input_shape=[len(X.columns)],kernel_initializer=tf.keras.initializers.GlorotNormal(seed=40)))\n",
        "model.add(tf.keras.layers.Dense(14))\n",
        "model.add(tf.keras.layers.Activation('relu'))\n",
        "model.add(tf.keras.layers.BatchNormalization())\n",
        "model.add(tf.keras.layers.Dropout(rate=0.2))\n",
        "model.add(tf.keras.layers.Dense(10))\n",
        "model.add(tf.keras.layers.Activation('relu'))\n",
        "model.add(tf.keras.layers.BatchNormalization())\n",
        "model.add(tf.keras.layers.Dropout(rate=0.2))\n",
        "model.add(tf.keras.layers.Dense(8))\n",
        "model.add(tf.keras.layers.Activation('relu'))\n",
        "model.add(tf.keras.layers.BatchNormalization())\n",
        "model.add(tf.keras.layers.Dropout(rate=0.2))\n",
        "model.add(tf.keras.layers.Dense(1, activation='linear'))\n",
        "\n",
        "model.compile(loss='mae',\n",
        "              optimizer=tf.keras.optimizers.SGD(momentum=0.9, nesterov=True),\n",
        "              metrics='mae')\n",
        "\n",
        "history = model.fit(X_train_std, y_train, epochs=40, batch_size=70,\n",
        "                    validation_data=(X_val_std, y_val),verbose=1)"
      ],
      "metadata": {
        "colab": {
          "base_uri": "https://localhost:8080/"
        },
        "id": "KiBP60YaCjNr",
        "outputId": "1c7cfc19-e9db-4a88-aa0f-e489e723f843"
      },
      "execution_count": null,
      "outputs": [
        {
          "output_type": "stream",
          "name": "stdout",
          "text": [
            "Epoch 1/40\n",
            "223/223 [==============================] - 5s 6ms/step - loss: 332405.3125 - mae: 332405.2812 - val_loss: 679276.6875 - val_mae: 679276.6875\n",
            "Epoch 2/40\n",
            "223/223 [==============================] - 1s 5ms/step - loss: 111600.2031 - mae: 111600.2031 - val_loss: 81992.5312 - val_mae: 81992.5312\n",
            "Epoch 3/40\n",
            "223/223 [==============================] - 1s 5ms/step - loss: 107621.0000 - mae: 107621.0000 - val_loss: 36961.3945 - val_mae: 36961.3945\n",
            "Epoch 4/40\n",
            "223/223 [==============================] - 1s 5ms/step - loss: 106908.2578 - mae: 106908.2578 - val_loss: 53138.2617 - val_mae: 53138.2617\n",
            "Epoch 5/40\n",
            "223/223 [==============================] - 1s 5ms/step - loss: 108843.0703 - mae: 108843.0703 - val_loss: 53862.7578 - val_mae: 53862.7578\n",
            "Epoch 6/40\n",
            "223/223 [==============================] - 1s 5ms/step - loss: 106463.1641 - mae: 106463.1641 - val_loss: 42562.5508 - val_mae: 42562.5508\n",
            "Epoch 7/40\n",
            "223/223 [==============================] - 1s 5ms/step - loss: 108463.6875 - mae: 108463.6875 - val_loss: 77537.7109 - val_mae: 77537.7109\n",
            "Epoch 8/40\n",
            "223/223 [==============================] - 1s 5ms/step - loss: 108087.7266 - mae: 108087.7266 - val_loss: 28673.6016 - val_mae: 28673.6016\n",
            "Epoch 9/40\n",
            "223/223 [==============================] - 1s 5ms/step - loss: 108816.2969 - mae: 108816.2969 - val_loss: 66887.0625 - val_mae: 66887.0625\n",
            "Epoch 10/40\n",
            "223/223 [==============================] - 1s 5ms/step - loss: 108125.0781 - mae: 108125.0781 - val_loss: 45042.3438 - val_mae: 45042.3438\n",
            "Epoch 11/40\n",
            "223/223 [==============================] - 1s 5ms/step - loss: 106778.8594 - mae: 106778.8594 - val_loss: 37588.4531 - val_mae: 37588.4531\n",
            "Epoch 12/40\n",
            "223/223 [==============================] - 1s 5ms/step - loss: 106906.5078 - mae: 106906.5078 - val_loss: 37649.1445 - val_mae: 37649.1406\n",
            "Epoch 13/40\n",
            "223/223 [==============================] - 1s 5ms/step - loss: 105990.8750 - mae: 105990.8672 - val_loss: 53976.3242 - val_mae: 53976.3242\n",
            "Epoch 14/40\n",
            "223/223 [==============================] - 1s 5ms/step - loss: 108029.6094 - mae: 108029.6094 - val_loss: 26940.5762 - val_mae: 26940.5762\n",
            "Epoch 15/40\n",
            "223/223 [==============================] - 1s 5ms/step - loss: 106478.3125 - mae: 106478.3125 - val_loss: 51152.7812 - val_mae: 51152.7812\n",
            "Epoch 16/40\n",
            "223/223 [==============================] - 1s 5ms/step - loss: 108442.8125 - mae: 108442.8125 - val_loss: 38547.1406 - val_mae: 38547.1406\n",
            "Epoch 17/40\n",
            "223/223 [==============================] - 1s 5ms/step - loss: 107651.6016 - mae: 107651.6016 - val_loss: 47812.1523 - val_mae: 47812.1523\n",
            "Epoch 18/40\n",
            "223/223 [==============================] - 1s 5ms/step - loss: 105983.4297 - mae: 105983.4297 - val_loss: 46470.1133 - val_mae: 46470.1133\n",
            "Epoch 19/40\n",
            "223/223 [==============================] - 1s 5ms/step - loss: 106399.8281 - mae: 106399.8281 - val_loss: 22091.8535 - val_mae: 22091.8535\n",
            "Epoch 20/40\n",
            "223/223 [==============================] - 1s 5ms/step - loss: 108480.5859 - mae: 108480.5859 - val_loss: 35420.0625 - val_mae: 35420.0547\n",
            "Epoch 21/40\n",
            "223/223 [==============================] - 1s 5ms/step - loss: 106158.8203 - mae: 106158.8203 - val_loss: 52518.2578 - val_mae: 52518.2578\n",
            "Epoch 22/40\n",
            "223/223 [==============================] - 1s 5ms/step - loss: 106361.6016 - mae: 106361.6016 - val_loss: 61196.8555 - val_mae: 61196.8555\n",
            "Epoch 23/40\n",
            "223/223 [==============================] - 1s 5ms/step - loss: 106159.7031 - mae: 106159.7031 - val_loss: 31671.0938 - val_mae: 31671.0938\n",
            "Epoch 24/40\n",
            "223/223 [==============================] - 1s 5ms/step - loss: 107316.0156 - mae: 107316.0156 - val_loss: 31766.6055 - val_mae: 31766.6055\n",
            "Epoch 25/40\n",
            "223/223 [==============================] - 1s 5ms/step - loss: 104689.4141 - mae: 104689.4141 - val_loss: 42937.9609 - val_mae: 42937.9609\n",
            "Epoch 26/40\n",
            "223/223 [==============================] - 1s 5ms/step - loss: 106207.9297 - mae: 106207.9297 - val_loss: 57460.4727 - val_mae: 57460.4727\n",
            "Epoch 27/40\n",
            "223/223 [==============================] - 1s 5ms/step - loss: 106805.8828 - mae: 106805.8828 - val_loss: 52788.6211 - val_mae: 52788.6211\n",
            "Epoch 28/40\n",
            "223/223 [==============================] - 1s 5ms/step - loss: 105904.1875 - mae: 105904.1875 - val_loss: 37103.9062 - val_mae: 37103.9062\n",
            "Epoch 29/40\n",
            "223/223 [==============================] - 1s 5ms/step - loss: 106020.8984 - mae: 106020.8984 - val_loss: 50409.5078 - val_mae: 50409.5078\n",
            "Epoch 30/40\n",
            "223/223 [==============================] - 1s 5ms/step - loss: 106875.8750 - mae: 106875.8750 - val_loss: 39044.8125 - val_mae: 39044.8125\n",
            "Epoch 31/40\n",
            "223/223 [==============================] - 1s 5ms/step - loss: 107771.8281 - mae: 107771.8281 - val_loss: 71827.9531 - val_mae: 71827.9531\n",
            "Epoch 32/40\n",
            "223/223 [==============================] - 1s 5ms/step - loss: 107023.1016 - mae: 107023.1016 - val_loss: 31990.6602 - val_mae: 31990.6602\n",
            "Epoch 33/40\n",
            "223/223 [==============================] - 1s 5ms/step - loss: 106024.8438 - mae: 106024.8438 - val_loss: 70072.8203 - val_mae: 70072.8203\n",
            "Epoch 34/40\n",
            "223/223 [==============================] - 1s 5ms/step - loss: 106752.6562 - mae: 106752.6562 - val_loss: 57894.0352 - val_mae: 57894.0352\n",
            "Epoch 35/40\n",
            "223/223 [==============================] - 2s 8ms/step - loss: 106081.6250 - mae: 106081.6250 - val_loss: 49981.7969 - val_mae: 49981.7969\n",
            "Epoch 36/40\n",
            "223/223 [==============================] - 2s 9ms/step - loss: 106005.8438 - mae: 106005.8438 - val_loss: 71830.1172 - val_mae: 71830.1250\n",
            "Epoch 37/40\n",
            "223/223 [==============================] - 2s 8ms/step - loss: 106309.1328 - mae: 106309.1328 - val_loss: 95476.4609 - val_mae: 95476.4609\n",
            "Epoch 38/40\n",
            "223/223 [==============================] - 2s 8ms/step - loss: 107990.2578 - mae: 107990.2578 - val_loss: 50798.4922 - val_mae: 50798.4922\n",
            "Epoch 39/40\n",
            "223/223 [==============================] - 1s 6ms/step - loss: 105805.5000 - mae: 105805.5000 - val_loss: 44317.9102 - val_mae: 44317.9102\n",
            "Epoch 40/40\n",
            "223/223 [==============================] - 1s 5ms/step - loss: 106156.8047 - mae: 106156.8047 - val_loss: 57786.9141 - val_mae: 57786.9141\n"
          ]
        }
      ]
    },
    {
      "cell_type": "code",
      "source": [
        "fig, ax = plt.subplots()\n",
        "ax.plot(range(40),history.history['loss'],label='train loss')\n",
        "ax.plot(range(40),history.history['val_loss'],label='val loss')\n",
        "#plt.gca().set_ylim(220000, 223000)\n",
        "ax.set_xlabel('Epoch')\n",
        "ax.set_ylabel('Loss')\n",
        "plt.legend()"
      ],
      "metadata": {
        "colab": {
          "base_uri": "https://localhost:8080/",
          "height": 297
        },
        "id": "zs_CUZx2Cnhl",
        "outputId": "a3551b54-3850-493a-d850-f2c6f4efa94f"
      },
      "execution_count": null,
      "outputs": [
        {
          "output_type": "execute_result",
          "data": {
            "text/plain": [
              "<matplotlib.legend.Legend at 0x7f92f0033390>"
            ]
          },
          "metadata": {},
          "execution_count": 9
        },
        {
          "output_type": "display_data",
          "data": {
            "text/plain": [
              "<Figure size 432x288 with 1 Axes>"
            ],
            "image/png": "[encoded data removed]"
          },
          "metadata": {
            "needs_background": "light"
          }
        }
      ]
    },
    {
      "cell_type": "markdown",
      "source": [
        "## Final Model"
      ],
      "metadata": {
        "id": "VuBxm5dYQjYh"
      }
    },
    {
      "cell_type": "code",
      "source": [
        "tf.random.set_seed(42) # gunakan set_seed untuk menghasilkan model yang mempunyai performa yang sama\n",
        "\n",
        "model = tf.keras.models.Sequential()\n",
        "model.add(tf.keras.layers.Dense(15,input_shape=[len(X.columns)],kernel_initializer=tf.keras.initializers.GlorotNormal(seed=40)))\n",
        "model.add(tf.keras.layers.Dense(14))\n",
        "model.add(tf.keras.layers.BatchNormalization())\n",
        "model.add(tf.keras.layers.Activation('relu'))\n",
        "\n",
        "model.add(tf.keras.layers.Dense(10))\n",
        "model.add(tf.keras.layers.BatchNormalization())\n",
        "model.add(tf.keras.layers.Activation('relu'))\n",
        "\n",
        "model.add(tf.keras.layers.Dense(8))\n",
        "model.add(tf.keras.layers.BatchNormalization())\n",
        "model.add(tf.keras.layers.Activation('relu'))\n",
        "\n",
        "model.add(tf.keras.layers.Dense(1, activation='linear'))\n",
        "\n",
        "model.compile(loss='mae',\n",
        "              optimizer=tf.keras.optimizers.SGD(nesterov=True),\n",
        "              metrics=tf.keras.metrics.RootMeanSquaredError())\n",
        "\n",
        "history = model.fit(X_train_std, y_train, epochs=40, batch_size=70,\n",
        "                    validation_data=(X_val_std, y_val),verbose=1)"
      ],
      "metadata": {
        "id": "ki2nl6KLQOna",
        "outputId": "f8f7a3b4-8801-49ad-f6b2-1dc0b70e4a8c",
        "colab": {
          "base_uri": "https://localhost:8080/"
        }
      },
      "execution_count": null,
      "outputs": [
        {
          "output_type": "stream",
          "name": "stdout",
          "text": [
            "Epoch 1/40\n",
            "223/223 [==============================] - 2s 5ms/step - loss: 540463.3125 - root_mean_squared_error: 656661.0000 - val_loss: 542838.0000 - val_root_mean_squared_error: 645919.7500\n",
            "Epoch 2/40\n",
            "223/223 [==============================] - 1s 5ms/step - loss: 540309.4375 - root_mean_squared_error: 656535.5625 - val_loss: 542173.5625 - val_root_mean_squared_error: 645391.4375\n",
            "Epoch 3/40\n",
            "223/223 [==============================] - 1s 5ms/step - loss: 528268.0000 - root_mean_squared_error: 646853.1875 - val_loss: 486394.8125 - val_root_mean_squared_error: 599273.6250\n",
            "Epoch 4/40\n",
            "223/223 [==============================] - 1s 5ms/step - loss: 245006.5156 - root_mean_squared_error: 418050.1562 - val_loss: 289287.9688 - val_root_mean_squared_error: 341344.5312\n",
            "Epoch 5/40\n",
            "223/223 [==============================] - 1s 5ms/step - loss: 60666.6562 - root_mean_squared_error: 155293.6406 - val_loss: 215419.0000 - val_root_mean_squared_error: 243480.4375\n",
            "Epoch 6/40\n",
            "223/223 [==============================] - 1s 5ms/step - loss: 54596.5547 - root_mean_squared_error: 134986.3594 - val_loss: 111954.8828 - val_root_mean_squared_error: 184272.0781\n",
            "Epoch 7/40\n",
            "223/223 [==============================] - 1s 5ms/step - loss: 59043.4609 - root_mean_squared_error: 131268.4531 - val_loss: 35821.9688 - val_root_mean_squared_error: 61702.0469\n",
            "Epoch 8/40\n",
            "223/223 [==============================] - 1s 5ms/step - loss: 55359.2773 - root_mean_squared_error: 128763.1016 - val_loss: 20347.2402 - val_root_mean_squared_error: 35123.8516\n",
            "Epoch 9/40\n",
            "223/223 [==============================] - 1s 5ms/step - loss: 58219.8555 - root_mean_squared_error: 131768.6562 - val_loss: 36289.4883 - val_root_mean_squared_error: 53684.0273\n",
            "Epoch 10/40\n",
            "223/223 [==============================] - 1s 5ms/step - loss: 64427.2461 - root_mean_squared_error: 160973.2344 - val_loss: 219857.8125 - val_root_mean_squared_error: 256067.9375\n",
            "Epoch 11/40\n",
            "223/223 [==============================] - 1s 5ms/step - loss: 54208.8984 - root_mean_squared_error: 138708.2500 - val_loss: 108984.1797 - val_root_mean_squared_error: 140452.6406\n",
            "Epoch 12/40\n",
            "223/223 [==============================] - 1s 5ms/step - loss: 54487.7109 - root_mean_squared_error: 135971.3438 - val_loss: 100196.0156 - val_root_mean_squared_error: 127560.6016\n",
            "Epoch 13/40\n",
            "223/223 [==============================] - 1s 5ms/step - loss: 51768.9297 - root_mean_squared_error: 129297.9688 - val_loss: 60592.7578 - val_root_mean_squared_error: 82789.0000\n",
            "Epoch 14/40\n",
            "223/223 [==============================] - 1s 5ms/step - loss: 51502.4297 - root_mean_squared_error: 129659.1328 - val_loss: 38426.9180 - val_root_mean_squared_error: 82738.4375\n",
            "Epoch 15/40\n",
            "223/223 [==============================] - 1s 5ms/step - loss: 50903.0742 - root_mean_squared_error: 127658.2812 - val_loss: 48819.8008 - val_root_mean_squared_error: 85109.6641\n",
            "Epoch 16/40\n",
            "223/223 [==============================] - 1s 5ms/step - loss: 51868.9688 - root_mean_squared_error: 127855.6172 - val_loss: 52188.2852 - val_root_mean_squared_error: 82537.4141\n",
            "Epoch 17/40\n",
            "223/223 [==============================] - 1s 5ms/step - loss: 51692.9727 - root_mean_squared_error: 126624.0156 - val_loss: 61955.3477 - val_root_mean_squared_error: 114710.7109\n",
            "Epoch 18/40\n",
            "223/223 [==============================] - 1s 5ms/step - loss: 50020.9453 - root_mean_squared_error: 125900.2422 - val_loss: 32028.3965 - val_root_mean_squared_error: 73537.7031\n",
            "Epoch 19/40\n",
            "223/223 [==============================] - 1s 5ms/step - loss: 51954.0781 - root_mean_squared_error: 133595.2656 - val_loss: 32557.4121 - val_root_mean_squared_error: 76542.4531\n",
            "Epoch 20/40\n",
            "223/223 [==============================] - 1s 5ms/step - loss: 51834.8320 - root_mean_squared_error: 134020.9375 - val_loss: 21291.5566 - val_root_mean_squared_error: 70581.1406\n",
            "Epoch 21/40\n",
            "223/223 [==============================] - 1s 5ms/step - loss: 54120.0703 - root_mean_squared_error: 135223.0625 - val_loss: 38590.1680 - val_root_mean_squared_error: 97677.7188\n",
            "Epoch 22/40\n",
            "223/223 [==============================] - 1s 5ms/step - loss: 52284.5117 - root_mean_squared_error: 131639.3906 - val_loss: 50355.3555 - val_root_mean_squared_error: 109199.5781\n",
            "Epoch 23/40\n",
            "223/223 [==============================] - 1s 5ms/step - loss: 53019.6172 - root_mean_squared_error: 132689.1719 - val_loss: 15787.0078 - val_root_mean_squared_error: 74374.3828\n",
            "Epoch 24/40\n",
            "223/223 [==============================] - 1s 5ms/step - loss: 52755.9688 - root_mean_squared_error: 136780.8906 - val_loss: 34685.3477 - val_root_mean_squared_error: 82585.6641\n",
            "Epoch 25/40\n",
            "223/223 [==============================] - 1s 5ms/step - loss: 52755.9531 - root_mean_squared_error: 134007.5625 - val_loss: 39966.3047 - val_root_mean_squared_error: 91638.0625\n",
            "Epoch 26/40\n",
            "223/223 [==============================] - 1s 5ms/step - loss: 52964.3281 - root_mean_squared_error: 129789.3750 - val_loss: 29136.5156 - val_root_mean_squared_error: 66161.4141\n",
            "Epoch 27/40\n",
            "223/223 [==============================] - 1s 5ms/step - loss: 52136.4375 - root_mean_squared_error: 125699.7500 - val_loss: 40938.5898 - val_root_mean_squared_error: 90347.2031\n",
            "Epoch 28/40\n",
            "223/223 [==============================] - 1s 5ms/step - loss: 48835.7188 - root_mean_squared_error: 125790.3750 - val_loss: 29187.3809 - val_root_mean_squared_error: 78548.3125\n",
            "Epoch 29/40\n",
            "223/223 [==============================] - 1s 5ms/step - loss: 51461.2969 - root_mean_squared_error: 123974.7344 - val_loss: 87378.3047 - val_root_mean_squared_error: 120020.0078\n",
            "Epoch 30/40\n",
            "223/223 [==============================] - 1s 5ms/step - loss: 47557.2773 - root_mean_squared_error: 120432.5469 - val_loss: 38031.8945 - val_root_mean_squared_error: 74638.5234\n",
            "Epoch 31/40\n",
            "223/223 [==============================] - 1s 5ms/step - loss: 51785.7695 - root_mean_squared_error: 123438.0469 - val_loss: 26490.7637 - val_root_mean_squared_error: 71461.8125\n",
            "Epoch 32/40\n",
            "223/223 [==============================] - 1s 5ms/step - loss: 51085.1680 - root_mean_squared_error: 126252.6953 - val_loss: 32547.5742 - val_root_mean_squared_error: 74658.0312\n",
            "Epoch 33/40\n",
            "223/223 [==============================] - 1s 5ms/step - loss: 52361.3633 - root_mean_squared_error: 135943.6875 - val_loss: 39908.2031 - val_root_mean_squared_error: 96209.1094\n",
            "Epoch 34/40\n",
            "223/223 [==============================] - 1s 5ms/step - loss: 50717.7930 - root_mean_squared_error: 125542.5859 - val_loss: 20699.8809 - val_root_mean_squared_error: 66048.3750\n",
            "Epoch 35/40\n",
            "223/223 [==============================] - 1s 5ms/step - loss: 47882.1797 - root_mean_squared_error: 127496.4453 - val_loss: 24027.8652 - val_root_mean_squared_error: 81986.7969\n",
            "Epoch 36/40\n",
            "223/223 [==============================] - 1s 5ms/step - loss: 49443.5078 - root_mean_squared_error: 128276.2812 - val_loss: 17481.9277 - val_root_mean_squared_error: 75870.5156\n",
            "Epoch 37/40\n",
            "223/223 [==============================] - 1s 5ms/step - loss: 50731.6406 - root_mean_squared_error: 131315.7812 - val_loss: 46732.7109 - val_root_mean_squared_error: 95810.0000\n",
            "Epoch 38/40\n",
            "223/223 [==============================] - 1s 5ms/step - loss: 54220.0547 - root_mean_squared_error: 138514.2188 - val_loss: 74868.9766 - val_root_mean_squared_error: 141450.5156\n",
            "Epoch 39/40\n",
            "223/223 [==============================] - 1s 5ms/step - loss: 51033.8086 - root_mean_squared_error: 130663.2500 - val_loss: 40405.5547 - val_root_mean_squared_error: 96376.8750\n",
            "Epoch 40/40\n",
            "223/223 [==============================] - 1s 5ms/step - loss: 50996.1328 - root_mean_squared_error: 126697.0000 - val_loss: 40187.7344 - val_root_mean_squared_error: 94340.5000\n"
          ]
        }
      ]
    },
    {
      "cell_type": "code",
      "source": [
        "fig, ax = plt.subplots()\n",
        "ax.plot(range(40),history.history['loss'],label='train loss')\n",
        "ax.plot(range(40),history.history['val_loss'],label='val loss')\n",
        "#plt.gca().set_ylim(220000, 223000)\n",
        "ax.set_xlabel('Epoch')\n",
        "ax.set_ylabel('Loss')\n",
        "plt.legend()"
      ],
      "metadata": {
        "colab": {
          "base_uri": "https://localhost:8080/",
          "height": 296
        },
        "id": "gNSBuOijFgrx",
        "outputId": "8337668a-d336-4e35-80c6-032b2777e558"
      },
      "execution_count": null,
      "outputs": [
        {
          "output_type": "execute_result",
          "data": {
            "text/plain": [
              "<matplotlib.legend.Legend at 0x7f0ae8b4f410>"
            ]
          },
          "metadata": {},
          "execution_count": 75
        },
        {
          "output_type": "display_data",
          "data": {
            "text/plain": [
              "<Figure size 432x288 with 1 Axes>"
            ],
            "image/png": "[encoded data removed]"
          },
          "metadata": {
            "needs_background": "light"
          }
        }
      ]
    },
    {
      "cell_type": "markdown",
      "source": [
        "## Evaluation & Prediction"
      ],
      "metadata": {
        "id": "yYN0zLN9TWjP"
      }
    },
    {
      "cell_type": "code",
      "source": [
        "model.evaluate(X_test_std, y_test) "
      ],
      "metadata": {
        "id": "LIInSDLSR2nF",
        "outputId": "351291c9-db7a-41f3-dee9-5a84277f1407",
        "colab": {
          "base_uri": "https://localhost:8080/"
        }
      },
      "execution_count": null,
      "outputs": [
        {
          "output_type": "stream",
          "name": "stdout",
          "text": [
            "68/68 [==============================] - 0s 2ms/step - loss: 39581.6055 - root_mean_squared_error: 104816.7891\n"
          ]
        },
        {
          "output_type": "execute_result",
          "data": {
            "text/plain": [
              "[39581.60546875, 104816.7890625]"
            ]
          },
          "metadata": {},
          "execution_count": 76
        }
      ]
    },
    {
      "cell_type": "code",
      "source": [
        "X_new = X_test_std[25]"
      ],
      "metadata": {
        "id": "sYJTr-LYSEbU"
      },
      "execution_count": null,
      "outputs": []
    },
    {
      "cell_type": "code",
      "source": [
        "X_new.shape"
      ],
      "metadata": {
        "id": "KMz5VhDkSf-r",
        "outputId": "e862add6-fb33-4c4b-f80c-26118cdfc32a",
        "colab": {
          "base_uri": "https://localhost:8080/"
        }
      },
      "execution_count": null,
      "outputs": [
        {
          "output_type": "execute_result",
          "data": {
            "text/plain": [
              "(18,)"
            ]
          },
          "metadata": {},
          "execution_count": 85
        }
      ]
    },
    {
      "cell_type": "code",
      "source": [
        "X_new = X_new.reshape(1,18)"
      ],
      "metadata": {
        "id": "5aKnHHPyS32g"
      },
      "execution_count": null,
      "outputs": []
    },
    {
      "cell_type": "code",
      "source": [
        "X_new.shape"
      ],
      "metadata": {
        "id": "o0dWlayXTFGG",
        "outputId": "d8291aa1-dece-4a2f-d876-764f5a0343a3",
        "colab": {
          "base_uri": "https://localhost:8080/"
        }
      },
      "execution_count": null,
      "outputs": [
        {
          "output_type": "execute_result",
          "data": {
            "text/plain": [
              "(1, 18)"
            ]
          },
          "metadata": {},
          "execution_count": 87
        }
      ]
    },
    {
      "cell_type": "code",
      "source": [
        "y_pred = model.predict(X_new)"
      ],
      "metadata": {
        "id": "ivFo-QHuShks"
      },
      "execution_count": null,
      "outputs": []
    },
    {
      "cell_type": "markdown",
      "source": [
        "hasil prediksi"
      ],
      "metadata": {
        "id": "PQXwaGQMAq7v"
      }
    },
    {
      "cell_type": "code",
      "source": [
        "y_pred"
      ],
      "metadata": {
        "id": "EFeT2YlPSvBV",
        "outputId": "624b9c51-26c3-4abe-f481-45e6d658f862",
        "colab": {
          "base_uri": "https://localhost:8080/"
        }
      },
      "execution_count": null,
      "outputs": [
        {
          "output_type": "execute_result",
          "data": {
            "text/plain": [
              "array([[261948.48]], dtype=float32)"
            ]
          },
          "metadata": {},
          "execution_count": 89
        }
      ]
    },
    {
      "cell_type": "markdown",
      "source": [
        "membandingkan dengan data asli"
      ],
      "metadata": {
        "id": "xTu8pUOYAsyb"
      }
    },
    {
      "cell_type": "code",
      "source": [
        "y_test.iloc[25]"
      ],
      "metadata": {
        "colab": {
          "base_uri": "https://localhost:8080/"
        },
        "id": "V-q9g_GTAhKD",
        "outputId": "36757f10-dd3b-412c-b736-deed0fdd90b9"
      },
      "execution_count": null,
      "outputs": [
        {
          "output_type": "execute_result",
          "data": {
            "text/plain": [
              "240000.0"
            ]
          },
          "metadata": {},
          "execution_count": 90
        }
      ]
    },
    {
      "cell_type": "markdown",
      "source": [
        "## Scaling Y"
      ],
      "metadata": {
        "id": "KTgnPN6s7bo4"
      }
    },
    {
      "cell_type": "code",
      "source": [
        "y_train_std = y_train/y_train.max()\n",
        "y_val_std = y_val/y_val.max()\n",
        "y_test_std = y_test/y_test.max()"
      ],
      "metadata": {
        "id": "16FUO1ziTTVi"
      },
      "execution_count": null,
      "outputs": []
    },
    {
      "cell_type": "code",
      "source": [
        "tf.random.set_seed(42) # gunakan set_seed untuk menghasilkan model yang mempunyai performa yang sama\n",
        "\n",
        "model = tf.keras.models.Sequential()\n",
        "model.add(tf.keras.layers.Dense(15,input_shape=[len(X.columns)],kernel_initializer=tf.keras.initializers.GlorotNormal(seed=40)))\n",
        "model.add(tf.keras.layers.Dense(14))\n",
        "model.add(tf.keras.layers.BatchNormalization())\n",
        "model.add(tf.keras.layers.Activation('relu'))\n",
        "\n",
        "model.add(tf.keras.layers.Dense(10))\n",
        "model.add(tf.keras.layers.BatchNormalization())\n",
        "model.add(tf.keras.layers.Activation('relu'))\n",
        "\n",
        "model.add(tf.keras.layers.Dense(8))\n",
        "model.add(tf.keras.layers.BatchNormalization())\n",
        "model.add(tf.keras.layers.Activation('relu'))\n",
        "\n",
        "model.add(tf.keras.layers.Dense(1, activation='linear'))\n",
        "\n",
        "model.compile(loss='mae',\n",
        "              optimizer=tf.keras.optimizers.SGD(nesterov=True),\n",
        "              metrics=tf.keras.metrics.RootMeanSquaredError())\n",
        "\n",
        "history = model.fit(X_train_std, y_train_std, epochs=40, batch_size=70,\n",
        "                    validation_data=(X_val_std, y_val_std),verbose=1)"
      ],
      "metadata": {
        "colab": {
          "base_uri": "https://localhost:8080/"
        },
        "id": "1UcReJWD7Zmn",
        "outputId": "df2a9910-2c28-46e4-e9fa-636a8a2c6b35"
      },
      "execution_count": null,
      "outputs": [
        {
          "output_type": "stream",
          "name": "stdout",
          "text": [
            "Epoch 1/40\n",
            "223/223 [==============================] - 3s 9ms/step - loss: 0.0962 - root_mean_squared_error: 0.1911 - val_loss: 0.0837 - val_root_mean_squared_error: 0.1319\n",
            "Epoch 2/40\n",
            "223/223 [==============================] - 2s 8ms/step - loss: 0.0336 - root_mean_squared_error: 0.0602 - val_loss: 0.0849 - val_root_mean_squared_error: 0.1228\n",
            "Epoch 3/40\n",
            "223/223 [==============================] - 2s 9ms/step - loss: 0.0263 - root_mean_squared_error: 0.0443 - val_loss: 0.0743 - val_root_mean_squared_error: 0.1035\n",
            "Epoch 4/40\n",
            "223/223 [==============================] - 2s 8ms/step - loss: 0.0239 - root_mean_squared_error: 0.0388 - val_loss: 0.0791 - val_root_mean_squared_error: 0.1107\n",
            "Epoch 5/40\n",
            "223/223 [==============================] - 2s 8ms/step - loss: 0.0232 - root_mean_squared_error: 0.0373 - val_loss: 0.0801 - val_root_mean_squared_error: 0.1073\n",
            "Epoch 6/40\n",
            "223/223 [==============================] - 2s 9ms/step - loss: 0.0226 - root_mean_squared_error: 0.0357 - val_loss: 0.0761 - val_root_mean_squared_error: 0.1028\n",
            "Epoch 7/40\n",
            "223/223 [==============================] - 2s 9ms/step - loss: 0.0224 - root_mean_squared_error: 0.0350 - val_loss: 0.0751 - val_root_mean_squared_error: 0.1009\n",
            "Epoch 8/40\n",
            "223/223 [==============================] - 2s 8ms/step - loss: 0.0220 - root_mean_squared_error: 0.0345 - val_loss: 0.0818 - val_root_mean_squared_error: 0.1071\n",
            "Epoch 9/40\n",
            "223/223 [==============================] - 2s 8ms/step - loss: 0.0218 - root_mean_squared_error: 0.0341 - val_loss: 0.0791 - val_root_mean_squared_error: 0.1069\n",
            "Epoch 10/40\n",
            "223/223 [==============================] - 2s 9ms/step - loss: 0.0217 - root_mean_squared_error: 0.0337 - val_loss: 0.0883 - val_root_mean_squared_error: 0.1177\n",
            "Epoch 11/40\n",
            "223/223 [==============================] - 2s 7ms/step - loss: 0.0214 - root_mean_squared_error: 0.0329 - val_loss: 0.0756 - val_root_mean_squared_error: 0.0984\n",
            "Epoch 12/40\n",
            "223/223 [==============================] - 1s 5ms/step - loss: 0.0212 - root_mean_squared_error: 0.0329 - val_loss: 0.0901 - val_root_mean_squared_error: 0.1161\n",
            "Epoch 13/40\n",
            "223/223 [==============================] - 1s 5ms/step - loss: 0.0209 - root_mean_squared_error: 0.0323 - val_loss: 0.0756 - val_root_mean_squared_error: 0.1007\n",
            "Epoch 14/40\n",
            "223/223 [==============================] - 1s 5ms/step - loss: 0.0206 - root_mean_squared_error: 0.0316 - val_loss: 0.0885 - val_root_mean_squared_error: 0.1144\n",
            "Epoch 15/40\n",
            "223/223 [==============================] - 1s 5ms/step - loss: 0.0203 - root_mean_squared_error: 0.0317 - val_loss: 0.0783 - val_root_mean_squared_error: 0.1030\n",
            "Epoch 16/40\n",
            "223/223 [==============================] - 1s 5ms/step - loss: 0.0201 - root_mean_squared_error: 0.0313 - val_loss: 0.0841 - val_root_mean_squared_error: 0.1080\n",
            "Epoch 17/40\n",
            "223/223 [==============================] - 1s 5ms/step - loss: 0.0198 - root_mean_squared_error: 0.0309 - val_loss: 0.0772 - val_root_mean_squared_error: 0.1008\n",
            "Epoch 18/40\n",
            "223/223 [==============================] - 1s 5ms/step - loss: 0.0195 - root_mean_squared_error: 0.0304 - val_loss: 0.0770 - val_root_mean_squared_error: 0.0991\n",
            "Epoch 19/40\n",
            "223/223 [==============================] - 1s 5ms/step - loss: 0.0193 - root_mean_squared_error: 0.0298 - val_loss: 0.0845 - val_root_mean_squared_error: 0.1079\n",
            "Epoch 20/40\n",
            "223/223 [==============================] - 1s 5ms/step - loss: 0.0190 - root_mean_squared_error: 0.0300 - val_loss: 0.0683 - val_root_mean_squared_error: 0.0902\n",
            "Epoch 21/40\n",
            "223/223 [==============================] - 1s 5ms/step - loss: 0.0189 - root_mean_squared_error: 0.0297 - val_loss: 0.0845 - val_root_mean_squared_error: 0.1084\n",
            "Epoch 22/40\n",
            "223/223 [==============================] - 1s 5ms/step - loss: 0.0186 - root_mean_squared_error: 0.0292 - val_loss: 0.0792 - val_root_mean_squared_error: 0.1049\n",
            "Epoch 23/40\n",
            "223/223 [==============================] - 1s 5ms/step - loss: 0.0184 - root_mean_squared_error: 0.0288 - val_loss: 0.0635 - val_root_mean_squared_error: 0.0852\n",
            "Epoch 24/40\n",
            "223/223 [==============================] - 1s 5ms/step - loss: 0.0182 - root_mean_squared_error: 0.0292 - val_loss: 0.0792 - val_root_mean_squared_error: 0.0985\n",
            "Epoch 25/40\n",
            "223/223 [==============================] - 1s 5ms/step - loss: 0.0180 - root_mean_squared_error: 0.0287 - val_loss: 0.0679 - val_root_mean_squared_error: 0.0890\n",
            "Epoch 26/40\n",
            "223/223 [==============================] - 1s 5ms/step - loss: 0.0177 - root_mean_squared_error: 0.0282 - val_loss: 0.0639 - val_root_mean_squared_error: 0.0840\n",
            "Epoch 27/40\n",
            "223/223 [==============================] - 1s 5ms/step - loss: 0.0175 - root_mean_squared_error: 0.0279 - val_loss: 0.0782 - val_root_mean_squared_error: 0.1036\n",
            "Epoch 28/40\n",
            "223/223 [==============================] - 1s 5ms/step - loss: 0.0171 - root_mean_squared_error: 0.0275 - val_loss: 0.0726 - val_root_mean_squared_error: 0.0951\n",
            "Epoch 29/40\n",
            "223/223 [==============================] - 1s 5ms/step - loss: 0.0170 - root_mean_squared_error: 0.0273 - val_loss: 0.0805 - val_root_mean_squared_error: 0.1034\n",
            "Epoch 30/40\n",
            "223/223 [==============================] - 1s 5ms/step - loss: 0.0167 - root_mean_squared_error: 0.0266 - val_loss: 0.0708 - val_root_mean_squared_error: 0.0893\n",
            "Epoch 31/40\n",
            "223/223 [==============================] - 1s 5ms/step - loss: 0.0167 - root_mean_squared_error: 0.0271 - val_loss: 0.0862 - val_root_mean_squared_error: 0.1052\n",
            "Epoch 32/40\n",
            "223/223 [==============================] - 1s 5ms/step - loss: 0.0166 - root_mean_squared_error: 0.0269 - val_loss: 0.0569 - val_root_mean_squared_error: 0.0741\n",
            "Epoch 33/40\n",
            "223/223 [==============================] - 1s 5ms/step - loss: 0.0166 - root_mean_squared_error: 0.0274 - val_loss: 0.0650 - val_root_mean_squared_error: 0.0828\n",
            "Epoch 34/40\n",
            "223/223 [==============================] - 1s 5ms/step - loss: 0.0163 - root_mean_squared_error: 0.0261 - val_loss: 0.0684 - val_root_mean_squared_error: 0.0879\n",
            "Epoch 35/40\n",
            "223/223 [==============================] - 1s 5ms/step - loss: 0.0160 - root_mean_squared_error: 0.0263 - val_loss: 0.0803 - val_root_mean_squared_error: 0.1042\n",
            "Epoch 36/40\n",
            "223/223 [==============================] - 1s 5ms/step - loss: 0.0160 - root_mean_squared_error: 0.0265 - val_loss: 0.0859 - val_root_mean_squared_error: 0.1065\n",
            "Epoch 37/40\n",
            "223/223 [==============================] - 1s 5ms/step - loss: 0.0161 - root_mean_squared_error: 0.0265 - val_loss: 0.0731 - val_root_mean_squared_error: 0.0991\n",
            "Epoch 38/40\n",
            "223/223 [==============================] - 1s 5ms/step - loss: 0.0160 - root_mean_squared_error: 0.0266 - val_loss: 0.0705 - val_root_mean_squared_error: 0.0903\n",
            "Epoch 39/40\n",
            "223/223 [==============================] - 1s 5ms/step - loss: 0.0156 - root_mean_squared_error: 0.0257 - val_loss: 0.0708 - val_root_mean_squared_error: 0.0918\n",
            "Epoch 40/40\n",
            "223/223 [==============================] - 1s 5ms/step - loss: 0.0155 - root_mean_squared_error: 0.0258 - val_loss: 0.0789 - val_root_mean_squared_error: 0.1022\n"
          ]
        }
      ]
    },
    {
      "cell_type": "code",
      "source": [
        "fig, ax = plt.subplots()\n",
        "ax.plot(range(40),history.history['loss'],label='train loss')\n",
        "ax.plot(range(40),history.history['val_loss'],label='val loss')\n",
        "#plt.gca().set_ylim(220000, 223000)\n",
        "ax.set_xlabel('Epoch')\n",
        "ax.set_ylabel('Loss')\n",
        "plt.legend()"
      ],
      "metadata": {
        "colab": {
          "base_uri": "https://localhost:8080/",
          "height": 300
        },
        "id": "bydHfvxsA3Fm",
        "outputId": "9f0b33d5-c5d9-4210-cc38-a4e21d7a728d"
      },
      "execution_count": null,
      "outputs": [
        {
          "output_type": "execute_result",
          "data": {
            "text/plain": [
              "<matplotlib.legend.Legend at 0x7f0afe2e4150>"
            ]
          },
          "metadata": {},
          "execution_count": 92
        },
        {
          "output_type": "display_data",
          "data": {
            "text/plain": [
              "<Figure size 432x288 with 1 Axes>"
            ],
            "image/png": "[encoded data removed]"
          },
          "metadata": {
            "needs_background": "light"
          }
        }
      ]
    },
    {
      "cell_type": "code",
      "source": [
        ""
      ],
      "metadata": {
        "id": "bn1QnWlFCWBq"
      },
      "execution_count": null,
      "outputs": []
    }
  ],
  "metadata": {
    "colab": {
      "name": "Training_DNN.ipynb",
      "provenance": []
    },
    "kernelspec": {
      "display_name": "Python 3",
      "name": "python3"
    },
    "accelerator": "GPU",
    "gpuClass": "standard"
  },
  "nbformat": 4,
  "nbformat_minor": 0
}
{
  "cells": [
    {
      "cell_type": "markdown",
      "id": "c905ba79",
      "metadata": {
        "id": "c905ba79"
      },
      "source": [
        "## Tabular Features"
      ]
    },
    {
      "cell_type": "code",
      "execution_count": null,
      "id": "fac41fe9",
      "metadata": {
        "id": "fac41fe9"
      },
      "outputs": [],
      "source": [
        "new_data = [[0.8189215120865428,\n",
        "  -0.6474455632439493,\n",
        "  -0.46517733904102565,\n",
        "  -0.47485701118825807,\n",
        "  -0.31618159662655665,\n",
        "  0.0,\n",
        "  1.0],\n",
        " [0.8189215120865428,\n",
        "  -0.09575826022624177,\n",
        "  -0.46517733904102565,\n",
        "  -0.47485701118825807,\n",
        "  -0.49444193154746235,\n",
        "  1.0,\n",
        "  0.0],\n",
        " [0.8189215120865428,\n",
        "  0.6923664583704833,\n",
        "  -0.46517733904102565,\n",
        "  -0.47485701118825807,\n",
        "  -0.47464446023756657,\n",
        "  0.0,\n",
        "  1.0],\n",
        " [0.8189215120865428,\n",
        "  -0.09575826022624177,\n",
        "  0.43240061596496426,\n",
        "  0.8058179583800742,\n",
        "  -0.3343811230933163,\n",
        "  0.0,\n",
        "  1.0],\n",
        " [0.8189215120865428,\n",
        "  0.5347415146511383,\n",
        "  -0.46517733904102565,\n",
        "  -0.47485701118825807,\n",
        "  -0.6592070896198015,\n",
        "  0.0,\n",
        "  1.0]]"
      ]
    },
    {
      "cell_type": "code",
      "execution_count": null,
      "id": "04a8a7af",
      "metadata": {
        "id": "04a8a7af"
      },
      "outputs": [],
      "source": [
        "import json\n",
        "\n",
        "input_data_json = json.dumps({\n",
        "    \"signature_name\": \"serving_default\",\n",
        "    \"instances\": new_data,\n",
        "})"
      ]
    },
    {
      "cell_type": "code",
      "execution_count": null,
      "id": "749541b9",
      "metadata": {
        "id": "749541b9"
      },
      "outputs": [],
      "source": [
        "import requests\n",
        "\n",
        "URL = 'http://tfserving-titanic.herokuapp.com/v1/models/titanic_model:predict'\n",
        "response = requests.post(URL, data=input_data_json)\n",
        "response.raise_for_status() # raise an exception in case of error\n",
        "response = response.json()"
      ]
    },
    {
      "cell_type": "code",
      "execution_count": null,
      "id": "f7586e01",
      "metadata": {
        "id": "f7586e01",
        "outputId": "8f5102f6-f231-42f3-8048-81457eaebdf6"
      },
      "outputs": [
        {
          "data": {
            "text/plain": [
              "{'predictions': [[0.159079373],\n",
              "  [0.759925842],\n",
              "  [0.114809185],\n",
              "  [0.170669079],\n",
              "  [0.108372629]]}"
            ]
          },
          "execution_count": 4,
          "metadata": {},
          "output_type": "execute_result"
        }
      ],
      "source": [
        "response"
      ]
    },
    {
      "cell_type": "markdown",
      "id": "da32863d",
      "metadata": {
        "id": "da32863d"
      },
      "source": [
        "## Image Features"
      ]
    },
    {
      "cell_type": "code",
      "execution_count": null,
      "id": "5ff378ae",
      "metadata": {
        "id": "5ff378ae"
      },
      "outputs": [],
      "source": [
        "import requests\n",
        "import cv2\n",
        "import json\n",
        "import numpy as np"
      ]
    },
    {
      "cell_type": "code",
      "execution_count": null,
      "id": "47fc6da6",
      "metadata": {
        "id": "47fc6da6"
      },
      "outputs": [],
      "source": [
        "image = cv2.imread(\"image.jpg\")\n",
        "image = cv2.cvtColor(image, cv2.COLOR_BGR2RGB)"
      ]
    },
    {
      "cell_type": "code",
      "execution_count": null,
      "id": "a797a525",
      "metadata": {
        "id": "a797a525"
      },
      "outputs": [],
      "source": [
        "image = cv2.resize(image, (224, 224))\n",
        "image = np.expand_dims(image, axis=0)"
      ]
    },
    {
      "cell_type": "code",
      "execution_count": null,
      "id": "1a86a18d",
      "metadata": {
        "id": "1a86a18d"
      },
      "outputs": [],
      "source": [
        "input_data_json = json.dumps({\n",
        "    \"signature_name\": \"serving_default\",\n",
        "    \"instances\": image.tolist(),\n",
        "})"
      ]
    },
    {
      "cell_type": "code",
      "execution_count": null,
      "id": "68757f15",
      "metadata": {
        "id": "68757f15"
      },
      "outputs": [],
      "source": [
        "URL = 'http://localhost:8501/v1/models/motogp:predict'\n",
        "response = requests.post(URL, data=input_data_json)\n",
        "response.raise_for_status() # raise an exception in case of error\n",
        "response = response.json()"
      ]
    },
    {
      "cell_type": "code",
      "execution_count": null,
      "id": "282a7b19",
      "metadata": {
        "id": "282a7b19",
        "outputId": "14cc2e3d-e1a2-411f-9e29-eb0c2957a34f"
      },
      "outputs": [
        {
          "data": {
            "text/plain": [
              "1"
            ]
          },
          "execution_count": 9,
          "metadata": {},
          "output_type": "execute_result"
        }
      ],
      "source": [
        "np.argmax(response['predictions'][0])"
      ]
    }
  ],
  "metadata": {
    "kernelspec": {
      "display_name": "Python 3 (ipykernel)",
      "language": "python",
      "name": "python3"
    },
    "language_info": {
      "codemirror_mode": {
        "name": "ipython",
        "version": 3
      },
      "file_extension": ".py",
      "mimetype": "text/x-python",
      "name": "python",
      "nbconvert_exporter": "python",
      "pygments_lexer": "ipython3",
      "version": "3.9.6"
    },
    "colab": {
      "name": "inference.ipynb",
      "provenance": []
    }
  },
  "nbformat": 4,
  "nbformat_minor": 5
}
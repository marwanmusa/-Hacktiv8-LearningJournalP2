{
  "cells": [
    {
      "cell_type": "markdown",
      "source": [
        "# CNN Practice"
      ],
      "metadata": {
        "id": "HviRCekFLUit"
      }
    },
    {
      "cell_type": "markdown",
      "source": [
        "## Loading Custom Dataset using Keras\n",
        "\n",
        "You will gain practical experience with the following concepts:\n",
        "\n",
        "- Efficiently loading a dataset off disk.\n",
        "- Identifying overfitting and applying techniques to mitigate it, including data augmentation and Dropout.\n",
        "\n",
        "This session follows a basic machine learning workflow:\n",
        "\n",
        "- Examine and understand data\n",
        "- Build an input pipeline\n",
        "- Build the model\n",
        "- Train the model\n",
        "- Test the model\n",
        "- Improve the model and repeat the process"
      ],
      "metadata": {
        "id": "tGn1NpfCLUjF"
      }
    },
    {
      "cell_type": "code",
      "execution_count": null,
      "source": [
        "import numpy as np\n",
        "import PIL\n",
        "import tensorflow as tf\n",
        "from tensorflow import keras\n",
        "from tensorflow.keras import layers\n",
        "from tensorflow.keras.models import Sequential\n",
        "from tensorflow.keras.preprocessing.image import ImageDataGenerator, img_to_array, load_img, array_to_img\n",
        "\n",
        "import matplotlib.pyplot as plt"
      ],
      "outputs": [],
      "metadata": {
        "id": "2Hb1IbkKLUjJ"
      }
    },
    {
      "cell_type": "code",
      "execution_count": null,
      "source": [
        "if tf.test.gpu_device_name(): \n",
        "    print('Default GPU Device:{}'.format(tf.test.gpu_device_name()))\n",
        "else:\n",
        "   print(\"Please install GPU version of TF\")\n",
        "\n",
        "print(tf.__version__)"
      ],
      "outputs": [],
      "metadata": {
        "id": "lqJpy3ZbLUjN"
      }
    },
    {
      "cell_type": "markdown",
      "source": [
        "### Explore the Dataset\n",
        "\n",
        "Download the dataset [here](https://www.kaggle.com/puneet6060/intel-image-classification). This is image data of Natural Scenes around the world.\n",
        "\n",
        "This Data contains around 25k images of size 150x150 distributed under 6 categories.\n",
        "\n",
        "```py\n",
        "{'buildings' -> 0,\n",
        "'forest' -> 1,\n",
        "'glacier' -> 2,\n",
        "'mountain' -> 3,\n",
        "'sea' -> 4,\n",
        "'street' -> 5 }\n",
        "```\n",
        "\n",
        "The Train, Test and Prediction data is separated in each zip files. There are around 14k images in Train, 3k in Test and 7k in Prediction."
      ],
      "metadata": {
        "id": "rANKkL2cLUjP"
      }
    },
    {
      "cell_type": "code",
      "execution_count": null,
      "source": [
        "train_folder=r'seg_train/seg_train/'\n",
        "val_folder=r'seg_test/seg_test/'\n",
        "test_folder=r'seg_pred/seg_pred/'"
      ],
      "outputs": [],
      "metadata": {
        "id": "yeY8gPZNLUjR"
      }
    },
    {
      "cell_type": "code",
      "execution_count": null,
      "source": [
        "import pathlib\n",
        "data_dir = pathlib.Path(train_folder)\n",
        "image_count = len(list(data_dir.glob('*/*.jpg')))\n",
        "print(image_count)"
      ],
      "outputs": [],
      "metadata": {
        "id": "cVj7NxY_LUjT"
      }
    },
    {
      "cell_type": "markdown",
      "source": [
        "After downloading, you should now have a copy of the dataset available. There are 14043 total images for training"
      ],
      "metadata": {
        "id": "NSKnr08_LUjb"
      }
    },
    {
      "cell_type": "code",
      "execution_count": null,
      "source": [
        "buildings = list(data_dir.glob('buildings/*'))\n",
        "PIL.Image.open(str(buildings[0]))"
      ],
      "outputs": [],
      "metadata": {
        "id": "1dVHJXuzLUjc"
      }
    },
    {
      "cell_type": "code",
      "execution_count": null,
      "source": [
        "PIL.Image.open(str(buildings[1]))"
      ],
      "outputs": [],
      "metadata": {
        "id": "DnRWoHfyLUje"
      }
    },
    {
      "cell_type": "code",
      "execution_count": null,
      "source": [
        "street = list(data_dir.glob('street/*'))\n",
        "PIL.Image.open(str(street[0]))"
      ],
      "outputs": [],
      "metadata": {
        "id": "beuBb0ZULUjg"
      }
    },
    {
      "cell_type": "markdown",
      "source": [
        "### Load using keras.preprocessing\n",
        "\n",
        "Define some params for the loader:"
      ],
      "metadata": {
        "id": "GXYnXv6SLUjh"
      }
    },
    {
      "cell_type": "code",
      "execution_count": null,
      "source": [
        "IMG_WIDTH=180\n",
        "IMG_HEIGHT=180\n",
        "batch_size=4"
      ],
      "outputs": [],
      "metadata": {
        "id": "VPD3SH5gLUji"
      }
    },
    {
      "cell_type": "code",
      "execution_count": null,
      "source": [
        "train_dataset = image_dataset_from_directory(\n",
        "    train_folder,\n",
        "    shuffle=True,\n",
        "    batch_size=batch_size,\n",
        "    image_size=(IMG_HEIGHT, IMG_WIDTH)\n",
        "    )"
      ],
      "outputs": [],
      "metadata": {
        "id": "CG69_xUHLUjn"
      }
    },
    {
      "cell_type": "code",
      "execution_count": null,
      "source": [
        "val_dataset = tf.keras.preprocessing.image_dataset_from_directory(\n",
        "  val_folder,\n",
        "  image_size=(IMG_HEIGHT, IMG_WIDTH),\n",
        "  batch_size=batch_size)"
      ],
      "outputs": [],
      "metadata": {
        "id": "rtJAZQM7LUjp"
      }
    },
    {
      "cell_type": "code",
      "execution_count": null,
      "source": [
        "class_names = train_dataset.class_names\n",
        "print(class_names)"
      ],
      "outputs": [],
      "metadata": {
        "id": "KU8WbFRMLUjr"
      }
    },
    {
      "cell_type": "markdown",
      "source": [
        "You will train a model using these datasets by passing them to model.fit in a moment. If you like, you can also manually iterate over the dataset and retrieve batches of images:"
      ],
      "metadata": {
        "id": "_bKVy0gfLUjs"
      }
    },
    {
      "cell_type": "code",
      "execution_count": null,
      "source": [
        "for image_batch, labels_batch in train_dataset:\n",
        "  print(image_batch.shape)\n",
        "  print(labels_batch.shape)\n",
        "  break"
      ],
      "outputs": [],
      "metadata": {
        "id": "Zy22oehrLUjs"
      }
    },
    {
      "cell_type": "markdown",
      "source": [
        "### Configure the dataset for performance\n",
        "\n",
        "Let's make sure to use buffered prefetching so you can yield data from disk without having I/O become blocking. These are two important methods you should use when loading data.\n",
        "\n",
        "Dataset.cache() keeps the images in memory after they're loaded off disk during the first epoch. This will ensure the dataset does not become a bottleneck while training your model. If your dataset is too large to fit into memory, you can also use this method to create a performant on-disk cache.\n",
        "\n",
        "Dataset.prefetch() overlaps data preprocessing and model execution while training."
      ],
      "metadata": {
        "id": "U7NlVmXpLUjt"
      }
    },
    {
      "cell_type": "code",
      "execution_count": null,
      "source": [
        "AUTOTUNE = tf.data.AUTOTUNE\n",
        "\n",
        "train_ds = train_dataset.cache().shuffle(1000).prefetch(buffer_size=AUTOTUNE)\n",
        "val_ds = val_dataset.cache().prefetch(buffer_size=AUTOTUNE)"
      ],
      "outputs": [],
      "metadata": {
        "id": "JN5lFyQALUju"
      }
    },
    {
      "cell_type": "markdown",
      "source": [
        "### Standardize the data\n",
        "\n",
        "The RGB channel values are in the [0, 255] range. This is not ideal for a neural network; in general you should seek to make your input values small. Here, you will standardize values to be in the [0, 1] range by using a Rescaling layer."
      ],
      "metadata": {
        "id": "rncK4YmVLUjv"
      }
    },
    {
      "cell_type": "code",
      "execution_count": null,
      "source": [
        "normalization_layer = layers.experimental.preprocessing.Rescaling(1./255)"
      ],
      "outputs": [],
      "metadata": {
        "id": "21BaiF_aLUjw"
      }
    },
    {
      "cell_type": "code",
      "execution_count": null,
      "source": [
        "normalized_dataset = train_dataset.map(lambda x, y: (normalization_layer(x), y))\n",
        "image_batch, labels_batch = next(iter(normalized_dataset))\n",
        "first_image = image_batch[0]\n",
        "# Notice the pixels values are now in `[0,1]`.\n",
        "print(np.min(first_image), np.max(first_image))"
      ],
      "outputs": [],
      "metadata": {
        "id": "PI2Sq09cLUjy"
      }
    },
    {
      "cell_type": "markdown",
      "source": [
        "### Create the model\n",
        "\n",
        "The model consists of three convolution blocks with a max pool layer in each of them. There's a fully connected layer with 128 units on top of it that is activated by a relu activation function. This model has not been tuned for high accuracy, the goal of this tutorial is to show a standard approach."
      ],
      "metadata": {
        "id": "40JElIICLUj0"
      }
    },
    {
      "cell_type": "code",
      "execution_count": null,
      "source": [
        "num_classes = 6\n",
        "\n",
        "model = Sequential([\n",
        "    layers.InputLayer(input_shape=(IMG_HEIGHT,IMG_WIDTH, 3)),\n",
        "    layers.Conv2D(16, 3, padding='same', activation='relu'),\n",
        "    layers.MaxPooling2D(),\n",
        "    layers.Conv2D(32, 3, padding='same', activation='relu'),\n",
        "    layers.MaxPooling2D(),\n",
        "    layers.Conv2D(64, 3, padding='same', activation='relu'),\n",
        "    layers.MaxPooling2D(),\n",
        "    layers.Flatten(),\n",
        "    layers.Dense(128, activation='relu'),\n",
        "    layers.Dense(num_classes)\n",
        "])"
      ],
      "outputs": [],
      "metadata": {
        "id": "PIVEAhGMLUj1"
      }
    },
    {
      "cell_type": "markdown",
      "source": [
        "### Compile the model\n",
        "\n",
        "For this tutorial, choose the optimizers.Adam optimizer and losses.SparseCategoricalCrossentropy loss function. To view training and validation accuracy for each training epoch, pass the metrics argument."
      ],
      "metadata": {
        "id": "9CV-SxRDLUj2"
      }
    },
    {
      "cell_type": "code",
      "execution_count": null,
      "source": [
        "model.compile(optimizer='adam',\n",
        "              loss=tf.keras.losses.SparseCategoricalCrossentropy(from_logits=True),\n",
        "              metrics=['accuracy'])"
      ],
      "outputs": [],
      "metadata": {
        "id": "raF9u5YFLUj2"
      }
    },
    {
      "cell_type": "markdown",
      "source": [
        "### Model summary\n",
        "\n",
        "View all the layers of the network using the model's summary method:"
      ],
      "metadata": {
        "id": "NsdrbihrLUj2"
      }
    },
    {
      "cell_type": "code",
      "execution_count": null,
      "source": [
        "model.summary()"
      ],
      "outputs": [],
      "metadata": {
        "id": "0WwkByILLUj5"
      }
    },
    {
      "cell_type": "code",
      "execution_count": null,
      "source": [
        "epochs=15\n",
        "\n",
        "history = model.fit(\n",
        "    train_dataset,\n",
        "    validation_data=val_dataset,\n",
        "    epochs=epochs\n",
        ")"
      ],
      "outputs": [],
      "metadata": {
        "id": "4UTH_4FsLUj6"
      }
    },
    {
      "cell_type": "markdown",
      "source": [
        "### Visualize training results\n",
        "\n",
        "Create plots of loss and accuracy on the training and validation sets."
      ],
      "metadata": {
        "id": "XWJpHSGELUj7"
      }
    },
    {
      "cell_type": "code",
      "execution_count": null,
      "source": [
        "acc = history.history['accuracy']\n",
        "val_acc = history.history['val_accuracy']\n",
        "\n",
        "loss = history.history['loss']\n",
        "val_loss = history.history['val_loss']\n",
        "\n",
        "epochs_range = range(epochs)\n",
        "\n",
        "plt.figure(figsize=(8, 8))\n",
        "plt.subplot(1, 2, 1)\n",
        "plt.plot(epochs_range, acc, label='Training Accuracy')\n",
        "plt.plot(epochs_range, val_acc, label='Validation Accuracy')\n",
        "plt.legend(loc='lower right')\n",
        "plt.title('Training and Validation Accuracy')\n",
        "\n",
        "plt.subplot(1, 2, 2)\n",
        "plt.plot(epochs_range, loss, label='Training Loss')\n",
        "plt.plot(epochs_range, val_loss, label='Validation Loss')\n",
        "plt.legend(loc='upper right')\n",
        "plt.title('Training and Validation Loss')\n",
        "plt.show()"
      ],
      "outputs": [],
      "metadata": {
        "id": "hu6na8I6LUj7"
      }
    },
    {
      "cell_type": "markdown",
      "source": [
        "### Overfitting\n",
        "\n",
        "In the plots above, the training accuracy is increasing linearly over time, whereas validation accuracy stalls around 60% in the training process. Also, the difference in accuracy between training and validation accuracy is noticeable—a sign of overfitting.\n",
        "\n",
        "When there are a small number of training examples, the model sometimes learns from noises or unwanted details from training examples—to an extent that it negatively impacts the performance of the model on new examples. This phenomenon is known as overfitting. It means that the model will have a difficult time generalizing on a new dataset.\n",
        "\n",
        "There are multiple ways to fight overfitting in the training process. In this tutorial, you'll use data augmentation and add Dropout to your model.\n",
        "\n",
        "### Data augmentation\n",
        "\n",
        "Overfitting generally occurs when there are a small number of training examples. Data augmentation takes the approach of generating additional training data from your existing examples by augmenting them using random transformations that yield believable-looking images. This helps expose the model to more aspects of the data and generalize better.\n",
        "\n",
        "You will implement data augmentation using the layers from tf.keras.layers.experimental.preprocessing. These can be included inside your model like other layers, and run on the GPU."
      ],
      "metadata": {
        "id": "ZG-1IXlrLUj8"
      }
    },
    {
      "cell_type": "code",
      "execution_count": null,
      "source": [
        "data_augmentation = keras.Sequential(\n",
        "  [\n",
        "    layers.experimental.preprocessing.RandomFlip(\"horizontal\", input_shape=(IMG_HEIGHT, IMG_WIDTH, 3)),\n",
        "    layers.experimental.preprocessing.RandomRotation(0.1),\n",
        "    layers.experimental.preprocessing.RandomZoom(0.1),\n",
        "  ]\n",
        ")"
      ],
      "outputs": [],
      "metadata": {
        "id": "K8Lz-Ht0LUj9"
      }
    },
    {
      "cell_type": "markdown",
      "source": [
        "### Dropout\n",
        "\n",
        "Another technique to reduce overfitting is to introduce Dropout to the network, a form of regularization.\n",
        "\n",
        "When you apply Dropout to a layer it randomly drops out (by setting the activation to zero) a number of output units from the layer during the training process. Dropout takes a fractional number as its input value, in the form such as 0.1, 0.2, 0.4, etc. This means dropping out 10%, 20% or 40% of the output units randomly from the applied layer.\n",
        "\n",
        "Let's create a new neural network using layers.Dropout, then train it using augmented images."
      ],
      "metadata": {
        "id": "KnW_v7BMLUj-"
      }
    },
    {
      "cell_type": "code",
      "execution_count": null,
      "source": [
        "model = Sequential([\n",
        "  data_augmentation,\n",
        "  layers.Conv2D(16, 3, padding='same', activation='relu'),\n",
        "  layers.MaxPooling2D(),\n",
        "  layers.Conv2D(32, 3, padding='same', activation='relu'),\n",
        "  layers.MaxPooling2D(),\n",
        "  layers.Conv2D(64, 3, padding='same', activation='relu'),\n",
        "  layers.MaxPooling2D(),\n",
        "  layers.Dropout(0.2),\n",
        "  layers.Flatten(),\n",
        "  layers.Dense(128, activation='relu'),\n",
        "  layers.Dense(num_classes)\n",
        "])"
      ],
      "outputs": [],
      "metadata": {
        "id": "R9L_cknFLUj_"
      }
    },
    {
      "cell_type": "markdown",
      "source": [
        "### Compile and train the model"
      ],
      "metadata": {
        "id": "FTjfukMmLUkA"
      }
    },
    {
      "cell_type": "code",
      "execution_count": null,
      "source": [
        "model.compile(optimizer='adam',\n",
        "              loss=tf.keras.losses.SparseCategoricalCrossentropy(from_logits=True),\n",
        "              metrics=['accuracy'])"
      ],
      "outputs": [],
      "metadata": {
        "id": "MWJJkQEgLUkA"
      }
    },
    {
      "cell_type": "code",
      "execution_count": null,
      "source": [
        "model.summary()"
      ],
      "outputs": [],
      "metadata": {
        "id": "WvdmHvouLUkB"
      }
    },
    {
      "cell_type": "code",
      "execution_count": null,
      "source": [
        "epochs = 15\n",
        "history = model.fit(\n",
        "  train_dataset,\n",
        "  validation_data=val_dataset,\n",
        "  epochs=epochs\n",
        ")"
      ],
      "outputs": [],
      "metadata": {
        "id": "jcCp1kIxLUkC"
      }
    },
    {
      "cell_type": "markdown",
      "source": [
        "### Visualize training results\n",
        "\n",
        "After applying data augmentation and Dropout, there is less overfitting than before, and training and validation accuracy are closer aligned."
      ],
      "metadata": {
        "id": "pn7t_blyLUkE"
      }
    },
    {
      "cell_type": "code",
      "execution_count": null,
      "source": [
        "acc = history.history['accuracy']\n",
        "val_acc = history.history['val_accuracy']\n",
        "\n",
        "loss = history.history['loss']\n",
        "val_loss = history.history['val_loss']\n",
        "\n",
        "epochs_range = range(epochs)\n",
        "\n",
        "plt.figure(figsize=(8, 8))\n",
        "plt.subplot(1, 2, 1)\n",
        "plt.plot(epochs_range, acc, label='Training Accuracy')\n",
        "plt.plot(epochs_range, val_acc, label='Validation Accuracy')\n",
        "plt.legend(loc='lower right')\n",
        "plt.title('Training and Validation Accuracy')\n",
        "\n",
        "plt.subplot(1, 2, 2)\n",
        "plt.plot(epochs_range, loss, label='Training Loss')\n",
        "plt.plot(epochs_range, val_loss, label='Validation Loss')\n",
        "plt.legend(loc='upper right')\n",
        "plt.title('Training and Validation Loss')\n",
        "plt.show()"
      ],
      "outputs": [],
      "metadata": {
        "id": "-wJc1ubzLUkE"
      }
    },
    {
      "cell_type": "markdown",
      "source": [
        "### Predict on new data\n",
        "\n",
        "Finally, let's use our model to classify an image that wasn't included in the training or validation sets."
      ],
      "metadata": {
        "id": "39DFalJALUkF"
      }
    },
    {
      "cell_type": "code",
      "execution_count": null,
      "source": [
        "test_image = r'seg_pred/seg_pred/10004.jpg'\n",
        "\n",
        "img = keras.preprocessing.image.load_img(\n",
        "    test_image, target_size=(img_height, img_width)\n",
        ")"
      ],
      "outputs": [],
      "metadata": {
        "id": "VupaTRH-LUkM"
      }
    },
    {
      "cell_type": "code",
      "execution_count": null,
      "source": [
        "img_array = keras.preprocessing.image.img_to_array(img)\n",
        "img_array = tf.expand_dims(img_array, 0)\n",
        "\n",
        "predictions = model.predict(img_array)\n",
        "score = tf.nn.softmax(predictions[0])\n",
        "\n",
        "print(\n",
        "    \"This image most likely belongs to {} with a {:.2f} percent confidence.\"\n",
        "    .format(class_names[np.argmax(score)], 100 * np.max(score))\n",
        ")"
      ],
      "outputs": [],
      "metadata": {
        "id": "76vPwGoyLUkN"
      }
    },
    {
      "cell_type": "markdown",
      "source": [
        "## Transfer Learning and Fine Tuning\n",
        "\n",
        "Download dataset [here](https://storage.googleapis.com/mledu-datasets/cats_and_dogs_filtered.zip)\n",
        "\n",
        "You will learn how to classify images of cats and dogs by using transfer learning from a pre-trained network.\n",
        "\n",
        "A pre-trained model is a saved network that was previously trained on a large dataset, typically on a large-scale image-classification task. You either use the pretrained model as is or use transfer learning to customize this model to a given task.\n",
        "\n",
        "The intuition behind transfer learning for image classification is that if a model is trained on a large and general enough dataset, this model will effectively serve as a generic model of the visual world. You can then take advantage of these learned feature maps without having to start from scratch by training a large model on a large dataset.\n",
        "\n",
        "In this session, you will try two ways to customize a pretrained model:\n",
        "\n",
        "1. Feature Extraction: Use the representations learned by a previous network to extract meaningful features from new samples. You simply add a new classifier, which will be trained from scratch, on top of the pretrained model so that you can repurpose the feature maps learned previously for the dataset.\n",
        "\n",
        "You do not need to (re)train the entire model. The base convolutional network already contains features that are generically useful for classifying pictures. However, the final, classification part of the pretrained model is specific to the original classification task, and subsequently specific to the set of classes on which the model was trained.\n",
        "\n",
        "2. Fine-Tuning: Unfreeze a few of the top layers of a frozen model base and jointly train both the newly-added classifier layers and the last layers of the base model. This allows us to \"fine-tune\" the higher-order feature representations in the base model in order to make them more relevant for the specific task.\n",
        "\n",
        "You will follow the general machine learning workflow.\n",
        "\n",
        "- Examine and understand the data\n",
        "- Build an input pipeline, in this case using Keras ImageDataGenerator\n",
        "- Compose the model\n",
        "- Load in the pretrained base model (and pretrained weights)\n",
        "- Stack the classification layers on top\n",
        "- Train the model\n",
        "- Evaluate model"
      ],
      "metadata": {
        "id": "t1G-mjuuLUkg"
      }
    },
    {
      "cell_type": "code",
      "execution_count": null,
      "source": [
        "import matplotlib.pyplot as plt\n",
        "import numpy as np\n",
        "import os\n",
        "import tensorflow as tf\n",
        "\n",
        "from tensorflow.keras.preprocessing import image_dataset_from_directory"
      ],
      "outputs": [],
      "metadata": {
        "id": "ZXKl9824LUkh"
      }
    },
    {
      "cell_type": "markdown",
      "source": [
        "### Data preprocessing\n",
        "\n",
        "In this section, you will use a dataset containing several thousand images of cats and dogs. Download and extract a zip file containing the images, then create a tf.data.Dataset for training and validation using the tf.keras.preprocessing.image_dataset_from_directory utility. You can learn more about loading images in this tutorial."
      ],
      "metadata": {
        "id": "wgtdvaUwLUki"
      }
    },
    {
      "cell_type": "code",
      "execution_count": null,
      "source": [
        "train_dir = 'cats_and_dogs_filtered/train'\n",
        "validation_dir = 'cats_and_dogs_filtered/validation'"
      ],
      "outputs": [],
      "metadata": {
        "id": "za2zD2VpLUkj"
      }
    },
    {
      "cell_type": "code",
      "execution_count": null,
      "source": [
        "BATCH_SIZE = 32\n",
        "IMG_SIZE = (160, 160)\n",
        "\n",
        "train_dataset = image_dataset_from_directory(train_dir,\n",
        "                                             shuffle=True,\n",
        "                                             batch_size=BATCH_SIZE,\n",
        "                                             image_size=IMG_SIZE)"
      ],
      "outputs": [],
      "metadata": {
        "id": "w2fgQ50DLUkj"
      }
    },
    {
      "cell_type": "code",
      "execution_count": null,
      "source": [
        "validation_dataset = image_dataset_from_directory(validation_dir,\n",
        "                                                  shuffle=True,\n",
        "                                                  batch_size=BATCH_SIZE,\n",
        "                                                  image_size=IMG_SIZE)"
      ],
      "outputs": [],
      "metadata": {
        "id": "XXcT0XapLUkk"
      }
    },
    {
      "cell_type": "code",
      "execution_count": null,
      "source": [
        "class_names = train_dataset.class_names\n",
        "\n",
        "plt.figure(figsize=(10, 10))\n",
        "for images, labels in train_dataset.take(1):\n",
        "  for i in range(9):\n",
        "    ax = plt.subplot(3, 3, i + 1)\n",
        "    plt.imshow(images[i].numpy().astype(\"uint8\"))\n",
        "    plt.title(class_names[labels[i]])\n",
        "    plt.axis(\"off\")"
      ],
      "outputs": [],
      "metadata": {
        "id": "5pNSZ7BgLUkl"
      }
    },
    {
      "cell_type": "markdown",
      "source": [
        "As the original dataset doesn't contain a test set, you will create one. To do so, determine how many batches of data are available in the validation set using tf.data.experimental.cardinality, then move 20% of them to a test set."
      ],
      "metadata": {
        "id": "ONxq-JAiLUkn"
      }
    },
    {
      "cell_type": "code",
      "execution_count": null,
      "source": [
        "val_batches = tf.data.experimental.cardinality(validation_dataset)\n",
        "test_dataset = validation_dataset.take(val_batches // 5)\n",
        "validation_dataset = validation_dataset.skip(val_batches // 5)"
      ],
      "outputs": [],
      "metadata": {
        "id": "WZcWLdwoLUkn"
      }
    },
    {
      "cell_type": "code",
      "execution_count": null,
      "source": [
        "print('Number of validation batches: %d' % tf.data.experimental.cardinality(validation_dataset))\n",
        "print('Number of test batches: %d' % tf.data.experimental.cardinality(test_dataset))"
      ],
      "outputs": [],
      "metadata": {
        "id": "knZZfE86LUkn"
      }
    },
    {
      "cell_type": "markdown",
      "source": [
        "### Configure the dataset for performance\n",
        "\n",
        "Use buffered prefetching to load images from disk without having I/O become blocking. To learn more about this method see the data performance guide."
      ],
      "metadata": {
        "id": "qNqhxgfALUko"
      }
    },
    {
      "cell_type": "code",
      "execution_count": null,
      "source": [
        "AUTOTUNE = tf.data.AUTOTUNE\n",
        "\n",
        "train_dataset = train_dataset.prefetch(buffer_size=AUTOTUNE)\n",
        "validation_dataset = validation_dataset.prefetch(buffer_size=AUTOTUNE)\n",
        "test_dataset = test_dataset.prefetch(buffer_size=AUTOTUNE)"
      ],
      "outputs": [],
      "metadata": {
        "id": "mRMCkvFCLUko"
      }
    },
    {
      "cell_type": "markdown",
      "source": [
        "### Use data augmentation\n",
        "\n",
        "When you don't have a large image dataset, it's a good practice to artificially introduce sample diversity by applying random, yet realistic, transformations to the training images, such as rotation and horizontal flipping. This helps expose the model to different aspects of the training data and reduce overfitting. "
      ],
      "metadata": {
        "id": "m0mdP4vwLUkp"
      }
    },
    {
      "cell_type": "code",
      "execution_count": null,
      "source": [
        "data_augmentation = tf.keras.Sequential([\n",
        "  tf.keras.layers.experimental.preprocessing.RandomFlip('horizontal'),\n",
        "  tf.keras.layers.experimental.preprocessing.RandomRotation(0.2),\n",
        "])"
      ],
      "outputs": [],
      "metadata": {
        "id": "nqzzt989LUkp"
      }
    },
    {
      "cell_type": "markdown",
      "source": [
        "Let's repeatedly apply these layers to the same image and see the result."
      ],
      "metadata": {
        "id": "v9fYcpwULUkq"
      }
    },
    {
      "cell_type": "code",
      "execution_count": null,
      "source": [
        "for image, _ in train_dataset.take(1):\n",
        "  plt.figure(figsize=(10, 10))\n",
        "  first_image = image[0]\n",
        "  for i in range(9):\n",
        "    ax = plt.subplot(3, 3, i + 1)\n",
        "    augmented_image = data_augmentation(tf.expand_dims(first_image, 0))\n",
        "    plt.imshow(augmented_image[0] / 255)\n",
        "    plt.axis('off')"
      ],
      "outputs": [],
      "metadata": {
        "id": "FGNQgMnSLUkr"
      }
    },
    {
      "cell_type": "markdown",
      "source": [
        "### Rescale pixel values\n",
        "\n",
        "In a moment, you will download tf.keras.applications.MobileNetV2 for use as your base model. This model expects pixel values in [-1, 1], but at this point, the pixel values in your images are in [0, 255]. To rescale them, use the preprocessing method included with the model."
      ],
      "metadata": {
        "id": "E4G9ULmDLUks"
      }
    },
    {
      "cell_type": "code",
      "execution_count": null,
      "source": [
        "preprocess_input = tf.keras.applications.mobilenet_v2.preprocess_input"
      ],
      "outputs": [],
      "metadata": {
        "id": "WayH0cwyLUks"
      }
    },
    {
      "cell_type": "code",
      "execution_count": null,
      "source": [
        "rescale = tf.keras.layers.experimental.preprocessing.Rescaling(1./127.5, offset= -1)"
      ],
      "outputs": [],
      "metadata": {
        "id": "moqR2cgKLUkt"
      }
    },
    {
      "cell_type": "markdown",
      "source": [
        "### Create the base model from the pre-trained convnets\n",
        "\n",
        "You will create the base model from the MobileNet V2 model developed at Google. This is pre-trained on the ImageNet dataset, a large dataset consisting of 1.4M images and 1000 classes. ImageNet is a research training dataset with a wide variety of categories like jackfruit and syringe. This base of knowledge will help us classify cats and dogs from our specific dataset.\n",
        "\n",
        "First, you need to pick which layer of MobileNet V2 you will use for feature extraction. The very last classification layer (on \"top\", as most diagrams of machine learning models go from bottom to top) is not very useful. Instead, you will follow the common practice to depend on the very last layer before the flatten operation. This layer is called the \"bottleneck layer\". The bottleneck layer features retain more generality as compared to the final/top layer.\n",
        "\n",
        "First, instantiate a MobileNet V2 model pre-loaded with weights trained on ImageNet. By specifying the include_top=False argument, you load a network that doesn't include the classification layers at the top, which is ideal for feature extraction."
      ],
      "metadata": {
        "id": "Ng_ok698LUkt"
      }
    },
    {
      "cell_type": "code",
      "execution_count": null,
      "source": [
        "# Create the base model from the pre-trained model MobileNet V2\n",
        "IMG_SHAPE = IMG_SIZE + (3,)\n",
        "base_model = tf.keras.applications.MobileNetV2(input_shape=IMG_SHAPE,\n",
        "                                               include_top=False,\n",
        "                                               weights='imagenet')"
      ],
      "outputs": [],
      "metadata": {
        "id": "aLXkEKMjLUkt"
      }
    },
    {
      "cell_type": "markdown",
      "source": [
        "This feature extractor converts each 160x160x3 image into a 5x5x1280 block of features. Let's see what it does to an example batch of images:"
      ],
      "metadata": {
        "id": "eicxsgUXLUku"
      }
    },
    {
      "cell_type": "code",
      "execution_count": null,
      "source": [
        "image_batch, label_batch = next(iter(train_dataset))\n",
        "feature_batch = base_model(image_batch)\n",
        "print(feature_batch.shape)"
      ],
      "outputs": [],
      "metadata": {
        "id": "5fC4eHsBLUku"
      }
    },
    {
      "cell_type": "markdown",
      "source": [
        "### Feature extraction\n",
        "\n",
        "In this step, you will freeze the convolutional base created from the previous step and to use as a feature extractor. Additionally, you add a classifier on top of it and train the top-level classifier.\n",
        "\n",
        "#### Freeze the convolutional base\n",
        "\n",
        "It is important to freeze the convolutional base before you compile and train the model. Freezing (by setting layer.trainable = False) prevents the weights in a given layer from being updated during training. MobileNet V2 has many layers, so setting the entire model's trainable flag to False will freeze all of them."
      ],
      "metadata": {
        "id": "TcWbx7cOLUku"
      }
    },
    {
      "cell_type": "code",
      "execution_count": null,
      "source": [
        "base_model.trainable = False"
      ],
      "outputs": [],
      "metadata": {
        "id": "ggE3aGsJLUkv"
      }
    },
    {
      "cell_type": "markdown",
      "source": [
        "#### Important note about BatchNormalization layers\n",
        "\n",
        "Many models contain tf.keras.layers.BatchNormalization layers. This layer is a special case and precautions should be taken in the context of fine-tuning, as shown later in this tutorial.\n",
        "\n",
        "When you set layer.trainable = False, the BatchNormalization layer will run in inference mode, and will not update its mean and variance statistics.\n",
        "\n",
        "When you unfreeze a model that contains BatchNormalization layers in order to do fine-tuning, you should keep the BatchNormalization layers in inference mode by passing training = False when calling the base model. Otherwise, the updates applied to the non-trainable weights will destroy what the model has learned."
      ],
      "metadata": {
        "id": "QX162rBYLUkv"
      }
    },
    {
      "cell_type": "code",
      "execution_count": null,
      "source": [
        "# Let's take a look at the base model architecture\n",
        "base_model.summary()"
      ],
      "outputs": [],
      "metadata": {
        "id": "I5WS4j-ZLUkw"
      }
    },
    {
      "cell_type": "markdown",
      "source": [
        "#### Add a classification head\n",
        "\n",
        "To generate predictions from the block of features, average over the spatial 5x5 spatial locations, using a tf.keras.layers.GlobalAveragePooling2D layer to convert the features to a single 1280-element vector per image."
      ],
      "metadata": {
        "id": "lA6iyaXiLUkw"
      }
    },
    {
      "cell_type": "code",
      "execution_count": null,
      "source": [
        "global_average_layer = tf.keras.layers.GlobalAveragePooling2D()\n",
        "feature_batch_average = global_average_layer(feature_batch)\n",
        "print(feature_batch_average.shape)"
      ],
      "outputs": [],
      "metadata": {
        "id": "omtBIC9eLUkw"
      }
    },
    {
      "cell_type": "markdown",
      "source": [
        "Apply a tf.keras.layers.Dense layer to convert these features into a single prediction per image. You don't need an activation function here because this prediction will be treated as a logit, or a raw prediction value. Positive numbers predict class 1, negative numbers predict class 0."
      ],
      "metadata": {
        "id": "Cmv_AgLQLUkx"
      }
    },
    {
      "cell_type": "code",
      "execution_count": null,
      "source": [
        "prediction_layer = tf.keras.layers.Dense(1)\n",
        "prediction_batch = prediction_layer(feature_batch_average)\n",
        "print(prediction_batch.shape)"
      ],
      "outputs": [],
      "metadata": {
        "id": "cQFllMmjLUkx"
      }
    },
    {
      "cell_type": "markdown",
      "source": [
        "Build a model by chaining together the data augmentation, rescaling, base_model and feature extractor layers using the Keras Functional API. As previously mentioned, use training=False as our model contains a BatchNormalization layer."
      ],
      "metadata": {
        "id": "LgMdKrT6LUky"
      }
    },
    {
      "cell_type": "code",
      "execution_count": null,
      "source": [
        "inputs = tf.keras.Input(shape=(160, 160, 3))\n",
        "x = data_augmentation(inputs)\n",
        "x = preprocess_input(x)\n",
        "x = base_model(x, training=False)\n",
        "x = global_average_layer(x)\n",
        "x = tf.keras.layers.Dropout(0.2)(x)\n",
        "outputs = prediction_layer(x)\n",
        "model = tf.keras.Model(inputs, outputs)"
      ],
      "outputs": [],
      "metadata": {
        "id": "so-B_q4ZLUky"
      }
    },
    {
      "cell_type": "markdown",
      "source": [
        "### Compile the model\n",
        "\n",
        "Compile the model before training it. Since there are two classes, use a binary cross-entropy loss with from_logits=True since the model provides a linear output."
      ],
      "metadata": {
        "id": "yKM_W75kLUkz"
      }
    },
    {
      "cell_type": "code",
      "execution_count": null,
      "source": [
        "base_learning_rate = 0.0001\n",
        "model.compile(optimizer=tf.keras.optimizers.Adam(learning_rate=base_learning_rate),\n",
        "              loss=tf.keras.losses.BinaryCrossentropy(from_logits=True),\n",
        "              metrics=['accuracy'])"
      ],
      "outputs": [],
      "metadata": {
        "id": "wq6uHi1ZLUkz"
      }
    },
    {
      "cell_type": "code",
      "execution_count": null,
      "source": [
        "model.summary()"
      ],
      "outputs": [],
      "metadata": {
        "id": "De1UrHhuLUkz"
      }
    },
    {
      "cell_type": "markdown",
      "source": [
        "The 2.5M parameters in MobileNet are frozen, but there are 1.2K trainable parameters in the Dense layer. These are divided between two tf.Variable objects, the weights and biases."
      ],
      "metadata": {
        "id": "rz_l93C3LUkz"
      }
    },
    {
      "cell_type": "code",
      "execution_count": null,
      "source": [
        "len(model.trainable_variables)"
      ],
      "outputs": [],
      "metadata": {
        "id": "WBjIExm8LUkz"
      }
    },
    {
      "cell_type": "markdown",
      "source": [
        "### Train the model\n",
        "\n",
        "After training for 10 epochs, you should see ~94% accuracy on the validation set."
      ],
      "metadata": {
        "id": "f7aIyIeRLUk0"
      }
    },
    {
      "cell_type": "code",
      "execution_count": null,
      "source": [
        "initial_epochs = 10\n",
        "\n",
        "loss0, accuracy0 = model.evaluate(validation_dataset)"
      ],
      "outputs": [],
      "metadata": {
        "id": "lve3alElLUk0"
      }
    },
    {
      "cell_type": "code",
      "execution_count": null,
      "source": [
        "print(\"initial loss: {:.2f}\".format(loss0))\n",
        "print(\"initial accuracy: {:.2f}\".format(accuracy0))"
      ],
      "outputs": [],
      "metadata": {
        "id": "TrS-yNKiLUk0"
      }
    },
    {
      "cell_type": "code",
      "execution_count": null,
      "source": [
        "history = model.fit(train_dataset,\n",
        "                    epochs=initial_epochs,\n",
        "                    validation_data=validation_dataset)"
      ],
      "outputs": [],
      "metadata": {
        "id": "OLW4YEMnLUk0"
      }
    },
    {
      "cell_type": "markdown",
      "source": [
        "### Learning curves\n",
        "\n",
        "Let's take a look at the learning curves of the training and validation accuracy/loss when using the MobileNet V2 base model as a fixed feature extractor."
      ],
      "metadata": {
        "id": "XCGTy9ueLUk0"
      }
    },
    {
      "cell_type": "code",
      "execution_count": null,
      "source": [
        "acc = history.history['accuracy']\n",
        "val_acc = history.history['val_accuracy']\n",
        "\n",
        "loss = history.history['loss']\n",
        "val_loss = history.history['val_loss']\n",
        "\n",
        "plt.figure(figsize=(8, 8))\n",
        "plt.subplot(2, 1, 1)\n",
        "plt.plot(acc, label='Training Accuracy')\n",
        "plt.plot(val_acc, label='Validation Accuracy')\n",
        "plt.legend(loc='lower right')\n",
        "plt.ylabel('Accuracy')\n",
        "plt.ylim([min(plt.ylim()),1])\n",
        "plt.title('Training and Validation Accuracy')\n",
        "\n",
        "plt.subplot(2, 1, 2)\n",
        "plt.plot(loss, label='Training Loss')\n",
        "plt.plot(val_loss, label='Validation Loss')\n",
        "plt.legend(loc='upper right')\n",
        "plt.ylabel('Cross Entropy')\n",
        "plt.ylim([0,1.0])\n",
        "plt.title('Training and Validation Loss')\n",
        "plt.xlabel('epoch')\n",
        "plt.show()"
      ],
      "outputs": [],
      "metadata": {
        "id": "RJ89ZEVhLUk1"
      }
    },
    {
      "cell_type": "markdown",
      "source": [
        "To a lesser extent, it is also because training metrics report the average for an epoch, while validation metrics are evaluated after the epoch, so validation metrics see a model that has trained slightly longer.\n",
        "\n",
        "### Fine tuning\n",
        "\n",
        "In the feature extraction experiment, you were only training a few layers on top of an MobileNet V2 base model. The weights of the pre-trained network were not updated during training.\n",
        "\n",
        "One way to increase performance even further is to train (or \"fine-tune\") the weights of the top layers of the pre-trained model alongside the training of the classifier you added. The training process will force the weights to be tuned from generic feature maps to features associated specifically with the dataset.\n",
        "\n",
        "Also, you should try to fine-tune a small number of top layers rather than the whole MobileNet model. In most convolutional networks, the higher up a layer is, the more specialized it is. The first few layers learn very simple and generic features that generalize to almost all types of images. As you go higher up, the features are increasingly more specific to the dataset on which the model was trained. The goal of fine-tuning is to adapt these specialized features to work with the new dataset, rather than overwrite the generic learning.\n",
        "\n",
        "### Un-freeze the top layers of the model\n",
        "\n",
        "All you need to do is unfreeze the base_model and set the bottom layers to be un-trainable. Then, you should recompile the model (necessary for these changes to take effect), and resume training."
      ],
      "metadata": {
        "id": "MlijdPRPLUk1"
      }
    },
    {
      "cell_type": "code",
      "execution_count": null,
      "source": [
        "base_model.trainable = True"
      ],
      "outputs": [],
      "metadata": {
        "id": "Cc--2THkLUk1"
      }
    },
    {
      "cell_type": "code",
      "execution_count": null,
      "source": [
        "# Let's take a look to see how many layers are in the base model\n",
        "print(\"Number of layers in the base model: \", len(base_model.layers))\n",
        "\n",
        "# Fine-tune from this layer onwards\n",
        "fine_tune_at = 100\n",
        "\n",
        "# Freeze all the layers before the `fine_tune_at` layer\n",
        "for layer in base_model.layers[:fine_tune_at]:\n",
        "  layer.trainable =  False"
      ],
      "outputs": [],
      "metadata": {
        "id": "zNMF-LOqLUk1"
      }
    },
    {
      "cell_type": "markdown",
      "source": [
        "### Compile the model\n",
        "\n",
        "As you are training a much larger model and want to readapt the pretrained weights, it is important to use a lower learning rate at this stage. Otherwise, your model could overfit very quickly."
      ],
      "metadata": {
        "id": "Wo-oiXeuLUk2"
      }
    },
    {
      "cell_type": "code",
      "execution_count": null,
      "source": [
        "model.compile(loss=tf.keras.losses.BinaryCrossentropy(from_logits=True),\n",
        "              optimizer = tf.keras.optimizers.RMSprop(learning_rate=base_learning_rate/10),\n",
        "              metrics=['accuracy'])"
      ],
      "outputs": [],
      "metadata": {
        "id": "07wp8AFGLUk2"
      }
    },
    {
      "cell_type": "code",
      "execution_count": null,
      "source": [
        "model.summary()"
      ],
      "outputs": [],
      "metadata": {
        "id": "oAtlJ60yLUk2"
      }
    },
    {
      "cell_type": "code",
      "execution_count": null,
      "source": [
        "len(model.trainable_variables)"
      ],
      "outputs": [],
      "metadata": {
        "id": "4e1eh93jLUk3"
      }
    },
    {
      "cell_type": "markdown",
      "source": [
        "### Continue training the model\n",
        "\n",
        "If you trained to convergence earlier, this step will improve your accuracy by a few percentage points."
      ],
      "metadata": {
        "id": "bCykBkK5LUk4"
      }
    },
    {
      "cell_type": "code",
      "execution_count": null,
      "source": [
        "fine_tune_epochs = 10\n",
        "total_epochs =  initial_epochs + fine_tune_epochs\n",
        "\n",
        "history_fine = model.fit(train_dataset,\n",
        "                         epochs=total_epochs,\n",
        "                         initial_epoch=history.epoch[-1],\n",
        "                         validation_data=validation_dataset)"
      ],
      "outputs": [],
      "metadata": {
        "id": "aTybn2XPLUk6"
      }
    },
    {
      "cell_type": "markdown",
      "source": [
        "Let's take a look at the learning curves of the training and validation accuracy/loss when fine-tuning the last few layers of the MobileNet V2 base model and training the classifier on top of it. The validation loss is much higher than the training loss, so you may get some overfitting.\n",
        "\n",
        "You may also get some overfitting as the new training set is relatively small and similar to the original MobileNet V2 datasets.\n",
        "\n",
        "After fine tuning the model nearly reaches 98% accuracy on the validation set."
      ],
      "metadata": {
        "id": "t4TMPsZ7LUk6"
      }
    },
    {
      "cell_type": "code",
      "execution_count": null,
      "source": [
        "acc += history_fine.history['accuracy']\n",
        "val_acc += history_fine.history['val_accuracy']\n",
        "\n",
        "loss += history_fine.history['loss']\n",
        "val_loss += history_fine.history['val_loss']"
      ],
      "outputs": [],
      "metadata": {
        "id": "OWlK6eADLUk7"
      }
    },
    {
      "cell_type": "code",
      "execution_count": null,
      "source": [
        "plt.figure(figsize=(8, 8))\n",
        "plt.subplot(2, 1, 1)\n",
        "plt.plot(acc, label='Training Accuracy')\n",
        "plt.plot(val_acc, label='Validation Accuracy')\n",
        "plt.ylim([0.8, 1])\n",
        "plt.plot([initial_epochs-1,initial_epochs-1],\n",
        "          plt.ylim(), label='Start Fine Tuning')\n",
        "plt.legend(loc='lower right')\n",
        "plt.title('Training and Validation Accuracy')\n",
        "\n",
        "plt.subplot(2, 1, 2)\n",
        "plt.plot(loss, label='Training Loss')\n",
        "plt.plot(val_loss, label='Validation Loss')\n",
        "plt.ylim([0, 1.0])\n",
        "plt.plot([initial_epochs-1,initial_epochs-1],\n",
        "         plt.ylim(), label='Start Fine Tuning')\n",
        "plt.legend(loc='upper right')\n",
        "plt.title('Training and Validation Loss')\n",
        "plt.xlabel('epoch')\n",
        "plt.show()"
      ],
      "outputs": [],
      "metadata": {
        "id": "yOMZpfPcLUk8"
      }
    },
    {
      "cell_type": "markdown",
      "source": [
        "### Evaluation and prediction\n",
        "\n",
        "Finaly you can verify the performance of the model on new data using test set."
      ],
      "metadata": {
        "id": "NH3t_QGFLUk8"
      }
    },
    {
      "cell_type": "code",
      "execution_count": null,
      "source": [
        "loss, accuracy = model.evaluate(test_dataset)\n",
        "print('Test accuracy :', accuracy)"
      ],
      "outputs": [],
      "metadata": {
        "id": "5WEq7loULUk8"
      }
    },
    {
      "cell_type": "markdown",
      "source": [
        "And now you are all set to use this model to predict if your pet is a cat or dog."
      ],
      "metadata": {
        "id": "sTELE-kcLUk8"
      }
    },
    {
      "cell_type": "code",
      "execution_count": null,
      "source": [
        "#Retrieve a batch of images from the test set\n",
        "image_batch, label_batch = test_dataset.as_numpy_iterator().next()\n",
        "predictions = model.predict_on_batch(image_batch).flatten()\n",
        "\n",
        "# Apply a sigmoid since our model returns logits\n",
        "predictions = tf.nn.sigmoid(predictions)\n",
        "predictions = tf.where(predictions < 0.5, 0, 1)\n",
        "\n",
        "print('Predictions:\\n', predictions.numpy())\n",
        "print('Labels:\\n', label_batch)\n",
        "\n",
        "plt.figure(figsize=(10, 10))\n",
        "for i in range(9):\n",
        "  ax = plt.subplot(3, 3, i + 1)\n",
        "  plt.imshow(image_batch[i].astype(\"uint8\"))\n",
        "  plt.title(class_names[predictions[i]])\n",
        "  plt.axis(\"off\")"
      ],
      "outputs": [],
      "metadata": {
        "id": "PuLFgxVULUk9"
      }
    },
    {
      "cell_type": "markdown",
      "source": [
        "### Summary\n",
        "\n",
        "- Using a pre-trained model for feature extraction: When working with a small dataset, it is a common practice to take advantage of features learned by a model trained on a larger dataset in the same domain. This is done by instantiating the pre-trained model and adding a fully-connected classifier on top. The pre-trained model is \"frozen\" and only the weights of the classifier get updated during training. In this case, the convolutional base extracted all the features associated with each image and you just trained a classifier that determines the image class given that set of extracted features.\n",
        "\n",
        "- Fine-tuning a pre-trained model: To further improve performance, one might want to repurpose the top-level layers of the pre-trained models to the new dataset via fine-tuning. In this case, you tuned your weights such that your model learned high-level features specific to the dataset. This technique is usually recommended when the training dataset is large and very similar to the original dataset that the pre-trained model was trained on."
      ],
      "metadata": {
        "id": "arBhf7nGLUk9"
      }
    },
    {
      "cell_type": "markdown",
      "source": [
        "## Data Augmentation\n",
        "\n",
        "Read the references [here](https://colab.research.google.com/github/tensorflow/docs/blob/master/site/en/tutorials/images/data_augmentation.ipynb)."
      ],
      "metadata": {
        "id": "etZoYUM6LUk9"
      }
    }
  ],
  "metadata": {
    "interpreter": {
      "hash": "60716cfbf8f6257f052921a35c79929cd52e6aa52b65b24e32100e25d3fdc1e3"
    },
    "kernelspec": {
      "name": "python3",
      "display_name": "Python 3.8.5 64-bit"
    },
    "language_info": {
      "codemirror_mode": {
        "name": "ipython",
        "version": 3
      },
      "file_extension": ".py",
      "mimetype": "text/x-python",
      "name": "python",
      "nbconvert_exporter": "python",
      "pygments_lexer": "ipython3",
      "version": "3.8.5"
    },
    "toc": {
      "base_numbering": 1,
      "nav_menu": {},
      "number_sections": true,
      "sideBar": true,
      "skip_h1_title": false,
      "title_cell": "Table of Contents",
      "title_sidebar": "Contents",
      "toc_cell": false,
      "toc_position": {},
      "toc_section_display": true,
      "toc_window_display": false
    },
    "colab": {
      "name": "d1pm.ipynb",
      "provenance": []
    }
  },
  "nbformat": 4,
  "nbformat_minor": 0
}
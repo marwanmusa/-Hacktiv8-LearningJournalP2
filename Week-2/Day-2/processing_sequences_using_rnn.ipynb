{
  "nbformat": 4,
  "nbformat_minor": 0,
  "metadata": {
    "colab": {
      "name": "processing_sequences_using_rnn.ipynb",
      "provenance": [],
      "collapsed_sections": []
    },
    "kernelspec": {
      "display_name": "Python 3",
      "language": "python",
      "name": "python3"
    },
    "language_info": {
      "codemirror_mode": {
        "name": "ipython",
        "version": 3
      },
      "file_extension": ".py",
      "mimetype": "text/x-python",
      "name": "python",
      "nbconvert_exporter": "python",
      "pygments_lexer": "ipython3",
      "version": "3.7.10"
    },
    "nav_menu": {},
    "toc": {
      "navigate_menu": true,
      "number_sections": true,
      "sideBar": true,
      "threshold": 6,
      "toc_cell": false,
      "toc_section_display": "block",
      "toc_window_display": false
    }
  },
  "cells": [
    {
      "cell_type": "markdown",
      "metadata": {
        "id": "3IsQ3I9uyYb0"
      },
      "source": [
        "## Processing Sequences Using RNNs"
      ]
    },
    {
      "cell_type": "markdown",
      "metadata": {
        "id": "gFFJc3NDyYb6"
      },
      "source": [
        "# Setup"
      ]
    },
    {
      "cell_type": "markdown",
      "metadata": {
        "id": "1TOVSxbfyYb7"
      },
      "source": [
        "First, let's import a few common modules, ensure MatplotLib plots figures inline and prepare a function to save the figures. We also check that Python 3.5 or later is installed (although Python 2.x may work, it is deprecated so we strongly recommend you use Python 3 instead), as well as Scikit-Learn ≥0.20 and TensorFlow ≥2.0."
      ]
    },
    {
      "cell_type": "code",
      "metadata": {
        "colab": {
          "base_uri": "https://localhost:8080/"
        },
        "id": "H2RMRgzkyYb8",
        "outputId": "50e06197-f40b-4ca6-a35b-8234ff7c01bc"
      },
      "source": [
        "# Python ≥3.5 is required\n",
        "import sys\n",
        "assert sys.version_info >= (3, 5)\n",
        "\n",
        "# Is this notebook running on Colab or Kaggle?\n",
        "IS_COLAB = \"google.colab\" in sys.modules\n",
        "IS_KAGGLE = \"kaggle_secrets\" in sys.modules\n",
        "\n",
        "# Scikit-Learn ≥0.20 is required\n",
        "import sklearn\n",
        "assert sklearn.__version__ >= \"0.20\"\n",
        "\n",
        "# TensorFlow ≥2.0 is required\n",
        "import tensorflow as tf\n",
        "from tensorflow import keras\n",
        "assert tf.__version__ >= \"2.0\"\n",
        "\n",
        "if not tf.config.list_physical_devices('GPU'):\n",
        "    print(\"No GPU was detected. LSTMs and CNNs can be very slow without a GPU.\")\n",
        "    if IS_COLAB:\n",
        "        print(\"Go to Runtime > Change runtime and select a GPU hardware accelerator.\")\n",
        "    if IS_KAGGLE:\n",
        "        print(\"Go to Settings > Accelerator and select GPU.\")\n",
        "\n",
        "# Common imports\n",
        "import numpy as np\n",
        "import os\n",
        "from pathlib import Path\n",
        "\n",
        "# to make this notebook's output stable across runs\n",
        "np.random.seed(42)\n",
        "tf.random.set_seed(42)\n",
        "\n",
        "# To plot pretty figures\n",
        "%matplotlib inline\n",
        "import matplotlib as mpl\n",
        "import matplotlib.pyplot as plt\n",
        "mpl.rc('axes', labelsize=14)\n",
        "mpl.rc('xtick', labelsize=12)\n",
        "mpl.rc('ytick', labelsize=12)\n",
        "\n",
        "# Where to save the figures\n",
        "PROJECT_ROOT_DIR = \".\"\n",
        "CHAPTER_ID = \"rnn\"\n",
        "IMAGES_PATH = os.path.join(PROJECT_ROOT_DIR, \"images\", CHAPTER_ID)\n",
        "os.makedirs(IMAGES_PATH, exist_ok=True)\n",
        "\n",
        "def save_fig(fig_id, tight_layout=True, fig_extension=\"png\", resolution=300):\n",
        "    path = os.path.join(IMAGES_PATH, fig_id + \".\" + fig_extension)\n",
        "    print(\"Saving figure\", fig_id)\n",
        "    if tight_layout:\n",
        "        plt.tight_layout()\n",
        "    plt.savefig(path, format=fig_extension, dpi=resolution)"
      ],
      "execution_count": null,
      "outputs": [
        {
          "output_type": "stream",
          "name": "stdout",
          "text": [
            "No GPU was detected. LSTMs and CNNs can be very slow without a GPU.\n",
            "Go to Runtime > Change runtime and select a GPU hardware accelerator.\n"
          ]
        }
      ]
    },
    {
      "cell_type": "markdown",
      "metadata": {
        "id": "aFdf5l0FyYb_"
      },
      "source": [
        "# A. Basic Recurrent Neural Networks"
      ]
    },
    {
      "cell_type": "markdown",
      "metadata": {
        "id": "leMSk3cmyYcA"
      },
      "source": [
        "## Generate the Dataset\n",
        "\n",
        "Let's generate some data to play with Recurrent Neural Network. We will generate 10,000 data that contains 7,000 train data, 2,000 validation data, and 1,000 test data."
      ]
    },
    {
      "cell_type": "code",
      "metadata": {
        "id": "V6xNnWckyYcC"
      },
      "source": [
        "# Function or Generate Data. The Generated Data is Assumed to be Time Series Data\n",
        "def generate_time_series(batch_size, n_steps):\n",
        "    freq1, freq2, offsets1, offsets2 = np.random.rand(4, batch_size, 1)\n",
        "    time = np.linspace(0, 1, n_steps)\n",
        "    series = 0.5 * np.sin((time - offsets1) * (freq1 * 10 + 10))  #   wave 1\n",
        "    series += 0.2 * np.sin((time - offsets2) * (freq2 * 20 + 20)) # + wave 2\n",
        "    series += 0.1 * (np.random.rand(batch_size, n_steps) - 0.5)   # + noise\n",
        "    return series[..., np.newaxis].astype(np.float32)"
      ],
      "execution_count": null,
      "outputs": []
    },
    {
      "cell_type": "code",
      "metadata": {
        "id": "j81O4M-PyYcD"
      },
      "source": [
        "# Generate Dataset that Each Row/Data Contains 20 Features/Columns/Time Step\n",
        "\n",
        "np.random.seed(42)\n",
        "\n",
        "n_steps = 20\n",
        "series = generate_time_series(10000, n_steps + 1)\n",
        "X_train, y_train = series[:7000, :n_steps], series[:7000, -1]\n",
        "X_valid, y_valid = series[7000:9000, :n_steps], series[7000:9000, -1]\n",
        "X_test, y_test = series[9000:, :n_steps], series[9000:, -1]"
      ],
      "execution_count": null,
      "outputs": []
    },
    {
      "cell_type": "code",
      "metadata": {
        "colab": {
          "base_uri": "https://localhost:8080/"
        },
        "id": "clAdFEw4iL-H",
        "outputId": "f0d7e2ce-2e0a-4e8a-bc97-58908236ea1c"
      },
      "source": [
        "# Display the First Two Data\n",
        "\n",
        "print('X_train - 0 : ', X_train[0])\n",
        "print('y_train - 0 : ', y_train[0])\n",
        "print('')\n",
        "\n",
        "print('X_train - 1 : ', X_train[1])\n",
        "print('y_train - 1 : ', y_train[1])\n",
        "print('')"
      ],
      "execution_count": null,
      "outputs": [
        {
          "output_type": "stream",
          "name": "stdout",
          "text": [
            "X_train - 0 :  [[ 0.4596948 ]\n",
            " [ 0.00755453]\n",
            " [-0.5432616 ]\n",
            " [-0.6779426 ]\n",
            " [-0.34988356]\n",
            " [ 0.00858441]\n",
            " [ 0.13068825]\n",
            " [ 0.23212491]\n",
            " [ 0.44191158]\n",
            " [ 0.48522508]\n",
            " [ 0.17225628]\n",
            " [-0.43605506]\n",
            " [-0.6329039 ]\n",
            " [-0.33909634]\n",
            " [-0.03571324]\n",
            " [ 0.14223886]\n",
            " [ 0.21056868]\n",
            " [ 0.39458805]\n",
            " [ 0.46924356]\n",
            " [ 0.24145903]]\n",
            "y_train - 0 :  [-0.4072814]\n",
            "\n",
            "X_train - 1 :  [[ 0.3338718 ]\n",
            " [-0.0208375 ]\n",
            " [-0.45994148]\n",
            " [-0.53118634]\n",
            " [ 0.03263218]\n",
            " [ 0.584183  ]\n",
            " [ 0.5420556 ]\n",
            " [-0.05551102]\n",
            " [-0.6485825 ]\n",
            " [-0.50053525]\n",
            " [ 0.1468956 ]\n",
            " [ 0.46564335]\n",
            " [ 0.37931484]\n",
            " [-0.00969904]\n",
            " [-0.27577117]\n",
            " [-0.26779324]\n",
            " [-0.15419051]\n",
            " [ 0.03101839]\n",
            " [ 0.3415931 ]\n",
            " [ 0.44874772]]\n",
            "y_train - 1 :  [0.11540564]\n",
            "\n"
          ]
        }
      ]
    },
    {
      "cell_type": "code",
      "metadata": {
        "colab": {
          "base_uri": "https://localhost:8080/",
          "height": 314
        },
        "id": "-sKEkaFGyYcF",
        "outputId": "73379365-4815-41fd-bd03-1ad1d8fa11c7"
      },
      "source": [
        "# Visualization of the First Three Data\n",
        "\n",
        "def plot_series(series, y=None, y_pred=None, x_label=\"$t$\", y_label=\"$x(t)$\"):\n",
        "    plt.plot(series, \".-\")\n",
        "    if y is not None:\n",
        "        plt.plot(n_steps, y, \"bx\", markersize=10)\n",
        "    if y_pred is not None:\n",
        "        plt.plot(n_steps, y_pred, \"ro\")\n",
        "    plt.grid(True)\n",
        "    if x_label:\n",
        "        plt.xlabel(x_label, fontsize=16)\n",
        "    if y_label:\n",
        "        plt.ylabel(y_label, fontsize=16, rotation=0)\n",
        "    plt.hlines(0, 0, 100, linewidth=1)\n",
        "    plt.axis([0, n_steps + 1, -1, 1])\n",
        "\n",
        "fig, axes = plt.subplots(nrows=1, ncols=3, sharey=True, figsize=(12, 4))\n",
        "for col in range(3):\n",
        "    plt.sca(axes[col])\n",
        "    plot_series(X_train[col, :, 0], y_train[col, 0],\n",
        "                y_label=(\"$x(t)$\" if col==0 else None))\n",
        "save_fig(\"time_series_plot\")\n",
        "plt.show()"
      ],
      "execution_count": null,
      "outputs": [
        {
          "output_type": "stream",
          "name": "stdout",
          "text": [
            "Saving figure time_series_plot\n"
          ]
        },
        {
          "output_type": "display_data",
          "data": {
            "text/plain": [
              "<Figure size 864x288 with 3 Axes>"
            ],
            "image/png": "[encoded data removed]"
          },
          "metadata": {
            "needs_background": "light"
          }
        }
      ]
    },
    {
      "cell_type": "markdown",
      "metadata": {
        "id": "C6k_HdBRAdsS"
      },
      "source": [
        "Symbol `X` in graph above indicates the target (`y`).\n",
        "\n",
        "---"
      ]
    },
    {
      "cell_type": "markdown",
      "metadata": {
        "id": "uDX2BvJryYcG"
      },
      "source": [
        "## Computing Some Baselines (Dummy Model)\n",
        "\n",
        "Before we start using RNNs, it is often a good idea to have a few baseline\n",
        "metrics/models. Reasons : \n",
        "* We may end up thinking our model works great when **in fact it is doing worse** than basic models. \n",
        "* Basic models will be our reference in making the model where the model we make **must have a smaller error value** compare to error of basic model.\n",
        "* In this case, the simplest\n",
        "approach is to **predict the last value** in each series. This is called naive forecasting, and it is sometimes surprisingly difficult to outperform."
      ]
    },
    {
      "cell_type": "code",
      "metadata": {
        "colab": {
          "base_uri": "https://localhost:8080/"
        },
        "id": "nECd98o1yYcH",
        "outputId": "1df0e299-2375-452e-a78e-c4a7160b18b6"
      },
      "source": [
        "# Compute Last Value as Predictions\n",
        "\n",
        "y_pred = X_test[:, -1]\n",
        "mse_last_value = np.mean(keras.losses.mean_squared_error(y_test, y_pred))\n",
        "print('MSE - Last Value : ', mse_last_value)"
      ],
      "execution_count": null,
      "outputs": [
        {
          "output_type": "stream",
          "name": "stdout",
          "text": [
            "MSE - Last Value :  0.11282724\n"
          ]
        }
      ]
    },
    {
      "cell_type": "code",
      "metadata": {
        "colab": {
          "base_uri": "https://localhost:8080/"
        },
        "id": "VEA7Rg6imll0",
        "outputId": "32e7fcbf-5b0d-4d98-e82c-dfc0c955f05c"
      },
      "source": [
        "# Display Predictions for First Data\n",
        "\n",
        "print('X_test[0] : ', X_test[0])\n",
        "print('y_pred[0] : ', y_pred[0])\n",
        "print('y_test[0] : ', y_test[0])"
      ],
      "execution_count": null,
      "outputs": [
        {
          "output_type": "stream",
          "name": "stdout",
          "text": [
            "X_test[0] :  [[ 0.46738604]\n",
            " [-0.235623  ]\n",
            " [-0.58732206]\n",
            " [-0.36102796]\n",
            " [ 0.13630679]\n",
            " [ 0.37390864]\n",
            " [ 0.3201161 ]\n",
            " [ 0.08543215]\n",
            " [-0.09381645]\n",
            " [-0.39693323]\n",
            " [-0.35871089]\n",
            " [ 0.06346299]\n",
            " [ 0.5576587 ]\n",
            " [ 0.56081885]\n",
            " [-0.06398429]\n",
            " [-0.62518287]\n",
            " [-0.5003389 ]\n",
            " [ 0.13825461]\n",
            " [ 0.48024204]\n",
            " [ 0.32506764]]\n",
            "y_pred[0] :  [0.32506764]\n",
            "y_test[0] :  [0.01953573]\n"
          ]
        }
      ]
    },
    {
      "cell_type": "code",
      "metadata": {
        "colab": {
          "base_uri": "https://localhost:8080/",
          "height": 293
        },
        "id": "uG8y0IUgyYcH",
        "outputId": "85a54261-5a5c-431e-b1f9-fb11a4312c0d"
      },
      "source": [
        "# Visualization of Predictions for First Data\n",
        "\n",
        "plot_series(X_test[0, :, 0], y_test[0, 0], y_pred[0, 0])\n",
        "plt.show()"
      ],
      "execution_count": null,
      "outputs": [
        {
          "output_type": "display_data",
          "data": {
            "text/plain": [
              "<Figure size 432x288 with 1 Axes>"
            ],
            "image/png": "[encoded data removed]"
          },
          "metadata": {
            "needs_background": "light"
          }
        }
      ]
    },
    {
      "cell_type": "markdown",
      "metadata": {
        "id": "0DVhUBfuDkhs"
      },
      "source": [
        "In the graph above, `X` means the target (`y_test`) meanwhile `red-dot` is our prediction (`y_pred`)\n",
        "\n",
        "---"
      ]
    },
    {
      "cell_type": "markdown",
      "metadata": {
        "id": "HD2jLxTwyYcI"
      },
      "source": [
        "## Simple Neural Network\n",
        "\n",
        "Let's solve this problem using Neural Network. This time we will solve it by using only 1 input layer and 1 output layer where the **output neurons are only 1**."
      ]
    },
    {
      "cell_type": "code",
      "metadata": {
        "colab": {
          "base_uri": "https://localhost:8080/"
        },
        "id": "IgbVN-KUyYcI",
        "outputId": "75c44667-569a-48cc-faaf-6e0f4d7466c6"
      },
      "source": [
        "# Let's Try Solve the Problem using Simple Neural Network\n",
        "\n",
        "%%time\n",
        "np.random.seed(42)\n",
        "tf.random.set_seed(42)\n",
        "\n",
        "model = keras.models.Sequential([\n",
        "    keras.layers.Flatten(input_shape=[20, 1]),\n",
        "    keras.layers.Dense(1)\n",
        "])\n",
        "\n",
        "model.compile(loss=\"mse\", optimizer=\"adam\")\n",
        "history = model.fit(X_train, y_train, epochs=100,\n",
        "                    validation_data=(X_valid, y_valid))"
      ],
      "execution_count": null,
      "outputs": [
        {
          "output_type": "stream",
          "name": "stdout",
          "text": [
            "Epoch 1/100\n",
            "219/219 [==============================] - 2s 5ms/step - loss: 0.2294 - val_loss: 0.1467\n",
            "Epoch 2/100\n",
            "219/219 [==============================] - 1s 3ms/step - loss: 0.1081 - val_loss: 0.0980\n",
            "Epoch 3/100\n",
            "219/219 [==============================] - 1s 4ms/step - loss: 0.0775 - val_loss: 0.0718\n",
            "Epoch 4/100\n",
            "219/219 [==============================] - 1s 5ms/step - loss: 0.0592 - val_loss: 0.0553\n",
            "Epoch 5/100\n",
            "219/219 [==============================] - 1s 4ms/step - loss: 0.0469 - val_loss: 0.0435\n",
            "Epoch 6/100\n",
            "219/219 [==============================] - 1s 4ms/step - loss: 0.0381 - val_loss: 0.0357\n",
            "Epoch 7/100\n",
            "219/219 [==============================] - 1s 3ms/step - loss: 0.0320 - val_loss: 0.0299\n",
            "Epoch 8/100\n",
            "219/219 [==============================] - 1s 4ms/step - loss: 0.0275 - val_loss: 0.0258\n",
            "Epoch 9/100\n",
            "219/219 [==============================] - 1s 6ms/step - loss: 0.0243 - val_loss: 0.0230\n",
            "Epoch 10/100\n",
            "219/219 [==============================] - 1s 6ms/step - loss: 0.0219 - val_loss: 0.0210\n",
            "Epoch 11/100\n",
            "219/219 [==============================] - 1s 3ms/step - loss: 0.0201 - val_loss: 0.0195\n",
            "Epoch 12/100\n",
            "219/219 [==============================] - 0s 2ms/step - loss: 0.0188 - val_loss: 0.0185\n",
            "Epoch 13/100\n",
            "219/219 [==============================] - 1s 2ms/step - loss: 0.0179 - val_loss: 0.0176\n",
            "Epoch 14/100\n",
            "219/219 [==============================] - 0s 2ms/step - loss: 0.0171 - val_loss: 0.0169\n",
            "Epoch 15/100\n",
            "219/219 [==============================] - 1s 2ms/step - loss: 0.0164 - val_loss: 0.0165\n",
            "Epoch 16/100\n",
            "219/219 [==============================] - 0s 2ms/step - loss: 0.0159 - val_loss: 0.0159\n",
            "Epoch 17/100\n",
            "219/219 [==============================] - 0s 2ms/step - loss: 0.0154 - val_loss: 0.0155\n",
            "Epoch 18/100\n",
            "219/219 [==============================] - 0s 2ms/step - loss: 0.0150 - val_loss: 0.0151\n",
            "Epoch 19/100\n",
            "219/219 [==============================] - 0s 2ms/step - loss: 0.0146 - val_loss: 0.0148\n",
            "Epoch 20/100\n",
            "219/219 [==============================] - 1s 2ms/step - loss: 0.0143 - val_loss: 0.0144\n",
            "Epoch 21/100\n",
            "219/219 [==============================] - 1s 2ms/step - loss: 0.0139 - val_loss: 0.0141\n",
            "Epoch 22/100\n",
            "219/219 [==============================] - 0s 2ms/step - loss: 0.0136 - val_loss: 0.0138\n",
            "Epoch 23/100\n",
            "219/219 [==============================] - 1s 2ms/step - loss: 0.0134 - val_loss: 0.0137\n",
            "Epoch 24/100\n",
            "219/219 [==============================] - 0s 2ms/step - loss: 0.0132 - val_loss: 0.0134\n",
            "Epoch 25/100\n",
            "219/219 [==============================] - 0s 2ms/step - loss: 0.0130 - val_loss: 0.0132\n",
            "Epoch 26/100\n",
            "219/219 [==============================] - 0s 2ms/step - loss: 0.0128 - val_loss: 0.0130\n",
            "Epoch 27/100\n",
            "219/219 [==============================] - 1s 2ms/step - loss: 0.0126 - val_loss: 0.0129\n",
            "Epoch 28/100\n",
            "219/219 [==============================] - 0s 2ms/step - loss: 0.0125 - val_loss: 0.0127\n",
            "Epoch 29/100\n",
            "219/219 [==============================] - 0s 2ms/step - loss: 0.0123 - val_loss: 0.0126\n",
            "Epoch 30/100\n",
            "219/219 [==============================] - 1s 2ms/step - loss: 0.0122 - val_loss: 0.0126\n",
            "Epoch 31/100\n",
            "219/219 [==============================] - 1s 2ms/step - loss: 0.0121 - val_loss: 0.0125\n",
            "Epoch 32/100\n",
            "219/219 [==============================] - 1s 2ms/step - loss: 0.0121 - val_loss: 0.0124\n",
            "Epoch 33/100\n",
            "219/219 [==============================] - 0s 2ms/step - loss: 0.0120 - val_loss: 0.0123\n",
            "Epoch 34/100\n",
            "219/219 [==============================] - 0s 2ms/step - loss: 0.0119 - val_loss: 0.0123\n",
            "Epoch 35/100\n",
            "219/219 [==============================] - 0s 2ms/step - loss: 0.0119 - val_loss: 0.0122\n",
            "Epoch 36/100\n",
            "219/219 [==============================] - 0s 2ms/step - loss: 0.0118 - val_loss: 0.0122\n",
            "Epoch 37/100\n",
            "219/219 [==============================] - 1s 2ms/step - loss: 0.0118 - val_loss: 0.0121\n",
            "Epoch 38/100\n",
            "219/219 [==============================] - 1s 2ms/step - loss: 0.0117 - val_loss: 0.0123\n",
            "Epoch 39/100\n",
            "219/219 [==============================] - 0s 2ms/step - loss: 0.0117 - val_loss: 0.0121\n",
            "Epoch 40/100\n",
            "219/219 [==============================] - 0s 2ms/step - loss: 0.0117 - val_loss: 0.0120\n",
            "Epoch 41/100\n",
            "219/219 [==============================] - 0s 2ms/step - loss: 0.0116 - val_loss: 0.0120\n",
            "Epoch 42/100\n",
            "219/219 [==============================] - 1s 2ms/step - loss: 0.0116 - val_loss: 0.0121\n",
            "Epoch 43/100\n",
            "219/219 [==============================] - 1s 2ms/step - loss: 0.0116 - val_loss: 0.0120\n",
            "Epoch 44/100\n",
            "219/219 [==============================] - 1s 2ms/step - loss: 0.0116 - val_loss: 0.0120\n",
            "Epoch 45/100\n",
            "219/219 [==============================] - 0s 2ms/step - loss: 0.0116 - val_loss: 0.0120\n",
            "Epoch 46/100\n",
            "219/219 [==============================] - 0s 2ms/step - loss: 0.0115 - val_loss: 0.0122\n",
            "Epoch 47/100\n",
            "219/219 [==============================] - 1s 2ms/step - loss: 0.0115 - val_loss: 0.0119\n",
            "Epoch 48/100\n",
            "219/219 [==============================] - 0s 2ms/step - loss: 0.0115 - val_loss: 0.0120\n",
            "Epoch 49/100\n",
            "219/219 [==============================] - 0s 2ms/step - loss: 0.0115 - val_loss: 0.0119\n",
            "Epoch 50/100\n",
            "219/219 [==============================] - 0s 2ms/step - loss: 0.0115 - val_loss: 0.0119\n",
            "Epoch 51/100\n",
            "219/219 [==============================] - 0s 2ms/step - loss: 0.0115 - val_loss: 0.0119\n",
            "Epoch 52/100\n",
            "219/219 [==============================] - 1s 2ms/step - loss: 0.0115 - val_loss: 0.0120\n",
            "Epoch 53/100\n",
            "219/219 [==============================] - 0s 2ms/step - loss: 0.0115 - val_loss: 0.0118\n",
            "Epoch 54/100\n",
            "219/219 [==============================] - 1s 2ms/step - loss: 0.0114 - val_loss: 0.0119\n",
            "Epoch 55/100\n",
            "219/219 [==============================] - 0s 2ms/step - loss: 0.0114 - val_loss: 0.0119\n",
            "Epoch 56/100\n",
            "219/219 [==============================] - 0s 2ms/step - loss: 0.0115 - val_loss: 0.0119\n",
            "Epoch 57/100\n",
            "219/219 [==============================] - 1s 2ms/step - loss: 0.0114 - val_loss: 0.0119\n",
            "Epoch 58/100\n",
            "219/219 [==============================] - 0s 2ms/step - loss: 0.0114 - val_loss: 0.0119\n",
            "Epoch 59/100\n",
            "219/219 [==============================] - 1s 2ms/step - loss: 0.0114 - val_loss: 0.0119\n",
            "Epoch 60/100\n",
            "219/219 [==============================] - 0s 2ms/step - loss: 0.0114 - val_loss: 0.0119\n",
            "Epoch 61/100\n",
            "219/219 [==============================] - 0s 2ms/step - loss: 0.0114 - val_loss: 0.0119\n",
            "Epoch 62/100\n",
            "219/219 [==============================] - 0s 2ms/step - loss: 0.0114 - val_loss: 0.0120\n",
            "Epoch 63/100\n",
            "219/219 [==============================] - 1s 2ms/step - loss: 0.0114 - val_loss: 0.0119\n",
            "Epoch 64/100\n",
            "219/219 [==============================] - 0s 2ms/step - loss: 0.0114 - val_loss: 0.0119\n",
            "Epoch 65/100\n",
            "219/219 [==============================] - 1s 2ms/step - loss: 0.0114 - val_loss: 0.0119\n",
            "Epoch 66/100\n",
            "219/219 [==============================] - 0s 2ms/step - loss: 0.0114 - val_loss: 0.0119\n",
            "Epoch 67/100\n",
            "219/219 [==============================] - 0s 2ms/step - loss: 0.0114 - val_loss: 0.0118\n",
            "Epoch 68/100\n",
            "219/219 [==============================] - 0s 2ms/step - loss: 0.0114 - val_loss: 0.0118\n",
            "Epoch 69/100\n",
            "219/219 [==============================] - 0s 2ms/step - loss: 0.0114 - val_loss: 0.0120\n",
            "Epoch 70/100\n",
            "219/219 [==============================] - 0s 2ms/step - loss: 0.0114 - val_loss: 0.0120\n",
            "Epoch 71/100\n",
            "219/219 [==============================] - 1s 2ms/step - loss: 0.0114 - val_loss: 0.0118\n",
            "Epoch 72/100\n",
            "219/219 [==============================] - 0s 2ms/step - loss: 0.0114 - val_loss: 0.0119\n",
            "Epoch 73/100\n",
            "219/219 [==============================] - 0s 2ms/step - loss: 0.0114 - val_loss: 0.0119\n",
            "Epoch 74/100\n",
            "219/219 [==============================] - 1s 2ms/step - loss: 0.0114 - val_loss: 0.0119\n",
            "Epoch 75/100\n",
            "219/219 [==============================] - 0s 2ms/step - loss: 0.0114 - val_loss: 0.0119\n",
            "Epoch 76/100\n",
            "219/219 [==============================] - 1s 2ms/step - loss: 0.0114 - val_loss: 0.0119\n",
            "Epoch 77/100\n",
            "219/219 [==============================] - 0s 2ms/step - loss: 0.0114 - val_loss: 0.0119\n",
            "Epoch 78/100\n",
            "219/219 [==============================] - 0s 2ms/step - loss: 0.0113 - val_loss: 0.0122\n",
            "Epoch 79/100\n",
            "219/219 [==============================] - 0s 2ms/step - loss: 0.0114 - val_loss: 0.0119\n",
            "Epoch 80/100\n",
            "219/219 [==============================] - 1s 2ms/step - loss: 0.0114 - val_loss: 0.0119\n",
            "Epoch 81/100\n",
            "219/219 [==============================] - 0s 2ms/step - loss: 0.0113 - val_loss: 0.0119\n",
            "Epoch 82/100\n",
            "219/219 [==============================] - 0s 2ms/step - loss: 0.0114 - val_loss: 0.0118\n",
            "Epoch 83/100\n",
            "219/219 [==============================] - 1s 2ms/step - loss: 0.0114 - val_loss: 0.0118\n",
            "Epoch 84/100\n",
            "219/219 [==============================] - 1s 2ms/step - loss: 0.0114 - val_loss: 0.0119\n",
            "Epoch 85/100\n",
            "219/219 [==============================] - 0s 2ms/step - loss: 0.0114 - val_loss: 0.0119\n",
            "Epoch 86/100\n",
            "219/219 [==============================] - 1s 2ms/step - loss: 0.0114 - val_loss: 0.0119\n",
            "Epoch 87/100\n",
            "219/219 [==============================] - 0s 2ms/step - loss: 0.0114 - val_loss: 0.0120\n",
            "Epoch 88/100\n",
            "219/219 [==============================] - 1s 2ms/step - loss: 0.0113 - val_loss: 0.0119\n",
            "Epoch 89/100\n",
            "219/219 [==============================] - 0s 2ms/step - loss: 0.0114 - val_loss: 0.0120\n",
            "Epoch 90/100\n",
            "219/219 [==============================] - 1s 2ms/step - loss: 0.0114 - val_loss: 0.0119\n",
            "Epoch 91/100\n",
            "219/219 [==============================] - 0s 2ms/step - loss: 0.0113 - val_loss: 0.0120\n",
            "Epoch 92/100\n",
            "219/219 [==============================] - 1s 2ms/step - loss: 0.0114 - val_loss: 0.0119\n",
            "Epoch 93/100\n",
            "219/219 [==============================] - 1s 2ms/step - loss: 0.0113 - val_loss: 0.0120\n",
            "Epoch 94/100\n",
            "219/219 [==============================] - 1s 2ms/step - loss: 0.0114 - val_loss: 0.0120\n",
            "Epoch 95/100\n",
            "219/219 [==============================] - 1s 2ms/step - loss: 0.0114 - val_loss: 0.0118\n",
            "Epoch 96/100\n",
            "219/219 [==============================] - 0s 2ms/step - loss: 0.0114 - val_loss: 0.0119\n",
            "Epoch 97/100\n",
            "219/219 [==============================] - 1s 2ms/step - loss: 0.0114 - val_loss: 0.0119\n",
            "Epoch 98/100\n",
            "219/219 [==============================] - 0s 2ms/step - loss: 0.0114 - val_loss: 0.0119\n",
            "Epoch 99/100\n",
            "219/219 [==============================] - 0s 2ms/step - loss: 0.0114 - val_loss: 0.0119\n",
            "Epoch 100/100\n",
            "219/219 [==============================] - 1s 2ms/step - loss: 0.0114 - val_loss: 0.0118\n",
            "CPU times: user 51.2 s, sys: 3.89 s, total: 55.1 s\n",
            "Wall time: 1min 22s\n"
          ]
        }
      ]
    },
    {
      "cell_type": "code",
      "metadata": {
        "colab": {
          "base_uri": "https://localhost:8080/",
          "height": 291
        },
        "id": "IJfbhiLpyYcK",
        "outputId": "f25a9450-62d9-4ae8-f941-f4fa2c16041c"
      },
      "source": [
        "# Visualization of Training Loss and Validation Loss\n",
        "\n",
        "def plot_learning_curves(loss, val_loss):\n",
        "    plt.plot(np.arange(len(loss)) + 0.5, loss, \"b.-\", label=\"Training loss\")\n",
        "    plt.plot(np.arange(len(val_loss)) + 1, val_loss, \"r.-\", label=\"Validation loss\")\n",
        "    plt.gca().xaxis.set_major_locator(mpl.ticker.MaxNLocator(integer=True))\n",
        "    plt.axis([1, 20, 0, 0.05])\n",
        "    plt.legend(fontsize=14)\n",
        "    plt.xlabel(\"Epochs\")\n",
        "    plt.ylabel(\"Loss\")\n",
        "    plt.grid(True)\n",
        "\n",
        "plot_learning_curves(history.history[\"loss\"], history.history[\"val_loss\"])\n",
        "plt.show()"
      ],
      "execution_count": null,
      "outputs": [
        {
          "output_type": "display_data",
          "data": {
            "text/plain": [
              "<Figure size 432x288 with 1 Axes>"
            ],
            "image/png": "[encoded data removed]"
          },
          "metadata": {
            "needs_background": "light"
          }
        }
      ]
    },
    {
      "cell_type": "code",
      "metadata": {
        "colab": {
          "base_uri": "https://localhost:8080/"
        },
        "id": "1b2nKEARE4Zz",
        "outputId": "6b69f727-27af-4dd0-9b16-778332ae6dba"
      },
      "source": [
        "# Architecture of Our Simple Neural Network\n",
        "\n",
        "model.summary()"
      ],
      "execution_count": null,
      "outputs": [
        {
          "output_type": "stream",
          "name": "stdout",
          "text": [
            "Model: \"sequential\"\n",
            "_________________________________________________________________\n",
            " Layer (type)                Output Shape              Param #   \n",
            "=================================================================\n",
            " flatten (Flatten)           (None, 20)                0         \n",
            "                                                                 \n",
            " dense (Dense)               (None, 1)                 21        \n",
            "                                                                 \n",
            "=================================================================\n",
            "Total params: 21\n",
            "Trainable params: 21\n",
            "Non-trainable params: 0\n",
            "_________________________________________________________________\n"
          ]
        }
      ]
    },
    {
      "cell_type": "code",
      "metadata": {
        "colab": {
          "base_uri": "https://localhost:8080/"
        },
        "id": "SvAkj9kuyYcJ",
        "outputId": "da55c89e-c133-4867-f7f1-b1ed3797eb2a"
      },
      "source": [
        "# Compute MSE and Compare to MSE from Naive Forecasting (using Last Value)\n",
        "\n",
        "mse_simple_nn = model.evaluate(X_test, y_test)\n",
        "\n",
        "print('MSE - Last Value            : ', mse_last_value)\n",
        "print('MSE - Simple Neural Network : ', mse_simple_nn)"
      ],
      "execution_count": null,
      "outputs": [
        {
          "output_type": "stream",
          "name": "stdout",
          "text": [
            "32/32 [==============================] - 0s 1ms/step - loss: 0.0118\n",
            "MSE - Last Value            :  0.11282724\n",
            "MSE - Simple Neural Network :  0.011769798584282398\n"
          ]
        }
      ]
    },
    {
      "cell_type": "code",
      "metadata": {
        "colab": {
          "base_uri": "https://localhost:8080/",
          "height": 293
        },
        "id": "NxfebnhPyYcL",
        "outputId": "cefad7d9-d770-4204-c973-637a8f5b4aa3"
      },
      "source": [
        "# Visualization of Predictions for First Data\n",
        "\n",
        "y_pred = model.predict(X_test)\n",
        "plot_series(X_test[0, :, 0], y_test[0, 0], y_pred[0, 0])\n",
        "plt.show()"
      ],
      "execution_count": null,
      "outputs": [
        {
          "output_type": "display_data",
          "data": {
            "text/plain": [
              "<Figure size 432x288 with 1 Axes>"
            ],
            "image/png": "[encoded data removed]"
          },
          "metadata": {
            "needs_background": "light"
          }
        }
      ]
    },
    {
      "cell_type": "markdown",
      "metadata": {
        "id": "OJprGuogGaY6"
      },
      "source": [
        "In the graph above, `X` means the target (`y_valid`) meanwhile `red-dot` is our prediction (`y_pred`)\n",
        "\n",
        "---"
      ]
    },
    {
      "cell_type": "markdown",
      "metadata": {
        "id": "vGHlhpWeyYcM"
      },
      "source": [
        "## Using a Simple Recurrent Neural Network (RNN)\n",
        "\n",
        "Let's try solve this problem using simple Recurrent Neural Network. This time we will solve it by using **only 1 RNN's neuron**."
      ]
    },
    {
      "cell_type": "code",
      "metadata": {
        "colab": {
          "base_uri": "https://localhost:8080/"
        },
        "id": "_zpLYaeMyYcM",
        "outputId": "6e9d93b6-0306-47f7-c936-64461f7e43d1"
      },
      "source": [
        "# Let's Try Solve the Problem using Simple Recurrent Neural Network\n",
        "\n",
        "%%time\n",
        "np.random.seed(42)\n",
        "tf.random.set_seed(42)\n",
        "\n",
        "model = keras.models.Sequential([\n",
        "    keras.layers.SimpleRNN(1, input_shape=[20, 1])\n",
        "])\n",
        "\n",
        "optimizer = keras.optimizers.Adam(lr=0.005)\n",
        "model.compile(loss=\"mse\", optimizer=optimizer)\n",
        "history = model.fit(X_train, y_train, epochs=100,\n",
        "                    validation_data=(X_valid, y_valid))"
      ],
      "execution_count": null,
      "outputs": [
        {
          "output_type": "stream",
          "name": "stdout",
          "text": [
            "Epoch 1/100\n"
          ]
        },
        {
          "output_type": "stream",
          "name": "stderr",
          "text": [
            "/usr/local/lib/python3.7/dist-packages/keras/optimizer_v2/adam.py:105: UserWarning: The `lr` argument is deprecated, use `learning_rate` instead.\n",
            "  super(Adam, self).__init__(name, **kwargs)\n"
          ]
        },
        {
          "output_type": "stream",
          "name": "stdout",
          "text": [
            "219/219 [==============================] - 2s 6ms/step - loss: 0.1698 - val_loss: 0.1326\n",
            "Epoch 2/100\n",
            "219/219 [==============================] - 1s 5ms/step - loss: 0.1039 - val_loss: 0.0864\n",
            "Epoch 3/100\n",
            "219/219 [==============================] - 1s 5ms/step - loss: 0.0690 - val_loss: 0.0602\n",
            "Epoch 4/100\n",
            "219/219 [==============================] - 1s 5ms/step - loss: 0.0514 - val_loss: 0.0479\n",
            "Epoch 5/100\n",
            "219/219 [==============================] - 1s 5ms/step - loss: 0.0452 - val_loss: 0.0450\n",
            "Epoch 6/100\n",
            "219/219 [==============================] - 1s 5ms/step - loss: 0.0443 - val_loss: 0.0446\n",
            "Epoch 7/100\n",
            "219/219 [==============================] - 1s 5ms/step - loss: 0.0442 - val_loss: 0.0445\n",
            "Epoch 8/100\n",
            "219/219 [==============================] - 1s 5ms/step - loss: 0.0442 - val_loss: 0.0446\n",
            "Epoch 9/100\n",
            "219/219 [==============================] - 1s 5ms/step - loss: 0.0442 - val_loss: 0.0445\n",
            "Epoch 10/100\n",
            "219/219 [==============================] - 1s 5ms/step - loss: 0.0442 - val_loss: 0.0446\n",
            "Epoch 11/100\n",
            "219/219 [==============================] - 1s 5ms/step - loss: 0.0443 - val_loss: 0.0445\n",
            "Epoch 12/100\n",
            "219/219 [==============================] - 1s 5ms/step - loss: 0.0442 - val_loss: 0.0445\n",
            "Epoch 13/100\n",
            "219/219 [==============================] - 1s 5ms/step - loss: 0.0442 - val_loss: 0.0446\n",
            "Epoch 14/100\n",
            "219/219 [==============================] - 1s 5ms/step - loss: 0.0442 - val_loss: 0.0446\n",
            "Epoch 15/100\n",
            "219/219 [==============================] - 1s 6ms/step - loss: 0.0442 - val_loss: 0.0446\n",
            "Epoch 16/100\n",
            "219/219 [==============================] - 2s 7ms/step - loss: 0.0442 - val_loss: 0.0445\n",
            "Epoch 17/100\n",
            "219/219 [==============================] - 1s 5ms/step - loss: 0.0443 - val_loss: 0.0445\n",
            "Epoch 18/100\n",
            "219/219 [==============================] - 1s 5ms/step - loss: 0.0442 - val_loss: 0.0448\n",
            "Epoch 19/100\n",
            "219/219 [==============================] - 1s 5ms/step - loss: 0.0443 - val_loss: 0.0447\n",
            "Epoch 20/100\n",
            "219/219 [==============================] - 1s 5ms/step - loss: 0.0443 - val_loss: 0.0446\n",
            "Epoch 21/100\n",
            "219/219 [==============================] - 1s 5ms/step - loss: 0.0443 - val_loss: 0.0447\n",
            "Epoch 22/100\n",
            "219/219 [==============================] - 1s 5ms/step - loss: 0.0443 - val_loss: 0.0447\n",
            "Epoch 23/100\n",
            "219/219 [==============================] - 1s 5ms/step - loss: 0.0443 - val_loss: 0.0447\n",
            "Epoch 24/100\n",
            "219/219 [==============================] - 1s 5ms/step - loss: 0.0443 - val_loss: 0.0447\n",
            "Epoch 25/100\n",
            "219/219 [==============================] - 1s 5ms/step - loss: 0.0443 - val_loss: 0.0445\n",
            "Epoch 26/100\n",
            "219/219 [==============================] - 1s 5ms/step - loss: 0.0443 - val_loss: 0.0445\n",
            "Epoch 27/100\n",
            "219/219 [==============================] - 1s 5ms/step - loss: 0.0442 - val_loss: 0.0446\n",
            "Epoch 28/100\n",
            "219/219 [==============================] - 1s 5ms/step - loss: 0.0443 - val_loss: 0.0445\n",
            "Epoch 29/100\n",
            "219/219 [==============================] - 1s 5ms/step - loss: 0.0443 - val_loss: 0.0446\n",
            "Epoch 30/100\n",
            "219/219 [==============================] - 1s 5ms/step - loss: 0.0443 - val_loss: 0.0445\n",
            "Epoch 31/100\n",
            "219/219 [==============================] - 1s 5ms/step - loss: 0.0442 - val_loss: 0.0446\n",
            "Epoch 32/100\n",
            "219/219 [==============================] - 1s 5ms/step - loss: 0.0443 - val_loss: 0.0448\n",
            "Epoch 33/100\n",
            "219/219 [==============================] - 1s 5ms/step - loss: 0.0443 - val_loss: 0.0446\n",
            "Epoch 34/100\n",
            "219/219 [==============================] - 1s 5ms/step - loss: 0.0443 - val_loss: 0.0447\n",
            "Epoch 35/100\n",
            "219/219 [==============================] - 1s 5ms/step - loss: 0.0443 - val_loss: 0.0447\n",
            "Epoch 36/100\n",
            "219/219 [==============================] - 1s 5ms/step - loss: 0.0443 - val_loss: 0.0446\n",
            "Epoch 37/100\n",
            "219/219 [==============================] - 1s 5ms/step - loss: 0.0443 - val_loss: 0.0447\n",
            "Epoch 38/100\n",
            "219/219 [==============================] - 1s 5ms/step - loss: 0.0443 - val_loss: 0.0446\n",
            "Epoch 39/100\n",
            "219/219 [==============================] - 1s 5ms/step - loss: 0.0443 - val_loss: 0.0447\n",
            "Epoch 40/100\n",
            "219/219 [==============================] - 1s 5ms/step - loss: 0.0443 - val_loss: 0.0446\n",
            "Epoch 41/100\n",
            "219/219 [==============================] - 1s 5ms/step - loss: 0.0443 - val_loss: 0.0445\n",
            "Epoch 42/100\n",
            "219/219 [==============================] - 1s 5ms/step - loss: 0.0442 - val_loss: 0.0447\n",
            "Epoch 43/100\n",
            "219/219 [==============================] - 1s 5ms/step - loss: 0.0443 - val_loss: 0.0446\n",
            "Epoch 44/100\n",
            "219/219 [==============================] - 1s 5ms/step - loss: 0.0443 - val_loss: 0.0446\n",
            "Epoch 45/100\n",
            "219/219 [==============================] - 1s 5ms/step - loss: 0.0442 - val_loss: 0.0449\n",
            "Epoch 46/100\n",
            "219/219 [==============================] - 1s 5ms/step - loss: 0.0443 - val_loss: 0.0454\n",
            "Epoch 47/100\n",
            "219/219 [==============================] - 1s 5ms/step - loss: 0.0443 - val_loss: 0.0445\n",
            "Epoch 48/100\n",
            "219/219 [==============================] - 1s 5ms/step - loss: 0.0443 - val_loss: 0.0446\n",
            "Epoch 49/100\n",
            "219/219 [==============================] - 1s 5ms/step - loss: 0.0443 - val_loss: 0.0446\n",
            "Epoch 50/100\n",
            "219/219 [==============================] - 1s 5ms/step - loss: 0.0443 - val_loss: 0.0446\n",
            "Epoch 51/100\n",
            "219/219 [==============================] - 1s 5ms/step - loss: 0.0443 - val_loss: 0.0445\n",
            "Epoch 52/100\n",
            "219/219 [==============================] - 1s 5ms/step - loss: 0.0442 - val_loss: 0.0449\n",
            "Epoch 53/100\n",
            "219/219 [==============================] - 1s 5ms/step - loss: 0.0443 - val_loss: 0.0446\n",
            "Epoch 54/100\n",
            "219/219 [==============================] - 1s 5ms/step - loss: 0.0443 - val_loss: 0.0447\n",
            "Epoch 55/100\n",
            "219/219 [==============================] - 1s 5ms/step - loss: 0.0443 - val_loss: 0.0446\n",
            "Epoch 56/100\n",
            "219/219 [==============================] - 1s 5ms/step - loss: 0.0443 - val_loss: 0.0447\n",
            "Epoch 57/100\n",
            "219/219 [==============================] - 1s 5ms/step - loss: 0.0443 - val_loss: 0.0446\n",
            "Epoch 58/100\n",
            "219/219 [==============================] - 1s 5ms/step - loss: 0.0443 - val_loss: 0.0445\n",
            "Epoch 59/100\n",
            "219/219 [==============================] - 1s 5ms/step - loss: 0.0443 - val_loss: 0.0445\n",
            "Epoch 60/100\n",
            "219/219 [==============================] - 1s 5ms/step - loss: 0.0443 - val_loss: 0.0445\n",
            "Epoch 61/100\n",
            "219/219 [==============================] - 1s 5ms/step - loss: 0.0443 - val_loss: 0.0445\n",
            "Epoch 62/100\n",
            "219/219 [==============================] - 1s 5ms/step - loss: 0.0442 - val_loss: 0.0445\n",
            "Epoch 63/100\n",
            "219/219 [==============================] - 1s 5ms/step - loss: 0.0443 - val_loss: 0.0445\n",
            "Epoch 64/100\n",
            "219/219 [==============================] - 1s 5ms/step - loss: 0.0443 - val_loss: 0.0446\n",
            "Epoch 65/100\n",
            "219/219 [==============================] - 1s 5ms/step - loss: 0.0443 - val_loss: 0.0446\n",
            "Epoch 66/100\n",
            "219/219 [==============================] - 1s 5ms/step - loss: 0.0443 - val_loss: 0.0445\n",
            "Epoch 67/100\n",
            "219/219 [==============================] - 1s 5ms/step - loss: 0.0443 - val_loss: 0.0447\n",
            "Epoch 68/100\n",
            "219/219 [==============================] - 1s 5ms/step - loss: 0.0442 - val_loss: 0.0445\n",
            "Epoch 69/100\n",
            "219/219 [==============================] - 1s 5ms/step - loss: 0.0442 - val_loss: 0.0447\n",
            "Epoch 70/100\n",
            "219/219 [==============================] - 1s 5ms/step - loss: 0.0443 - val_loss: 0.0451\n",
            "Epoch 71/100\n",
            "219/219 [==============================] - 1s 5ms/step - loss: 0.0443 - val_loss: 0.0447\n",
            "Epoch 72/100\n",
            "219/219 [==============================] - 1s 5ms/step - loss: 0.0442 - val_loss: 0.0448\n",
            "Epoch 73/100\n",
            "219/219 [==============================] - 1s 5ms/step - loss: 0.0443 - val_loss: 0.0445\n",
            "Epoch 74/100\n",
            "219/219 [==============================] - 1s 5ms/step - loss: 0.0443 - val_loss: 0.0446\n",
            "Epoch 75/100\n",
            "219/219 [==============================] - 1s 5ms/step - loss: 0.0442 - val_loss: 0.0444\n",
            "Epoch 76/100\n",
            "219/219 [==============================] - 1s 5ms/step - loss: 0.0443 - val_loss: 0.0446\n",
            "Epoch 77/100\n",
            "219/219 [==============================] - 1s 5ms/step - loss: 0.0443 - val_loss: 0.0446\n",
            "Epoch 78/100\n",
            "219/219 [==============================] - 1s 5ms/step - loss: 0.0443 - val_loss: 0.0445\n",
            "Epoch 79/100\n",
            "219/219 [==============================] - 1s 5ms/step - loss: 0.0443 - val_loss: 0.0445\n",
            "Epoch 80/100\n",
            "219/219 [==============================] - 1s 5ms/step - loss: 0.0442 - val_loss: 0.0446\n",
            "Epoch 81/100\n",
            "219/219 [==============================] - 1s 5ms/step - loss: 0.0443 - val_loss: 0.0447\n",
            "Epoch 82/100\n",
            "219/219 [==============================] - 1s 5ms/step - loss: 0.0443 - val_loss: 0.0445\n",
            "Epoch 83/100\n",
            "219/219 [==============================] - 1s 5ms/step - loss: 0.0443 - val_loss: 0.0445\n",
            "Epoch 84/100\n",
            "219/219 [==============================] - 1s 5ms/step - loss: 0.0443 - val_loss: 0.0445\n",
            "Epoch 85/100\n",
            "219/219 [==============================] - 1s 5ms/step - loss: 0.0442 - val_loss: 0.0449\n",
            "Epoch 86/100\n",
            "219/219 [==============================] - 1s 5ms/step - loss: 0.0443 - val_loss: 0.0445\n",
            "Epoch 87/100\n",
            "219/219 [==============================] - 1s 5ms/step - loss: 0.0443 - val_loss: 0.0447\n",
            "Epoch 88/100\n",
            "219/219 [==============================] - 1s 5ms/step - loss: 0.0442 - val_loss: 0.0446\n",
            "Epoch 89/100\n",
            "219/219 [==============================] - 1s 5ms/step - loss: 0.0443 - val_loss: 0.0445\n",
            "Epoch 90/100\n",
            "219/219 [==============================] - 1s 5ms/step - loss: 0.0443 - val_loss: 0.0445\n",
            "Epoch 91/100\n",
            "219/219 [==============================] - 1s 5ms/step - loss: 0.0442 - val_loss: 0.0451\n",
            "Epoch 92/100\n",
            "219/219 [==============================] - 1s 5ms/step - loss: 0.0443 - val_loss: 0.0446\n",
            "Epoch 93/100\n",
            "219/219 [==============================] - 1s 5ms/step - loss: 0.0443 - val_loss: 0.0445\n",
            "Epoch 94/100\n",
            "219/219 [==============================] - 1s 5ms/step - loss: 0.0442 - val_loss: 0.0446\n",
            "Epoch 95/100\n",
            "219/219 [==============================] - 1s 5ms/step - loss: 0.0443 - val_loss: 0.0446\n",
            "Epoch 96/100\n",
            "219/219 [==============================] - 1s 5ms/step - loss: 0.0443 - val_loss: 0.0446\n",
            "Epoch 97/100\n",
            "219/219 [==============================] - 1s 5ms/step - loss: 0.0443 - val_loss: 0.0445\n",
            "Epoch 98/100\n",
            "219/219 [==============================] - 1s 5ms/step - loss: 0.0443 - val_loss: 0.0445\n",
            "Epoch 99/100\n",
            "219/219 [==============================] - 1s 5ms/step - loss: 0.0442 - val_loss: 0.0445\n",
            "Epoch 100/100\n",
            "219/219 [==============================] - 1s 5ms/step - loss: 0.0443 - val_loss: 0.0445\n",
            "CPU times: user 2min 16s, sys: 9.23 s, total: 2min 25s\n",
            "Wall time: 2min 22s\n"
          ]
        }
      ]
    },
    {
      "cell_type": "code",
      "metadata": {
        "colab": {
          "base_uri": "https://localhost:8080/",
          "height": 291
        },
        "id": "SDFbK2CNyYcN",
        "outputId": "bcbc400e-8657-493f-d42e-c8ebfdc9f4d1"
      },
      "source": [
        "# Visualization of Training Loss and Validation Loss\n",
        "\n",
        "plot_learning_curves(history.history[\"loss\"], history.history[\"val_loss\"])\n",
        "plt.show()"
      ],
      "execution_count": null,
      "outputs": [
        {
          "output_type": "display_data",
          "data": {
            "text/plain": [
              "<Figure size 432x288 with 1 Axes>"
            ],
            "image/png": "[encoded data removed]"
          },
          "metadata": {
            "needs_background": "light"
          }
        }
      ]
    },
    {
      "cell_type": "code",
      "metadata": {
        "colab": {
          "base_uri": "https://localhost:8080/"
        },
        "id": "R6IMgA4bEu6g",
        "outputId": "9e7a786f-b92c-47ac-d7a0-dcbd5af157d3"
      },
      "source": [
        "# Architecture of Our Simple Recurrent Neural Network\n",
        "\n",
        "model.summary()"
      ],
      "execution_count": null,
      "outputs": [
        {
          "output_type": "stream",
          "name": "stdout",
          "text": [
            "Model: \"sequential_1\"\n",
            "_________________________________________________________________\n",
            " Layer (type)                Output Shape              Param #   \n",
            "=================================================================\n",
            " simple_rnn (SimpleRNN)      (None, 1)                 3         \n",
            "                                                                 \n",
            "=================================================================\n",
            "Total params: 3\n",
            "Trainable params: 3\n",
            "Non-trainable params: 0\n",
            "_________________________________________________________________\n"
          ]
        }
      ]
    },
    {
      "cell_type": "code",
      "metadata": {
        "colab": {
          "base_uri": "https://localhost:8080/"
        },
        "id": "E7GuCNQmyYcN",
        "outputId": "75107ca4-52d8-469d-af9a-4f3172eaf6b7"
      },
      "source": [
        "# Compute MSE and Compare to MSE from Naive Forecasting (using Last Value) and from Simple Neural Network\n",
        "\n",
        "mse_simple_rnn = model.evaluate(X_test, y_test)\n",
        "\n",
        "print('\\nMSE - Last Value                      : ', mse_last_value)\n",
        "print('MSE - Simple Neural Network           : ', mse_simple_nn)\n",
        "print('MSE - Simple Recurrent Neural Network : ', mse_simple_rnn)"
      ],
      "execution_count": null,
      "outputs": [
        {
          "output_type": "stream",
          "name": "stdout",
          "text": [
            "32/32 [==============================] - 0s 2ms/step - loss: 0.0449\n",
            "\n",
            "MSE - Last Value                      :  0.11282724\n",
            "MSE - Simple Neural Network           :  0.011769798584282398\n",
            "MSE - Simple Recurrent Neural Network :  0.04487549886107445\n"
          ]
        }
      ]
    },
    {
      "cell_type": "code",
      "metadata": {
        "colab": {
          "base_uri": "https://localhost:8080/",
          "height": 293
        },
        "id": "YScjvgmzyYcN",
        "outputId": "50e70a33-d6b8-4f11-d438-1707111a1cc0"
      },
      "source": [
        "# Visualization of Predictions for First Data\n",
        "\n",
        "y_pred = model.predict(X_test)\n",
        "plot_series(X_test[0, :, 0], y_test[0, 0], y_pred[0, 0])\n",
        "plt.show()"
      ],
      "execution_count": null,
      "outputs": [
        {
          "output_type": "display_data",
          "data": {
            "text/plain": [
              "<Figure size 432x288 with 1 Axes>"
            ],
            "image/png": "[encoded data removed]"
          },
          "metadata": {
            "needs_background": "light"
          }
        }
      ]
    },
    {
      "cell_type": "markdown",
      "metadata": {
        "id": "I3Ziaiz-IzUH"
      },
      "source": [
        "In the graph above, `X` means the target (`y_valid`) meanwhile `red-dot` is our prediction (`y_pred`)\n",
        "\n",
        "---"
      ]
    },
    {
      "cell_type": "markdown",
      "metadata": {
        "id": "PS8uefqAyYcN"
      },
      "source": [
        "## Using Deep Recurrent Neural Network\n",
        "\n",
        "This time we will solve it by using RNN neurons where we will stack multiple layers of RNN."
      ]
    },
    {
      "cell_type": "markdown",
      "metadata": {
        "id": "U5vH8QTBK8Al"
      },
      "source": [
        "Note : Make sure to set `return_sequences=True` for all recurrent layers (except the last one, if you only care about the last output). If you don’t, they will output a 2D array (containing only the output of the last time step) instead of a 3D array (containing outputs for all time steps), and the next recurrent layer will complain that you are not feeding it sequences in the expected 3D format.\n"
      ]
    },
    {
      "cell_type": "code",
      "metadata": {
        "colab": {
          "base_uri": "https://localhost:8080/"
        },
        "id": "YmXGVk-FyYcO",
        "outputId": "25f3b358-e559-4384-889e-606c83bb7cb4"
      },
      "source": [
        "# Let's Try Solve the Problem using Deep Recurrent Neural Network\n",
        "\n",
        "%%time\n",
        "np.random.seed(42)\n",
        "tf.random.set_seed(42)\n",
        "\n",
        "model = keras.models.Sequential([\n",
        "    keras.layers.SimpleRNN(20, return_sequences=True, input_shape=[None, 1]),\n",
        "    keras.layers.SimpleRNN(20, return_sequences=True),\n",
        "    keras.layers.SimpleRNN(1)\n",
        "])\n",
        "\n",
        "model.compile(loss=\"mse\", optimizer=\"adam\")\n",
        "history = model.fit(X_train, y_train, epochs=100,\n",
        "                    validation_data=(X_valid, y_valid))"
      ],
      "execution_count": null,
      "outputs": [
        {
          "output_type": "stream",
          "name": "stdout",
          "text": [
            "Epoch 1/100\n",
            "219/219 [==============================] - 6s 15ms/step - loss: 0.0523 - val_loss: 0.0138\n",
            "Epoch 2/100\n",
            "219/219 [==============================] - 3s 14ms/step - loss: 0.0120 - val_loss: 0.0120\n",
            "Epoch 3/100\n",
            "219/219 [==============================] - 3s 14ms/step - loss: 0.0093 - val_loss: 0.0098\n",
            "Epoch 4/100\n",
            "219/219 [==============================] - 3s 13ms/step - loss: 0.0083 - val_loss: 0.0083\n",
            "Epoch 5/100\n",
            "219/219 [==============================] - 3s 13ms/step - loss: 0.0078 - val_loss: 0.0078\n",
            "Epoch 6/100\n",
            "219/219 [==============================] - 3s 14ms/step - loss: 0.0077 - val_loss: 0.0072\n",
            "Epoch 7/100\n",
            "219/219 [==============================] - 3s 14ms/step - loss: 0.0071 - val_loss: 0.0074\n",
            "Epoch 8/100\n",
            "219/219 [==============================] - 3s 14ms/step - loss: 0.0073 - val_loss: 0.0069\n",
            "Epoch 9/100\n",
            "219/219 [==============================] - 3s 14ms/step - loss: 0.0070 - val_loss: 0.0069\n",
            "Epoch 10/100\n",
            "219/219 [==============================] - 3s 13ms/step - loss: 0.0069 - val_loss: 0.0068\n",
            "Epoch 11/100\n",
            "219/219 [==============================] - 3s 14ms/step - loss: 0.0066 - val_loss: 0.0068\n",
            "Epoch 12/100\n",
            "219/219 [==============================] - 3s 13ms/step - loss: 0.0068 - val_loss: 0.0066\n",
            "Epoch 13/100\n",
            "219/219 [==============================] - 3s 14ms/step - loss: 0.0068 - val_loss: 0.0068\n",
            "Epoch 14/100\n",
            "219/219 [==============================] - 3s 14ms/step - loss: 0.0067 - val_loss: 0.0078\n",
            "Epoch 15/100\n",
            "219/219 [==============================] - 3s 14ms/step - loss: 0.0065 - val_loss: 0.0064\n",
            "Epoch 16/100\n",
            "219/219 [==============================] - 3s 14ms/step - loss: 0.0066 - val_loss: 0.0067\n",
            "Epoch 17/100\n",
            "219/219 [==============================] - 3s 14ms/step - loss: 0.0066 - val_loss: 0.0086\n",
            "Epoch 18/100\n",
            "219/219 [==============================] - 3s 13ms/step - loss: 0.0066 - val_loss: 0.0064\n",
            "Epoch 19/100\n",
            "219/219 [==============================] - 3s 13ms/step - loss: 0.0064 - val_loss: 0.0064\n",
            "Epoch 20/100\n",
            "219/219 [==============================] - 3s 14ms/step - loss: 0.0064 - val_loss: 0.0061\n",
            "Epoch 21/100\n",
            "219/219 [==============================] - 3s 14ms/step - loss: 0.0061 - val_loss: 0.0066\n",
            "Epoch 22/100\n",
            "219/219 [==============================] - 3s 14ms/step - loss: 0.0063 - val_loss: 0.0071\n",
            "Epoch 23/100\n",
            "219/219 [==============================] - 3s 14ms/step - loss: 0.0061 - val_loss: 0.0066\n",
            "Epoch 24/100\n",
            "219/219 [==============================] - 3s 14ms/step - loss: 0.0062 - val_loss: 0.0065\n",
            "Epoch 25/100\n",
            "219/219 [==============================] - 3s 13ms/step - loss: 0.0061 - val_loss: 0.0085\n",
            "Epoch 26/100\n",
            "219/219 [==============================] - 3s 14ms/step - loss: 0.0062 - val_loss: 0.0062\n",
            "Epoch 27/100\n",
            "219/219 [==============================] - 3s 14ms/step - loss: 0.0059 - val_loss: 0.0065\n",
            "Epoch 28/100\n",
            "219/219 [==============================] - 3s 14ms/step - loss: 0.0060 - val_loss: 0.0063\n",
            "Epoch 29/100\n",
            "219/219 [==============================] - 3s 14ms/step - loss: 0.0059 - val_loss: 0.0058\n",
            "Epoch 30/100\n",
            "219/219 [==============================] - 3s 14ms/step - loss: 0.0062 - val_loss: 0.0064\n",
            "Epoch 31/100\n",
            "219/219 [==============================] - 3s 14ms/step - loss: 0.0060 - val_loss: 0.0062\n",
            "Epoch 32/100\n",
            "219/219 [==============================] - 3s 14ms/step - loss: 0.0058 - val_loss: 0.0067\n",
            "Epoch 33/100\n",
            "219/219 [==============================] - 3s 14ms/step - loss: 0.0058 - val_loss: 0.0058\n",
            "Epoch 34/100\n",
            "219/219 [==============================] - 3s 14ms/step - loss: 0.0055 - val_loss: 0.0058\n",
            "Epoch 35/100\n",
            "219/219 [==============================] - 3s 14ms/step - loss: 0.0055 - val_loss: 0.0053\n",
            "Epoch 36/100\n",
            "219/219 [==============================] - 3s 14ms/step - loss: 0.0053 - val_loss: 0.0058\n",
            "Epoch 37/100\n",
            "219/219 [==============================] - 4s 17ms/step - loss: 0.0051 - val_loss: 0.0053\n",
            "Epoch 38/100\n",
            "219/219 [==============================] - 3s 14ms/step - loss: 0.0051 - val_loss: 0.0051\n",
            "Epoch 39/100\n",
            "219/219 [==============================] - 3s 13ms/step - loss: 0.0050 - val_loss: 0.0052\n",
            "Epoch 40/100\n",
            "219/219 [==============================] - 3s 14ms/step - loss: 0.0050 - val_loss: 0.0054\n",
            "Epoch 41/100\n",
            "219/219 [==============================] - 3s 13ms/step - loss: 0.0048 - val_loss: 0.0050\n",
            "Epoch 42/100\n",
            "219/219 [==============================] - 3s 14ms/step - loss: 0.0049 - val_loss: 0.0054\n",
            "Epoch 43/100\n",
            "219/219 [==============================] - 3s 14ms/step - loss: 0.0047 - val_loss: 0.0049\n",
            "Epoch 44/100\n",
            "219/219 [==============================] - 3s 14ms/step - loss: 0.0049 - val_loss: 0.0050\n",
            "Epoch 45/100\n",
            "219/219 [==============================] - 3s 13ms/step - loss: 0.0047 - val_loss: 0.0056\n",
            "Epoch 46/100\n",
            "219/219 [==============================] - 3s 14ms/step - loss: 0.0047 - val_loss: 0.0048\n",
            "Epoch 47/100\n",
            "219/219 [==============================] - 3s 14ms/step - loss: 0.0048 - val_loss: 0.0051\n",
            "Epoch 48/100\n",
            "219/219 [==============================] - 3s 13ms/step - loss: 0.0046 - val_loss: 0.0048\n",
            "Epoch 49/100\n",
            "219/219 [==============================] - 3s 13ms/step - loss: 0.0044 - val_loss: 0.0046\n",
            "Epoch 50/100\n",
            "219/219 [==============================] - 3s 13ms/step - loss: 0.0045 - val_loss: 0.0042\n",
            "Epoch 51/100\n",
            "219/219 [==============================] - 3s 14ms/step - loss: 0.0044 - val_loss: 0.0050\n",
            "Epoch 52/100\n",
            "219/219 [==============================] - 3s 14ms/step - loss: 0.0044 - val_loss: 0.0044\n",
            "Epoch 53/100\n",
            "219/219 [==============================] - 3s 14ms/step - loss: 0.0044 - val_loss: 0.0051\n",
            "Epoch 54/100\n",
            "219/219 [==============================] - 3s 14ms/step - loss: 0.0043 - val_loss: 0.0046\n",
            "Epoch 55/100\n",
            "219/219 [==============================] - 3s 14ms/step - loss: 0.0043 - val_loss: 0.0046\n",
            "Epoch 56/100\n",
            "219/219 [==============================] - 3s 13ms/step - loss: 0.0044 - val_loss: 0.0046\n",
            "Epoch 57/100\n",
            "219/219 [==============================] - 3s 14ms/step - loss: 0.0042 - val_loss: 0.0044\n",
            "Epoch 58/100\n",
            "219/219 [==============================] - 3s 14ms/step - loss: 0.0042 - val_loss: 0.0042\n",
            "Epoch 59/100\n",
            "219/219 [==============================] - 3s 13ms/step - loss: 0.0041 - val_loss: 0.0041\n",
            "Epoch 60/100\n",
            "219/219 [==============================] - 3s 14ms/step - loss: 0.0041 - val_loss: 0.0045\n",
            "Epoch 61/100\n",
            "219/219 [==============================] - 3s 14ms/step - loss: 0.0042 - val_loss: 0.0041\n",
            "Epoch 62/100\n",
            "219/219 [==============================] - 3s 14ms/step - loss: 0.0040 - val_loss: 0.0045\n",
            "Epoch 63/100\n",
            "219/219 [==============================] - 3s 14ms/step - loss: 0.0041 - val_loss: 0.0039\n",
            "Epoch 64/100\n",
            "219/219 [==============================] - 3s 14ms/step - loss: 0.0040 - val_loss: 0.0039\n",
            "Epoch 65/100\n",
            "219/219 [==============================] - 3s 14ms/step - loss: 0.0039 - val_loss: 0.0040\n",
            "Epoch 66/100\n",
            "219/219 [==============================] - 3s 13ms/step - loss: 0.0040 - val_loss: 0.0043\n",
            "Epoch 67/100\n",
            "219/219 [==============================] - 3s 14ms/step - loss: 0.0038 - val_loss: 0.0040\n",
            "Epoch 68/100\n",
            "219/219 [==============================] - 3s 14ms/step - loss: 0.0038 - val_loss: 0.0040\n",
            "Epoch 69/100\n",
            "219/219 [==============================] - 3s 14ms/step - loss: 0.0037 - val_loss: 0.0038\n",
            "Epoch 70/100\n",
            "219/219 [==============================] - 3s 14ms/step - loss: 0.0036 - val_loss: 0.0040\n",
            "Epoch 71/100\n",
            "219/219 [==============================] - 3s 14ms/step - loss: 0.0036 - val_loss: 0.0037\n",
            "Epoch 72/100\n",
            "219/219 [==============================] - 3s 13ms/step - loss: 0.0035 - val_loss: 0.0038\n",
            "Epoch 73/100\n",
            "219/219 [==============================] - 3s 14ms/step - loss: 0.0035 - val_loss: 0.0035\n",
            "Epoch 74/100\n",
            "219/219 [==============================] - 3s 14ms/step - loss: 0.0035 - val_loss: 0.0038\n",
            "Epoch 75/100\n",
            "219/219 [==============================] - 3s 14ms/step - loss: 0.0034 - val_loss: 0.0039\n",
            "Epoch 76/100\n",
            "219/219 [==============================] - 3s 14ms/step - loss: 0.0034 - val_loss: 0.0035\n",
            "Epoch 77/100\n",
            "219/219 [==============================] - 3s 14ms/step - loss: 0.0033 - val_loss: 0.0034\n",
            "Epoch 78/100\n",
            "219/219 [==============================] - 3s 14ms/step - loss: 0.0032 - val_loss: 0.0038\n",
            "Epoch 79/100\n",
            "219/219 [==============================] - 3s 14ms/step - loss: 0.0033 - val_loss: 0.0033\n",
            "Epoch 80/100\n",
            "219/219 [==============================] - 3s 14ms/step - loss: 0.0032 - val_loss: 0.0036\n",
            "Epoch 81/100\n",
            "219/219 [==============================] - 3s 14ms/step - loss: 0.0032 - val_loss: 0.0035\n",
            "Epoch 82/100\n",
            "219/219 [==============================] - 3s 14ms/step - loss: 0.0032 - val_loss: 0.0036\n",
            "Epoch 83/100\n",
            "219/219 [==============================] - 3s 14ms/step - loss: 0.0031 - val_loss: 0.0035\n",
            "Epoch 84/100\n",
            "219/219 [==============================] - 3s 14ms/step - loss: 0.0030 - val_loss: 0.0032\n",
            "Epoch 85/100\n",
            "219/219 [==============================] - 3s 14ms/step - loss: 0.0030 - val_loss: 0.0033\n",
            "Epoch 86/100\n",
            "219/219 [==============================] - 3s 14ms/step - loss: 0.0030 - val_loss: 0.0033\n",
            "Epoch 87/100\n",
            "219/219 [==============================] - 3s 14ms/step - loss: 0.0030 - val_loss: 0.0034\n",
            "Epoch 88/100\n",
            "219/219 [==============================] - 3s 14ms/step - loss: 0.0029 - val_loss: 0.0031\n",
            "Epoch 89/100\n",
            "219/219 [==============================] - 3s 14ms/step - loss: 0.0030 - val_loss: 0.0034\n",
            "Epoch 90/100\n",
            "219/219 [==============================] - 3s 14ms/step - loss: 0.0028 - val_loss: 0.0030\n",
            "Epoch 91/100\n",
            "219/219 [==============================] - 3s 14ms/step - loss: 0.0028 - val_loss: 0.0031\n",
            "Epoch 92/100\n",
            "219/219 [==============================] - 3s 14ms/step - loss: 0.0028 - val_loss: 0.0032\n",
            "Epoch 93/100\n",
            "219/219 [==============================] - 3s 14ms/step - loss: 0.0028 - val_loss: 0.0032\n",
            "Epoch 94/100\n",
            "219/219 [==============================] - 3s 14ms/step - loss: 0.0028 - val_loss: 0.0031\n",
            "Epoch 95/100\n",
            "219/219 [==============================] - 3s 14ms/step - loss: 0.0028 - val_loss: 0.0030\n",
            "Epoch 96/100\n",
            "219/219 [==============================] - 3s 14ms/step - loss: 0.0027 - val_loss: 0.0032\n",
            "Epoch 97/100\n",
            "219/219 [==============================] - 3s 14ms/step - loss: 0.0028 - val_loss: 0.0035\n",
            "Epoch 98/100\n",
            "219/219 [==============================] - 3s 14ms/step - loss: 0.0028 - val_loss: 0.0034\n",
            "Epoch 99/100\n",
            "219/219 [==============================] - 3s 14ms/step - loss: 0.0026 - val_loss: 0.0034\n",
            "Epoch 100/100\n",
            "219/219 [==============================] - 3s 14ms/step - loss: 0.0027 - val_loss: 0.0029\n",
            "CPU times: user 7min 36s, sys: 26.1 s, total: 8min 2s\n",
            "Wall time: 5min 24s\n"
          ]
        }
      ]
    },
    {
      "cell_type": "code",
      "metadata": {
        "colab": {
          "base_uri": "https://localhost:8080/",
          "height": 291
        },
        "id": "gLCQfBCbyYcQ",
        "outputId": "149df0b1-cb39-4e2f-a7bf-43025a461bed"
      },
      "source": [
        "# Visualization of Training Loss and Validation Loss\n",
        "\n",
        "plot_learning_curves(history.history[\"loss\"], history.history[\"val_loss\"])\n",
        "plt.show()"
      ],
      "execution_count": null,
      "outputs": [
        {
          "output_type": "display_data",
          "data": {
            "text/plain": [
              "<Figure size 432x288 with 1 Axes>"
            ],
            "image/png": "[encoded data removed]"
          },
          "metadata": {
            "needs_background": "light"
          }
        }
      ]
    },
    {
      "cell_type": "code",
      "metadata": {
        "colab": {
          "base_uri": "https://localhost:8080/"
        },
        "id": "W31wxnk6yYcO",
        "outputId": "e155411c-f77c-481c-cd7f-7e3a9ecf708b"
      },
      "source": [
        "# Compute MSE and Compare to MSE from Naive Forecasting (using Last Value), Simple Neural Network, and from Simple Recurrent Neural Network\n",
        "\n",
        "mse_deep_rnn = model.evaluate(X_test, y_test)\n",
        "\n",
        "print('\\nMSE - Last Value                      : ', mse_last_value)\n",
        "print('MSE - Simple Neural Network           : ', mse_simple_nn)\n",
        "print('MSE - Simple Recurrent Neural Network : ', mse_simple_rnn)\n",
        "print('MSE - Deep Recurrent Neural Network   : ', mse_deep_rnn)"
      ],
      "execution_count": null,
      "outputs": [
        {
          "output_type": "stream",
          "name": "stdout",
          "text": [
            "32/32 [==============================] - 0s 5ms/step - loss: 0.0030\n",
            "\n",
            "MSE - Last Value                      :  0.11282724\n",
            "MSE - Simple Neural Network           :  0.011769798584282398\n",
            "MSE - Simple Recurrent Neural Network :  0.04487549886107445\n",
            "MSE - Deep Recurrent Neural Network   :  0.0029603613074868917\n"
          ]
        }
      ]
    },
    {
      "cell_type": "code",
      "metadata": {
        "id": "WRzf6_lYyYcR",
        "colab": {
          "base_uri": "https://localhost:8080/",
          "height": 293
        },
        "outputId": "04cc3e40-b5d0-4de9-e306-a7f1cdb48d5a"
      },
      "source": [
        "# Visualization of Predictions for First Data\n",
        "\n",
        "y_pred = model.predict(X_test)\n",
        "plot_series(X_test[0, :, 0], y_test[0, 0], y_pred[0, 0])\n",
        "plt.show()"
      ],
      "execution_count": null,
      "outputs": [
        {
          "output_type": "display_data",
          "data": {
            "text/plain": [
              "<Figure size 432x288 with 1 Axes>"
            ],
            "image/png": "[encoded data removed]"
          },
          "metadata": {
            "needs_background": "light"
          }
        }
      ]
    },
    {
      "cell_type": "markdown",
      "metadata": {
        "id": "gAa_YhwMyYcR"
      },
      "source": [
        "---\n",
        "Let's change last layer to Dense Layer. This is because :\n",
        "* In real-world application, **it is rare** that output layer is recurrent neurons. \n",
        "* Also, since **a SimpleRNN layer uses the tanh activation function** by default, the predicted values must lie within the range –1 to 1. But what if you want to use another activation function? \n",
        "\n",
        "For both these reasons, it might be preferable to replace the output layer with a Dense layer: it would run slightly faster, the accuracy would be roughly the same, and it would allow us to choose any output activation function we want. \n",
        "\n",
        "If you make this change, also make sure to remove `return_sequences=True` from the second (now last) recurrent layer."
      ]
    },
    {
      "cell_type": "code",
      "metadata": {
        "id": "ad1AtD3zyYcS",
        "colab": {
          "base_uri": "https://localhost:8080/"
        },
        "outputId": "4172d380-0de2-445b-9e18-dc36bbbeb1cc"
      },
      "source": [
        "# Let's Try Solve the Problem using Deep Recurrent Neural Network with Dense Layer as Last Layer\n",
        "\n",
        "%%time\n",
        "np.random.seed(42)\n",
        "tf.random.set_seed(42)\n",
        "\n",
        "model = keras.models.Sequential([\n",
        "    keras.layers.SimpleRNN(20, return_sequences=True, input_shape=[None, 1]),\n",
        "    keras.layers.SimpleRNN(20),\n",
        "    keras.layers.Dense(1)\n",
        "])\n",
        "\n",
        "model.compile(loss=\"mse\", optimizer=\"adam\")\n",
        "history = model.fit(X_train, y_train, epochs=100,\n",
        "                    validation_data=(X_valid, y_valid))"
      ],
      "execution_count": null,
      "outputs": [
        {
          "output_type": "stream",
          "name": "stdout",
          "text": [
            "Epoch 1/100\n",
            "219/219 [==============================] - 4s 12ms/step - loss: 0.0514 - val_loss: 0.0126\n",
            "Epoch 2/100\n",
            "219/219 [==============================] - 2s 10ms/step - loss: 0.0107 - val_loss: 0.0094\n",
            "Epoch 3/100\n",
            "219/219 [==============================] - 2s 10ms/step - loss: 0.0091 - val_loss: 0.0086\n",
            "Epoch 4/100\n",
            "219/219 [==============================] - 2s 10ms/step - loss: 0.0086 - val_loss: 0.0086\n",
            "Epoch 5/100\n",
            "219/219 [==============================] - 2s 10ms/step - loss: 0.0082 - val_loss: 0.0076\n",
            "Epoch 6/100\n",
            "219/219 [==============================] - 2s 10ms/step - loss: 0.0080 - val_loss: 0.0075\n",
            "Epoch 7/100\n",
            "219/219 [==============================] - 2s 10ms/step - loss: 0.0073 - val_loss: 0.0078\n",
            "Epoch 8/100\n",
            "219/219 [==============================] - 2s 10ms/step - loss: 0.0073 - val_loss: 0.0070\n",
            "Epoch 9/100\n",
            "219/219 [==============================] - 2s 10ms/step - loss: 0.0074 - val_loss: 0.0072\n",
            "Epoch 10/100\n",
            "219/219 [==============================] - 2s 10ms/step - loss: 0.0071 - val_loss: 0.0074\n",
            "Epoch 11/100\n",
            "219/219 [==============================] - 2s 10ms/step - loss: 0.0069 - val_loss: 0.0076\n",
            "Epoch 12/100\n",
            "219/219 [==============================] - 2s 10ms/step - loss: 0.0070 - val_loss: 0.0072\n",
            "Epoch 13/100\n",
            "219/219 [==============================] - 2s 10ms/step - loss: 0.0069 - val_loss: 0.0066\n",
            "Epoch 14/100\n",
            "219/219 [==============================] - 2s 10ms/step - loss: 0.0067 - val_loss: 0.0081\n",
            "Epoch 15/100\n",
            "219/219 [==============================] - 2s 10ms/step - loss: 0.0066 - val_loss: 0.0067\n",
            "Epoch 16/100\n",
            "219/219 [==============================] - 2s 10ms/step - loss: 0.0067 - val_loss: 0.0070\n",
            "Epoch 17/100\n",
            "219/219 [==============================] - 2s 10ms/step - loss: 0.0067 - val_loss: 0.0087\n",
            "Epoch 18/100\n",
            "219/219 [==============================] - 2s 10ms/step - loss: 0.0067 - val_loss: 0.0070\n",
            "Epoch 19/100\n",
            "219/219 [==============================] - 3s 13ms/step - loss: 0.0065 - val_loss: 0.0067\n",
            "Epoch 20/100\n",
            "219/219 [==============================] - 3s 12ms/step - loss: 0.0066 - val_loss: 0.0065\n",
            "Epoch 21/100\n",
            "219/219 [==============================] - 2s 11ms/step - loss: 0.0064 - val_loss: 0.0068\n",
            "Epoch 22/100\n",
            "219/219 [==============================] - 2s 11ms/step - loss: 0.0065 - val_loss: 0.0070\n",
            "Epoch 23/100\n",
            "219/219 [==============================] - 2s 10ms/step - loss: 0.0062 - val_loss: 0.0071\n",
            "Epoch 24/100\n",
            "219/219 [==============================] - 2s 11ms/step - loss: 0.0063 - val_loss: 0.0068\n",
            "Epoch 25/100\n",
            "219/219 [==============================] - 2s 10ms/step - loss: 0.0063 - val_loss: 0.0079\n",
            "Epoch 26/100\n",
            "219/219 [==============================] - 2s 10ms/step - loss: 0.0063 - val_loss: 0.0066\n",
            "Epoch 27/100\n",
            "219/219 [==============================] - 2s 11ms/step - loss: 0.0061 - val_loss: 0.0062\n",
            "Epoch 28/100\n",
            "219/219 [==============================] - 2s 10ms/step - loss: 0.0063 - val_loss: 0.0063\n",
            "Epoch 29/100\n",
            "219/219 [==============================] - 2s 10ms/step - loss: 0.0061 - val_loss: 0.0060\n",
            "Epoch 30/100\n",
            "219/219 [==============================] - 2s 10ms/step - loss: 0.0062 - val_loss: 0.0066\n",
            "Epoch 31/100\n",
            "219/219 [==============================] - 2s 10ms/step - loss: 0.0061 - val_loss: 0.0065\n",
            "Epoch 32/100\n",
            "219/219 [==============================] - 2s 10ms/step - loss: 0.0061 - val_loss: 0.0072\n",
            "Epoch 33/100\n",
            "219/219 [==============================] - 2s 10ms/step - loss: 0.0061 - val_loss: 0.0067\n",
            "Epoch 34/100\n",
            "219/219 [==============================] - 2s 10ms/step - loss: 0.0060 - val_loss: 0.0062\n",
            "Epoch 35/100\n",
            "219/219 [==============================] - 2s 10ms/step - loss: 0.0060 - val_loss: 0.0066\n",
            "Epoch 36/100\n",
            "219/219 [==============================] - 2s 10ms/step - loss: 0.0060 - val_loss: 0.0064\n",
            "Epoch 37/100\n",
            "219/219 [==============================] - 2s 10ms/step - loss: 0.0058 - val_loss: 0.0062\n",
            "Epoch 38/100\n",
            "219/219 [==============================] - 2s 10ms/step - loss: 0.0059 - val_loss: 0.0062\n",
            "Epoch 39/100\n",
            "219/219 [==============================] - 2s 10ms/step - loss: 0.0058 - val_loss: 0.0059\n",
            "Epoch 40/100\n",
            "219/219 [==============================] - 2s 10ms/step - loss: 0.0061 - val_loss: 0.0067\n",
            "Epoch 41/100\n",
            "219/219 [==============================] - 2s 10ms/step - loss: 0.0058 - val_loss: 0.0059\n",
            "Epoch 42/100\n",
            "219/219 [==============================] - 2s 10ms/step - loss: 0.0058 - val_loss: 0.0065\n",
            "Epoch 43/100\n",
            "219/219 [==============================] - 2s 10ms/step - loss: 0.0056 - val_loss: 0.0058\n",
            "Epoch 44/100\n",
            "219/219 [==============================] - 2s 10ms/step - loss: 0.0057 - val_loss: 0.0059\n",
            "Epoch 45/100\n",
            "219/219 [==============================] - 2s 10ms/step - loss: 0.0056 - val_loss: 0.0067\n",
            "Epoch 46/100\n",
            "219/219 [==============================] - 2s 10ms/step - loss: 0.0055 - val_loss: 0.0054\n",
            "Epoch 47/100\n",
            "219/219 [==============================] - 2s 10ms/step - loss: 0.0053 - val_loss: 0.0058\n",
            "Epoch 48/100\n",
            "219/219 [==============================] - 2s 10ms/step - loss: 0.0053 - val_loss: 0.0056\n",
            "Epoch 49/100\n",
            "219/219 [==============================] - 2s 10ms/step - loss: 0.0050 - val_loss: 0.0051\n",
            "Epoch 50/100\n",
            "219/219 [==============================] - 2s 10ms/step - loss: 0.0050 - val_loss: 0.0050\n",
            "Epoch 51/100\n",
            "219/219 [==============================] - 2s 10ms/step - loss: 0.0049 - val_loss: 0.0051\n",
            "Epoch 52/100\n",
            "219/219 [==============================] - 2s 10ms/step - loss: 0.0046 - val_loss: 0.0050\n",
            "Epoch 53/100\n",
            "219/219 [==============================] - 2s 10ms/step - loss: 0.0046 - val_loss: 0.0051\n",
            "Epoch 54/100\n",
            "219/219 [==============================] - 2s 10ms/step - loss: 0.0044 - val_loss: 0.0053\n",
            "Epoch 55/100\n",
            "219/219 [==============================] - 2s 10ms/step - loss: 0.0043 - val_loss: 0.0047\n",
            "Epoch 56/100\n",
            "219/219 [==============================] - 2s 10ms/step - loss: 0.0043 - val_loss: 0.0047\n",
            "Epoch 57/100\n",
            "219/219 [==============================] - 2s 10ms/step - loss: 0.0042 - val_loss: 0.0045\n",
            "Epoch 58/100\n",
            "219/219 [==============================] - 2s 10ms/step - loss: 0.0041 - val_loss: 0.0045\n",
            "Epoch 59/100\n",
            "219/219 [==============================] - 2s 10ms/step - loss: 0.0040 - val_loss: 0.0041\n",
            "Epoch 60/100\n",
            "219/219 [==============================] - 2s 10ms/step - loss: 0.0040 - val_loss: 0.0047\n",
            "Epoch 61/100\n",
            "219/219 [==============================] - 2s 10ms/step - loss: 0.0040 - val_loss: 0.0041\n",
            "Epoch 62/100\n",
            "219/219 [==============================] - 2s 10ms/step - loss: 0.0039 - val_loss: 0.0044\n",
            "Epoch 63/100\n",
            "219/219 [==============================] - 2s 10ms/step - loss: 0.0038 - val_loss: 0.0039\n",
            "Epoch 64/100\n",
            "219/219 [==============================] - 2s 10ms/step - loss: 0.0038 - val_loss: 0.0039\n",
            "Epoch 65/100\n",
            "219/219 [==============================] - 2s 10ms/step - loss: 0.0037 - val_loss: 0.0041\n",
            "Epoch 66/100\n",
            "219/219 [==============================] - 2s 10ms/step - loss: 0.0038 - val_loss: 0.0040\n",
            "Epoch 67/100\n",
            "219/219 [==============================] - 2s 10ms/step - loss: 0.0037 - val_loss: 0.0040\n",
            "Epoch 68/100\n",
            "219/219 [==============================] - 2s 10ms/step - loss: 0.0036 - val_loss: 0.0038\n",
            "Epoch 69/100\n",
            "219/219 [==============================] - 2s 10ms/step - loss: 0.0035 - val_loss: 0.0042\n",
            "Epoch 70/100\n",
            "219/219 [==============================] - 2s 10ms/step - loss: 0.0035 - val_loss: 0.0042\n",
            "Epoch 71/100\n",
            "219/219 [==============================] - 2s 10ms/step - loss: 0.0036 - val_loss: 0.0036\n",
            "Epoch 72/100\n",
            "219/219 [==============================] - 2s 10ms/step - loss: 0.0036 - val_loss: 0.0042\n",
            "Epoch 73/100\n",
            "219/219 [==============================] - 2s 10ms/step - loss: 0.0034 - val_loss: 0.0036\n",
            "Epoch 74/100\n",
            "219/219 [==============================] - 2s 10ms/step - loss: 0.0035 - val_loss: 0.0039\n",
            "Epoch 75/100\n",
            "219/219 [==============================] - 2s 10ms/step - loss: 0.0035 - val_loss: 0.0039\n",
            "Epoch 76/100\n",
            "219/219 [==============================] - 2s 10ms/step - loss: 0.0034 - val_loss: 0.0036\n",
            "Epoch 77/100\n",
            "219/219 [==============================] - 2s 10ms/step - loss: 0.0034 - val_loss: 0.0035\n",
            "Epoch 78/100\n",
            "219/219 [==============================] - 2s 10ms/step - loss: 0.0032 - val_loss: 0.0039\n",
            "Epoch 79/100\n",
            "219/219 [==============================] - 2s 11ms/step - loss: 0.0033 - val_loss: 0.0036\n",
            "Epoch 80/100\n",
            "219/219 [==============================] - 2s 10ms/step - loss: 0.0033 - val_loss: 0.0036\n",
            "Epoch 81/100\n",
            "219/219 [==============================] - 2s 10ms/step - loss: 0.0034 - val_loss: 0.0038\n",
            "Epoch 82/100\n",
            "219/219 [==============================] - 2s 10ms/step - loss: 0.0033 - val_loss: 0.0036\n",
            "Epoch 83/100\n",
            "219/219 [==============================] - 2s 10ms/step - loss: 0.0033 - val_loss: 0.0036\n",
            "Epoch 84/100\n",
            "219/219 [==============================] - 2s 10ms/step - loss: 0.0033 - val_loss: 0.0035\n",
            "Epoch 85/100\n",
            "219/219 [==============================] - 2s 10ms/step - loss: 0.0031 - val_loss: 0.0034\n",
            "Epoch 86/100\n",
            "219/219 [==============================] - 2s 10ms/step - loss: 0.0031 - val_loss: 0.0039\n",
            "Epoch 87/100\n",
            "219/219 [==============================] - 2s 10ms/step - loss: 0.0032 - val_loss: 0.0034\n",
            "Epoch 88/100\n",
            "219/219 [==============================] - 2s 10ms/step - loss: 0.0031 - val_loss: 0.0034\n",
            "Epoch 89/100\n",
            "219/219 [==============================] - 2s 10ms/step - loss: 0.0031 - val_loss: 0.0035\n",
            "Epoch 90/100\n",
            "219/219 [==============================] - 2s 10ms/step - loss: 0.0031 - val_loss: 0.0032\n",
            "Epoch 91/100\n",
            "219/219 [==============================] - 2s 10ms/step - loss: 0.0031 - val_loss: 0.0033\n",
            "Epoch 92/100\n",
            "219/219 [==============================] - 2s 10ms/step - loss: 0.0031 - val_loss: 0.0035\n",
            "Epoch 93/100\n",
            "219/219 [==============================] - 2s 10ms/step - loss: 0.0031 - val_loss: 0.0036\n",
            "Epoch 94/100\n",
            "219/219 [==============================] - 2s 10ms/step - loss: 0.0031 - val_loss: 0.0035\n",
            "Epoch 95/100\n",
            "219/219 [==============================] - 2s 10ms/step - loss: 0.0030 - val_loss: 0.0034\n",
            "Epoch 96/100\n",
            "219/219 [==============================] - 2s 10ms/step - loss: 0.0030 - val_loss: 0.0033\n",
            "Epoch 97/100\n",
            "219/219 [==============================] - 2s 10ms/step - loss: 0.0030 - val_loss: 0.0034\n",
            "Epoch 98/100\n",
            "219/219 [==============================] - 2s 10ms/step - loss: 0.0031 - val_loss: 0.0036\n",
            "Epoch 99/100\n",
            "219/219 [==============================] - 2s 10ms/step - loss: 0.0030 - val_loss: 0.0033\n",
            "Epoch 100/100\n",
            "219/219 [==============================] - 2s 10ms/step - loss: 0.0030 - val_loss: 0.0032\n",
            "CPU times: user 5min 30s, sys: 17.6 s, total: 5min 48s\n",
            "Wall time: 4min 23s\n"
          ]
        }
      ]
    },
    {
      "cell_type": "code",
      "metadata": {
        "id": "8BzpWnmOyYcT",
        "colab": {
          "base_uri": "https://localhost:8080/",
          "height": 291
        },
        "outputId": "a7340960-8419-4894-814b-b396eee486a6"
      },
      "source": [
        "# Visualization of Training Loss and Validation Loss\n",
        "\n",
        "plot_learning_curves(history.history[\"loss\"], history.history[\"val_loss\"])\n",
        "plt.show()"
      ],
      "execution_count": null,
      "outputs": [
        {
          "output_type": "display_data",
          "data": {
            "text/plain": [
              "<Figure size 432x288 with 1 Axes>"
            ],
            "image/png": "[encoded data removed]"
          },
          "metadata": {
            "needs_background": "light"
          }
        }
      ]
    },
    {
      "cell_type": "code",
      "metadata": {
        "id": "OPQnH2DyyYcT",
        "colab": {
          "base_uri": "https://localhost:8080/"
        },
        "outputId": "61b5553e-9340-4768-aef1-dcb457b670f5"
      },
      "source": [
        "# Compute MSE and Compare to MSE from Naive Forecasting (using Last Value), Simple Neural Network, Simple Recurrent Neural Network, and Deep Recurrent Neural Network\n",
        "\n",
        "mse_deep_rnn_dense = model.evaluate(X_test, y_test)\n",
        "\n",
        "print('\\nMSE - Last Value                                  : ', mse_last_value)\n",
        "print('MSE - Simple Neural Network                       : ', mse_simple_nn)\n",
        "print('MSE - Simple Recurrent Neural Network             : ', mse_simple_rnn)\n",
        "print('MSE - Deep Recurrent Neural Network               : ', mse_deep_rnn)\n",
        "print('MSE - Deep Recurrent Neural Network - Dense Layer : ', mse_deep_rnn_dense)"
      ],
      "execution_count": null,
      "outputs": [
        {
          "output_type": "stream",
          "name": "stdout",
          "text": [
            "32/32 [==============================] - 0s 3ms/step - loss: 0.0032\n",
            "\n",
            "MSE - Last Value                                  :  0.11282724\n",
            "MSE - Simple Neural Network                       :  0.011769798584282398\n",
            "MSE - Simple Recurrent Neural Network             :  0.04487549886107445\n",
            "MSE - Deep Recurrent Neural Network               :  0.0029603613074868917\n",
            "MSE - Deep Recurrent Neural Network - Dense Layer :  0.0031739086844027042\n"
          ]
        }
      ]
    },
    {
      "cell_type": "code",
      "metadata": {
        "id": "xmKgLhxvyYcU",
        "colab": {
          "base_uri": "https://localhost:8080/",
          "height": 293
        },
        "outputId": "9e124913-6ab9-4298-dce4-71fa6029e844"
      },
      "source": [
        "# Visualization of Predictions for First Data\n",
        "\n",
        "y_pred = model.predict(X_test)\n",
        "plot_series(X_test[0, :, 0], y_test[0, 0], y_pred[0, 0])\n",
        "plt.show()"
      ],
      "execution_count": null,
      "outputs": [
        {
          "output_type": "display_data",
          "data": {
            "text/plain": [
              "<Figure size 432x288 with 1 Axes>"
            ],
            "image/png": "[encoded data removed]"
          },
          "metadata": {
            "needs_background": "light"
          }
        }
      ]
    },
    {
      "cell_type": "markdown",
      "metadata": {
        "id": "bfHMUxm-VM7k"
      },
      "source": [
        "Notes:\n",
        "\n",
        "* Although the MSE value of `RNN-Dense` layers has a larger error than `RNN` layers only, this **error is still in approximately the same range**.\n",
        "\n",
        "* We can see that with `RNN-Dense` layers, the **processing time is faster** (4 minutes 23 seconds) than using `RNN` layers only (5 minutes 24 seconds)."
      ]
    },
    {
      "cell_type": "markdown",
      "metadata": {
        "id": "UHHUd9QiyYcl"
      },
      "source": [
        "# B. LSTMs"
      ]
    },
    {
      "cell_type": "code",
      "metadata": {
        "colab": {
          "base_uri": "https://localhost:8080/"
        },
        "id": "xvERooDHWK_R",
        "outputId": "146bd0d3-badf-4b2f-fbaa-0227c90d4ef0"
      },
      "source": [
        "# Let's Try Solve the Problem using LSTM\n",
        "\n",
        "%%time\n",
        "np.random.seed(42)\n",
        "tf.random.set_seed(42)\n",
        "\n",
        "model = keras.models.Sequential([\n",
        "    keras.layers.LSTM(20, return_sequences=True, input_shape=[None, 1]),\n",
        "    keras.layers.LSTM(20),\n",
        "    keras.layers.Dense(1)\n",
        "])\n",
        "\n",
        "model.compile(loss=\"mse\", optimizer=\"adam\")\n",
        "history = model.fit(X_train, y_train, epochs=100,\n",
        "                    validation_data=(X_valid, y_valid))"
      ],
      "execution_count": null,
      "outputs": [
        {
          "output_type": "stream",
          "name": "stdout",
          "text": [
            "Epoch 1/100\n",
            "219/219 [==============================] - 10s 26ms/step - loss: 0.0668 - val_loss: 0.0377\n",
            "Epoch 2/100\n",
            "219/219 [==============================] - 5s 21ms/step - loss: 0.0270 - val_loss: 0.0218\n",
            "Epoch 3/100\n",
            "219/219 [==============================] - 5s 21ms/step - loss: 0.0192 - val_loss: 0.0190\n",
            "Epoch 4/100\n",
            "219/219 [==============================] - 5s 21ms/step - loss: 0.0182 - val_loss: 0.0181\n",
            "Epoch 5/100\n",
            "219/219 [==============================] - 5s 21ms/step - loss: 0.0179 - val_loss: 0.0178\n",
            "Epoch 6/100\n",
            "219/219 [==============================] - 5s 21ms/step - loss: 0.0177 - val_loss: 0.0181\n",
            "Epoch 7/100\n",
            "219/219 [==============================] - 5s 21ms/step - loss: 0.0175 - val_loss: 0.0184\n",
            "Epoch 8/100\n",
            "219/219 [==============================] - 5s 21ms/step - loss: 0.0175 - val_loss: 0.0175\n",
            "Epoch 9/100\n",
            "219/219 [==============================] - 5s 21ms/step - loss: 0.0172 - val_loss: 0.0174\n",
            "Epoch 10/100\n",
            "219/219 [==============================] - 5s 21ms/step - loss: 0.0172 - val_loss: 0.0173\n",
            "Epoch 11/100\n",
            "219/219 [==============================] - 5s 21ms/step - loss: 0.0171 - val_loss: 0.0179\n",
            "Epoch 12/100\n",
            "219/219 [==============================] - 5s 21ms/step - loss: 0.0169 - val_loss: 0.0172\n",
            "Epoch 13/100\n",
            "219/219 [==============================] - 5s 21ms/step - loss: 0.0169 - val_loss: 0.0168\n",
            "Epoch 14/100\n",
            "219/219 [==============================] - 5s 24ms/step - loss: 0.0166 - val_loss: 0.0169\n",
            "Epoch 15/100\n",
            "219/219 [==============================] - 5s 21ms/step - loss: 0.0166 - val_loss: 0.0167\n",
            "Epoch 16/100\n",
            "219/219 [==============================] - 5s 21ms/step - loss: 0.0162 - val_loss: 0.0167\n",
            "Epoch 17/100\n",
            "219/219 [==============================] - 5s 22ms/step - loss: 0.0161 - val_loss: 0.0164\n",
            "Epoch 18/100\n",
            "219/219 [==============================] - 5s 21ms/step - loss: 0.0159 - val_loss: 0.0160\n",
            "Epoch 19/100\n",
            "219/219 [==============================] - 5s 21ms/step - loss: 0.0158 - val_loss: 0.0160\n",
            "Epoch 20/100\n",
            "219/219 [==============================] - 5s 21ms/step - loss: 0.0153 - val_loss: 0.0154\n",
            "Epoch 21/100\n",
            "219/219 [==============================] - 5s 21ms/step - loss: 0.0149 - val_loss: 0.0153\n",
            "Epoch 22/100\n",
            "219/219 [==============================] - 5s 22ms/step - loss: 0.0144 - val_loss: 0.0146\n",
            "Epoch 23/100\n",
            "219/219 [==============================] - 5s 21ms/step - loss: 0.0137 - val_loss: 0.0151\n",
            "Epoch 24/100\n",
            "219/219 [==============================] - 5s 21ms/step - loss: 0.0134 - val_loss: 0.0141\n",
            "Epoch 25/100\n",
            "219/219 [==============================] - 5s 21ms/step - loss: 0.0130 - val_loss: 0.0145\n",
            "Epoch 26/100\n",
            "219/219 [==============================] - 5s 21ms/step - loss: 0.0126 - val_loss: 0.0125\n",
            "Epoch 27/100\n",
            "219/219 [==============================] - 5s 21ms/step - loss: 0.0123 - val_loss: 0.0128\n",
            "Epoch 28/100\n",
            "219/219 [==============================] - 5s 21ms/step - loss: 0.0120 - val_loss: 0.0129\n",
            "Epoch 29/100\n",
            "219/219 [==============================] - 5s 21ms/step - loss: 0.0118 - val_loss: 0.0129\n",
            "Epoch 30/100\n",
            "219/219 [==============================] - 5s 21ms/step - loss: 0.0119 - val_loss: 0.0128\n",
            "Epoch 31/100\n",
            "219/219 [==============================] - 5s 21ms/step - loss: 0.0116 - val_loss: 0.0126\n",
            "Epoch 32/100\n",
            "219/219 [==============================] - 5s 21ms/step - loss: 0.0114 - val_loss: 0.0117\n",
            "Epoch 33/100\n",
            "219/219 [==============================] - 5s 21ms/step - loss: 0.0112 - val_loss: 0.0112\n",
            "Epoch 34/100\n",
            "219/219 [==============================] - 5s 21ms/step - loss: 0.0109 - val_loss: 0.0114\n",
            "Epoch 35/100\n",
            "219/219 [==============================] - 5s 21ms/step - loss: 0.0107 - val_loss: 0.0109\n",
            "Epoch 36/100\n",
            "219/219 [==============================] - 5s 21ms/step - loss: 0.0105 - val_loss: 0.0110\n",
            "Epoch 37/100\n",
            "219/219 [==============================] - 5s 21ms/step - loss: 0.0101 - val_loss: 0.0105\n",
            "Epoch 38/100\n",
            "219/219 [==============================] - 5s 21ms/step - loss: 0.0099 - val_loss: 0.0103\n",
            "Epoch 39/100\n",
            "219/219 [==============================] - 5s 21ms/step - loss: 0.0093 - val_loss: 0.0096\n",
            "Epoch 40/100\n",
            "219/219 [==============================] - 5s 21ms/step - loss: 0.0087 - val_loss: 0.0092\n",
            "Epoch 41/100\n",
            "219/219 [==============================] - 5s 21ms/step - loss: 0.0076 - val_loss: 0.0074\n",
            "Epoch 42/100\n",
            "219/219 [==============================] - 5s 22ms/step - loss: 0.0069 - val_loss: 0.0067\n",
            "Epoch 43/100\n",
            "219/219 [==============================] - 5s 21ms/step - loss: 0.0068 - val_loss: 0.0069\n",
            "Epoch 44/100\n",
            "219/219 [==============================] - 5s 21ms/step - loss: 0.0067 - val_loss: 0.0064\n",
            "Epoch 45/100\n",
            "219/219 [==============================] - 5s 21ms/step - loss: 0.0066 - val_loss: 0.0064\n",
            "Epoch 46/100\n",
            "219/219 [==============================] - 5s 21ms/step - loss: 0.0065 - val_loss: 0.0066\n",
            "Epoch 47/100\n",
            "219/219 [==============================] - 4s 20ms/step - loss: 0.0064 - val_loss: 0.0063\n",
            "Epoch 48/100\n",
            "219/219 [==============================] - 5s 21ms/step - loss: 0.0065 - val_loss: 0.0066\n",
            "Epoch 49/100\n",
            "219/219 [==============================] - 5s 21ms/step - loss: 0.0064 - val_loss: 0.0064\n",
            "Epoch 50/100\n",
            "219/219 [==============================] - 5s 21ms/step - loss: 0.0063 - val_loss: 0.0064\n",
            "Epoch 51/100\n",
            "219/219 [==============================] - 5s 21ms/step - loss: 0.0064 - val_loss: 0.0065\n",
            "Epoch 52/100\n",
            "219/219 [==============================] - 5s 21ms/step - loss: 0.0063 - val_loss: 0.0066\n",
            "Epoch 53/100\n",
            "219/219 [==============================] - 5s 21ms/step - loss: 0.0062 - val_loss: 0.0066\n",
            "Epoch 54/100\n",
            "219/219 [==============================] - 5s 21ms/step - loss: 0.0062 - val_loss: 0.0064\n",
            "Epoch 55/100\n",
            "219/219 [==============================] - 5s 21ms/step - loss: 0.0062 - val_loss: 0.0063\n",
            "Epoch 56/100\n",
            "219/219 [==============================] - 5s 22ms/step - loss: 0.0062 - val_loss: 0.0062\n",
            "Epoch 57/100\n",
            "219/219 [==============================] - 5s 21ms/step - loss: 0.0062 - val_loss: 0.0061\n",
            "Epoch 58/100\n",
            "219/219 [==============================] - 5s 21ms/step - loss: 0.0061 - val_loss: 0.0062\n",
            "Epoch 59/100\n",
            "219/219 [==============================] - 5s 21ms/step - loss: 0.0061 - val_loss: 0.0066\n",
            "Epoch 60/100\n",
            "219/219 [==============================] - 5s 21ms/step - loss: 0.0061 - val_loss: 0.0065\n",
            "Epoch 61/100\n",
            "219/219 [==============================] - 5s 21ms/step - loss: 0.0061 - val_loss: 0.0061\n",
            "Epoch 62/100\n",
            "219/219 [==============================] - 5s 21ms/step - loss: 0.0059 - val_loss: 0.0061\n",
            "Epoch 63/100\n",
            "219/219 [==============================] - 5s 21ms/step - loss: 0.0060 - val_loss: 0.0065\n",
            "Epoch 64/100\n",
            "219/219 [==============================] - 5s 22ms/step - loss: 0.0060 - val_loss: 0.0062\n",
            "Epoch 65/100\n",
            "219/219 [==============================] - 5s 21ms/step - loss: 0.0059 - val_loss: 0.0061\n",
            "Epoch 66/100\n",
            "219/219 [==============================] - 4s 20ms/step - loss: 0.0059 - val_loss: 0.0061\n",
            "Epoch 67/100\n",
            "219/219 [==============================] - 5s 21ms/step - loss: 0.0059 - val_loss: 0.0059\n",
            "Epoch 68/100\n",
            "219/219 [==============================] - 5s 21ms/step - loss: 0.0059 - val_loss: 0.0060\n",
            "Epoch 69/100\n",
            "219/219 [==============================] - 5s 21ms/step - loss: 0.0058 - val_loss: 0.0063\n",
            "Epoch 70/100\n",
            "219/219 [==============================] - 5s 21ms/step - loss: 0.0059 - val_loss: 0.0067\n",
            "Epoch 71/100\n",
            "219/219 [==============================] - 5s 22ms/step - loss: 0.0059 - val_loss: 0.0059\n",
            "Epoch 72/100\n",
            "219/219 [==============================] - 5s 21ms/step - loss: 0.0057 - val_loss: 0.0059\n",
            "Epoch 73/100\n",
            "219/219 [==============================] - 5s 21ms/step - loss: 0.0057 - val_loss: 0.0058\n",
            "Epoch 74/100\n",
            "219/219 [==============================] - 5s 25ms/step - loss: 0.0058 - val_loss: 0.0060\n",
            "Epoch 75/100\n",
            "219/219 [==============================] - 5s 21ms/step - loss: 0.0056 - val_loss: 0.0058\n",
            "Epoch 76/100\n",
            "219/219 [==============================] - 5s 21ms/step - loss: 0.0057 - val_loss: 0.0056\n",
            "Epoch 77/100\n",
            "219/219 [==============================] - 5s 21ms/step - loss: 0.0057 - val_loss: 0.0057\n",
            "Epoch 78/100\n",
            "219/219 [==============================] - 5s 21ms/step - loss: 0.0055 - val_loss: 0.0063\n",
            "Epoch 79/100\n",
            "219/219 [==============================] - 5s 21ms/step - loss: 0.0056 - val_loss: 0.0056\n",
            "Epoch 80/100\n",
            "219/219 [==============================] - 5s 21ms/step - loss: 0.0055 - val_loss: 0.0057\n",
            "Epoch 81/100\n",
            "219/219 [==============================] - 5s 21ms/step - loss: 0.0054 - val_loss: 0.0055\n",
            "Epoch 82/100\n",
            "219/219 [==============================] - 5s 21ms/step - loss: 0.0054 - val_loss: 0.0056\n",
            "Epoch 83/100\n",
            "219/219 [==============================] - 5s 21ms/step - loss: 0.0053 - val_loss: 0.0056\n",
            "Epoch 84/100\n",
            "219/219 [==============================] - 5s 22ms/step - loss: 0.0053 - val_loss: 0.0054\n",
            "Epoch 85/100\n",
            "219/219 [==============================] - 5s 21ms/step - loss: 0.0051 - val_loss: 0.0053\n",
            "Epoch 86/100\n",
            "219/219 [==============================] - 5s 21ms/step - loss: 0.0050 - val_loss: 0.0054\n",
            "Epoch 87/100\n",
            "219/219 [==============================] - 5s 21ms/step - loss: 0.0048 - val_loss: 0.0051\n",
            "Epoch 88/100\n",
            "219/219 [==============================] - 5s 21ms/step - loss: 0.0046 - val_loss: 0.0048\n",
            "Epoch 89/100\n",
            "219/219 [==============================] - 5s 21ms/step - loss: 0.0044 - val_loss: 0.0045\n",
            "Epoch 90/100\n",
            "219/219 [==============================] - 5s 22ms/step - loss: 0.0041 - val_loss: 0.0041\n",
            "Epoch 91/100\n",
            "219/219 [==============================] - 5s 21ms/step - loss: 0.0038 - val_loss: 0.0039\n",
            "Epoch 92/100\n",
            "219/219 [==============================] - 5s 21ms/step - loss: 0.0036 - val_loss: 0.0039\n",
            "Epoch 93/100\n",
            "219/219 [==============================] - 5s 21ms/step - loss: 0.0034 - val_loss: 0.0036\n",
            "Epoch 94/100\n",
            "219/219 [==============================] - 5s 22ms/step - loss: 0.0032 - val_loss: 0.0034\n",
            "Epoch 95/100\n",
            "219/219 [==============================] - 5s 21ms/step - loss: 0.0031 - val_loss: 0.0032\n",
            "Epoch 96/100\n",
            "219/219 [==============================] - 5s 21ms/step - loss: 0.0030 - val_loss: 0.0032\n",
            "Epoch 97/100\n",
            "219/219 [==============================] - 5s 22ms/step - loss: 0.0029 - val_loss: 0.0032\n",
            "Epoch 98/100\n",
            "219/219 [==============================] - 5s 21ms/step - loss: 0.0028 - val_loss: 0.0031\n",
            "Epoch 99/100\n",
            "219/219 [==============================] - 5s 21ms/step - loss: 0.0028 - val_loss: 0.0031\n",
            "Epoch 100/100\n",
            "219/219 [==============================] - 5s 21ms/step - loss: 0.0027 - val_loss: 0.0030\n",
            "CPU times: user 11min 37s, sys: 41.8 s, total: 12min 18s\n",
            "Wall time: 8min 26s\n"
          ]
        }
      ]
    },
    {
      "cell_type": "code",
      "metadata": {
        "colab": {
          "base_uri": "https://localhost:8080/",
          "height": 291
        },
        "id": "PfgpKM64WQdR",
        "outputId": "f948eb65-51a9-459f-d358-ee1ccc1cff73"
      },
      "source": [
        "# Visualization of Training Loss and Validation Loss\n",
        "\n",
        "plot_learning_curves(history.history[\"loss\"], history.history[\"val_loss\"])\n",
        "plt.show()"
      ],
      "execution_count": null,
      "outputs": [
        {
          "output_type": "display_data",
          "data": {
            "text/plain": [
              "<Figure size 432x288 with 1 Axes>"
            ],
            "image/png": "[encoded data removed]"
          },
          "metadata": {
            "needs_background": "light"
          }
        }
      ]
    },
    {
      "cell_type": "code",
      "metadata": {
        "colab": {
          "base_uri": "https://localhost:8080/"
        },
        "id": "W5m6MH1OWQ-w",
        "outputId": "b9c1c926-ffdc-42f6-ad9e-f534b860869e"
      },
      "source": [
        "# Compute MSE and Compare to MSE from Other Algorithms\n",
        "\n",
        "mse_lstm = model.evaluate(X_test, y_test)\n",
        "\n",
        "print('\\nMSE - Last Value                                  : ', mse_last_value)\n",
        "print('MSE - Simple Neural Network                       : ', mse_simple_nn)\n",
        "print('MSE - Simple Recurrent Neural Network             : ', mse_simple_rnn)\n",
        "print('MSE - Deep Recurrent Neural Network               : ', mse_deep_rnn)\n",
        "print('MSE - Deep Recurrent Neural Network - Dense Layer : ', mse_deep_rnn_dense)\n",
        "print('MSE - LSTM                                        : ', mse_lstm)"
      ],
      "execution_count": null,
      "outputs": [
        {
          "output_type": "stream",
          "name": "stdout",
          "text": [
            "32/32 [==============================] - 0s 6ms/step - loss: 0.0030\n",
            "\n",
            "MSE - Last Value                                  :  0.11282724\n",
            "MSE - Simple Neural Network                       :  0.011769798584282398\n",
            "MSE - Simple Recurrent Neural Network             :  0.04487549886107445\n",
            "MSE - Deep Recurrent Neural Network               :  0.0029603613074868917\n",
            "MSE - Deep Recurrent Neural Network - Dense Layer :  0.0031739086844027042\n",
            "MSE - LSTM                                        :  0.003023069817572832\n"
          ]
        }
      ]
    },
    {
      "cell_type": "markdown",
      "metadata": {
        "id": "Z3FKQjpdyYcp"
      },
      "source": [
        "# C. GRUs"
      ]
    },
    {
      "cell_type": "code",
      "metadata": {
        "id": "YLwtub_LyYcp",
        "colab": {
          "base_uri": "https://localhost:8080/"
        },
        "outputId": "da761bdb-ad80-4e5d-fe8f-57c9ad4e252c"
      },
      "source": [
        "# Let's Try Solve the Problem using GRU\n",
        "\n",
        "np.random.seed(42)\n",
        "tf.random.set_seed(42)\n",
        "\n",
        "model = keras.models.Sequential([\n",
        "    keras.layers.GRU(20, return_sequences=True, input_shape=[None, 1]),\n",
        "    keras.layers.GRU(20),\n",
        "    keras.layers.Dense(1)\n",
        "])\n",
        "\n",
        "model.compile(loss=\"mse\", optimizer=\"adam\")\n",
        "history = model.fit(X_train, y_train, epochs=100,\n",
        "                    validation_data=(X_valid, y_valid))"
      ],
      "execution_count": null,
      "outputs": [
        {
          "output_type": "stream",
          "name": "stdout",
          "text": [
            "Epoch 1/100\n",
            "219/219 [==============================] - 10s 27ms/step - loss: 0.0629 - val_loss: 0.0394\n",
            "Epoch 2/100\n",
            "219/219 [==============================] - 5s 22ms/step - loss: 0.0283 - val_loss: 0.0181\n",
            "Epoch 3/100\n",
            "219/219 [==============================] - 5s 22ms/step - loss: 0.0162 - val_loss: 0.0164\n",
            "Epoch 4/100\n",
            "219/219 [==============================] - 5s 22ms/step - loss: 0.0155 - val_loss: 0.0154\n",
            "Epoch 5/100\n",
            "219/219 [==============================] - 5s 22ms/step - loss: 0.0152 - val_loss: 0.0151\n",
            "Epoch 6/100\n",
            "219/219 [==============================] - 5s 22ms/step - loss: 0.0144 - val_loss: 0.0135\n",
            "Epoch 7/100\n",
            "219/219 [==============================] - 5s 22ms/step - loss: 0.0116 - val_loss: 0.0102\n",
            "Epoch 8/100\n",
            "219/219 [==============================] - 5s 22ms/step - loss: 0.0090 - val_loss: 0.0086\n",
            "Epoch 9/100\n",
            "219/219 [==============================] - 5s 22ms/step - loss: 0.0083 - val_loss: 0.0085\n",
            "Epoch 10/100\n",
            "219/219 [==============================] - 5s 22ms/step - loss: 0.0084 - val_loss: 0.0080\n",
            "Epoch 11/100\n",
            "219/219 [==============================] - 5s 22ms/step - loss: 0.0080 - val_loss: 0.0079\n",
            "Epoch 12/100\n",
            "219/219 [==============================] - 5s 23ms/step - loss: 0.0078 - val_loss: 0.0076\n",
            "Epoch 13/100\n",
            "219/219 [==============================] - 5s 23ms/step - loss: 0.0077 - val_loss: 0.0078\n",
            "Epoch 14/100\n",
            "219/219 [==============================] - 5s 22ms/step - loss: 0.0075 - val_loss: 0.0075\n",
            "Epoch 15/100\n",
            "219/219 [==============================] - 5s 22ms/step - loss: 0.0075 - val_loss: 0.0073\n",
            "Epoch 16/100\n",
            "219/219 [==============================] - 5s 22ms/step - loss: 0.0075 - val_loss: 0.0073\n",
            "Epoch 17/100\n",
            "219/219 [==============================] - 5s 22ms/step - loss: 0.0074 - val_loss: 0.0080\n",
            "Epoch 18/100\n",
            "219/219 [==============================] - 5s 23ms/step - loss: 0.0072 - val_loss: 0.0070\n",
            "Epoch 19/100\n",
            "219/219 [==============================] - 5s 22ms/step - loss: 0.0069 - val_loss: 0.0072\n",
            "Epoch 20/100\n",
            "219/219 [==============================] - 5s 22ms/step - loss: 0.0066 - val_loss: 0.0064\n",
            "Epoch 21/100\n",
            "219/219 [==============================] - 5s 22ms/step - loss: 0.0063 - val_loss: 0.0063\n",
            "Epoch 22/100\n",
            "219/219 [==============================] - 5s 22ms/step - loss: 0.0061 - val_loss: 0.0061\n",
            "Epoch 23/100\n",
            "219/219 [==============================] - 5s 22ms/step - loss: 0.0059 - val_loss: 0.0060\n",
            "Epoch 24/100\n",
            "219/219 [==============================] - 6s 25ms/step - loss: 0.0059 - val_loss: 0.0068\n",
            "Epoch 25/100\n",
            "219/219 [==============================] - 5s 22ms/step - loss: 0.0059 - val_loss: 0.0070\n",
            "Epoch 26/100\n",
            "219/219 [==============================] - 5s 22ms/step - loss: 0.0058 - val_loss: 0.0061\n",
            "Epoch 27/100\n",
            "219/219 [==============================] - 5s 22ms/step - loss: 0.0058 - val_loss: 0.0059\n",
            "Epoch 28/100\n",
            "219/219 [==============================] - 5s 22ms/step - loss: 0.0059 - val_loss: 0.0062\n",
            "Epoch 29/100\n",
            "219/219 [==============================] - 5s 22ms/step - loss: 0.0057 - val_loss: 0.0058\n",
            "Epoch 30/100\n",
            "219/219 [==============================] - 5s 22ms/step - loss: 0.0058 - val_loss: 0.0063\n",
            "Epoch 31/100\n",
            "219/219 [==============================] - 5s 22ms/step - loss: 0.0057 - val_loss: 0.0065\n",
            "Epoch 32/100\n",
            "219/219 [==============================] - 5s 22ms/step - loss: 0.0057 - val_loss: 0.0061\n",
            "Epoch 33/100\n",
            "219/219 [==============================] - 5s 22ms/step - loss: 0.0058 - val_loss: 0.0058\n",
            "Epoch 34/100\n",
            "219/219 [==============================] - 5s 23ms/step - loss: 0.0056 - val_loss: 0.0061\n",
            "Epoch 35/100\n",
            "219/219 [==============================] - 5s 22ms/step - loss: 0.0056 - val_loss: 0.0064\n",
            "Epoch 36/100\n",
            "219/219 [==============================] - 5s 22ms/step - loss: 0.0057 - val_loss: 0.0059\n",
            "Epoch 37/100\n",
            "219/219 [==============================] - 5s 22ms/step - loss: 0.0056 - val_loss: 0.0060\n",
            "Epoch 38/100\n",
            "219/219 [==============================] - 5s 23ms/step - loss: 0.0056 - val_loss: 0.0059\n",
            "Epoch 39/100\n",
            "219/219 [==============================] - 5s 23ms/step - loss: 0.0056 - val_loss: 0.0059\n",
            "Epoch 40/100\n",
            "219/219 [==============================] - 5s 22ms/step - loss: 0.0056 - val_loss: 0.0063\n",
            "Epoch 41/100\n",
            "219/219 [==============================] - 5s 22ms/step - loss: 0.0055 - val_loss: 0.0058\n",
            "Epoch 42/100\n",
            "219/219 [==============================] - 5s 22ms/step - loss: 0.0055 - val_loss: 0.0058\n",
            "Epoch 43/100\n",
            "219/219 [==============================] - 5s 22ms/step - loss: 0.0055 - val_loss: 0.0057\n",
            "Epoch 44/100\n",
            "219/219 [==============================] - 5s 22ms/step - loss: 0.0056 - val_loss: 0.0056\n",
            "Epoch 45/100\n",
            "219/219 [==============================] - 5s 22ms/step - loss: 0.0055 - val_loss: 0.0060\n",
            "Epoch 46/100\n",
            "219/219 [==============================] - 5s 22ms/step - loss: 0.0054 - val_loss: 0.0055\n",
            "Epoch 47/100\n",
            "219/219 [==============================] - 5s 22ms/step - loss: 0.0054 - val_loss: 0.0055\n",
            "Epoch 48/100\n",
            "219/219 [==============================] - 5s 22ms/step - loss: 0.0054 - val_loss: 0.0055\n",
            "Epoch 49/100\n",
            "219/219 [==============================] - 5s 22ms/step - loss: 0.0053 - val_loss: 0.0054\n",
            "Epoch 50/100\n",
            "219/219 [==============================] - 5s 22ms/step - loss: 0.0053 - val_loss: 0.0053\n",
            "Epoch 51/100\n",
            "219/219 [==============================] - 5s 22ms/step - loss: 0.0053 - val_loss: 0.0056\n",
            "Epoch 52/100\n",
            "219/219 [==============================] - 5s 22ms/step - loss: 0.0052 - val_loss: 0.0055\n",
            "Epoch 53/100\n",
            "219/219 [==============================] - 5s 22ms/step - loss: 0.0052 - val_loss: 0.0054\n",
            "Epoch 54/100\n",
            "219/219 [==============================] - 5s 22ms/step - loss: 0.0050 - val_loss: 0.0053\n",
            "Epoch 55/100\n",
            "219/219 [==============================] - 5s 22ms/step - loss: 0.0050 - val_loss: 0.0052\n",
            "Epoch 56/100\n",
            "219/219 [==============================] - 5s 22ms/step - loss: 0.0049 - val_loss: 0.0053\n",
            "Epoch 57/100\n",
            "219/219 [==============================] - 5s 22ms/step - loss: 0.0048 - val_loss: 0.0049\n",
            "Epoch 58/100\n",
            "219/219 [==============================] - 5s 22ms/step - loss: 0.0047 - val_loss: 0.0047\n",
            "Epoch 59/100\n",
            "219/219 [==============================] - 9s 39ms/step - loss: 0.0044 - val_loss: 0.0045\n",
            "Epoch 60/100\n",
            "219/219 [==============================] - 7s 32ms/step - loss: 0.0043 - val_loss: 0.0046\n",
            "Epoch 61/100\n",
            "219/219 [==============================] - 5s 23ms/step - loss: 0.0041 - val_loss: 0.0040\n",
            "Epoch 62/100\n",
            "219/219 [==============================] - 5s 22ms/step - loss: 0.0038 - val_loss: 0.0039\n",
            "Epoch 63/100\n",
            "219/219 [==============================] - 5s 23ms/step - loss: 0.0037 - val_loss: 0.0039\n",
            "Epoch 64/100\n",
            "219/219 [==============================] - 5s 22ms/step - loss: 0.0035 - val_loss: 0.0037\n",
            "Epoch 65/100\n",
            "219/219 [==============================] - 5s 22ms/step - loss: 0.0034 - val_loss: 0.0035\n",
            "Epoch 66/100\n",
            "219/219 [==============================] - 5s 22ms/step - loss: 0.0033 - val_loss: 0.0032\n",
            "Epoch 67/100\n",
            "219/219 [==============================] - 5s 22ms/step - loss: 0.0032 - val_loss: 0.0031\n",
            "Epoch 68/100\n",
            "219/219 [==============================] - 5s 22ms/step - loss: 0.0031 - val_loss: 0.0032\n",
            "Epoch 69/100\n",
            "219/219 [==============================] - 5s 22ms/step - loss: 0.0030 - val_loss: 0.0032\n",
            "Epoch 70/100\n",
            "219/219 [==============================] - 5s 23ms/step - loss: 0.0030 - val_loss: 0.0031\n",
            "Epoch 71/100\n",
            "219/219 [==============================] - 5s 22ms/step - loss: 0.0029 - val_loss: 0.0029\n",
            "Epoch 72/100\n",
            "219/219 [==============================] - 5s 22ms/step - loss: 0.0028 - val_loss: 0.0031\n",
            "Epoch 73/100\n",
            "219/219 [==============================] - 5s 25ms/step - loss: 0.0027 - val_loss: 0.0029\n",
            "Epoch 74/100\n",
            "219/219 [==============================] - 5s 23ms/step - loss: 0.0027 - val_loss: 0.0028\n",
            "Epoch 75/100\n",
            "219/219 [==============================] - 5s 22ms/step - loss: 0.0028 - val_loss: 0.0029\n",
            "Epoch 76/100\n",
            "219/219 [==============================] - 5s 22ms/step - loss: 0.0027 - val_loss: 0.0027\n",
            "Epoch 77/100\n",
            "219/219 [==============================] - 5s 22ms/step - loss: 0.0027 - val_loss: 0.0027\n",
            "Epoch 78/100\n",
            "219/219 [==============================] - 6s 27ms/step - loss: 0.0026 - val_loss: 0.0030\n",
            "Epoch 79/100\n",
            "219/219 [==============================] - 5s 22ms/step - loss: 0.0026 - val_loss: 0.0028\n",
            "Epoch 80/100\n",
            "219/219 [==============================] - 5s 23ms/step - loss: 0.0026 - val_loss: 0.0027\n",
            "Epoch 81/100\n",
            "219/219 [==============================] - 5s 22ms/step - loss: 0.0025 - val_loss: 0.0026\n",
            "Epoch 82/100\n",
            "219/219 [==============================] - 5s 22ms/step - loss: 0.0025 - val_loss: 0.0026\n",
            "Epoch 83/100\n",
            "219/219 [==============================] - 5s 22ms/step - loss: 0.0025 - val_loss: 0.0025\n",
            "Epoch 84/100\n",
            "219/219 [==============================] - 5s 23ms/step - loss: 0.0025 - val_loss: 0.0024\n",
            "Epoch 85/100\n",
            "219/219 [==============================] - 5s 22ms/step - loss: 0.0024 - val_loss: 0.0026\n",
            "Epoch 86/100\n",
            "219/219 [==============================] - 5s 23ms/step - loss: 0.0024 - val_loss: 0.0025\n",
            "Epoch 87/100\n",
            "219/219 [==============================] - 5s 22ms/step - loss: 0.0024 - val_loss: 0.0024\n",
            "Epoch 88/100\n",
            "219/219 [==============================] - 5s 22ms/step - loss: 0.0023 - val_loss: 0.0025\n",
            "Epoch 89/100\n",
            "219/219 [==============================] - 5s 23ms/step - loss: 0.0023 - val_loss: 0.0025\n",
            "Epoch 90/100\n",
            "219/219 [==============================] - 5s 22ms/step - loss: 0.0023 - val_loss: 0.0024\n",
            "Epoch 91/100\n",
            "219/219 [==============================] - 5s 23ms/step - loss: 0.0023 - val_loss: 0.0026\n",
            "Epoch 92/100\n",
            "219/219 [==============================] - 5s 23ms/step - loss: 0.0023 - val_loss: 0.0024\n",
            "Epoch 93/100\n",
            "219/219 [==============================] - 5s 23ms/step - loss: 0.0022 - val_loss: 0.0026\n",
            "Epoch 94/100\n",
            "219/219 [==============================] - 5s 22ms/step - loss: 0.0022 - val_loss: 0.0024\n",
            "Epoch 95/100\n",
            "219/219 [==============================] - 5s 23ms/step - loss: 0.0023 - val_loss: 0.0024\n",
            "Epoch 96/100\n",
            "219/219 [==============================] - 5s 23ms/step - loss: 0.0023 - val_loss: 0.0023\n",
            "Epoch 97/100\n",
            "219/219 [==============================] - 5s 23ms/step - loss: 0.0022 - val_loss: 0.0024\n",
            "Epoch 98/100\n",
            "219/219 [==============================] - 5s 23ms/step - loss: 0.0022 - val_loss: 0.0023\n",
            "Epoch 99/100\n",
            "219/219 [==============================] - 5s 23ms/step - loss: 0.0022 - val_loss: 0.0024\n",
            "Epoch 100/100\n",
            "219/219 [==============================] - 5s 23ms/step - loss: 0.0022 - val_loss: 0.0023\n"
          ]
        }
      ]
    },
    {
      "cell_type": "code",
      "metadata": {
        "id": "zIKYExmkyYcq",
        "colab": {
          "base_uri": "https://localhost:8080/",
          "height": 291
        },
        "outputId": "6270c26e-31b3-47c1-a4aa-625b0f7f79d1"
      },
      "source": [
        "# Visualization of Training Loss and Validation Loss\n",
        "\n",
        "plot_learning_curves(history.history[\"loss\"], history.history[\"val_loss\"])\n",
        "plt.show()"
      ],
      "execution_count": null,
      "outputs": [
        {
          "output_type": "display_data",
          "data": {
            "text/plain": [
              "<Figure size 432x288 with 1 Axes>"
            ],
            "image/png": "[encoded data removed]"
          },
          "metadata": {
            "needs_background": "light"
          }
        }
      ]
    },
    {
      "cell_type": "code",
      "metadata": {
        "id": "11HbBtobyYcp",
        "colab": {
          "base_uri": "https://localhost:8080/"
        },
        "outputId": "2b5ade71-5163-463f-e0b9-8680ad16807f"
      },
      "source": [
        "# Compute MSE and Compare to MSE from Other Algorithms\n",
        "\n",
        "mse_gru = model.evaluate(X_test, y_test)\n",
        "\n",
        "print('\\nMSE - Last Value                                  : ', mse_last_value)\n",
        "print('MSE - Simple Neural Network                       : ', mse_simple_nn)\n",
        "print('MSE - Simple Recurrent Neural Network             : ', mse_simple_rnn)\n",
        "print('MSE - Deep Recurrent Neural Network               : ', mse_deep_rnn)\n",
        "print('MSE - Deep Recurrent Neural Network - Dense Layer : ', mse_deep_rnn_dense)\n",
        "print('MSE - LSTM                                        : ', mse_lstm)\n",
        "print('MSE - GRU                                         : ', mse_gru)"
      ],
      "execution_count": null,
      "outputs": [
        {
          "output_type": "stream",
          "name": "stdout",
          "text": [
            "32/32 [==============================] - 0s 5ms/step - loss: 0.0024\n",
            "\n",
            "MSE - Last Value                                  :  0.11282724\n",
            "MSE - Simple Neural Network                       :  0.011769798584282398\n",
            "MSE - Simple Recurrent Neural Network             :  0.04487549886107445\n",
            "MSE - Deep Recurrent Neural Network               :  0.0029603613074868917\n",
            "MSE - Deep Recurrent Neural Network - Dense Layer :  0.0031739086844027042\n",
            "MSE - LSTM                                        :  0.003023069817572832\n",
            "MSE - GRU                                         :  0.0024131976533681154\n"
          ]
        }
      ]
    },
    {
      "cell_type": "code",
      "metadata": {
        "id": "MaSbjgsXyYcr",
        "scrolled": true,
        "colab": {
          "base_uri": "https://localhost:8080/",
          "height": 293
        },
        "outputId": "9116a27f-4733-45c7-9bac-1bd173be680c"
      },
      "source": [
        "# Visualization of Predictions for First Data\n",
        "\n",
        "y_pred = model.predict(X_test)\n",
        "plot_series(X_test[0, :, 0], y_test[0, 0], y_pred[0, 0])\n",
        "plt.show()"
      ],
      "execution_count": null,
      "outputs": [
        {
          "output_type": "display_data",
          "data": {
            "text/plain": [
              "<Figure size 432x288 with 1 Axes>"
            ],
            "image/png": "[encoded data removed]"
          },
          "metadata": {
            "needs_background": "light"
          }
        }
      ]
    }
  ]
}